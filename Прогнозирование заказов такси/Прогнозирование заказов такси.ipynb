{
 "cells": [
  {
   "cell_type": "markdown",
   "metadata": {},
   "source": [
    "# Описание проекта\n",
    "\n",
    "Таксопарку необходимо знать о необходимом количестве автомобилей в аэропорту.\n",
    "\n",
    "### Задачи проекта\n",
    "Обучить модель для предсказания количества заказов такси на следующий час, значение RMSE на тестовой выборке должно быть не меньше 48.\n",
    "\n",
    "### Описание данных\n",
    "\n",
    "Данные лежат в файле `taxi.csv`. Количество заказов находится в столбце '*num_orders*' (от англ. *number of orders*, «число заказов»).\n",
    "\n",
    "# Содержание <a name=\"title\"></a>\n",
    "\n",
    "[Импорт библиотек и задание констант](#import)\n",
    "1. [Загрузка и анализ данных](#1)\n",
    "\n",
    " \n",
    "2. [Подготовка данных](#2)\n",
    "\n",
    "\n",
    "    \n",
    "3. [Обучение моделей](#3)\n",
    "\n",
    "    3.1 [Обучение модели линейной регрессии](#3.1)\n",
    "    \n",
    "    3.2 [Обучение модели CatBoostRegressor](#3.2)\n",
    "\n",
    "    3.3 [Обучение модели LightGBM](#3.3)\n",
    "\n",
    "\n",
    "4. [Тестирование](#4)"
   ]
  },
  {
   "cell_type": "markdown",
   "metadata": {},
   "source": [
    "# Импорт библиотек и задание констант <a name=\"import\"></a>"
   ]
  },
  {
   "cell_type": "code",
   "execution_count": 1,
   "metadata": {},
   "outputs": [],
   "source": [
    "import pandas as pd\n",
    "import matplotlib.pyplot as plt\n",
    "import numpy as np\n",
    "\n",
    "from statsmodels.tsa.seasonal import seasonal_decompose\n",
    "from dateutil.parser import parse\n",
    "from sklearn.linear_model import LinearRegression\n",
    "from sklearn.metrics import mean_absolute_error, make_scorer, mean_squared_error\n",
    "from sklearn.model_selection import cross_val_score, TimeSeriesSplit, GridSearchCV, train_test_split\n",
    "from catboost import CatBoostRegressor\n",
    "import lightgbm as lgb\n",
    "\n",
    "\n",
    "\n",
    "from IPython.display import display\n",
    "\n",
    "RNG = 33"
   ]
  },
  {
   "cell_type": "code",
   "execution_count": 2,
   "metadata": {},
   "outputs": [],
   "source": [
    "class Explorer:\n",
    "    class show(object):\n",
    "        template = \"\"\"<div style=\"float: left; padding: 10px;\">\n",
    "        <p style='font-family:\"Courier New\", Courier, monospace'>{0}</p>{1}\n",
    "        </div>\"\"\"\n",
    "\n",
    "        def __init__(self, *args):\n",
    "            self.args = args\n",
    "    \n",
    "        def _repr_html_(self):\n",
    "            return '\\n'.join(self.template.format(a, eval(a)._repr_html_()) for a in self.args)\n",
    "        \n",
    "    def hexbin(self, data, x, y):\n",
    "        data.plot(x = x, y = y, kind='hexbin', gridsize=20, figsize=(15, 10), sharex=False, grid=True)        \n",
    "\n",
    "explorer = Explorer()\n",
    "\n",
    "def review(data, i):\n",
    "    return pd.concat([data.head(i), data.tail(i)], keys=['head', 'tail'])"
   ]
  },
  {
   "cell_type": "markdown",
   "metadata": {},
   "source": [
    "[Содержание](#title)"
   ]
  },
  {
   "cell_type": "markdown",
   "metadata": {},
   "source": [
    "# 1. Загрузка и анализ данных <a name=\"1\"></a>"
   ]
  },
  {
   "cell_type": "markdown",
   "metadata": {},
   "source": [
    "Загрузим данные с предустановкой временного индекса и посмотрим на них"
   ]
  },
  {
   "cell_type": "code",
   "execution_count": 3,
   "metadata": {},
   "outputs": [],
   "source": [
    "df = pd.read_csv('/datasets/taxi.csv', index_col=[0], parse_dates=[0])"
   ]
  },
  {
   "cell_type": "code",
   "execution_count": 4,
   "metadata": {},
   "outputs": [
    {
     "data": {
      "text/html": [
       "<div>\n",
       "<style scoped>\n",
       "    .dataframe tbody tr th:only-of-type {\n",
       "        vertical-align: middle;\n",
       "    }\n",
       "\n",
       "    .dataframe tbody tr th {\n",
       "        vertical-align: top;\n",
       "    }\n",
       "\n",
       "    .dataframe thead th {\n",
       "        text-align: right;\n",
       "    }\n",
       "</style>\n",
       "<table border=\"1\" class=\"dataframe\">\n",
       "  <thead>\n",
       "    <tr style=\"text-align: right;\">\n",
       "      <th></th>\n",
       "      <th></th>\n",
       "      <th>num_orders</th>\n",
       "    </tr>\n",
       "    <tr>\n",
       "      <th></th>\n",
       "      <th>datetime</th>\n",
       "      <th></th>\n",
       "    </tr>\n",
       "  </thead>\n",
       "  <tbody>\n",
       "    <tr>\n",
       "      <td rowspan=\"4\" valign=\"top\">head</td>\n",
       "      <td>2018-03-01 00:00:00</td>\n",
       "      <td>9</td>\n",
       "    </tr>\n",
       "    <tr>\n",
       "      <td>2018-03-01 00:10:00</td>\n",
       "      <td>14</td>\n",
       "    </tr>\n",
       "    <tr>\n",
       "      <td>2018-03-01 00:20:00</td>\n",
       "      <td>28</td>\n",
       "    </tr>\n",
       "    <tr>\n",
       "      <td>2018-03-01 00:30:00</td>\n",
       "      <td>20</td>\n",
       "    </tr>\n",
       "    <tr>\n",
       "      <td rowspan=\"4\" valign=\"top\">tail</td>\n",
       "      <td>2018-08-31 23:20:00</td>\n",
       "      <td>24</td>\n",
       "    </tr>\n",
       "    <tr>\n",
       "      <td>2018-08-31 23:30:00</td>\n",
       "      <td>27</td>\n",
       "    </tr>\n",
       "    <tr>\n",
       "      <td>2018-08-31 23:40:00</td>\n",
       "      <td>39</td>\n",
       "    </tr>\n",
       "    <tr>\n",
       "      <td>2018-08-31 23:50:00</td>\n",
       "      <td>53</td>\n",
       "    </tr>\n",
       "  </tbody>\n",
       "</table>\n",
       "</div>"
      ],
      "text/plain": [
       "                          num_orders\n",
       "     datetime                       \n",
       "head 2018-03-01 00:00:00           9\n",
       "     2018-03-01 00:10:00          14\n",
       "     2018-03-01 00:20:00          28\n",
       "     2018-03-01 00:30:00          20\n",
       "tail 2018-08-31 23:20:00          24\n",
       "     2018-08-31 23:30:00          27\n",
       "     2018-08-31 23:40:00          39\n",
       "     2018-08-31 23:50:00          53"
      ]
     },
     "execution_count": 4,
     "metadata": {},
     "output_type": "execute_result"
    }
   ],
   "source": [
    "review(df, 4)"
   ]
  },
  {
   "cell_type": "code",
   "execution_count": 5,
   "metadata": {},
   "outputs": [
    {
     "name": "stdout",
     "output_type": "stream",
     "text": [
      "<class 'pandas.core.frame.DataFrame'>\n",
      "DatetimeIndex: 26496 entries, 2018-03-01 00:00:00 to 2018-08-31 23:50:00\n",
      "Data columns (total 1 columns):\n",
      "num_orders    26496 non-null int64\n",
      "dtypes: int64(1)\n",
      "memory usage: 414.0 KB\n"
     ]
    }
   ],
   "source": [
    "df.info()"
   ]
  },
  {
   "cell_type": "code",
   "execution_count": 6,
   "metadata": {},
   "outputs": [
    {
     "data": {
      "text/html": [
       "<div>\n",
       "<style scoped>\n",
       "    .dataframe tbody tr th:only-of-type {\n",
       "        vertical-align: middle;\n",
       "    }\n",
       "\n",
       "    .dataframe tbody tr th {\n",
       "        vertical-align: top;\n",
       "    }\n",
       "\n",
       "    .dataframe thead th {\n",
       "        text-align: right;\n",
       "    }\n",
       "</style>\n",
       "<table border=\"1\" class=\"dataframe\">\n",
       "  <thead>\n",
       "    <tr style=\"text-align: right;\">\n",
       "      <th></th>\n",
       "      <th>num_orders</th>\n",
       "    </tr>\n",
       "  </thead>\n",
       "  <tbody>\n",
       "    <tr>\n",
       "      <td>count</td>\n",
       "      <td>26496.000000</td>\n",
       "    </tr>\n",
       "    <tr>\n",
       "      <td>mean</td>\n",
       "      <td>14.070463</td>\n",
       "    </tr>\n",
       "    <tr>\n",
       "      <td>std</td>\n",
       "      <td>9.211330</td>\n",
       "    </tr>\n",
       "    <tr>\n",
       "      <td>min</td>\n",
       "      <td>0.000000</td>\n",
       "    </tr>\n",
       "    <tr>\n",
       "      <td>25%</td>\n",
       "      <td>8.000000</td>\n",
       "    </tr>\n",
       "    <tr>\n",
       "      <td>50%</td>\n",
       "      <td>13.000000</td>\n",
       "    </tr>\n",
       "    <tr>\n",
       "      <td>75%</td>\n",
       "      <td>19.000000</td>\n",
       "    </tr>\n",
       "    <tr>\n",
       "      <td>max</td>\n",
       "      <td>119.000000</td>\n",
       "    </tr>\n",
       "  </tbody>\n",
       "</table>\n",
       "</div>"
      ],
      "text/plain": [
       "         num_orders\n",
       "count  26496.000000\n",
       "mean      14.070463\n",
       "std        9.211330\n",
       "min        0.000000\n",
       "25%        8.000000\n",
       "50%       13.000000\n",
       "75%       19.000000\n",
       "max      119.000000"
      ]
     },
     "execution_count": 6,
     "metadata": {},
     "output_type": "execute_result"
    }
   ],
   "source": [
    "df.describe()"
   ]
  },
  {
   "cell_type": "markdown",
   "metadata": {},
   "source": [
    "В столбце **num_orders** наблюдаются нули. В теории, отсутствие заказов в 10-минутный интервал реально. Изобразим гистограмму."
   ]
  },
  {
   "cell_type": "code",
   "execution_count": 7,
   "metadata": {},
   "outputs": [
    {
     "data": {
      "image/png": "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\n",
      "text/plain": [
       "<Figure size 1152x576 with 1 Axes>"
      ]
     },
     "metadata": {
      "needs_background": "light"
     },
     "output_type": "display_data"
    }
   ],
   "source": [
    "fig = plt.figure(figsize=(16,8))\n",
    "ax = plt.hist(df['num_orders'], bins = 119)\n",
    "plt.xlabel('Количество заказов в интервал')\n",
    "plt.title(\"Гистограмма количества заказов\")\n",
    "plt.show()"
   ]
  },
  {
   "cell_type": "markdown",
   "metadata": {},
   "source": [
    "Гистограмма имеет характерную форму распределения Пуассона. Наличие нулей обосновано."
   ]
  },
  {
   "cell_type": "markdown",
   "metadata": {},
   "source": [
    "Проверим датасет на монотонность"
   ]
  },
  {
   "cell_type": "code",
   "execution_count": 8,
   "metadata": {},
   "outputs": [
    {
     "name": "stdout",
     "output_type": "stream",
     "text": [
      "True\n"
     ]
    }
   ],
   "source": [
    "df.sort_index(inplace=True)\n",
    "print(df.index.is_monotonic)"
   ]
  },
  {
   "cell_type": "markdown",
   "metadata": {},
   "source": [
    "Разложим временной ряд на состовляющие"
   ]
  },
  {
   "cell_type": "code",
   "execution_count": 9,
   "metadata": {},
   "outputs": [
    {
     "data": {
      "image/png": "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\n",
      "text/plain": [
       "<Figure size 864x720 with 4 Axes>"
      ]
     },
     "metadata": {
      "needs_background": "light"
     },
     "output_type": "display_data"
    }
   ],
   "source": [
    "df_d = df.copy()\n",
    "df_d = df_d.resample('1D').sum()\n",
    "\n",
    "result = seasonal_decompose(df_d)\n",
    "\n",
    "plt.rcParams.update({'figure.figsize': (12,10)})\n",
    "result.plot().suptitle('Time Series Decomposition of taxi orders')\n",
    "plt.show()"
   ]
  },
  {
   "cell_type": "markdown",
   "metadata": {},
   "source": [
    "График имеет тренд на повышение - это может быть годовая сезонность. Отчетливо прослеживается сезонная зависимость количества заказов от дня недели. "
   ]
  },
  {
   "cell_type": "code",
   "execution_count": 10,
   "metadata": {},
   "outputs": [
    {
     "data": {
      "image/png": "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\n",
      "text/plain": [
       "<Figure size 1152x360 with 1 Axes>"
      ]
     },
     "metadata": {
      "needs_background": "light"
     },
     "output_type": "display_data"
    }
   ],
   "source": [
    "fig = plt.figure(figsize=(16,5))\n",
    "plt.title(\"Сезонность количества заказов относительно дня недели\")\n",
    "ax = result.seasonal['2018-08-20':'2018-08-31'].plot(ax=plt.gca())\n",
    "plt.show()"
   ]
  },
  {
   "cell_type": "markdown",
   "metadata": {},
   "source": [
    "По вторникам и воскресеньям наблюдается падание заказов. Наибольшее количество заказов приходится на понедельники и пятницы"
   ]
  },
  {
   "cell_type": "code",
   "execution_count": 11,
   "metadata": {},
   "outputs": [
    {
     "data": {
      "image/png": "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\n",
      "text/plain": [
       "<Figure size 1152x360 with 1 Axes>"
      ]
     },
     "metadata": {
      "needs_background": "light"
     },
     "output_type": "display_data"
    }
   ],
   "source": [
    "df_h = df.copy()\n",
    "df_h = df_h.resample('1H').sum()\n",
    "\n",
    "result = seasonal_decompose(df_h)\n",
    "\n",
    "fig = plt.figure(figsize=(16,5))\n",
    "plt.title(\"Сезонность количества заказов относительно времени суток\")\n",
    "ax = result.seasonal['2018-08-29':'2018-08-31'].plot(ax=plt.gca())\n",
    "plt.show()"
   ]
  },
  {
   "cell_type": "markdown",
   "metadata": {},
   "source": [
    "Пик заказов приходится на полночь, а меньше всего заказов совершается в районе 6 часов утра."
   ]
  },
  {
   "cell_type": "markdown",
   "metadata": {},
   "source": [
    "Дальнейшее обучение будем производить с почасовым ресемплированием"
   ]
  },
  {
   "cell_type": "markdown",
   "metadata": {},
   "source": [
    "[Содержание](#title)"
   ]
  },
  {
   "cell_type": "markdown",
   "metadata": {},
   "source": [
    "# 2. Подготовка данных  <a name=\"2\"></a>"
   ]
  },
  {
   "cell_type": "markdown",
   "metadata": {},
   "source": [
    "Добавим календарные признаки в датасет"
   ]
  },
  {
   "cell_type": "code",
   "execution_count": 12,
   "metadata": {},
   "outputs": [],
   "source": [
    "df_h['month'] = df_h.index.month\n",
    "df_h['day'] = df_h.index.day\n",
    "df_h['dayofweek'] = df_h.index.dayofweek\n",
    "df_h['hour'] = df_h.index.hour"
   ]
  },
  {
   "cell_type": "markdown",
   "metadata": {},
   "source": [
    "Напишем функцию по добавлению отстающих значений и скользящего среднего"
   ]
  },
  {
   "cell_type": "code",
   "execution_count": 13,
   "metadata": {},
   "outputs": [],
   "source": [
    "def make_features(df, max_lag, rolling_mean_size):\n",
    "    data = df.copy()\n",
    "    for lag in range(1, max_lag + 1):\n",
    "        data['lag_{}'.format(lag)] = data['num_orders'].shift(lag)\n",
    "    # добавим отстающие значения прошлой недели на час вперед (зададим в формате константы)\n",
    "    for week_lag in range(1, 3):\n",
    "        data['week_lag_{}'.format(week_lag)] = data['num_orders'].shift(166 + week_lag)\n",
    "    data['rolling_mean'] = data['num_orders'].shift(1).rolling(rolling_mean_size).mean()\n",
    "    return data"
   ]
  },
  {
   "cell_type": "markdown",
   "metadata": {},
   "source": [
    "Проверим возможный результат"
   ]
  },
  {
   "cell_type": "code",
   "execution_count": 14,
   "metadata": {},
   "outputs": [],
   "source": [
    "df_taxi = make_features(df_h, 4, 4)"
   ]
  },
  {
   "cell_type": "code",
   "execution_count": 15,
   "metadata": {},
   "outputs": [
    {
     "data": {
      "text/html": [
       "<div>\n",
       "<style scoped>\n",
       "    .dataframe tbody tr th:only-of-type {\n",
       "        vertical-align: middle;\n",
       "    }\n",
       "\n",
       "    .dataframe tbody tr th {\n",
       "        vertical-align: top;\n",
       "    }\n",
       "\n",
       "    .dataframe thead th {\n",
       "        text-align: right;\n",
       "    }\n",
       "</style>\n",
       "<table border=\"1\" class=\"dataframe\">\n",
       "  <thead>\n",
       "    <tr style=\"text-align: right;\">\n",
       "      <th></th>\n",
       "      <th>num_orders</th>\n",
       "      <th>month</th>\n",
       "      <th>day</th>\n",
       "      <th>dayofweek</th>\n",
       "      <th>hour</th>\n",
       "      <th>lag_1</th>\n",
       "      <th>lag_2</th>\n",
       "      <th>lag_3</th>\n",
       "      <th>lag_4</th>\n",
       "      <th>week_lag_1</th>\n",
       "      <th>week_lag_2</th>\n",
       "      <th>rolling_mean</th>\n",
       "    </tr>\n",
       "    <tr>\n",
       "      <th>datetime</th>\n",
       "      <th></th>\n",
       "      <th></th>\n",
       "      <th></th>\n",
       "      <th></th>\n",
       "      <th></th>\n",
       "      <th></th>\n",
       "      <th></th>\n",
       "      <th></th>\n",
       "      <th></th>\n",
       "      <th></th>\n",
       "      <th></th>\n",
       "      <th></th>\n",
       "    </tr>\n",
       "  </thead>\n",
       "  <tbody>\n",
       "    <tr>\n",
       "      <td>2018-03-01 00:00:00</td>\n",
       "      <td>124</td>\n",
       "      <td>3</td>\n",
       "      <td>1</td>\n",
       "      <td>3</td>\n",
       "      <td>0</td>\n",
       "      <td>NaN</td>\n",
       "      <td>NaN</td>\n",
       "      <td>NaN</td>\n",
       "      <td>NaN</td>\n",
       "      <td>NaN</td>\n",
       "      <td>NaN</td>\n",
       "      <td>NaN</td>\n",
       "    </tr>\n",
       "    <tr>\n",
       "      <td>2018-03-01 01:00:00</td>\n",
       "      <td>85</td>\n",
       "      <td>3</td>\n",
       "      <td>1</td>\n",
       "      <td>3</td>\n",
       "      <td>1</td>\n",
       "      <td>124.0</td>\n",
       "      <td>NaN</td>\n",
       "      <td>NaN</td>\n",
       "      <td>NaN</td>\n",
       "      <td>NaN</td>\n",
       "      <td>NaN</td>\n",
       "      <td>NaN</td>\n",
       "    </tr>\n",
       "    <tr>\n",
       "      <td>2018-03-01 02:00:00</td>\n",
       "      <td>71</td>\n",
       "      <td>3</td>\n",
       "      <td>1</td>\n",
       "      <td>3</td>\n",
       "      <td>2</td>\n",
       "      <td>85.0</td>\n",
       "      <td>124.0</td>\n",
       "      <td>NaN</td>\n",
       "      <td>NaN</td>\n",
       "      <td>NaN</td>\n",
       "      <td>NaN</td>\n",
       "      <td>NaN</td>\n",
       "    </tr>\n",
       "    <tr>\n",
       "      <td>2018-03-01 03:00:00</td>\n",
       "      <td>66</td>\n",
       "      <td>3</td>\n",
       "      <td>1</td>\n",
       "      <td>3</td>\n",
       "      <td>3</td>\n",
       "      <td>71.0</td>\n",
       "      <td>85.0</td>\n",
       "      <td>124.0</td>\n",
       "      <td>NaN</td>\n",
       "      <td>NaN</td>\n",
       "      <td>NaN</td>\n",
       "      <td>NaN</td>\n",
       "    </tr>\n",
       "    <tr>\n",
       "      <td>2018-03-01 04:00:00</td>\n",
       "      <td>43</td>\n",
       "      <td>3</td>\n",
       "      <td>1</td>\n",
       "      <td>3</td>\n",
       "      <td>4</td>\n",
       "      <td>66.0</td>\n",
       "      <td>71.0</td>\n",
       "      <td>85.0</td>\n",
       "      <td>124.0</td>\n",
       "      <td>NaN</td>\n",
       "      <td>NaN</td>\n",
       "      <td>86.5</td>\n",
       "    </tr>\n",
       "  </tbody>\n",
       "</table>\n",
       "</div>"
      ],
      "text/plain": [
       "                     num_orders  month  day  dayofweek  hour  lag_1  lag_2  \\\n",
       "datetime                                                                     \n",
       "2018-03-01 00:00:00         124      3    1          3     0    NaN    NaN   \n",
       "2018-03-01 01:00:00          85      3    1          3     1  124.0    NaN   \n",
       "2018-03-01 02:00:00          71      3    1          3     2   85.0  124.0   \n",
       "2018-03-01 03:00:00          66      3    1          3     3   71.0   85.0   \n",
       "2018-03-01 04:00:00          43      3    1          3     4   66.0   71.0   \n",
       "\n",
       "                     lag_3  lag_4  week_lag_1  week_lag_2  rolling_mean  \n",
       "datetime                                                                 \n",
       "2018-03-01 00:00:00    NaN    NaN         NaN         NaN           NaN  \n",
       "2018-03-01 01:00:00    NaN    NaN         NaN         NaN           NaN  \n",
       "2018-03-01 02:00:00    NaN    NaN         NaN         NaN           NaN  \n",
       "2018-03-01 03:00:00  124.0    NaN         NaN         NaN           NaN  \n",
       "2018-03-01 04:00:00   85.0  124.0         NaN         NaN          86.5  "
      ]
     },
     "metadata": {},
     "output_type": "display_data"
    },
    {
     "data": {
      "text/html": [
       "<div>\n",
       "<style scoped>\n",
       "    .dataframe tbody tr th:only-of-type {\n",
       "        vertical-align: middle;\n",
       "    }\n",
       "\n",
       "    .dataframe tbody tr th {\n",
       "        vertical-align: top;\n",
       "    }\n",
       "\n",
       "    .dataframe thead th {\n",
       "        text-align: right;\n",
       "    }\n",
       "</style>\n",
       "<table border=\"1\" class=\"dataframe\">\n",
       "  <thead>\n",
       "    <tr style=\"text-align: right;\">\n",
       "      <th></th>\n",
       "      <th>num_orders</th>\n",
       "      <th>month</th>\n",
       "      <th>day</th>\n",
       "      <th>dayofweek</th>\n",
       "      <th>hour</th>\n",
       "      <th>lag_1</th>\n",
       "      <th>lag_2</th>\n",
       "      <th>lag_3</th>\n",
       "      <th>lag_4</th>\n",
       "      <th>week_lag_1</th>\n",
       "      <th>week_lag_2</th>\n",
       "      <th>rolling_mean</th>\n",
       "    </tr>\n",
       "    <tr>\n",
       "      <th>datetime</th>\n",
       "      <th></th>\n",
       "      <th></th>\n",
       "      <th></th>\n",
       "      <th></th>\n",
       "      <th></th>\n",
       "      <th></th>\n",
       "      <th></th>\n",
       "      <th></th>\n",
       "      <th></th>\n",
       "      <th></th>\n",
       "      <th></th>\n",
       "      <th></th>\n",
       "    </tr>\n",
       "  </thead>\n",
       "  <tbody>\n",
       "    <tr>\n",
       "      <td>2018-03-07 21:00:00</td>\n",
       "      <td>108</td>\n",
       "      <td>3</td>\n",
       "      <td>7</td>\n",
       "      <td>2</td>\n",
       "      <td>21</td>\n",
       "      <td>76.0</td>\n",
       "      <td>50.0</td>\n",
       "      <td>99.0</td>\n",
       "      <td>48.0</td>\n",
       "      <td>NaN</td>\n",
       "      <td>NaN</td>\n",
       "      <td>68.25</td>\n",
       "    </tr>\n",
       "    <tr>\n",
       "      <td>2018-03-07 22:00:00</td>\n",
       "      <td>127</td>\n",
       "      <td>3</td>\n",
       "      <td>7</td>\n",
       "      <td>2</td>\n",
       "      <td>22</td>\n",
       "      <td>108.0</td>\n",
       "      <td>76.0</td>\n",
       "      <td>50.0</td>\n",
       "      <td>99.0</td>\n",
       "      <td>NaN</td>\n",
       "      <td>NaN</td>\n",
       "      <td>83.25</td>\n",
       "    </tr>\n",
       "    <tr>\n",
       "      <td>2018-03-07 23:00:00</td>\n",
       "      <td>94</td>\n",
       "      <td>3</td>\n",
       "      <td>7</td>\n",
       "      <td>2</td>\n",
       "      <td>23</td>\n",
       "      <td>127.0</td>\n",
       "      <td>108.0</td>\n",
       "      <td>76.0</td>\n",
       "      <td>50.0</td>\n",
       "      <td>124.0</td>\n",
       "      <td>NaN</td>\n",
       "      <td>90.25</td>\n",
       "    </tr>\n",
       "    <tr>\n",
       "      <td>2018-03-08 00:00:00</td>\n",
       "      <td>143</td>\n",
       "      <td>3</td>\n",
       "      <td>8</td>\n",
       "      <td>3</td>\n",
       "      <td>0</td>\n",
       "      <td>94.0</td>\n",
       "      <td>127.0</td>\n",
       "      <td>108.0</td>\n",
       "      <td>76.0</td>\n",
       "      <td>85.0</td>\n",
       "      <td>124.0</td>\n",
       "      <td>101.25</td>\n",
       "    </tr>\n",
       "    <tr>\n",
       "      <td>2018-03-08 01:00:00</td>\n",
       "      <td>78</td>\n",
       "      <td>3</td>\n",
       "      <td>8</td>\n",
       "      <td>3</td>\n",
       "      <td>1</td>\n",
       "      <td>143.0</td>\n",
       "      <td>94.0</td>\n",
       "      <td>127.0</td>\n",
       "      <td>108.0</td>\n",
       "      <td>71.0</td>\n",
       "      <td>85.0</td>\n",
       "      <td>118.00</td>\n",
       "    </tr>\n",
       "  </tbody>\n",
       "</table>\n",
       "</div>"
      ],
      "text/plain": [
       "                     num_orders  month  day  dayofweek  hour  lag_1  lag_2  \\\n",
       "datetime                                                                     \n",
       "2018-03-07 21:00:00         108      3    7          2    21   76.0   50.0   \n",
       "2018-03-07 22:00:00         127      3    7          2    22  108.0   76.0   \n",
       "2018-03-07 23:00:00          94      3    7          2    23  127.0  108.0   \n",
       "2018-03-08 00:00:00         143      3    8          3     0   94.0  127.0   \n",
       "2018-03-08 01:00:00          78      3    8          3     1  143.0   94.0   \n",
       "\n",
       "                     lag_3  lag_4  week_lag_1  week_lag_2  rolling_mean  \n",
       "datetime                                                                 \n",
       "2018-03-07 21:00:00   99.0   48.0         NaN         NaN         68.25  \n",
       "2018-03-07 22:00:00   50.0   99.0         NaN         NaN         83.25  \n",
       "2018-03-07 23:00:00   76.0   50.0       124.0         NaN         90.25  \n",
       "2018-03-08 00:00:00  108.0   76.0        85.0       124.0        101.25  \n",
       "2018-03-08 01:00:00  127.0  108.0        71.0        85.0        118.00  "
      ]
     },
     "metadata": {},
     "output_type": "display_data"
    }
   ],
   "source": [
    "display(df_taxi.head(5))\n",
    "display(df_taxi[165:170])"
   ]
  },
  {
   "cell_type": "markdown",
   "metadata": {},
   "source": [
    "[Содержание](#title)"
   ]
  },
  {
   "cell_type": "markdown",
   "metadata": {},
   "source": [
    "# 3. Обучение моделей  <a name=\"3\"></a>"
   ]
  },
  {
   "cell_type": "markdown",
   "metadata": {},
   "source": [
    "Первой обучим модель линейной регрессии. Так как эта модель одна из самых простых, то на ней будет быстрее всего определить оптимальные значения отстающих и скользящего среднего."
   ]
  },
  {
   "cell_type": "markdown",
   "metadata": {},
   "source": [
    "## 3.1 Обучение модели линейной регрессии  <a name=\"3.1\"></a>"
   ]
  },
  {
   "cell_type": "markdown",
   "metadata": {},
   "source": [
    "Напишем функцию оценки, функцию формирования выборки и зададим значение кросс-валидации **TimeSeriesSplit** со значением 4"
   ]
  },
  {
   "cell_type": "code",
   "execution_count": 16,
   "metadata": {},
   "outputs": [],
   "source": [
    "def rmse(target, pred):\n",
    "    return (mean_squared_error(target, pred))**0.5\n",
    "\n",
    "custom_scorer = make_scorer(rmse, greater_is_better=False)\n",
    "\n",
    "def split(split_df):\n",
    "    train, test = train_test_split(split_df, shuffle=False, test_size=0.1)\n",
    "    train = train.dropna()\n",
    "\n",
    "    return train['num_orders'],\\\n",
    "train.drop('num_orders', axis=1),\\\n",
    "test['num_orders'],\\\n",
    "test.drop('num_orders', axis=1)\n",
    "\n",
    "def time_cv(features):\n",
    "    return TimeSeriesSplit(n_splits=4).split(features)\n"
   ]
  },
  {
   "cell_type": "markdown",
   "metadata": {},
   "source": [
    "Будем использовать одну настройку кросс-валидации для всех моделей, для уравнивания условий"
   ]
  },
  {
   "cell_type": "markdown",
   "metadata": {},
   "source": [
    "Произведём подбор признаков для линейной регрессии"
   ]
  },
  {
   "cell_type": "code",
   "execution_count": 17,
   "metadata": {},
   "outputs": [
    {
     "data": {
      "text/html": [
       "<style  type=\"text/css\" >\n",
       "    #T_6292d1cc_fcb0_11ea_82b7_02420a391420row25_col2 {\n",
       "            background-color:  lightgreen;\n",
       "        }</style><table id=\"T_6292d1cc_fcb0_11ea_82b7_02420a391420\" ><thead>    <tr>        <th class=\"blank level0\" ></th>        <th class=\"col_heading level0 col0\" >max_lag</th>        <th class=\"col_heading level0 col1\" >max_rolling_mean</th>        <th class=\"col_heading level0 col2\" >RMSE</th>    </tr></thead><tbody>\n",
       "                <tr>\n",
       "                        <th id=\"T_6292d1cc_fcb0_11ea_82b7_02420a391420level0_row0\" class=\"row_heading level0 row0\" >0</th>\n",
       "                        <td id=\"T_6292d1cc_fcb0_11ea_82b7_02420a391420row0_col0\" class=\"data row0 col0\" >1</td>\n",
       "                        <td id=\"T_6292d1cc_fcb0_11ea_82b7_02420a391420row0_col1\" class=\"data row0 col1\" >1</td>\n",
       "                        <td id=\"T_6292d1cc_fcb0_11ea_82b7_02420a391420row0_col2\" class=\"data row0 col2\" >24.2187</td>\n",
       "            </tr>\n",
       "            <tr>\n",
       "                        <th id=\"T_6292d1cc_fcb0_11ea_82b7_02420a391420level0_row1\" class=\"row_heading level0 row1\" >1</th>\n",
       "                        <td id=\"T_6292d1cc_fcb0_11ea_82b7_02420a391420row1_col0\" class=\"data row1 col0\" >1</td>\n",
       "                        <td id=\"T_6292d1cc_fcb0_11ea_82b7_02420a391420row1_col1\" class=\"data row1 col1\" >2</td>\n",
       "                        <td id=\"T_6292d1cc_fcb0_11ea_82b7_02420a391420row1_col2\" class=\"data row1 col2\" >24.1816</td>\n",
       "            </tr>\n",
       "            <tr>\n",
       "                        <th id=\"T_6292d1cc_fcb0_11ea_82b7_02420a391420level0_row2\" class=\"row_heading level0 row2\" >2</th>\n",
       "                        <td id=\"T_6292d1cc_fcb0_11ea_82b7_02420a391420row2_col0\" class=\"data row2 col0\" >1</td>\n",
       "                        <td id=\"T_6292d1cc_fcb0_11ea_82b7_02420a391420row2_col1\" class=\"data row2 col1\" >3</td>\n",
       "                        <td id=\"T_6292d1cc_fcb0_11ea_82b7_02420a391420row2_col2\" class=\"data row2 col2\" >24.1986</td>\n",
       "            </tr>\n",
       "            <tr>\n",
       "                        <th id=\"T_6292d1cc_fcb0_11ea_82b7_02420a391420level0_row3\" class=\"row_heading level0 row3\" >3</th>\n",
       "                        <td id=\"T_6292d1cc_fcb0_11ea_82b7_02420a391420row3_col0\" class=\"data row3 col0\" >1</td>\n",
       "                        <td id=\"T_6292d1cc_fcb0_11ea_82b7_02420a391420row3_col1\" class=\"data row3 col1\" >4</td>\n",
       "                        <td id=\"T_6292d1cc_fcb0_11ea_82b7_02420a391420row3_col2\" class=\"data row3 col2\" >24.2064</td>\n",
       "            </tr>\n",
       "            <tr>\n",
       "                        <th id=\"T_6292d1cc_fcb0_11ea_82b7_02420a391420level0_row4\" class=\"row_heading level0 row4\" >4</th>\n",
       "                        <td id=\"T_6292d1cc_fcb0_11ea_82b7_02420a391420row4_col0\" class=\"data row4 col0\" >1</td>\n",
       "                        <td id=\"T_6292d1cc_fcb0_11ea_82b7_02420a391420row4_col1\" class=\"data row4 col1\" >5</td>\n",
       "                        <td id=\"T_6292d1cc_fcb0_11ea_82b7_02420a391420row4_col2\" class=\"data row4 col2\" >24.197</td>\n",
       "            </tr>\n",
       "            <tr>\n",
       "                        <th id=\"T_6292d1cc_fcb0_11ea_82b7_02420a391420level0_row5\" class=\"row_heading level0 row5\" >5</th>\n",
       "                        <td id=\"T_6292d1cc_fcb0_11ea_82b7_02420a391420row5_col0\" class=\"data row5 col0\" >1</td>\n",
       "                        <td id=\"T_6292d1cc_fcb0_11ea_82b7_02420a391420row5_col1\" class=\"data row5 col1\" >6</td>\n",
       "                        <td id=\"T_6292d1cc_fcb0_11ea_82b7_02420a391420row5_col2\" class=\"data row5 col2\" >24.1981</td>\n",
       "            </tr>\n",
       "            <tr>\n",
       "                        <th id=\"T_6292d1cc_fcb0_11ea_82b7_02420a391420level0_row6\" class=\"row_heading level0 row6\" >6</th>\n",
       "                        <td id=\"T_6292d1cc_fcb0_11ea_82b7_02420a391420row6_col0\" class=\"data row6 col0\" >2</td>\n",
       "                        <td id=\"T_6292d1cc_fcb0_11ea_82b7_02420a391420row6_col1\" class=\"data row6 col1\" >1</td>\n",
       "                        <td id=\"T_6292d1cc_fcb0_11ea_82b7_02420a391420row6_col2\" class=\"data row6 col2\" >24.1779</td>\n",
       "            </tr>\n",
       "            <tr>\n",
       "                        <th id=\"T_6292d1cc_fcb0_11ea_82b7_02420a391420level0_row7\" class=\"row_heading level0 row7\" >7</th>\n",
       "                        <td id=\"T_6292d1cc_fcb0_11ea_82b7_02420a391420row7_col0\" class=\"data row7 col0\" >2</td>\n",
       "                        <td id=\"T_6292d1cc_fcb0_11ea_82b7_02420a391420row7_col1\" class=\"data row7 col1\" >2</td>\n",
       "                        <td id=\"T_6292d1cc_fcb0_11ea_82b7_02420a391420row7_col2\" class=\"data row7 col2\" >24.1816</td>\n",
       "            </tr>\n",
       "            <tr>\n",
       "                        <th id=\"T_6292d1cc_fcb0_11ea_82b7_02420a391420level0_row8\" class=\"row_heading level0 row8\" >8</th>\n",
       "                        <td id=\"T_6292d1cc_fcb0_11ea_82b7_02420a391420row8_col0\" class=\"data row8 col0\" >2</td>\n",
       "                        <td id=\"T_6292d1cc_fcb0_11ea_82b7_02420a391420row8_col1\" class=\"data row8 col1\" >3</td>\n",
       "                        <td id=\"T_6292d1cc_fcb0_11ea_82b7_02420a391420row8_col2\" class=\"data row8 col2\" >24.1794</td>\n",
       "            </tr>\n",
       "            <tr>\n",
       "                        <th id=\"T_6292d1cc_fcb0_11ea_82b7_02420a391420level0_row9\" class=\"row_heading level0 row9\" >9</th>\n",
       "                        <td id=\"T_6292d1cc_fcb0_11ea_82b7_02420a391420row9_col0\" class=\"data row9 col0\" >2</td>\n",
       "                        <td id=\"T_6292d1cc_fcb0_11ea_82b7_02420a391420row9_col1\" class=\"data row9 col1\" >4</td>\n",
       "                        <td id=\"T_6292d1cc_fcb0_11ea_82b7_02420a391420row9_col2\" class=\"data row9 col2\" >24.1815</td>\n",
       "            </tr>\n",
       "            <tr>\n",
       "                        <th id=\"T_6292d1cc_fcb0_11ea_82b7_02420a391420level0_row10\" class=\"row_heading level0 row10\" >10</th>\n",
       "                        <td id=\"T_6292d1cc_fcb0_11ea_82b7_02420a391420row10_col0\" class=\"data row10 col0\" >2</td>\n",
       "                        <td id=\"T_6292d1cc_fcb0_11ea_82b7_02420a391420row10_col1\" class=\"data row10 col1\" >5</td>\n",
       "                        <td id=\"T_6292d1cc_fcb0_11ea_82b7_02420a391420row10_col2\" class=\"data row10 col2\" >24.1832</td>\n",
       "            </tr>\n",
       "            <tr>\n",
       "                        <th id=\"T_6292d1cc_fcb0_11ea_82b7_02420a391420level0_row11\" class=\"row_heading level0 row11\" >11</th>\n",
       "                        <td id=\"T_6292d1cc_fcb0_11ea_82b7_02420a391420row11_col0\" class=\"data row11 col0\" >2</td>\n",
       "                        <td id=\"T_6292d1cc_fcb0_11ea_82b7_02420a391420row11_col1\" class=\"data row11 col1\" >6</td>\n",
       "                        <td id=\"T_6292d1cc_fcb0_11ea_82b7_02420a391420row11_col2\" class=\"data row11 col2\" >24.1869</td>\n",
       "            </tr>\n",
       "            <tr>\n",
       "                        <th id=\"T_6292d1cc_fcb0_11ea_82b7_02420a391420level0_row12\" class=\"row_heading level0 row12\" >12</th>\n",
       "                        <td id=\"T_6292d1cc_fcb0_11ea_82b7_02420a391420row12_col0\" class=\"data row12 col0\" >3</td>\n",
       "                        <td id=\"T_6292d1cc_fcb0_11ea_82b7_02420a391420row12_col1\" class=\"data row12 col1\" >1</td>\n",
       "                        <td id=\"T_6292d1cc_fcb0_11ea_82b7_02420a391420row12_col2\" class=\"data row12 col2\" >24.1794</td>\n",
       "            </tr>\n",
       "            <tr>\n",
       "                        <th id=\"T_6292d1cc_fcb0_11ea_82b7_02420a391420level0_row13\" class=\"row_heading level0 row13\" >13</th>\n",
       "                        <td id=\"T_6292d1cc_fcb0_11ea_82b7_02420a391420row13_col0\" class=\"data row13 col0\" >3</td>\n",
       "                        <td id=\"T_6292d1cc_fcb0_11ea_82b7_02420a391420row13_col1\" class=\"data row13 col1\" >2</td>\n",
       "                        <td id=\"T_6292d1cc_fcb0_11ea_82b7_02420a391420row13_col2\" class=\"data row13 col2\" >24.1794</td>\n",
       "            </tr>\n",
       "            <tr>\n",
       "                        <th id=\"T_6292d1cc_fcb0_11ea_82b7_02420a391420level0_row14\" class=\"row_heading level0 row14\" >14</th>\n",
       "                        <td id=\"T_6292d1cc_fcb0_11ea_82b7_02420a391420row14_col0\" class=\"data row14 col0\" >3</td>\n",
       "                        <td id=\"T_6292d1cc_fcb0_11ea_82b7_02420a391420row14_col1\" class=\"data row14 col1\" >3</td>\n",
       "                        <td id=\"T_6292d1cc_fcb0_11ea_82b7_02420a391420row14_col2\" class=\"data row14 col2\" >24.1794</td>\n",
       "            </tr>\n",
       "            <tr>\n",
       "                        <th id=\"T_6292d1cc_fcb0_11ea_82b7_02420a391420level0_row15\" class=\"row_heading level0 row15\" >15</th>\n",
       "                        <td id=\"T_6292d1cc_fcb0_11ea_82b7_02420a391420row15_col0\" class=\"data row15 col0\" >3</td>\n",
       "                        <td id=\"T_6292d1cc_fcb0_11ea_82b7_02420a391420row15_col1\" class=\"data row15 col1\" >4</td>\n",
       "                        <td id=\"T_6292d1cc_fcb0_11ea_82b7_02420a391420row15_col2\" class=\"data row15 col2\" >24.2024</td>\n",
       "            </tr>\n",
       "            <tr>\n",
       "                        <th id=\"T_6292d1cc_fcb0_11ea_82b7_02420a391420level0_row16\" class=\"row_heading level0 row16\" >16</th>\n",
       "                        <td id=\"T_6292d1cc_fcb0_11ea_82b7_02420a391420row16_col0\" class=\"data row16 col0\" >3</td>\n",
       "                        <td id=\"T_6292d1cc_fcb0_11ea_82b7_02420a391420row16_col1\" class=\"data row16 col1\" >5</td>\n",
       "                        <td id=\"T_6292d1cc_fcb0_11ea_82b7_02420a391420row16_col2\" class=\"data row16 col2\" >24.1887</td>\n",
       "            </tr>\n",
       "            <tr>\n",
       "                        <th id=\"T_6292d1cc_fcb0_11ea_82b7_02420a391420level0_row17\" class=\"row_heading level0 row17\" >17</th>\n",
       "                        <td id=\"T_6292d1cc_fcb0_11ea_82b7_02420a391420row17_col0\" class=\"data row17 col0\" >3</td>\n",
       "                        <td id=\"T_6292d1cc_fcb0_11ea_82b7_02420a391420row17_col1\" class=\"data row17 col1\" >6</td>\n",
       "                        <td id=\"T_6292d1cc_fcb0_11ea_82b7_02420a391420row17_col2\" class=\"data row17 col2\" >24.1936</td>\n",
       "            </tr>\n",
       "            <tr>\n",
       "                        <th id=\"T_6292d1cc_fcb0_11ea_82b7_02420a391420level0_row18\" class=\"row_heading level0 row18\" >18</th>\n",
       "                        <td id=\"T_6292d1cc_fcb0_11ea_82b7_02420a391420row18_col0\" class=\"data row18 col0\" >4</td>\n",
       "                        <td id=\"T_6292d1cc_fcb0_11ea_82b7_02420a391420row18_col1\" class=\"data row18 col1\" >1</td>\n",
       "                        <td id=\"T_6292d1cc_fcb0_11ea_82b7_02420a391420row18_col2\" class=\"data row18 col2\" >24.2024</td>\n",
       "            </tr>\n",
       "            <tr>\n",
       "                        <th id=\"T_6292d1cc_fcb0_11ea_82b7_02420a391420level0_row19\" class=\"row_heading level0 row19\" >19</th>\n",
       "                        <td id=\"T_6292d1cc_fcb0_11ea_82b7_02420a391420row19_col0\" class=\"data row19 col0\" >4</td>\n",
       "                        <td id=\"T_6292d1cc_fcb0_11ea_82b7_02420a391420row19_col1\" class=\"data row19 col1\" >2</td>\n",
       "                        <td id=\"T_6292d1cc_fcb0_11ea_82b7_02420a391420row19_col2\" class=\"data row19 col2\" >24.2127</td>\n",
       "            </tr>\n",
       "            <tr>\n",
       "                        <th id=\"T_6292d1cc_fcb0_11ea_82b7_02420a391420level0_row20\" class=\"row_heading level0 row20\" >20</th>\n",
       "                        <td id=\"T_6292d1cc_fcb0_11ea_82b7_02420a391420row20_col0\" class=\"data row20 col0\" >4</td>\n",
       "                        <td id=\"T_6292d1cc_fcb0_11ea_82b7_02420a391420row20_col1\" class=\"data row20 col1\" >3</td>\n",
       "                        <td id=\"T_6292d1cc_fcb0_11ea_82b7_02420a391420row20_col2\" class=\"data row20 col2\" >24.2449</td>\n",
       "            </tr>\n",
       "            <tr>\n",
       "                        <th id=\"T_6292d1cc_fcb0_11ea_82b7_02420a391420level0_row21\" class=\"row_heading level0 row21\" >21</th>\n",
       "                        <td id=\"T_6292d1cc_fcb0_11ea_82b7_02420a391420row21_col0\" class=\"data row21 col0\" >4</td>\n",
       "                        <td id=\"T_6292d1cc_fcb0_11ea_82b7_02420a391420row21_col1\" class=\"data row21 col1\" >4</td>\n",
       "                        <td id=\"T_6292d1cc_fcb0_11ea_82b7_02420a391420row21_col2\" class=\"data row21 col2\" >24.21</td>\n",
       "            </tr>\n",
       "            <tr>\n",
       "                        <th id=\"T_6292d1cc_fcb0_11ea_82b7_02420a391420level0_row22\" class=\"row_heading level0 row22\" >22</th>\n",
       "                        <td id=\"T_6292d1cc_fcb0_11ea_82b7_02420a391420row22_col0\" class=\"data row22 col0\" >4</td>\n",
       "                        <td id=\"T_6292d1cc_fcb0_11ea_82b7_02420a391420row22_col1\" class=\"data row22 col1\" >5</td>\n",
       "                        <td id=\"T_6292d1cc_fcb0_11ea_82b7_02420a391420row22_col2\" class=\"data row22 col2\" >24.1998</td>\n",
       "            </tr>\n",
       "            <tr>\n",
       "                        <th id=\"T_6292d1cc_fcb0_11ea_82b7_02420a391420level0_row23\" class=\"row_heading level0 row23\" >23</th>\n",
       "                        <td id=\"T_6292d1cc_fcb0_11ea_82b7_02420a391420row23_col0\" class=\"data row23 col0\" >4</td>\n",
       "                        <td id=\"T_6292d1cc_fcb0_11ea_82b7_02420a391420row23_col1\" class=\"data row23 col1\" >6</td>\n",
       "                        <td id=\"T_6292d1cc_fcb0_11ea_82b7_02420a391420row23_col2\" class=\"data row23 col2\" >24.2055</td>\n",
       "            </tr>\n",
       "            <tr>\n",
       "                        <th id=\"T_6292d1cc_fcb0_11ea_82b7_02420a391420level0_row24\" class=\"row_heading level0 row24\" >24</th>\n",
       "                        <td id=\"T_6292d1cc_fcb0_11ea_82b7_02420a391420row24_col0\" class=\"data row24 col0\" >5</td>\n",
       "                        <td id=\"T_6292d1cc_fcb0_11ea_82b7_02420a391420row24_col1\" class=\"data row24 col1\" >1</td>\n",
       "                        <td id=\"T_6292d1cc_fcb0_11ea_82b7_02420a391420row24_col2\" class=\"data row24 col2\" >24.2033</td>\n",
       "            </tr>\n",
       "            <tr>\n",
       "                        <th id=\"T_6292d1cc_fcb0_11ea_82b7_02420a391420level0_row25\" class=\"row_heading level0 row25\" >25</th>\n",
       "                        <td id=\"T_6292d1cc_fcb0_11ea_82b7_02420a391420row25_col0\" class=\"data row25 col0\" >5</td>\n",
       "                        <td id=\"T_6292d1cc_fcb0_11ea_82b7_02420a391420row25_col1\" class=\"data row25 col1\" >2</td>\n",
       "                        <td id=\"T_6292d1cc_fcb0_11ea_82b7_02420a391420row25_col2\" class=\"data row25 col2\" >24.1771</td>\n",
       "            </tr>\n",
       "            <tr>\n",
       "                        <th id=\"T_6292d1cc_fcb0_11ea_82b7_02420a391420level0_row26\" class=\"row_heading level0 row26\" >26</th>\n",
       "                        <td id=\"T_6292d1cc_fcb0_11ea_82b7_02420a391420row26_col0\" class=\"data row26 col0\" >5</td>\n",
       "                        <td id=\"T_6292d1cc_fcb0_11ea_82b7_02420a391420row26_col1\" class=\"data row26 col1\" >3</td>\n",
       "                        <td id=\"T_6292d1cc_fcb0_11ea_82b7_02420a391420row26_col2\" class=\"data row26 col2\" >24.1998</td>\n",
       "            </tr>\n",
       "            <tr>\n",
       "                        <th id=\"T_6292d1cc_fcb0_11ea_82b7_02420a391420level0_row27\" class=\"row_heading level0 row27\" >27</th>\n",
       "                        <td id=\"T_6292d1cc_fcb0_11ea_82b7_02420a391420row27_col0\" class=\"data row27 col0\" >5</td>\n",
       "                        <td id=\"T_6292d1cc_fcb0_11ea_82b7_02420a391420row27_col1\" class=\"data row27 col1\" >4</td>\n",
       "                        <td id=\"T_6292d1cc_fcb0_11ea_82b7_02420a391420row27_col2\" class=\"data row27 col2\" >24.1998</td>\n",
       "            </tr>\n",
       "            <tr>\n",
       "                        <th id=\"T_6292d1cc_fcb0_11ea_82b7_02420a391420level0_row28\" class=\"row_heading level0 row28\" >28</th>\n",
       "                        <td id=\"T_6292d1cc_fcb0_11ea_82b7_02420a391420row28_col0\" class=\"data row28 col0\" >5</td>\n",
       "                        <td id=\"T_6292d1cc_fcb0_11ea_82b7_02420a391420row28_col1\" class=\"data row28 col1\" >5</td>\n",
       "                        <td id=\"T_6292d1cc_fcb0_11ea_82b7_02420a391420row28_col2\" class=\"data row28 col2\" >24.1998</td>\n",
       "            </tr>\n",
       "            <tr>\n",
       "                        <th id=\"T_6292d1cc_fcb0_11ea_82b7_02420a391420level0_row29\" class=\"row_heading level0 row29\" >29</th>\n",
       "                        <td id=\"T_6292d1cc_fcb0_11ea_82b7_02420a391420row29_col0\" class=\"data row29 col0\" >5</td>\n",
       "                        <td id=\"T_6292d1cc_fcb0_11ea_82b7_02420a391420row29_col1\" class=\"data row29 col1\" >6</td>\n",
       "                        <td id=\"T_6292d1cc_fcb0_11ea_82b7_02420a391420row29_col2\" class=\"data row29 col2\" >24.2104</td>\n",
       "            </tr>\n",
       "            <tr>\n",
       "                        <th id=\"T_6292d1cc_fcb0_11ea_82b7_02420a391420level0_row30\" class=\"row_heading level0 row30\" >30</th>\n",
       "                        <td id=\"T_6292d1cc_fcb0_11ea_82b7_02420a391420row30_col0\" class=\"data row30 col0\" >6</td>\n",
       "                        <td id=\"T_6292d1cc_fcb0_11ea_82b7_02420a391420row30_col1\" class=\"data row30 col1\" >1</td>\n",
       "                        <td id=\"T_6292d1cc_fcb0_11ea_82b7_02420a391420row30_col2\" class=\"data row30 col2\" >24.2054</td>\n",
       "            </tr>\n",
       "            <tr>\n",
       "                        <th id=\"T_6292d1cc_fcb0_11ea_82b7_02420a391420level0_row31\" class=\"row_heading level0 row31\" >31</th>\n",
       "                        <td id=\"T_6292d1cc_fcb0_11ea_82b7_02420a391420row31_col0\" class=\"data row31 col0\" >6</td>\n",
       "                        <td id=\"T_6292d1cc_fcb0_11ea_82b7_02420a391420row31_col1\" class=\"data row31 col1\" >2</td>\n",
       "                        <td id=\"T_6292d1cc_fcb0_11ea_82b7_02420a391420row31_col2\" class=\"data row31 col2\" >24.2104</td>\n",
       "            </tr>\n",
       "            <tr>\n",
       "                        <th id=\"T_6292d1cc_fcb0_11ea_82b7_02420a391420level0_row32\" class=\"row_heading level0 row32\" >32</th>\n",
       "                        <td id=\"T_6292d1cc_fcb0_11ea_82b7_02420a391420row32_col0\" class=\"data row32 col0\" >6</td>\n",
       "                        <td id=\"T_6292d1cc_fcb0_11ea_82b7_02420a391420row32_col1\" class=\"data row32 col1\" >3</td>\n",
       "                        <td id=\"T_6292d1cc_fcb0_11ea_82b7_02420a391420row32_col2\" class=\"data row32 col2\" >24.2104</td>\n",
       "            </tr>\n",
       "            <tr>\n",
       "                        <th id=\"T_6292d1cc_fcb0_11ea_82b7_02420a391420level0_row33\" class=\"row_heading level0 row33\" >33</th>\n",
       "                        <td id=\"T_6292d1cc_fcb0_11ea_82b7_02420a391420row33_col0\" class=\"data row33 col0\" >6</td>\n",
       "                        <td id=\"T_6292d1cc_fcb0_11ea_82b7_02420a391420row33_col1\" class=\"data row33 col1\" >4</td>\n",
       "                        <td id=\"T_6292d1cc_fcb0_11ea_82b7_02420a391420row33_col2\" class=\"data row33 col2\" >24.2105</td>\n",
       "            </tr>\n",
       "            <tr>\n",
       "                        <th id=\"T_6292d1cc_fcb0_11ea_82b7_02420a391420level0_row34\" class=\"row_heading level0 row34\" >34</th>\n",
       "                        <td id=\"T_6292d1cc_fcb0_11ea_82b7_02420a391420row34_col0\" class=\"data row34 col0\" >6</td>\n",
       "                        <td id=\"T_6292d1cc_fcb0_11ea_82b7_02420a391420row34_col1\" class=\"data row34 col1\" >5</td>\n",
       "                        <td id=\"T_6292d1cc_fcb0_11ea_82b7_02420a391420row34_col2\" class=\"data row34 col2\" >24.2104</td>\n",
       "            </tr>\n",
       "            <tr>\n",
       "                        <th id=\"T_6292d1cc_fcb0_11ea_82b7_02420a391420level0_row35\" class=\"row_heading level0 row35\" >35</th>\n",
       "                        <td id=\"T_6292d1cc_fcb0_11ea_82b7_02420a391420row35_col0\" class=\"data row35 col0\" >6</td>\n",
       "                        <td id=\"T_6292d1cc_fcb0_11ea_82b7_02420a391420row35_col1\" class=\"data row35 col1\" >6</td>\n",
       "                        <td id=\"T_6292d1cc_fcb0_11ea_82b7_02420a391420row35_col2\" class=\"data row35 col2\" >24.2104</td>\n",
       "            </tr>\n",
       "    </tbody></table>"
      ],
      "text/plain": [
       "<pandas.io.formats.style.Styler at 0x7fae82c5a150>"
      ]
     },
     "execution_count": 17,
     "metadata": {},
     "output_type": "execute_result"
    }
   ],
   "source": [
    "data = {'max_lag': [], 'max_rolling_mean': [], 'RMSE': []}\n",
    "research = pd.DataFrame(data=data)\n",
    "\n",
    "model_logistic = LinearRegression()\n",
    "i = 0\n",
    "\n",
    "for max_lag in range(1, 7, 1):\n",
    "    for max_rolling_mean in range(1, 7, 1):\n",
    "        \n",
    "        del df_taxi\n",
    "        df_taxi = make_features(df_h, max_lag, max_rolling_mean)\n",
    "        target_train, features_train, target_test, features_test = split(df_taxi)\n",
    "        \n",
    "        score = abs(cross_val_score(model_logistic,\\\n",
    "                                    features_train,\\\n",
    "                                    target_train,\\\n",
    "                                    cv=time_cv(features_train),\\\n",
    "                                    scoring=custom_scorer).mean())\n",
    "        \n",
    "        research.loc[i] = (max_lag, max_rolling_mean, score)\n",
    "        i += 1\n",
    "\n",
    "research.style.highlight_min(['RMSE'],color='lightgreen', axis = 0)"
   ]
  },
  {
   "cell_type": "markdown",
   "metadata": {},
   "source": [
    "Скорее всего, наибольшее влияние на модель оказывают значения прошлой недели. Все полученные модели показали качество метрики **RMSE** выше заданного. \n",
    "Для дальнейших моделей базовыми будем использовать значения **max_lag** и **max_rolling_mean** равными 4, при их использовании метрики были оптимальными."
   ]
  },
  {
   "cell_type": "markdown",
   "metadata": {},
   "source": [
    "*Примечание – если выглядит неправдоподобно, то напишем функцию без отстающих значений прошлой недели*"
   ]
  },
  {
   "cell_type": "code",
   "execution_count": 18,
   "metadata": {},
   "outputs": [
    {
     "data": {
      "text/html": [
       "<style  type=\"text/css\" >\n",
       "    #T_68b174a0_fcb0_11ea_82b7_02420a391420row2_col2 {\n",
       "            background-color:  lightgreen;\n",
       "        }</style><table id=\"T_68b174a0_fcb0_11ea_82b7_02420a391420\" ><thead>    <tr>        <th class=\"blank level0\" ></th>        <th class=\"col_heading level0 col0\" >max_lag</th>        <th class=\"col_heading level0 col1\" >max_rolling_mean</th>        <th class=\"col_heading level0 col2\" >RMSE</th>    </tr></thead><tbody>\n",
       "                <tr>\n",
       "                        <th id=\"T_68b174a0_fcb0_11ea_82b7_02420a391420level0_row0\" class=\"row_heading level0 row0\" >0</th>\n",
       "                        <td id=\"T_68b174a0_fcb0_11ea_82b7_02420a391420row0_col0\" class=\"data row0 col0\" >2</td>\n",
       "                        <td id=\"T_68b174a0_fcb0_11ea_82b7_02420a391420row0_col1\" class=\"data row0 col1\" >2</td>\n",
       "                        <td id=\"T_68b174a0_fcb0_11ea_82b7_02420a391420row0_col2\" class=\"data row0 col2\" >31.8291</td>\n",
       "            </tr>\n",
       "            <tr>\n",
       "                        <th id=\"T_68b174a0_fcb0_11ea_82b7_02420a391420level0_row1\" class=\"row_heading level0 row1\" >1</th>\n",
       "                        <td id=\"T_68b174a0_fcb0_11ea_82b7_02420a391420row1_col0\" class=\"data row1 col0\" >2</td>\n",
       "                        <td id=\"T_68b174a0_fcb0_11ea_82b7_02420a391420row1_col1\" class=\"data row1 col1\" >3</td>\n",
       "                        <td id=\"T_68b174a0_fcb0_11ea_82b7_02420a391420row1_col2\" class=\"data row1 col2\" >31.7477</td>\n",
       "            </tr>\n",
       "            <tr>\n",
       "                        <th id=\"T_68b174a0_fcb0_11ea_82b7_02420a391420level0_row2\" class=\"row_heading level0 row2\" >2</th>\n",
       "                        <td id=\"T_68b174a0_fcb0_11ea_82b7_02420a391420row2_col0\" class=\"data row2 col0\" >2</td>\n",
       "                        <td id=\"T_68b174a0_fcb0_11ea_82b7_02420a391420row2_col1\" class=\"data row2 col1\" >4</td>\n",
       "                        <td id=\"T_68b174a0_fcb0_11ea_82b7_02420a391420row2_col2\" class=\"data row2 col2\" >31.6936</td>\n",
       "            </tr>\n",
       "            <tr>\n",
       "                        <th id=\"T_68b174a0_fcb0_11ea_82b7_02420a391420level0_row3\" class=\"row_heading level0 row3\" >3</th>\n",
       "                        <td id=\"T_68b174a0_fcb0_11ea_82b7_02420a391420row3_col0\" class=\"data row3 col0\" >2</td>\n",
       "                        <td id=\"T_68b174a0_fcb0_11ea_82b7_02420a391420row3_col1\" class=\"data row3 col1\" >5</td>\n",
       "                        <td id=\"T_68b174a0_fcb0_11ea_82b7_02420a391420row3_col2\" class=\"data row3 col2\" >31.7704</td>\n",
       "            </tr>\n",
       "            <tr>\n",
       "                        <th id=\"T_68b174a0_fcb0_11ea_82b7_02420a391420level0_row4\" class=\"row_heading level0 row4\" >4</th>\n",
       "                        <td id=\"T_68b174a0_fcb0_11ea_82b7_02420a391420row4_col0\" class=\"data row4 col0\" >3</td>\n",
       "                        <td id=\"T_68b174a0_fcb0_11ea_82b7_02420a391420row4_col1\" class=\"data row4 col1\" >2</td>\n",
       "                        <td id=\"T_68b174a0_fcb0_11ea_82b7_02420a391420row4_col2\" class=\"data row4 col2\" >31.7477</td>\n",
       "            </tr>\n",
       "            <tr>\n",
       "                        <th id=\"T_68b174a0_fcb0_11ea_82b7_02420a391420level0_row5\" class=\"row_heading level0 row5\" >5</th>\n",
       "                        <td id=\"T_68b174a0_fcb0_11ea_82b7_02420a391420row5_col0\" class=\"data row5 col0\" >3</td>\n",
       "                        <td id=\"T_68b174a0_fcb0_11ea_82b7_02420a391420row5_col1\" class=\"data row5 col1\" >3</td>\n",
       "                        <td id=\"T_68b174a0_fcb0_11ea_82b7_02420a391420row5_col2\" class=\"data row5 col2\" >31.7512</td>\n",
       "            </tr>\n",
       "            <tr>\n",
       "                        <th id=\"T_68b174a0_fcb0_11ea_82b7_02420a391420level0_row6\" class=\"row_heading level0 row6\" >6</th>\n",
       "                        <td id=\"T_68b174a0_fcb0_11ea_82b7_02420a391420row6_col0\" class=\"data row6 col0\" >3</td>\n",
       "                        <td id=\"T_68b174a0_fcb0_11ea_82b7_02420a391420row6_col1\" class=\"data row6 col1\" >4</td>\n",
       "                        <td id=\"T_68b174a0_fcb0_11ea_82b7_02420a391420row6_col2\" class=\"data row6 col2\" >31.7422</td>\n",
       "            </tr>\n",
       "            <tr>\n",
       "                        <th id=\"T_68b174a0_fcb0_11ea_82b7_02420a391420level0_row7\" class=\"row_heading level0 row7\" >7</th>\n",
       "                        <td id=\"T_68b174a0_fcb0_11ea_82b7_02420a391420row7_col0\" class=\"data row7 col0\" >3</td>\n",
       "                        <td id=\"T_68b174a0_fcb0_11ea_82b7_02420a391420row7_col1\" class=\"data row7 col1\" >5</td>\n",
       "                        <td id=\"T_68b174a0_fcb0_11ea_82b7_02420a391420row7_col2\" class=\"data row7 col2\" >31.8141</td>\n",
       "            </tr>\n",
       "            <tr>\n",
       "                        <th id=\"T_68b174a0_fcb0_11ea_82b7_02420a391420level0_row8\" class=\"row_heading level0 row8\" >8</th>\n",
       "                        <td id=\"T_68b174a0_fcb0_11ea_82b7_02420a391420row8_col0\" class=\"data row8 col0\" >4</td>\n",
       "                        <td id=\"T_68b174a0_fcb0_11ea_82b7_02420a391420row8_col1\" class=\"data row8 col1\" >2</td>\n",
       "                        <td id=\"T_68b174a0_fcb0_11ea_82b7_02420a391420row8_col2\" class=\"data row8 col2\" >31.7461</td>\n",
       "            </tr>\n",
       "            <tr>\n",
       "                        <th id=\"T_68b174a0_fcb0_11ea_82b7_02420a391420level0_row9\" class=\"row_heading level0 row9\" >9</th>\n",
       "                        <td id=\"T_68b174a0_fcb0_11ea_82b7_02420a391420row9_col0\" class=\"data row9 col0\" >4</td>\n",
       "                        <td id=\"T_68b174a0_fcb0_11ea_82b7_02420a391420row9_col1\" class=\"data row9 col1\" >3</td>\n",
       "                        <td id=\"T_68b174a0_fcb0_11ea_82b7_02420a391420row9_col2\" class=\"data row9 col2\" >31.7422</td>\n",
       "            </tr>\n",
       "            <tr>\n",
       "                        <th id=\"T_68b174a0_fcb0_11ea_82b7_02420a391420level0_row10\" class=\"row_heading level0 row10\" >10</th>\n",
       "                        <td id=\"T_68b174a0_fcb0_11ea_82b7_02420a391420row10_col0\" class=\"data row10 col0\" >4</td>\n",
       "                        <td id=\"T_68b174a0_fcb0_11ea_82b7_02420a391420row10_col1\" class=\"data row10 col1\" >4</td>\n",
       "                        <td id=\"T_68b174a0_fcb0_11ea_82b7_02420a391420row10_col2\" class=\"data row10 col2\" >31.7422</td>\n",
       "            </tr>\n",
       "            <tr>\n",
       "                        <th id=\"T_68b174a0_fcb0_11ea_82b7_02420a391420level0_row11\" class=\"row_heading level0 row11\" >11</th>\n",
       "                        <td id=\"T_68b174a0_fcb0_11ea_82b7_02420a391420row11_col0\" class=\"data row11 col0\" >4</td>\n",
       "                        <td id=\"T_68b174a0_fcb0_11ea_82b7_02420a391420row11_col1\" class=\"data row11 col1\" >5</td>\n",
       "                        <td id=\"T_68b174a0_fcb0_11ea_82b7_02420a391420row11_col2\" class=\"data row11 col2\" >31.8792</td>\n",
       "            </tr>\n",
       "            <tr>\n",
       "                        <th id=\"T_68b174a0_fcb0_11ea_82b7_02420a391420level0_row12\" class=\"row_heading level0 row12\" >12</th>\n",
       "                        <td id=\"T_68b174a0_fcb0_11ea_82b7_02420a391420row12_col0\" class=\"data row12 col0\" >5</td>\n",
       "                        <td id=\"T_68b174a0_fcb0_11ea_82b7_02420a391420row12_col1\" class=\"data row12 col1\" >2</td>\n",
       "                        <td id=\"T_68b174a0_fcb0_11ea_82b7_02420a391420row12_col2\" class=\"data row12 col2\" >31.8792</td>\n",
       "            </tr>\n",
       "            <tr>\n",
       "                        <th id=\"T_68b174a0_fcb0_11ea_82b7_02420a391420level0_row13\" class=\"row_heading level0 row13\" >13</th>\n",
       "                        <td id=\"T_68b174a0_fcb0_11ea_82b7_02420a391420row13_col0\" class=\"data row13 col0\" >5</td>\n",
       "                        <td id=\"T_68b174a0_fcb0_11ea_82b7_02420a391420row13_col1\" class=\"data row13 col1\" >3</td>\n",
       "                        <td id=\"T_68b174a0_fcb0_11ea_82b7_02420a391420row13_col2\" class=\"data row13 col2\" >31.8792</td>\n",
       "            </tr>\n",
       "            <tr>\n",
       "                        <th id=\"T_68b174a0_fcb0_11ea_82b7_02420a391420level0_row14\" class=\"row_heading level0 row14\" >14</th>\n",
       "                        <td id=\"T_68b174a0_fcb0_11ea_82b7_02420a391420row14_col0\" class=\"data row14 col0\" >5</td>\n",
       "                        <td id=\"T_68b174a0_fcb0_11ea_82b7_02420a391420row14_col1\" class=\"data row14 col1\" >4</td>\n",
       "                        <td id=\"T_68b174a0_fcb0_11ea_82b7_02420a391420row14_col2\" class=\"data row14 col2\" >31.8792</td>\n",
       "            </tr>\n",
       "            <tr>\n",
       "                        <th id=\"T_68b174a0_fcb0_11ea_82b7_02420a391420level0_row15\" class=\"row_heading level0 row15\" >15</th>\n",
       "                        <td id=\"T_68b174a0_fcb0_11ea_82b7_02420a391420row15_col0\" class=\"data row15 col0\" >5</td>\n",
       "                        <td id=\"T_68b174a0_fcb0_11ea_82b7_02420a391420row15_col1\" class=\"data row15 col1\" >5</td>\n",
       "                        <td id=\"T_68b174a0_fcb0_11ea_82b7_02420a391420row15_col2\" class=\"data row15 col2\" >31.8792</td>\n",
       "            </tr>\n",
       "    </tbody></table>"
      ],
      "text/plain": [
       "<pandas.io.formats.style.Styler at 0x7fae829aca90>"
      ]
     },
     "execution_count": 18,
     "metadata": {},
     "output_type": "execute_result"
    }
   ],
   "source": [
    "# если выглядит неправдоподобно, то напишем функцию без отстающих значений прошлой недели\n",
    "\n",
    "def make_features_2(df, max_lag, rolling_mean_size):\n",
    "    data = df.copy()\n",
    "    for lag in range(1, max_lag + 1):\n",
    "        data['lag_{}'.format(lag)] = data['num_orders'].shift(lag)\n",
    "    # добавим отстающие значения прошлой недели на час вперед (зададим в формате константы)\n",
    "    # убрали\n",
    "#    for week_lag in range(1, 3):\n",
    "#        data['week_lag_{}'.format(week_lag)] = data['num_orders'].shift(166 + week_lag)\n",
    "    data['rolling_mean'] = data['num_orders'].shift(1).rolling(rolling_mean_size).mean()\n",
    "    return data\n",
    "\n",
    "research = pd.DataFrame(data=data)\n",
    "i = 0\n",
    "\n",
    "for max_lag in range(2, 6, 1):\n",
    "    for max_rolling_mean in range(2, 6, 1):\n",
    "        \n",
    "        del df_taxi\n",
    "        df_taxi = make_features_2(df_h, max_lag, max_rolling_mean)\n",
    "        target_train, features_train, target_test, features_test = split(df_taxi)\n",
    "        \n",
    "        score = abs(cross_val_score(model_logistic,\\\n",
    "                                    features_train,\\\n",
    "                                    target_train,\\\n",
    "                                    cv=time_cv(features_train),\\\n",
    "                                    scoring=custom_scorer).mean())\n",
    "        \n",
    "        research.loc[i] = (max_lag, max_rolling_mean, score)\n",
    "        i += 1\n",
    "\n",
    "research.style.highlight_min(['RMSE'],color='lightgreen', axis = 0)"
   ]
  },
  {
   "cell_type": "markdown",
   "metadata": {},
   "source": [
    "*Качество метрик ухудшилось*"
   ]
  },
  {
   "cell_type": "markdown",
   "metadata": {},
   "source": [
    "*Окончание примечания*"
   ]
  },
  {
   "cell_type": "markdown",
   "metadata": {},
   "source": [
    "Выборки сформированы корректно"
   ]
  },
  {
   "cell_type": "markdown",
   "metadata": {},
   "source": [
    "[Содержание](#title)"
   ]
  },
  {
   "cell_type": "markdown",
   "metadata": {},
   "source": [
    "## 3.2 Обучение модели CatBoostRegressor  <a name=\"3.2\"></a>"
   ]
  },
  {
   "cell_type": "markdown",
   "metadata": {},
   "source": [
    "Сформируем выборки через функцию **make_features**"
   ]
  },
  {
   "cell_type": "code",
   "execution_count": 19,
   "metadata": {},
   "outputs": [],
   "source": [
    "del df_taxi\n",
    "df_taxi = make_features(df_h, 4, 4)\n",
    "target_train, features_train, target_test, features_test = split(df_taxi)"
   ]
  },
  {
   "cell_type": "code",
   "execution_count": 20,
   "metadata": {},
   "outputs": [
    {
     "name": "stdout",
     "output_type": "stream",
     "text": [
      "Размер обучающей выборки: 2018-03-08 00:00:00 2018-08-13 13:00:00\n",
      "Размер тестовой выборки: 2018-08-13 14:00:00 2018-08-31 23:00:00\n"
     ]
    }
   ],
   "source": [
    "print('Размер обучающей выборки:', target_train.index.min(), target_train.index.max())\n",
    "print('Размер тестовой выборки:', target_test.index.min(), target_test.index.max())"
   ]
  },
  {
   "cell_type": "markdown",
   "metadata": {},
   "source": [
    "Сформируем категориальные признаки"
   ]
  },
  {
   "cell_type": "code",
   "execution_count": 21,
   "metadata": {},
   "outputs": [],
   "source": [
    "cat_features = ['month', 'day', 'dayofweek', 'hour']"
   ]
  },
  {
   "cell_type": "markdown",
   "metadata": {},
   "source": [
    "Подберём лучшие гиперпараметры методом **GridSearchCV**"
   ]
  },
  {
   "cell_type": "code",
   "execution_count": 22,
   "metadata": {},
   "outputs": [
    {
     "name": "stdout",
     "output_type": "stream",
     "text": [
      "0:\tlearn: 28.6391411\ttotal: 48ms\tremaining: 4.75s\n",
      "99:\tlearn: 16.7752867\ttotal: 595ms\tremaining: 0us\n",
      "0:\tlearn: 30.5300012\ttotal: 2.48ms\tremaining: 246ms\n",
      "99:\tlearn: 18.0809321\ttotal: 690ms\tremaining: 0us\n",
      "0:\tlearn: 32.3130244\ttotal: 1.97ms\tremaining: 195ms\n",
      "99:\tlearn: 19.2373896\ttotal: 827ms\tremaining: 0us\n",
      "0:\tlearn: 33.5978337\ttotal: 1.79ms\tremaining: 177ms\n",
      "99:\tlearn: 19.6197692\ttotal: 1.04s\tremaining: 0us\n",
      "0:\tlearn: 28.0653854\ttotal: 1.03ms\tremaining: 102ms\n",
      "99:\tlearn: 16.0664009\ttotal: 504ms\tremaining: 0us\n",
      "0:\tlearn: 29.8336008\ttotal: 1.33ms\tremaining: 132ms\n",
      "99:\tlearn: 17.5421692\ttotal: 817ms\tremaining: 0us\n",
      "0:\tlearn: 31.5692941\ttotal: 3.02ms\tremaining: 299ms\n",
      "99:\tlearn: 18.8748838\ttotal: 1.5s\tremaining: 0us\n",
      "0:\tlearn: 32.8985802\ttotal: 5ms\tremaining: 495ms\n",
      "99:\tlearn: 19.1935378\ttotal: 2.14s\tremaining: 0us\n",
      "0:\tlearn: 26.9768851\ttotal: 954us\tremaining: 94.5ms\n",
      "99:\tlearn: 14.6938483\ttotal: 479ms\tremaining: 0us\n",
      "0:\tlearn: 28.5088584\ttotal: 2.44ms\tremaining: 242ms\n",
      "99:\tlearn: 16.5818489\ttotal: 895ms\tremaining: 0us\n",
      "0:\tlearn: 30.1539646\ttotal: 1.44ms\tremaining: 142ms\n",
      "99:\tlearn: 18.1867650\ttotal: 943ms\tremaining: 0us\n",
      "0:\tlearn: 31.5727327\ttotal: 1.69ms\tremaining: 167ms\n",
      "99:\tlearn: 18.6853046\ttotal: 1.17s\tremaining: 0us\n",
      "0:\tlearn: 28.6043172\ttotal: 1.28ms\tremaining: 127ms\n",
      "99:\tlearn: 16.8936841\ttotal: 590ms\tremaining: 0us\n",
      "0:\tlearn: 30.5329723\ttotal: 1.27ms\tremaining: 126ms\n",
      "99:\tlearn: 18.1043313\ttotal: 847ms\tremaining: 0us\n",
      "0:\tlearn: 32.3167047\ttotal: 1.82ms\tremaining: 180ms\n",
      "99:\tlearn: 19.2557290\ttotal: 990ms\tremaining: 0us\n",
      "0:\tlearn: 33.5998812\ttotal: 1.61ms\tremaining: 160ms\n",
      "99:\tlearn: 19.6388215\ttotal: 1.19s\tremaining: 0us\n",
      "0:\tlearn: 27.9961091\ttotal: 1.18ms\tremaining: 116ms\n",
      "99:\tlearn: 16.1748257\ttotal: 654ms\tremaining: 0us\n",
      "0:\tlearn: 29.8393640\ttotal: 2.75ms\tremaining: 272ms\n",
      "99:\tlearn: 17.5765620\ttotal: 960ms\tremaining: 0us\n",
      "0:\tlearn: 31.5764351\ttotal: 1.42ms\tremaining: 141ms\n",
      "99:\tlearn: 18.8965577\ttotal: 984ms\tremaining: 0us\n",
      "0:\tlearn: 32.9025440\ttotal: 1.61ms\tremaining: 159ms\n",
      "99:\tlearn: 19.2081826\ttotal: 1.48s\tremaining: 0us\n",
      "0:\tlearn: 26.8402213\ttotal: 913us\tremaining: 90.4ms\n",
      "99:\tlearn: 14.8425128\ttotal: 57.9ms\tremaining: 0us\n",
      "0:\tlearn: 28.5195902\ttotal: 1.21ms\tremaining: 120ms\n",
      "99:\tlearn: 16.6352855\ttotal: 875ms\tremaining: 0us\n",
      "0:\tlearn: 30.1672718\ttotal: 1.53ms\tremaining: 152ms\n",
      "99:\tlearn: 18.2103947\ttotal: 871ms\tremaining: 0us\n",
      "0:\tlearn: 31.5800839\ttotal: 1.6ms\tremaining: 159ms\n",
      "99:\tlearn: 18.6728769\ttotal: 1.02s\tremaining: 0us\n",
      "0:\tlearn: 28.6391411\ttotal: 1.84ms\tremaining: 274ms\n",
      "149:\tlearn: 16.2427596\ttotal: 845ms\tremaining: 0us\n",
      "0:\tlearn: 30.5300012\ttotal: 1.6ms\tremaining: 239ms\n",
      "149:\tlearn: 17.7866222\ttotal: 1.12s\tremaining: 0us\n",
      "0:\tlearn: 32.3130244\ttotal: 1.48ms\tremaining: 221ms\n",
      "149:\tlearn: 18.9795521\ttotal: 1.36s\tremaining: 0us\n",
      "0:\tlearn: 33.5978337\ttotal: 4.35ms\tremaining: 648ms\n",
      "149:\tlearn: 19.3430646\ttotal: 1.71s\tremaining: 0us\n",
      "0:\tlearn: 28.0653854\ttotal: 923us\tremaining: 138ms\n",
      "149:\tlearn: 15.3328488\ttotal: 789ms\tremaining: 0us\n",
      "0:\tlearn: 29.8336008\ttotal: 1.28ms\tremaining: 191ms\n",
      "149:\tlearn: 16.9644078\ttotal: 1.25s\tremaining: 0us\n",
      "0:\tlearn: 31.5692941\ttotal: 2.72ms\tremaining: 405ms\n",
      "149:\tlearn: 18.4207713\ttotal: 1.46s\tremaining: 0us\n",
      "0:\tlearn: 32.8985802\ttotal: 1.61ms\tremaining: 240ms\n",
      "149:\tlearn: 18.8577009\ttotal: 1.7s\tremaining: 0us\n",
      "0:\tlearn: 26.9768851\ttotal: 1.24ms\tremaining: 185ms\n",
      "149:\tlearn: 13.8415084\ttotal: 780ms\tremaining: 0us\n",
      "0:\tlearn: 28.5088584\ttotal: 2.25ms\tremaining: 335ms\n",
      "149:\tlearn: 15.7774887\ttotal: 1.62s\tremaining: 0us\n",
      "0:\tlearn: 30.1539646\ttotal: 1.8ms\tremaining: 268ms\n",
      "149:\tlearn: 17.4799378\ttotal: 2.29s\tremaining: 0us\n",
      "0:\tlearn: 31.5727327\ttotal: 3.34ms\tremaining: 498ms\n",
      "149:\tlearn: 18.1047755\ttotal: 2.98s\tremaining: 0us\n",
      "0:\tlearn: 28.6043172\ttotal: 982us\tremaining: 146ms\n",
      "149:\tlearn: 16.4495897\ttotal: 787ms\tremaining: 0us\n",
      "0:\tlearn: 30.5329723\ttotal: 1.27ms\tremaining: 190ms\n",
      "149:\tlearn: 17.7866135\ttotal: 1.11s\tremaining: 0us\n",
      "0:\tlearn: 32.3167047\ttotal: 1.45ms\tremaining: 216ms\n",
      "149:\tlearn: 18.9739694\ttotal: 1.15s\tremaining: 0us\n",
      "0:\tlearn: 33.5998812\ttotal: 1.68ms\tremaining: 250ms\n",
      "149:\tlearn: 19.3730714\ttotal: 1.65s\tremaining: 0us\n",
      "0:\tlearn: 27.9961091\ttotal: 942us\tremaining: 140ms\n",
      "149:\tlearn: 15.5210537\ttotal: 90.9ms\tremaining: 0us\n",
      "0:\tlearn: 29.8393640\ttotal: 1.23ms\tremaining: 183ms\n",
      "149:\tlearn: 17.0601826\ttotal: 1.18s\tremaining: 0us\n",
      "0:\tlearn: 31.5764351\ttotal: 1.48ms\tremaining: 221ms\n",
      "149:\tlearn: 18.4947351\ttotal: 1.36s\tremaining: 0us\n",
      "0:\tlearn: 32.9025440\ttotal: 1.61ms\tremaining: 240ms\n",
      "149:\tlearn: 18.8712931\ttotal: 1.65s\tremaining: 0us\n",
      "0:\tlearn: 26.8402213\ttotal: 957us\tremaining: 143ms\n",
      "149:\tlearn: 13.8548979\ttotal: 796ms\tremaining: 0us\n",
      "0:\tlearn: 28.5195902\ttotal: 1.29ms\tremaining: 193ms\n",
      "149:\tlearn: 15.9739208\ttotal: 1.11s\tremaining: 0us\n",
      "0:\tlearn: 30.1672718\ttotal: 1.46ms\tremaining: 218ms\n",
      "149:\tlearn: 17.7064588\ttotal: 1.21s\tremaining: 0us\n",
      "0:\tlearn: 31.5800839\ttotal: 1.7ms\tremaining: 254ms\n",
      "149:\tlearn: 18.1619056\ttotal: 1.58s\tremaining: 0us\n",
      "0:\tlearn: 28.5439706\ttotal: 1.18ms\tremaining: 117ms\n",
      "99:\tlearn: 16.2890030\ttotal: 613ms\tremaining: 0us\n",
      "0:\tlearn: 30.4365396\ttotal: 1.49ms\tremaining: 148ms\n",
      "99:\tlearn: 17.6935884\ttotal: 971ms\tremaining: 0us\n",
      "0:\tlearn: 32.2735755\ttotal: 1.79ms\tremaining: 177ms\n",
      "99:\tlearn: 18.9861035\ttotal: 1.26s\tremaining: 0us\n",
      "0:\tlearn: 33.4561733\ttotal: 1.93ms\tremaining: 191ms\n",
      "99:\tlearn: 19.3792378\ttotal: 1.46s\tremaining: 0us\n",
      "0:\tlearn: 27.8756404\ttotal: 1.03ms\tremaining: 102ms\n",
      "99:\tlearn: 15.2352542\ttotal: 737ms\tremaining: 0us\n",
      "0:\tlearn: 29.6468289\ttotal: 2.61ms\tremaining: 258ms\n",
      "99:\tlearn: 16.8735642\ttotal: 875ms\tremaining: 0us\n",
      "0:\tlearn: 31.4903856\ttotal: 1.86ms\tremaining: 184ms\n",
      "99:\tlearn: 18.3220779\ttotal: 1.3s\tremaining: 0us\n",
      "0:\tlearn: 32.6159970\ttotal: 1.89ms\tremaining: 188ms\n",
      "99:\tlearn: 18.8575822\ttotal: 1.44s\tremaining: 0us\n",
      "0:\tlearn: 26.6007947\ttotal: 1.15ms\tremaining: 114ms\n",
      "99:\tlearn: 13.1191420\ttotal: 623ms\tremaining: 0us\n",
      "0:\tlearn: 28.1368730\ttotal: 1.47ms\tremaining: 146ms\n",
      "99:\tlearn: 15.5307671\ttotal: 560ms\tremaining: 0us\n",
      "0:\tlearn: 29.9964809\ttotal: 1.83ms\tremaining: 181ms\n",
      "99:\tlearn: 17.2774968\ttotal: 1.29s\tremaining: 0us\n",
      "0:\tlearn: 31.0120739\ttotal: 4.85ms\tremaining: 480ms\n",
      "99:\tlearn: 17.7873138\ttotal: 2s\tremaining: 0us\n",
      "0:\tlearn: 28.5142316\ttotal: 1.83ms\tremaining: 181ms\n",
      "99:\tlearn: 16.4021219\ttotal: 826ms\tremaining: 0us\n",
      "0:\tlearn: 30.4411393\ttotal: 1.47ms\tremaining: 145ms\n",
      "99:\tlearn: 17.7089273\ttotal: 977ms\tremaining: 0us\n",
      "0:\tlearn: 32.2802380\ttotal: 1.74ms\tremaining: 173ms\n",
      "99:\tlearn: 19.0319544\ttotal: 1.26s\tremaining: 0us\n",
      "0:\tlearn: 33.4589581\ttotal: 1.88ms\tremaining: 186ms\n",
      "99:\tlearn: 19.3747751\ttotal: 1.53s\tremaining: 0us\n",
      "0:\tlearn: 27.8155698\ttotal: 1.05ms\tremaining: 104ms\n",
      "99:\tlearn: 15.2722255\ttotal: 622ms\tremaining: 0us\n",
      "0:\tlearn: 29.6557833\ttotal: 1.42ms\tremaining: 141ms\n",
      "99:\tlearn: 17.0290970\ttotal: 867ms\tremaining: 0us\n",
      "0:\tlearn: 31.5033491\ttotal: 1.99ms\tremaining: 197ms\n",
      "99:\tlearn: 18.3512821\ttotal: 1.19s\tremaining: 0us\n",
      "0:\tlearn: 32.6214118\ttotal: 1.87ms\tremaining: 185ms\n",
      "99:\tlearn: 18.9219528\ttotal: 1.42s\tremaining: 0us\n",
      "0:\tlearn: 26.4783823\ttotal: 1.24ms\tremaining: 123ms\n",
      "99:\tlearn: 13.3202030\ttotal: 615ms\tremaining: 0us\n",
      "0:\tlearn: 28.1536780\ttotal: 1.76ms\tremaining: 174ms\n",
      "99:\tlearn: 15.6744843\ttotal: 744ms\tremaining: 0us\n",
      "0:\tlearn: 30.0207904\ttotal: 1.71ms\tremaining: 169ms\n",
      "99:\tlearn: 17.3858126\ttotal: 1.27s\tremaining: 0us\n",
      "0:\tlearn: 31.0222092\ttotal: 3.57ms\tremaining: 353ms\n",
      "99:\tlearn: 18.0637466\ttotal: 1.91s\tremaining: 0us\n",
      "0:\tlearn: 28.5439706\ttotal: 1.03ms\tremaining: 153ms\n",
      "149:\tlearn: 15.6732107\ttotal: 1.1s\tremaining: 0us\n",
      "0:\tlearn: 30.4365396\ttotal: 1.73ms\tremaining: 258ms\n",
      "149:\tlearn: 17.3309248\ttotal: 1.43s\tremaining: 0us\n",
      "0:\tlearn: 32.2735755\ttotal: 1.75ms\tremaining: 261ms\n",
      "149:\tlearn: 18.6632824\ttotal: 2.03s\tremaining: 0us\n",
      "0:\tlearn: 33.4561733\ttotal: 1.88ms\tremaining: 280ms\n",
      "149:\tlearn: 19.0498318\ttotal: 2.16s\tremaining: 0us\n",
      "0:\tlearn: 27.8756404\ttotal: 1.05ms\tremaining: 156ms\n",
      "149:\tlearn: 14.1358627\ttotal: 1.05s\tremaining: 0us\n",
      "0:\tlearn: 29.6468289\ttotal: 1.5ms\tremaining: 223ms\n",
      "149:\tlearn: 16.1883056\ttotal: 1.18s\tremaining: 0us\n",
      "0:\tlearn: 31.4903856\ttotal: 1.71ms\tremaining: 255ms\n",
      "149:\tlearn: 17.7197178\ttotal: 1.9s\tremaining: 0us\n",
      "0:\tlearn: 32.6159970\ttotal: 1.95ms\tremaining: 290ms\n",
      "149:\tlearn: 18.3502906\ttotal: 2.24s\tremaining: 0us\n",
      "0:\tlearn: 26.6007947\ttotal: 1.16ms\tremaining: 172ms\n"
     ]
    },
    {
     "name": "stdout",
     "output_type": "stream",
     "text": [
      "149:\tlearn: 11.6836737\ttotal: 1.05s\tremaining: 0us\n",
      "0:\tlearn: 28.1368730\ttotal: 1.77ms\tremaining: 264ms\n",
      "149:\tlearn: 14.4644559\ttotal: 1.12s\tremaining: 0us\n",
      "0:\tlearn: 29.9964809\ttotal: 1.85ms\tremaining: 276ms\n",
      "149:\tlearn: 16.3039298\ttotal: 2.04s\tremaining: 0us\n",
      "0:\tlearn: 31.0120739\ttotal: 2.15ms\tremaining: 321ms\n",
      "149:\tlearn: 17.0451067\ttotal: 2.16s\tremaining: 0us\n",
      "0:\tlearn: 28.5142316\ttotal: 1.06ms\tremaining: 158ms\n",
      "149:\tlearn: 15.8248424\ttotal: 998ms\tremaining: 0us\n",
      "0:\tlearn: 30.4411393\ttotal: 1.69ms\tremaining: 252ms\n",
      "149:\tlearn: 17.2972476\ttotal: 1.37s\tremaining: 0us\n",
      "0:\tlearn: 32.2802380\ttotal: 3.59ms\tremaining: 535ms\n",
      "149:\tlearn: 18.6567266\ttotal: 2.09s\tremaining: 0us\n",
      "0:\tlearn: 33.4589581\ttotal: 3.19ms\tremaining: 476ms\n",
      "149:\tlearn: 19.0610188\ttotal: 2.26s\tremaining: 0us\n",
      "0:\tlearn: 27.8155698\ttotal: 1.02ms\tremaining: 153ms\n",
      "149:\tlearn: 14.2893784\ttotal: 1s\tremaining: 0us\n",
      "0:\tlearn: 29.6557833\ttotal: 1.5ms\tremaining: 224ms\n",
      "149:\tlearn: 16.4015885\ttotal: 1.22s\tremaining: 0us\n",
      "0:\tlearn: 31.5033491\ttotal: 1.78ms\tremaining: 265ms\n",
      "149:\tlearn: 17.9027604\ttotal: 1.86s\tremaining: 0us\n",
      "0:\tlearn: 32.6214118\ttotal: 2.35ms\tremaining: 350ms\n",
      "149:\tlearn: 18.4591929\ttotal: 2.36s\tremaining: 0us\n",
      "0:\tlearn: 26.4783823\ttotal: 1.14ms\tremaining: 170ms\n",
      "149:\tlearn: 11.9752957\ttotal: 1.06s\tremaining: 0us\n",
      "0:\tlearn: 28.1536780\ttotal: 1.4ms\tremaining: 209ms\n",
      "149:\tlearn: 14.5357076\ttotal: 1.34s\tremaining: 0us\n",
      "0:\tlearn: 30.0207904\ttotal: 1.67ms\tremaining: 248ms\n",
      "149:\tlearn: 16.5063525\ttotal: 1.95s\tremaining: 0us\n",
      "0:\tlearn: 31.0222092\ttotal: 1.86ms\tremaining: 278ms\n",
      "149:\tlearn: 17.3856013\ttotal: 2.2s\tremaining: 0us\n",
      "0:\tlearn: 28.5042528\ttotal: 1.41ms\tremaining: 139ms\n",
      "99:\tlearn: 15.5831382\ttotal: 776ms\tremaining: 0us\n",
      "0:\tlearn: 30.4173299\ttotal: 2.09ms\tremaining: 207ms\n",
      "99:\tlearn: 17.1721732\ttotal: 1.2s\tremaining: 0us\n",
      "0:\tlearn: 32.2602796\ttotal: 2.04ms\tremaining: 202ms\n",
      "99:\tlearn: 18.5574051\ttotal: 1.49s\tremaining: 0us\n",
      "0:\tlearn: 33.4512678\ttotal: 2.29ms\tremaining: 227ms\n",
      "99:\tlearn: 19.0868156\ttotal: 1.69s\tremaining: 0us\n",
      "0:\tlearn: 27.7958314\ttotal: 1.31ms\tremaining: 130ms\n",
      "99:\tlearn: 14.0987422\ttotal: 655ms\tremaining: 0us\n",
      "0:\tlearn: 29.6081570\ttotal: 1.65ms\tremaining: 163ms\n",
      "99:\tlearn: 16.2034852\ttotal: 1.19s\tremaining: 0us\n",
      "0:\tlearn: 31.4636258\ttotal: 2.26ms\tremaining: 224ms\n",
      "99:\tlearn: 17.7381374\ttotal: 1.51s\tremaining: 0us\n",
      "0:\tlearn: 32.6060235\ttotal: 2.29ms\tremaining: 227ms\n",
      "99:\tlearn: 18.3446897\ttotal: 1.76s\tremaining: 0us\n",
      "0:\tlearn: 26.4399407\ttotal: 1.28ms\tremaining: 127ms\n",
      "99:\tlearn: 11.7380197\ttotal: 707ms\tremaining: 0us\n",
      "0:\tlearn: 28.0586255\ttotal: 1.64ms\tremaining: 163ms\n",
      "99:\tlearn: 14.2295082\ttotal: 1.47s\tremaining: 0us\n",
      "0:\tlearn: 29.9423668\ttotal: 2ms\tremaining: 198ms\n",
      "99:\tlearn: 16.2180635\ttotal: 1.74s\tremaining: 0us\n",
      "0:\tlearn: 30.9914753\ttotal: 2.27ms\tremaining: 225ms\n",
      "99:\tlearn: 17.0006742\ttotal: 2.14s\tremaining: 0us\n",
      "0:\tlearn: 28.4947467\ttotal: 1.23ms\tremaining: 122ms\n",
      "99:\tlearn: 15.6563981\ttotal: 740ms\tremaining: 0us\n",
      "0:\tlearn: 30.4259007\ttotal: 1.67ms\tremaining: 165ms\n",
      "99:\tlearn: 17.2697663\ttotal: 1.17s\tremaining: 0us\n",
      "0:\tlearn: 32.2702431\ttotal: 2.16ms\tremaining: 214ms\n",
      "99:\tlearn: 18.6926024\ttotal: 1.53s\tremaining: 0us\n",
      "0:\tlearn: 33.4569989\ttotal: 2.18ms\tremaining: 216ms\n",
      "99:\tlearn: 19.1111700\ttotal: 1.74s\tremaining: 0us\n",
      "0:\tlearn: 27.7758687\ttotal: 1.27ms\tremaining: 126ms\n",
      "99:\tlearn: 14.4430622\ttotal: 708ms\tremaining: 0us\n",
      "0:\tlearn: 29.6248699\ttotal: 1.76ms\tremaining: 175ms\n",
      "99:\tlearn: 16.3739250\ttotal: 1.23s\tremaining: 0us\n",
      "0:\tlearn: 31.4830556\ttotal: 4.26ms\tremaining: 422ms\n",
      "99:\tlearn: 17.9528548\ttotal: 1.5s\tremaining: 0us\n",
      "0:\tlearn: 32.6171777\ttotal: 2.29ms\tremaining: 226ms\n",
      "99:\tlearn: 18.4167230\ttotal: 2.75s\tremaining: 0us\n",
      "0:\tlearn: 26.3960028\ttotal: 1.61ms\tremaining: 160ms\n",
      "99:\tlearn: 12.1809802\ttotal: 1.16s\tremaining: 0us\n",
      "0:\tlearn: 28.0901123\ttotal: 5.01ms\tremaining: 496ms\n",
      "99:\tlearn: 14.7221617\ttotal: 1.6s\tremaining: 0us\n",
      "0:\tlearn: 29.9789928\ttotal: 5.79ms\tremaining: 573ms\n",
      "99:\tlearn: 16.5831151\ttotal: 1.57s\tremaining: 0us\n",
      "0:\tlearn: 31.0123999\ttotal: 2.94ms\tremaining: 291ms\n",
      "99:\tlearn: 17.2367869\ttotal: 1.67s\tremaining: 0us\n",
      "0:\tlearn: 28.5042528\ttotal: 1.37ms\tremaining: 205ms\n",
      "149:\tlearn: 14.8640358\ttotal: 1.19s\tremaining: 0us\n",
      "0:\tlearn: 30.4173299\ttotal: 1.81ms\tremaining: 270ms\n",
      "149:\tlearn: 16.6405584\ttotal: 1.79s\tremaining: 0us\n",
      "0:\tlearn: 32.2602796\ttotal: 2.09ms\tremaining: 312ms\n",
      "149:\tlearn: 18.1142266\ttotal: 2.29s\tremaining: 0us\n",
      "0:\tlearn: 33.4512678\ttotal: 2.21ms\tremaining: 330ms\n",
      "149:\tlearn: 18.6581530\ttotal: 2.67s\tremaining: 0us\n",
      "0:\tlearn: 27.7958314\ttotal: 1.31ms\tremaining: 196ms\n",
      "149:\tlearn: 12.6641446\ttotal: 1.17s\tremaining: 0us\n",
      "0:\tlearn: 29.6081570\ttotal: 2.76ms\tremaining: 411ms\n",
      "149:\tlearn: 15.2134728\ttotal: 1.88s\tremaining: 0us\n",
      "0:\tlearn: 31.4636258\ttotal: 2.25ms\tremaining: 335ms\n",
      "149:\tlearn: 16.9241755\ttotal: 2.24s\tremaining: 0us\n",
      "0:\tlearn: 32.6060235\ttotal: 2.2ms\tremaining: 327ms\n",
      "149:\tlearn: 17.6633435\ttotal: 2.48s\tremaining: 0us\n",
      "0:\tlearn: 26.4399407\ttotal: 1.3ms\tremaining: 194ms\n",
      "149:\tlearn: 9.8537874\ttotal: 1.01s\tremaining: 0us\n",
      "0:\tlearn: 28.0586255\ttotal: 1.75ms\tremaining: 261ms\n",
      "149:\tlearn: 12.7056939\ttotal: 1.95s\tremaining: 0us\n",
      "0:\tlearn: 29.9423668\ttotal: 2ms\tremaining: 297ms\n",
      "149:\tlearn: 14.9869206\ttotal: 2.34s\tremaining: 0us\n",
      "0:\tlearn: 30.9914753\ttotal: 2.39ms\tremaining: 357ms\n",
      "149:\tlearn: 15.8646112\ttotal: 2.64s\tremaining: 0us\n",
      "0:\tlearn: 28.4947467\ttotal: 1.5ms\tremaining: 223ms\n",
      "149:\tlearn: 14.8935940\ttotal: 1.08s\tremaining: 0us\n",
      "0:\tlearn: 30.4259007\ttotal: 1.71ms\tremaining: 255ms\n",
      "149:\tlearn: 16.7503371\ttotal: 1.85s\tremaining: 0us\n",
      "0:\tlearn: 32.2702431\ttotal: 2.04ms\tremaining: 305ms\n",
      "149:\tlearn: 18.3096498\ttotal: 2.18s\tremaining: 0us\n",
      "0:\tlearn: 33.4569989\ttotal: 2.25ms\tremaining: 336ms\n",
      "149:\tlearn: 18.7269501\ttotal: 2.64s\tremaining: 0us\n",
      "0:\tlearn: 27.7758687\ttotal: 1.31ms\tremaining: 195ms\n",
      "149:\tlearn: 13.1356735\ttotal: 999ms\tremaining: 0us\n",
      "0:\tlearn: 29.6248699\ttotal: 2.27ms\tremaining: 339ms\n",
      "149:\tlearn: 15.3915507\ttotal: 1.91s\tremaining: 0us\n",
      "0:\tlearn: 31.4830556\ttotal: 2ms\tremaining: 298ms\n",
      "149:\tlearn: 17.1657416\ttotal: 2.21s\tremaining: 0us\n",
      "0:\tlearn: 32.6171777\ttotal: 2.25ms\tremaining: 336ms\n",
      "149:\tlearn: 17.7977416\ttotal: 2.51s\tremaining: 0us\n",
      "0:\tlearn: 26.3960028\ttotal: 1.38ms\tremaining: 205ms\n",
      "149:\tlearn: 10.3169592\ttotal: 1.11s\tremaining: 0us\n",
      "0:\tlearn: 28.0901123\ttotal: 1.71ms\tremaining: 255ms\n",
      "149:\tlearn: 13.1119880\ttotal: 2.02s\tremaining: 0us\n",
      "0:\tlearn: 29.9789928\ttotal: 1.95ms\tremaining: 291ms\n",
      "149:\tlearn: 15.2009565\ttotal: 2.52s\tremaining: 0us\n",
      "0:\tlearn: 31.0123999\ttotal: 4.63ms\tremaining: 690ms\n",
      "149:\tlearn: 16.2766025\ttotal: 2.81s\tremaining: 0us\n",
      "0:\tlearn: 37.6729895\ttotal: 1.92ms\tremaining: 285ms\n",
      "149:\tlearn: 21.0197239\ttotal: 2.08s\tremaining: 0us\n",
      "CPU times: user 3min 18s, sys: 35.2 s, total: 3min 53s\n",
      "Wall time: 6min 41s\n"
     ]
    },
    {
     "data": {
      "text/plain": [
       "GridSearchCV(cv=<generator object TimeSeriesSplit.split at 0x7fae829de750>,\n",
       "             error_score='raise-deprecating',\n",
       "             estimator=<catboost.core.CatBoostRegressor object at 0x7fae82cd8590>,\n",
       "             iid='warn', n_jobs=None,\n",
       "             param_grid={'depth': [3, 4, 5], 'iterations': [100, 150],\n",
       "                         'l2_leaf_reg': [1, 2],\n",
       "                         'learning_rate': [0.05, 0.1, 0.2],\n",
       "                         'random_state': [33], 'verbose': [150]},\n",
       "             pre_dispatch='2*n_jobs', refit=True, return_train_score=False,\n",
       "             scoring=make_scorer(rmse, greater_is_better=False), verbose=0)"
      ]
     },
     "execution_count": 22,
     "metadata": {},
     "output_type": "execute_result"
    }
   ],
   "source": [
    "%%time\n",
    "model_cat = CatBoostRegressor(cat_features=cat_features)\n",
    "              \n",
    "grid = {'learning_rate': [0.05, 0.1, 0.2],\n",
    "        'depth': [3, 4, 5],\n",
    "        'l2_leaf_reg': [1, 2],\n",
    "        'iterations': [100, 150],\n",
    "        'verbose': [150],\n",
    "        'random_state': [RNG]\n",
    "        }\n",
    "\n",
    "grid = GridSearchCV(estimator=model_cat, param_grid = grid, scoring=custom_scorer, cv=time_cv(features_train))\n",
    "grid.fit(features_train, target_train)  "
   ]
  },
  {
   "cell_type": "code",
   "execution_count": 24,
   "metadata": {},
   "outputs": [
    {
     "name": "stdout",
     "output_type": "stream",
     "text": [
      "\n",
      "========================================================\n",
      " Results from Random Search \n",
      "========================================================\n",
      "\n",
      " The best score across ALL searched params:\n",
      " 23.555393813228505\n",
      "\n",
      " The best parameters across ALL searched params:\n",
      " {'depth': 3, 'iterations': 150, 'l2_leaf_reg': 2, 'learning_rate': 0.05, 'random_state': 33, 'verbose': 150}\n",
      "\n",
      " ========================================================\n"
     ]
    }
   ],
   "source": [
    "print(\"\\n========================================================\")\n",
    "print(\" Results from Random Search \" )\n",
    "print(\"========================================================\")    \n",
    "    \n",
    "print(\"\\n The best score across ALL searched params:\\n\", abs(grid.best_score_))\n",
    "    \n",
    "print(\"\\n The best parameters across ALL searched params:\\n\", grid.best_params_)\n",
    "    \n",
    "print(\"\\n ========================================================\")"
   ]
  },
  {
   "cell_type": "markdown",
   "metadata": {},
   "source": [
    "Полученная метрика **RMSE** выше заданной. Данную модель показывает параметры выше логистической регрессии, модель можно использовать в будущем"
   ]
  },
  {
   "cell_type": "markdown",
   "metadata": {},
   "source": [
    "Попробуем изменить количество признаков с заданными гиперпараметрами, для улучшения модели "
   ]
  },
  {
   "cell_type": "code",
   "execution_count": 32,
   "metadata": {},
   "outputs": [
    {
     "name": "stdout",
     "output_type": "stream",
     "text": [
      "0:\tlearn: 28.5233638\ttotal: 1ms\tremaining: 150ms\n",
      "149:\tlearn: 16.2961502\ttotal: 799ms\tremaining: 0us\n",
      "0:\tlearn: 30.5864609\ttotal: 1.25ms\tremaining: 187ms\n",
      "149:\tlearn: 17.8306576\ttotal: 1.17s\tremaining: 0us\n",
      "0:\tlearn: 32.2864486\ttotal: 1.39ms\tremaining: 207ms\n",
      "149:\tlearn: 19.0012586\ttotal: 1.29s\tremaining: 0us\n",
      "0:\tlearn: 33.4595038\ttotal: 1.75ms\tremaining: 261ms\n",
      "149:\tlearn: 19.3654291\ttotal: 1.47s\tremaining: 0us\n",
      "0:\tlearn: 28.5233638\ttotal: 899us\tremaining: 134ms\n",
      "149:\tlearn: 16.3958224\ttotal: 858ms\tremaining: 0us\n",
      "0:\tlearn: 30.5864609\ttotal: 2.66ms\tremaining: 397ms\n",
      "149:\tlearn: 17.8639962\ttotal: 1.18s\tremaining: 0us\n",
      "0:\tlearn: 32.2864486\ttotal: 1.46ms\tremaining: 217ms\n",
      "149:\tlearn: 18.9504236\ttotal: 1.49s\tremaining: 0us\n",
      "0:\tlearn: 33.4595038\ttotal: 1.63ms\tremaining: 242ms\n",
      "149:\tlearn: 19.3171783\ttotal: 1.56s\tremaining: 0us\n",
      "0:\tlearn: 28.5233638\ttotal: 996us\tremaining: 148ms\n",
      "149:\tlearn: 16.2539234\ttotal: 728ms\tremaining: 0us\n",
      "0:\tlearn: 30.5864609\ttotal: 1.25ms\tremaining: 187ms\n",
      "149:\tlearn: 17.8233043\ttotal: 1.07s\tremaining: 0us\n",
      "0:\tlearn: 32.2864486\ttotal: 1.51ms\tremaining: 225ms\n",
      "149:\tlearn: 18.8772769\ttotal: 1.14s\tremaining: 0us\n",
      "0:\tlearn: 33.4595038\ttotal: 1.62ms\tremaining: 241ms\n",
      "149:\tlearn: 19.2542396\ttotal: 1.52s\tremaining: 0us\n",
      "0:\tlearn: 28.5233638\ttotal: 981us\tremaining: 146ms\n",
      "149:\tlearn: 16.2076827\ttotal: 597ms\tremaining: 0us\n",
      "0:\tlearn: 30.6186513\ttotal: 1.25ms\tremaining: 186ms\n",
      "149:\tlearn: 17.6524285\ttotal: 1.19s\tremaining: 0us\n",
      "0:\tlearn: 32.2864486\ttotal: 1.92ms\tremaining: 286ms\n",
      "149:\tlearn: 18.8357291\ttotal: 1.46s\tremaining: 0us\n",
      "0:\tlearn: 33.4595038\ttotal: 1.72ms\tremaining: 256ms\n",
      "149:\tlearn: 19.2431862\ttotal: 1.47s\tremaining: 0us\n",
      "0:\tlearn: 28.5233638\ttotal: 927us\tremaining: 138ms\n",
      "149:\tlearn: 16.2419909\ttotal: 89ms\tremaining: 0us\n",
      "0:\tlearn: 30.5864609\ttotal: 1.22ms\tremaining: 181ms\n",
      "149:\tlearn: 17.6689978\ttotal: 1.15s\tremaining: 0us\n",
      "0:\tlearn: 32.2864486\ttotal: 2.01ms\tremaining: 300ms\n",
      "149:\tlearn: 18.8840153\ttotal: 1.13s\tremaining: 0us\n",
      "0:\tlearn: 33.4595038\ttotal: 1.67ms\tremaining: 249ms\n",
      "149:\tlearn: 19.2676548\ttotal: 1.74s\tremaining: 0us\n",
      "0:\tlearn: 28.6070996\ttotal: 969us\tremaining: 144ms\n",
      "149:\tlearn: 16.3528236\ttotal: 800ms\tremaining: 0us\n",
      "0:\tlearn: 30.5116265\ttotal: 2.11ms\tremaining: 315ms\n",
      "149:\tlearn: 17.7501076\ttotal: 1.24s\tremaining: 0us\n",
      "0:\tlearn: 32.3167047\ttotal: 1.48ms\tremaining: 221ms\n",
      "149:\tlearn: 18.9505367\ttotal: 1.39s\tremaining: 0us\n",
      "0:\tlearn: 33.5998812\ttotal: 1.68ms\tremaining: 251ms\n",
      "149:\tlearn: 19.3807385\ttotal: 1.73s\tremaining: 0us\n",
      "0:\tlearn: 28.6043172\ttotal: 1.2ms\tremaining: 179ms\n",
      "149:\tlearn: 16.4495897\ttotal: 808ms\tremaining: 0us\n",
      "0:\tlearn: 30.5329723\ttotal: 1.28ms\tremaining: 190ms\n",
      "149:\tlearn: 17.7866135\ttotal: 1.16s\tremaining: 0us\n",
      "0:\tlearn: 32.3167047\ttotal: 1.51ms\tremaining: 225ms\n",
      "149:\tlearn: 18.9739694\ttotal: 1.25s\tremaining: 0us\n",
      "0:\tlearn: 33.5998812\ttotal: 1.59ms\tremaining: 238ms\n",
      "149:\tlearn: 19.3730714\ttotal: 1.63s\tremaining: 0us\n",
      "0:\tlearn: 28.6040233\ttotal: 918us\tremaining: 137ms\n",
      "149:\tlearn: 16.3105959\ttotal: 830ms\tremaining: 0us\n",
      "0:\tlearn: 30.5329723\ttotal: 1.47ms\tremaining: 219ms\n",
      "149:\tlearn: 17.7611999\ttotal: 1.24s\tremaining: 0us\n",
      "0:\tlearn: 32.3167047\ttotal: 1.43ms\tremaining: 213ms\n",
      "149:\tlearn: 18.9434365\ttotal: 1.31s\tremaining: 0us\n",
      "0:\tlearn: 33.5998812\ttotal: 1.72ms\tremaining: 257ms\n",
      "149:\tlearn: 19.3284645\ttotal: 1.65s\tremaining: 0us\n",
      "0:\tlearn: 28.6440258\ttotal: 943us\tremaining: 141ms\n",
      "149:\tlearn: 16.2143301\ttotal: 845ms\tremaining: 0us\n",
      "0:\tlearn: 30.5329723\ttotal: 1.26ms\tremaining: 188ms\n",
      "149:\tlearn: 17.7352550\ttotal: 1.32s\tremaining: 0us\n",
      "0:\tlearn: 32.3167047\ttotal: 4.12ms\tremaining: 613ms\n",
      "149:\tlearn: 18.8260125\ttotal: 2.37s\tremaining: 0us\n",
      "0:\tlearn: 33.5998812\ttotal: 1.64ms\tremaining: 244ms\n",
      "149:\tlearn: 19.3199344\ttotal: 2.07s\tremaining: 0us\n",
      "0:\tlearn: 28.6519149\ttotal: 972us\tremaining: 145ms\n",
      "149:\tlearn: 16.3889904\ttotal: 836ms\tremaining: 0us\n",
      "0:\tlearn: 30.5329723\ttotal: 1.24ms\tremaining: 185ms\n",
      "149:\tlearn: 17.7234829\ttotal: 1.2s\tremaining: 0us\n",
      "0:\tlearn: 32.3167047\ttotal: 1.52ms\tremaining: 227ms\n",
      "149:\tlearn: 18.8859685\ttotal: 1.49s\tremaining: 0us\n",
      "0:\tlearn: 33.5998812\ttotal: 1.6ms\tremaining: 238ms\n",
      "149:\tlearn: 19.2724790\ttotal: 1.6s\tremaining: 0us\n",
      "0:\tlearn: 28.7237909\ttotal: 973us\tremaining: 145ms\n",
      "149:\tlearn: 16.2885241\ttotal: 800ms\tremaining: 0us\n",
      "0:\tlearn: 30.5433838\ttotal: 1.26ms\tremaining: 188ms\n",
      "149:\tlearn: 17.6362388\ttotal: 1.24s\tremaining: 0us\n",
      "0:\tlearn: 32.2522874\ttotal: 4.1ms\tremaining: 611ms\n",
      "149:\tlearn: 18.8557576\ttotal: 1.46s\tremaining: 0us\n",
      "0:\tlearn: 33.5052807\ttotal: 2.51ms\tremaining: 374ms\n",
      "149:\tlearn: 19.2343878\ttotal: 1.73s\tremaining: 0us\n",
      "0:\tlearn: 28.7237909\ttotal: 2.12ms\tremaining: 316ms\n",
      "149:\tlearn: 16.4076424\ttotal: 830ms\tremaining: 0us\n",
      "0:\tlearn: 30.5564508\ttotal: 1.25ms\tremaining: 187ms\n",
      "149:\tlearn: 17.6513592\ttotal: 1.24s\tremaining: 0us\n",
      "0:\tlearn: 32.3289520\ttotal: 1.58ms\tremaining: 235ms\n",
      "149:\tlearn: 18.8216612\ttotal: 1.37s\tremaining: 0us\n",
      "0:\tlearn: 33.5052807\ttotal: 5.99ms\tremaining: 893ms\n",
      "149:\tlearn: 19.3140103\ttotal: 3.1s\tremaining: 0us\n",
      "0:\tlearn: 28.7237909\ttotal: 1.03ms\tremaining: 154ms\n",
      "149:\tlearn: 16.1810482\ttotal: 889ms\tremaining: 0us\n",
      "0:\tlearn: 30.5380998\ttotal: 1.32ms\tremaining: 197ms\n",
      "149:\tlearn: 17.6337259\ttotal: 1.51s\tremaining: 0us\n",
      "0:\tlearn: 32.3289520\ttotal: 1.56ms\tremaining: 233ms\n",
      "149:\tlearn: 18.8459429\ttotal: 2.38s\tremaining: 0us\n",
      "0:\tlearn: 33.5052807\ttotal: 3.53ms\tremaining: 526ms\n",
      "149:\tlearn: 19.2981045\ttotal: 2.43s\tremaining: 0us\n",
      "0:\tlearn: 28.7237909\ttotal: 984us\tremaining: 147ms\n",
      "149:\tlearn: 16.2501290\ttotal: 979ms\tremaining: 0us\n",
      "0:\tlearn: 30.5512203\ttotal: 1.27ms\tremaining: 189ms\n",
      "149:\tlearn: 17.5833208\ttotal: 1.23s\tremaining: 0us\n",
      "0:\tlearn: 32.3289520\ttotal: 1.5ms\tremaining: 224ms\n",
      "149:\tlearn: 18.8239802\ttotal: 1.31s\tremaining: 0us\n",
      "0:\tlearn: 33.5052807\ttotal: 1.66ms\tremaining: 247ms\n",
      "149:\tlearn: 19.2496634\ttotal: 1.89s\tremaining: 0us\n",
      "0:\tlearn: 28.7237909\ttotal: 955us\tremaining: 142ms\n",
      "149:\tlearn: 16.2680727\ttotal: 828ms\tremaining: 0us\n",
      "0:\tlearn: 30.5583095\ttotal: 1.26ms\tremaining: 187ms\n",
      "149:\tlearn: 17.5939906\ttotal: 1.22s\tremaining: 0us\n",
      "0:\tlearn: 32.3289520\ttotal: 1.58ms\tremaining: 236ms\n",
      "149:\tlearn: 18.7693112\ttotal: 1.44s\tremaining: 0us\n",
      "0:\tlearn: 33.5052807\ttotal: 1.69ms\tremaining: 252ms\n",
      "149:\tlearn: 19.2130793\ttotal: 1.98s\tremaining: 0us\n",
      "0:\tlearn: 28.5492003\ttotal: 1.04ms\tremaining: 155ms\n",
      "149:\tlearn: 16.0654316\ttotal: 807ms\tremaining: 0us\n",
      "0:\tlearn: 30.6268509\ttotal: 1.28ms\tremaining: 191ms\n",
      "149:\tlearn: 17.4974924\ttotal: 1.19s\tremaining: 0us\n",
      "0:\tlearn: 32.2979690\ttotal: 1.54ms\tremaining: 229ms\n",
      "149:\tlearn: 18.6587569\ttotal: 1.38s\tremaining: 0us\n",
      "0:\tlearn: 33.5200010\ttotal: 1.71ms\tremaining: 254ms\n",
      "149:\tlearn: 19.1782305\ttotal: 1.84s\tremaining: 0us\n",
      "0:\tlearn: 28.5492003\ttotal: 1.32ms\tremaining: 196ms\n",
      "149:\tlearn: 16.1145252\ttotal: 962ms\tremaining: 0us\n",
      "0:\tlearn: 30.5404239\ttotal: 1.34ms\tremaining: 199ms\n",
      "149:\tlearn: 17.4962171\ttotal: 1.04s\tremaining: 0us\n",
      "0:\tlearn: 32.2474290\ttotal: 1.51ms\tremaining: 225ms\n",
      "149:\tlearn: 18.6713602\ttotal: 1.61s\tremaining: 0us\n",
      "0:\tlearn: 33.5200010\ttotal: 6.44ms\tremaining: 960ms\n",
      "149:\tlearn: 19.2045439\ttotal: 2.2s\tremaining: 0us\n",
      "0:\tlearn: 28.5492003\ttotal: 992us\tremaining: 148ms\n",
      "149:\tlearn: 16.0567736\ttotal: 826ms\tremaining: 0us\n",
      "0:\tlearn: 30.5404239\ttotal: 1.37ms\tremaining: 204ms\n",
      "149:\tlearn: 17.4810973\ttotal: 1.18s\tremaining: 0us\n",
      "0:\tlearn: 32.2474290\ttotal: 2.93ms\tremaining: 437ms\n",
      "149:\tlearn: 18.6975653\ttotal: 1.59s\tremaining: 0us\n",
      "0:\tlearn: 33.5200010\ttotal: 1.71ms\tremaining: 255ms\n",
      "149:\tlearn: 19.1996606\ttotal: 1.94s\tremaining: 0us\n",
      "0:\tlearn: 28.5492003\ttotal: 987us\tremaining: 147ms\n",
      "149:\tlearn: 16.0761657\ttotal: 904ms\tremaining: 0us\n",
      "0:\tlearn: 30.6058858\ttotal: 1.35ms\tremaining: 201ms\n",
      "149:\tlearn: 17.5628761\ttotal: 1.12s\tremaining: 0us\n",
      "0:\tlearn: 32.2474290\ttotal: 1.68ms\tremaining: 250ms\n",
      "149:\tlearn: 18.7206537\ttotal: 1.57s\tremaining: 0us\n",
      "0:\tlearn: 33.5200010\ttotal: 1.78ms\tremaining: 266ms\n",
      "149:\tlearn: 19.2751035\ttotal: 2.04s\tremaining: 0us\n",
      "0:\tlearn: 28.5492003\ttotal: 1.07ms\tremaining: 159ms\n",
      "149:\tlearn: 16.1484390\ttotal: 989ms\tremaining: 0us\n",
      "0:\tlearn: 30.5404239\ttotal: 1.33ms\tremaining: 199ms\n",
      "149:\tlearn: 17.5604314\ttotal: 1.22s\tremaining: 0us\n",
      "0:\tlearn: 32.2474290\ttotal: 1.58ms\tremaining: 236ms\n",
      "149:\tlearn: 18.7217182\ttotal: 1.41s\tremaining: 0us\n",
      "0:\tlearn: 33.5200010\ttotal: 1.74ms\tremaining: 260ms\n",
      "149:\tlearn: 19.1835392\ttotal: 1.95s\tremaining: 0us\n"
     ]
    },
    {
     "name": "stdout",
     "output_type": "stream",
     "text": [
      "0:\tlearn: 28.6568181\ttotal: 1.07ms\tremaining: 160ms\n",
      "149:\tlearn: 15.9751268\ttotal: 928ms\tremaining: 0us\n",
      "0:\tlearn: 30.5106649\ttotal: 1.52ms\tremaining: 227ms\n",
      "149:\tlearn: 17.3805001\ttotal: 1.13s\tremaining: 0us\n",
      "0:\tlearn: 32.2961048\ttotal: 1.56ms\tremaining: 233ms\n",
      "149:\tlearn: 18.5632747\ttotal: 1.8s\tremaining: 0us\n",
      "0:\tlearn: 33.5244150\ttotal: 1.74ms\tremaining: 259ms\n",
      "149:\tlearn: 19.1350459\ttotal: 1.87s\tremaining: 0us\n",
      "0:\tlearn: 28.6568181\ttotal: 992us\tremaining: 148ms\n",
      "149:\tlearn: 16.0504762\ttotal: 872ms\tremaining: 0us\n",
      "0:\tlearn: 30.5162635\ttotal: 1.29ms\tremaining: 192ms\n",
      "149:\tlearn: 17.3949185\ttotal: 1s\tremaining: 0us\n",
      "0:\tlearn: 32.2961048\ttotal: 2.69ms\tremaining: 401ms\n",
      "149:\tlearn: 18.5858280\ttotal: 2.09s\tremaining: 0us\n",
      "0:\tlearn: 33.5244150\ttotal: 5.02ms\tremaining: 748ms\n",
      "149:\tlearn: 19.1755601\ttotal: 3.01s\tremaining: 0us\n",
      "0:\tlearn: 28.6568181\ttotal: 1.1ms\tremaining: 165ms\n",
      "149:\tlearn: 15.8907255\ttotal: 912ms\tremaining: 0us\n",
      "0:\tlearn: 30.5162635\ttotal: 1.71ms\tremaining: 255ms\n",
      "149:\tlearn: 17.4138423\ttotal: 1.18s\tremaining: 0us\n",
      "0:\tlearn: 32.2961048\ttotal: 1.57ms\tremaining: 234ms\n",
      "149:\tlearn: 18.5667068\ttotal: 1.42s\tremaining: 0us\n",
      "0:\tlearn: 33.5244150\ttotal: 1.75ms\tremaining: 260ms\n",
      "149:\tlearn: 19.1483083\ttotal: 1.9s\tremaining: 0us\n",
      "0:\tlearn: 28.6568181\ttotal: 1.14ms\tremaining: 169ms\n",
      "149:\tlearn: 15.9612287\ttotal: 842ms\tremaining: 0us\n",
      "0:\tlearn: 30.5245300\ttotal: 1.94ms\tremaining: 289ms\n",
      "149:\tlearn: 17.3940341\ttotal: 1.1s\tremaining: 0us\n",
      "0:\tlearn: 32.2961048\ttotal: 1.51ms\tremaining: 225ms\n",
      "149:\tlearn: 18.5587031\ttotal: 1.63s\tremaining: 0us\n",
      "0:\tlearn: 33.5244150\ttotal: 1.76ms\tremaining: 262ms\n",
      "149:\tlearn: 19.1651445\ttotal: 1.95s\tremaining: 0us\n",
      "0:\tlearn: 28.6568181\ttotal: 1.53ms\tremaining: 228ms\n",
      "149:\tlearn: 16.0391574\ttotal: 889ms\tremaining: 0us\n",
      "0:\tlearn: 30.5292431\ttotal: 1.53ms\tremaining: 228ms\n",
      "149:\tlearn: 17.3791166\ttotal: 1.28s\tremaining: 0us\n",
      "0:\tlearn: 32.2961048\ttotal: 1.54ms\tremaining: 230ms\n",
      "149:\tlearn: 18.6933482\ttotal: 1.66s\tremaining: 0us\n",
      "0:\tlearn: 33.5244150\ttotal: 1.75ms\tremaining: 260ms\n",
      "149:\tlearn: 19.1802896\ttotal: 1.87s\tremaining: 0us\n"
     ]
    }
   ],
   "source": [
    "research = pd.DataFrame(data=data)\n",
    "model_cat = CatBoostRegressor(depth=3,\\\n",
    "                              iterations=150,\\\n",
    "                              l2_leaf_reg=2,\\\n",
    "                              learning_rate=0.05,\\\n",
    "                              random_state=33,\\\n",
    "                              verbose=150,\n",
    "                              cat_features=cat_features)\n",
    "i = 0\n",
    "\n",
    "for max_lag in range(2, 11, 2):\n",
    "    for max_rolling_mean in range(2, 11, 2):\n",
    "        \n",
    "        del df_taxi\n",
    "        df_taxi = make_features(df_h, max_lag, max_rolling_mean)\n",
    "        target_train, features_train, target_test, features_test = split(df_taxi)\n",
    "        \n",
    "        score = abs(cross_val_score(model_cat,\\\n",
    "                                    features_train,\\\n",
    "                                    target_train,\\\n",
    "                                    cv=time_cv(features_train),\\\n",
    "                                    scoring=custom_scorer).mean())\n",
    "        \n",
    "        research.loc[i] = (max_lag, max_rolling_mean, score)\n",
    "        i += 1"
   ]
  },
  {
   "cell_type": "code",
   "execution_count": 33,
   "metadata": {},
   "outputs": [
    {
     "data": {
      "text/html": [
       "<style  type=\"text/css\" >\n",
       "    #T_892b8b40_fcb4_11ea_82b7_02420a391420row18_col2 {\n",
       "            background-color:  lightgreen;\n",
       "        }</style><table id=\"T_892b8b40_fcb4_11ea_82b7_02420a391420\" ><thead>    <tr>        <th class=\"blank level0\" ></th>        <th class=\"col_heading level0 col0\" >max_lag</th>        <th class=\"col_heading level0 col1\" >max_rolling_mean</th>        <th class=\"col_heading level0 col2\" >RMSE</th>    </tr></thead><tbody>\n",
       "                <tr>\n",
       "                        <th id=\"T_892b8b40_fcb4_11ea_82b7_02420a391420level0_row0\" class=\"row_heading level0 row0\" >0</th>\n",
       "                        <td id=\"T_892b8b40_fcb4_11ea_82b7_02420a391420row0_col0\" class=\"data row0 col0\" >2</td>\n",
       "                        <td id=\"T_892b8b40_fcb4_11ea_82b7_02420a391420row0_col1\" class=\"data row0 col1\" >2</td>\n",
       "                        <td id=\"T_892b8b40_fcb4_11ea_82b7_02420a391420row0_col2\" class=\"data row0 col2\" >23.8411</td>\n",
       "            </tr>\n",
       "            <tr>\n",
       "                        <th id=\"T_892b8b40_fcb4_11ea_82b7_02420a391420level0_row1\" class=\"row_heading level0 row1\" >1</th>\n",
       "                        <td id=\"T_892b8b40_fcb4_11ea_82b7_02420a391420row1_col0\" class=\"data row1 col0\" >2</td>\n",
       "                        <td id=\"T_892b8b40_fcb4_11ea_82b7_02420a391420row1_col1\" class=\"data row1 col1\" >4</td>\n",
       "                        <td id=\"T_892b8b40_fcb4_11ea_82b7_02420a391420row1_col2\" class=\"data row1 col2\" >23.629</td>\n",
       "            </tr>\n",
       "            <tr>\n",
       "                        <th id=\"T_892b8b40_fcb4_11ea_82b7_02420a391420level0_row2\" class=\"row_heading level0 row2\" >2</th>\n",
       "                        <td id=\"T_892b8b40_fcb4_11ea_82b7_02420a391420row2_col0\" class=\"data row2 col0\" >2</td>\n",
       "                        <td id=\"T_892b8b40_fcb4_11ea_82b7_02420a391420row2_col1\" class=\"data row2 col1\" >6</td>\n",
       "                        <td id=\"T_892b8b40_fcb4_11ea_82b7_02420a391420row2_col2\" class=\"data row2 col2\" >23.4955</td>\n",
       "            </tr>\n",
       "            <tr>\n",
       "                        <th id=\"T_892b8b40_fcb4_11ea_82b7_02420a391420level0_row3\" class=\"row_heading level0 row3\" >3</th>\n",
       "                        <td id=\"T_892b8b40_fcb4_11ea_82b7_02420a391420row3_col0\" class=\"data row3 col0\" >2</td>\n",
       "                        <td id=\"T_892b8b40_fcb4_11ea_82b7_02420a391420row3_col1\" class=\"data row3 col1\" >8</td>\n",
       "                        <td id=\"T_892b8b40_fcb4_11ea_82b7_02420a391420row3_col2\" class=\"data row3 col2\" >23.326</td>\n",
       "            </tr>\n",
       "            <tr>\n",
       "                        <th id=\"T_892b8b40_fcb4_11ea_82b7_02420a391420level0_row4\" class=\"row_heading level0 row4\" >4</th>\n",
       "                        <td id=\"T_892b8b40_fcb4_11ea_82b7_02420a391420row4_col0\" class=\"data row4 col0\" >2</td>\n",
       "                        <td id=\"T_892b8b40_fcb4_11ea_82b7_02420a391420row4_col1\" class=\"data row4 col1\" >10</td>\n",
       "                        <td id=\"T_892b8b40_fcb4_11ea_82b7_02420a391420row4_col2\" class=\"data row4 col2\" >23.3039</td>\n",
       "            </tr>\n",
       "            <tr>\n",
       "                        <th id=\"T_892b8b40_fcb4_11ea_82b7_02420a391420level0_row5\" class=\"row_heading level0 row5\" >5</th>\n",
       "                        <td id=\"T_892b8b40_fcb4_11ea_82b7_02420a391420row5_col0\" class=\"data row5 col0\" >4</td>\n",
       "                        <td id=\"T_892b8b40_fcb4_11ea_82b7_02420a391420row5_col1\" class=\"data row5 col1\" >2</td>\n",
       "                        <td id=\"T_892b8b40_fcb4_11ea_82b7_02420a391420row5_col2\" class=\"data row5 col2\" >23.5296</td>\n",
       "            </tr>\n",
       "            <tr>\n",
       "                        <th id=\"T_892b8b40_fcb4_11ea_82b7_02420a391420level0_row6\" class=\"row_heading level0 row6\" >6</th>\n",
       "                        <td id=\"T_892b8b40_fcb4_11ea_82b7_02420a391420row6_col0\" class=\"data row6 col0\" >4</td>\n",
       "                        <td id=\"T_892b8b40_fcb4_11ea_82b7_02420a391420row6_col1\" class=\"data row6 col1\" >4</td>\n",
       "                        <td id=\"T_892b8b40_fcb4_11ea_82b7_02420a391420row6_col2\" class=\"data row6 col2\" >23.5554</td>\n",
       "            </tr>\n",
       "            <tr>\n",
       "                        <th id=\"T_892b8b40_fcb4_11ea_82b7_02420a391420level0_row7\" class=\"row_heading level0 row7\" >7</th>\n",
       "                        <td id=\"T_892b8b40_fcb4_11ea_82b7_02420a391420row7_col0\" class=\"data row7 col0\" >4</td>\n",
       "                        <td id=\"T_892b8b40_fcb4_11ea_82b7_02420a391420row7_col1\" class=\"data row7 col1\" >6</td>\n",
       "                        <td id=\"T_892b8b40_fcb4_11ea_82b7_02420a391420row7_col2\" class=\"data row7 col2\" >23.4786</td>\n",
       "            </tr>\n",
       "            <tr>\n",
       "                        <th id=\"T_892b8b40_fcb4_11ea_82b7_02420a391420level0_row8\" class=\"row_heading level0 row8\" >8</th>\n",
       "                        <td id=\"T_892b8b40_fcb4_11ea_82b7_02420a391420row8_col0\" class=\"data row8 col0\" >4</td>\n",
       "                        <td id=\"T_892b8b40_fcb4_11ea_82b7_02420a391420row8_col1\" class=\"data row8 col1\" >8</td>\n",
       "                        <td id=\"T_892b8b40_fcb4_11ea_82b7_02420a391420row8_col2\" class=\"data row8 col2\" >23.2338</td>\n",
       "            </tr>\n",
       "            <tr>\n",
       "                        <th id=\"T_892b8b40_fcb4_11ea_82b7_02420a391420level0_row9\" class=\"row_heading level0 row9\" >9</th>\n",
       "                        <td id=\"T_892b8b40_fcb4_11ea_82b7_02420a391420row9_col0\" class=\"data row9 col0\" >4</td>\n",
       "                        <td id=\"T_892b8b40_fcb4_11ea_82b7_02420a391420row9_col1\" class=\"data row9 col1\" >10</td>\n",
       "                        <td id=\"T_892b8b40_fcb4_11ea_82b7_02420a391420row9_col2\" class=\"data row9 col2\" >23.2506</td>\n",
       "            </tr>\n",
       "            <tr>\n",
       "                        <th id=\"T_892b8b40_fcb4_11ea_82b7_02420a391420level0_row10\" class=\"row_heading level0 row10\" >10</th>\n",
       "                        <td id=\"T_892b8b40_fcb4_11ea_82b7_02420a391420row10_col0\" class=\"data row10 col0\" >6</td>\n",
       "                        <td id=\"T_892b8b40_fcb4_11ea_82b7_02420a391420row10_col1\" class=\"data row10 col1\" >2</td>\n",
       "                        <td id=\"T_892b8b40_fcb4_11ea_82b7_02420a391420row10_col2\" class=\"data row10 col2\" >23.4892</td>\n",
       "            </tr>\n",
       "            <tr>\n",
       "                        <th id=\"T_892b8b40_fcb4_11ea_82b7_02420a391420level0_row11\" class=\"row_heading level0 row11\" >11</th>\n",
       "                        <td id=\"T_892b8b40_fcb4_11ea_82b7_02420a391420row11_col0\" class=\"data row11 col0\" >6</td>\n",
       "                        <td id=\"T_892b8b40_fcb4_11ea_82b7_02420a391420row11_col1\" class=\"data row11 col1\" >4</td>\n",
       "                        <td id=\"T_892b8b40_fcb4_11ea_82b7_02420a391420row11_col2\" class=\"data row11 col2\" >23.5679</td>\n",
       "            </tr>\n",
       "            <tr>\n",
       "                        <th id=\"T_892b8b40_fcb4_11ea_82b7_02420a391420level0_row12\" class=\"row_heading level0 row12\" >12</th>\n",
       "                        <td id=\"T_892b8b40_fcb4_11ea_82b7_02420a391420row12_col0\" class=\"data row12 col0\" >6</td>\n",
       "                        <td id=\"T_892b8b40_fcb4_11ea_82b7_02420a391420row12_col1\" class=\"data row12 col1\" >6</td>\n",
       "                        <td id=\"T_892b8b40_fcb4_11ea_82b7_02420a391420row12_col2\" class=\"data row12 col2\" >23.535</td>\n",
       "            </tr>\n",
       "            <tr>\n",
       "                        <th id=\"T_892b8b40_fcb4_11ea_82b7_02420a391420level0_row13\" class=\"row_heading level0 row13\" >13</th>\n",
       "                        <td id=\"T_892b8b40_fcb4_11ea_82b7_02420a391420row13_col0\" class=\"data row13 col0\" >6</td>\n",
       "                        <td id=\"T_892b8b40_fcb4_11ea_82b7_02420a391420row13_col1\" class=\"data row13 col1\" >8</td>\n",
       "                        <td id=\"T_892b8b40_fcb4_11ea_82b7_02420a391420row13_col2\" class=\"data row13 col2\" >23.2944</td>\n",
       "            </tr>\n",
       "            <tr>\n",
       "                        <th id=\"T_892b8b40_fcb4_11ea_82b7_02420a391420level0_row14\" class=\"row_heading level0 row14\" >14</th>\n",
       "                        <td id=\"T_892b8b40_fcb4_11ea_82b7_02420a391420row14_col0\" class=\"data row14 col0\" >6</td>\n",
       "                        <td id=\"T_892b8b40_fcb4_11ea_82b7_02420a391420row14_col1\" class=\"data row14 col1\" >10</td>\n",
       "                        <td id=\"T_892b8b40_fcb4_11ea_82b7_02420a391420row14_col2\" class=\"data row14 col2\" >23.3573</td>\n",
       "            </tr>\n",
       "            <tr>\n",
       "                        <th id=\"T_892b8b40_fcb4_11ea_82b7_02420a391420level0_row15\" class=\"row_heading level0 row15\" >15</th>\n",
       "                        <td id=\"T_892b8b40_fcb4_11ea_82b7_02420a391420row15_col0\" class=\"data row15 col0\" >8</td>\n",
       "                        <td id=\"T_892b8b40_fcb4_11ea_82b7_02420a391420row15_col1\" class=\"data row15 col1\" >2</td>\n",
       "                        <td id=\"T_892b8b40_fcb4_11ea_82b7_02420a391420row15_col2\" class=\"data row15 col2\" >23.1904</td>\n",
       "            </tr>\n",
       "            <tr>\n",
       "                        <th id=\"T_892b8b40_fcb4_11ea_82b7_02420a391420level0_row16\" class=\"row_heading level0 row16\" >16</th>\n",
       "                        <td id=\"T_892b8b40_fcb4_11ea_82b7_02420a391420row16_col0\" class=\"data row16 col0\" >8</td>\n",
       "                        <td id=\"T_892b8b40_fcb4_11ea_82b7_02420a391420row16_col1\" class=\"data row16 col1\" >4</td>\n",
       "                        <td id=\"T_892b8b40_fcb4_11ea_82b7_02420a391420row16_col2\" class=\"data row16 col2\" >23.1921</td>\n",
       "            </tr>\n",
       "            <tr>\n",
       "                        <th id=\"T_892b8b40_fcb4_11ea_82b7_02420a391420level0_row17\" class=\"row_heading level0 row17\" >17</th>\n",
       "                        <td id=\"T_892b8b40_fcb4_11ea_82b7_02420a391420row17_col0\" class=\"data row17 col0\" >8</td>\n",
       "                        <td id=\"T_892b8b40_fcb4_11ea_82b7_02420a391420row17_col1\" class=\"data row17 col1\" >6</td>\n",
       "                        <td id=\"T_892b8b40_fcb4_11ea_82b7_02420a391420row17_col2\" class=\"data row17 col2\" >23.1301</td>\n",
       "            </tr>\n",
       "            <tr>\n",
       "                        <th id=\"T_892b8b40_fcb4_11ea_82b7_02420a391420level0_row18\" class=\"row_heading level0 row18\" >18</th>\n",
       "                        <td id=\"T_892b8b40_fcb4_11ea_82b7_02420a391420row18_col0\" class=\"data row18 col0\" >8</td>\n",
       "                        <td id=\"T_892b8b40_fcb4_11ea_82b7_02420a391420row18_col1\" class=\"data row18 col1\" >8</td>\n",
       "                        <td id=\"T_892b8b40_fcb4_11ea_82b7_02420a391420row18_col2\" class=\"data row18 col2\" >23.0349</td>\n",
       "            </tr>\n",
       "            <tr>\n",
       "                        <th id=\"T_892b8b40_fcb4_11ea_82b7_02420a391420level0_row19\" class=\"row_heading level0 row19\" >19</th>\n",
       "                        <td id=\"T_892b8b40_fcb4_11ea_82b7_02420a391420row19_col0\" class=\"data row19 col0\" >8</td>\n",
       "                        <td id=\"T_892b8b40_fcb4_11ea_82b7_02420a391420row19_col1\" class=\"data row19 col1\" >10</td>\n",
       "                        <td id=\"T_892b8b40_fcb4_11ea_82b7_02420a391420row19_col2\" class=\"data row19 col2\" >23.0936</td>\n",
       "            </tr>\n",
       "            <tr>\n",
       "                        <th id=\"T_892b8b40_fcb4_11ea_82b7_02420a391420level0_row20\" class=\"row_heading level0 row20\" >20</th>\n",
       "                        <td id=\"T_892b8b40_fcb4_11ea_82b7_02420a391420row20_col0\" class=\"data row20 col0\" >10</td>\n",
       "                        <td id=\"T_892b8b40_fcb4_11ea_82b7_02420a391420row20_col1\" class=\"data row20 col1\" >2</td>\n",
       "                        <td id=\"T_892b8b40_fcb4_11ea_82b7_02420a391420row20_col2\" class=\"data row20 col2\" >23.1086</td>\n",
       "            </tr>\n",
       "            <tr>\n",
       "                        <th id=\"T_892b8b40_fcb4_11ea_82b7_02420a391420level0_row21\" class=\"row_heading level0 row21\" >21</th>\n",
       "                        <td id=\"T_892b8b40_fcb4_11ea_82b7_02420a391420row21_col0\" class=\"data row21 col0\" >10</td>\n",
       "                        <td id=\"T_892b8b40_fcb4_11ea_82b7_02420a391420row21_col1\" class=\"data row21 col1\" >4</td>\n",
       "                        <td id=\"T_892b8b40_fcb4_11ea_82b7_02420a391420row21_col2\" class=\"data row21 col2\" >23.2332</td>\n",
       "            </tr>\n",
       "            <tr>\n",
       "                        <th id=\"T_892b8b40_fcb4_11ea_82b7_02420a391420level0_row22\" class=\"row_heading level0 row22\" >22</th>\n",
       "                        <td id=\"T_892b8b40_fcb4_11ea_82b7_02420a391420row22_col0\" class=\"data row22 col0\" >10</td>\n",
       "                        <td id=\"T_892b8b40_fcb4_11ea_82b7_02420a391420row22_col1\" class=\"data row22 col1\" >6</td>\n",
       "                        <td id=\"T_892b8b40_fcb4_11ea_82b7_02420a391420row22_col2\" class=\"data row22 col2\" >23.0802</td>\n",
       "            </tr>\n",
       "            <tr>\n",
       "                        <th id=\"T_892b8b40_fcb4_11ea_82b7_02420a391420level0_row23\" class=\"row_heading level0 row23\" >23</th>\n",
       "                        <td id=\"T_892b8b40_fcb4_11ea_82b7_02420a391420row23_col0\" class=\"data row23 col0\" >10</td>\n",
       "                        <td id=\"T_892b8b40_fcb4_11ea_82b7_02420a391420row23_col1\" class=\"data row23 col1\" >8</td>\n",
       "                        <td id=\"T_892b8b40_fcb4_11ea_82b7_02420a391420row23_col2\" class=\"data row23 col2\" >23.1513</td>\n",
       "            </tr>\n",
       "            <tr>\n",
       "                        <th id=\"T_892b8b40_fcb4_11ea_82b7_02420a391420level0_row24\" class=\"row_heading level0 row24\" >24</th>\n",
       "                        <td id=\"T_892b8b40_fcb4_11ea_82b7_02420a391420row24_col0\" class=\"data row24 col0\" >10</td>\n",
       "                        <td id=\"T_892b8b40_fcb4_11ea_82b7_02420a391420row24_col1\" class=\"data row24 col1\" >10</td>\n",
       "                        <td id=\"T_892b8b40_fcb4_11ea_82b7_02420a391420row24_col2\" class=\"data row24 col2\" >23.1739</td>\n",
       "            </tr>\n",
       "    </tbody></table>"
      ],
      "text/plain": [
       "<pandas.io.formats.style.Styler at 0x7faee0bb8c10>"
      ]
     },
     "execution_count": 33,
     "metadata": {},
     "output_type": "execute_result"
    }
   ],
   "source": [
    "research.style.highlight_min(['RMSE'],color='lightgreen', axis = 0)"
   ]
  },
  {
   "cell_type": "markdown",
   "metadata": {},
   "source": [
    "Наилучшие показали показала модель с количеством признаков **max_lag** равным 8 и **max_rolling_mean** равным 8. Тем не менее, большиство этих расчётов имеют высокий элемент случайности."
   ]
  },
  {
   "cell_type": "markdown",
   "metadata": {},
   "source": [
    "[Содержание](#title)"
   ]
  },
  {
   "cell_type": "markdown",
   "metadata": {},
   "source": [
    "## 3.3 Обучение модели LightGBM  <a name=\"3.3\"></a>"
   ]
  },
  {
   "cell_type": "code",
   "execution_count": 34,
   "metadata": {},
   "outputs": [],
   "source": [
    "del df_taxi\n",
    "df_taxi = make_features(df_h, 4, 4)\n",
    "target_train, features_train, target_test, features_test = split(df_taxi)\n",
    "\n",
    "for c in cat_features:\n",
    "    features_train[c] = features_train[c].astype('category')\n",
    "    features_test[c] = features_test[c].astype('category')"
   ]
  },
  {
   "cell_type": "code",
   "execution_count": 35,
   "metadata": {},
   "outputs": [
    {
     "name": "stdout",
     "output_type": "stream",
     "text": [
      "CPU times: user 8min 41s, sys: 4.11 s, total: 8min 45s\n",
      "Wall time: 8min 51s\n"
     ]
    },
    {
     "data": {
      "text/plain": [
       "GridSearchCV(cv=<generator object TimeSeriesSplit.split at 0x7faee0b4e4d0>,\n",
       "             error_score='raise-deprecating',\n",
       "             estimator=LGBMRegressor(boosting_type='gbdt', class_weight=None,\n",
       "                                     colsample_bytree=1.0,\n",
       "                                     importance_type='split', learning_rate=0.1,\n",
       "                                     max_depth=-1, min_child_samples=20,\n",
       "                                     min_child_weight=0.001, min_split_gain=0.0,\n",
       "                                     n_estimators=100, n_jobs=-1, num_leaves=31,\n",
       "                                     obje...\n",
       "                                     reg_alpha=0.0, reg_lambda=0.0, silent=True,\n",
       "                                     subsample=1.0, subsample_for_bin=200000,\n",
       "                                     subsample_freq=0),\n",
       "             iid='warn', n_jobs=None,\n",
       "             param_grid={'depth': [3, 4, 6, 10], 'feature_fraction': [0.5, 1],\n",
       "                         'learning_rate': [0.03, 0.1, 0.2],\n",
       "                         'num_leaves': [30, 50, 80], 'random_state': [33]},\n",
       "             pre_dispatch='2*n_jobs', refit=True, return_train_score=False,\n",
       "             scoring=make_scorer(rmse, greater_is_better=False), verbose=0)"
      ]
     },
     "execution_count": 35,
     "metadata": {},
     "output_type": "execute_result"
    }
   ],
   "source": [
    "%%time\n",
    "model = lgb.LGBMRegressor()\n",
    "\n",
    "grid = {'learning_rate': [0.03, 0.1, 0.2],\n",
    "        'depth': [3, 4, 6, 10],\n",
    "        'num_leaves': [30, 50, 80],\n",
    "        'feature_fraction': [0.5, 1],\n",
    "        'random_state': [RNG]}\n",
    "\n",
    "    \n",
    "grid = GridSearchCV(estimator=model, param_grid = grid, scoring=custom_scorer, cv=time_cv(features_train))\n",
    "grid.fit(features_train, target_train)"
   ]
  },
  {
   "cell_type": "code",
   "execution_count": 36,
   "metadata": {},
   "outputs": [
    {
     "name": "stdout",
     "output_type": "stream",
     "text": [
      "\n",
      "========================================================\n",
      " Results from Random Search \n",
      "========================================================\n",
      "\n",
      " The best score across ALL searched params:\n",
      " 24.29805871075068\n",
      "\n",
      " The best parameters across ALL searched params:\n",
      " {'depth': 3, 'feature_fraction': 0.5, 'learning_rate': 0.03, 'num_leaves': 50, 'random_state': 33}\n",
      "\n",
      " ========================================================\n"
     ]
    }
   ],
   "source": [
    "print(\"\\n========================================================\")\n",
    "print(\" Results from Random Search \" )\n",
    "print(\"========================================================\")    \n",
    "    \n",
    "print(\"\\n The best score across ALL searched params:\\n\", abs(grid.best_score_))\n",
    "    \n",
    "print(\"\\n The best parameters across ALL searched params:\\n\", grid.best_params_)\n",
    "    \n",
    "print(\"\\n ========================================================\")"
   ]
  },
  {
   "cell_type": "markdown",
   "metadata": {},
   "source": [
    "Полученная модель входит в заданные рамки точности, но другие модели показывают точность выше. Попробуем изменить количество признаков с выбранными гиперпараметрами"
   ]
  },
  {
   "cell_type": "code",
   "execution_count": 37,
   "metadata": {},
   "outputs": [],
   "source": [
    "research = pd.DataFrame(data=data)\n",
    "model_lgbm = lgb.LGBMRegressor(depth=3,\\\n",
    "                              num_leaves=50,\\\n",
    "                              learning_rate=0.03,\\\n",
    "                              random_state=33,\\\n",
    "                              feature_fraction=0.5)\n",
    "\n",
    "i = 0\n",
    "\n",
    "for max_lag in range(2, 11, 2):\n",
    "    for max_rolling_mean in range(2, 11, 2):\n",
    "        \n",
    "        del df_taxi\n",
    "        df_taxi = make_features(df_h, max_lag, max_rolling_mean)\n",
    "        target_train, features_train, target_test, features_test = split(df_taxi)\n",
    "        \n",
    "        score = abs(cross_val_score(model_lgbm,\\\n",
    "                                    features_train,\\\n",
    "                                    target_train,\\\n",
    "                                    cv=time_cv(features_train),\\\n",
    "                                    scoring=custom_scorer).mean())\n",
    "        \n",
    "        research.loc[i] = (max_lag, max_rolling_mean, score)\n",
    "        i += 1"
   ]
  },
  {
   "cell_type": "code",
   "execution_count": 38,
   "metadata": {},
   "outputs": [
    {
     "data": {
      "text/html": [
       "<style  type=\"text/css\" >\n",
       "    #T_5fc2ef30_fcb6_11ea_82b7_02420a391420row18_col2 {\n",
       "            background-color:  lightgreen;\n",
       "        }</style><table id=\"T_5fc2ef30_fcb6_11ea_82b7_02420a391420\" ><thead>    <tr>        <th class=\"blank level0\" ></th>        <th class=\"col_heading level0 col0\" >max_lag</th>        <th class=\"col_heading level0 col1\" >max_rolling_mean</th>        <th class=\"col_heading level0 col2\" >RMSE</th>    </tr></thead><tbody>\n",
       "                <tr>\n",
       "                        <th id=\"T_5fc2ef30_fcb6_11ea_82b7_02420a391420level0_row0\" class=\"row_heading level0 row0\" >0</th>\n",
       "                        <td id=\"T_5fc2ef30_fcb6_11ea_82b7_02420a391420row0_col0\" class=\"data row0 col0\" >2</td>\n",
       "                        <td id=\"T_5fc2ef30_fcb6_11ea_82b7_02420a391420row0_col1\" class=\"data row0 col1\" >2</td>\n",
       "                        <td id=\"T_5fc2ef30_fcb6_11ea_82b7_02420a391420row0_col2\" class=\"data row0 col2\" >23.9134</td>\n",
       "            </tr>\n",
       "            <tr>\n",
       "                        <th id=\"T_5fc2ef30_fcb6_11ea_82b7_02420a391420level0_row1\" class=\"row_heading level0 row1\" >1</th>\n",
       "                        <td id=\"T_5fc2ef30_fcb6_11ea_82b7_02420a391420row1_col0\" class=\"data row1 col0\" >2</td>\n",
       "                        <td id=\"T_5fc2ef30_fcb6_11ea_82b7_02420a391420row1_col1\" class=\"data row1 col1\" >4</td>\n",
       "                        <td id=\"T_5fc2ef30_fcb6_11ea_82b7_02420a391420row1_col2\" class=\"data row1 col2\" >23.8374</td>\n",
       "            </tr>\n",
       "            <tr>\n",
       "                        <th id=\"T_5fc2ef30_fcb6_11ea_82b7_02420a391420level0_row2\" class=\"row_heading level0 row2\" >2</th>\n",
       "                        <td id=\"T_5fc2ef30_fcb6_11ea_82b7_02420a391420row2_col0\" class=\"data row2 col0\" >2</td>\n",
       "                        <td id=\"T_5fc2ef30_fcb6_11ea_82b7_02420a391420row2_col1\" class=\"data row2 col1\" >6</td>\n",
       "                        <td id=\"T_5fc2ef30_fcb6_11ea_82b7_02420a391420row2_col2\" class=\"data row2 col2\" >23.6125</td>\n",
       "            </tr>\n",
       "            <tr>\n",
       "                        <th id=\"T_5fc2ef30_fcb6_11ea_82b7_02420a391420level0_row3\" class=\"row_heading level0 row3\" >3</th>\n",
       "                        <td id=\"T_5fc2ef30_fcb6_11ea_82b7_02420a391420row3_col0\" class=\"data row3 col0\" >2</td>\n",
       "                        <td id=\"T_5fc2ef30_fcb6_11ea_82b7_02420a391420row3_col1\" class=\"data row3 col1\" >8</td>\n",
       "                        <td id=\"T_5fc2ef30_fcb6_11ea_82b7_02420a391420row3_col2\" class=\"data row3 col2\" >23.3731</td>\n",
       "            </tr>\n",
       "            <tr>\n",
       "                        <th id=\"T_5fc2ef30_fcb6_11ea_82b7_02420a391420level0_row4\" class=\"row_heading level0 row4\" >4</th>\n",
       "                        <td id=\"T_5fc2ef30_fcb6_11ea_82b7_02420a391420row4_col0\" class=\"data row4 col0\" >2</td>\n",
       "                        <td id=\"T_5fc2ef30_fcb6_11ea_82b7_02420a391420row4_col1\" class=\"data row4 col1\" >10</td>\n",
       "                        <td id=\"T_5fc2ef30_fcb6_11ea_82b7_02420a391420row4_col2\" class=\"data row4 col2\" >23.4562</td>\n",
       "            </tr>\n",
       "            <tr>\n",
       "                        <th id=\"T_5fc2ef30_fcb6_11ea_82b7_02420a391420level0_row5\" class=\"row_heading level0 row5\" >5</th>\n",
       "                        <td id=\"T_5fc2ef30_fcb6_11ea_82b7_02420a391420row5_col0\" class=\"data row5 col0\" >4</td>\n",
       "                        <td id=\"T_5fc2ef30_fcb6_11ea_82b7_02420a391420row5_col1\" class=\"data row5 col1\" >2</td>\n",
       "                        <td id=\"T_5fc2ef30_fcb6_11ea_82b7_02420a391420row5_col2\" class=\"data row5 col2\" >23.8469</td>\n",
       "            </tr>\n",
       "            <tr>\n",
       "                        <th id=\"T_5fc2ef30_fcb6_11ea_82b7_02420a391420level0_row6\" class=\"row_heading level0 row6\" >6</th>\n",
       "                        <td id=\"T_5fc2ef30_fcb6_11ea_82b7_02420a391420row6_col0\" class=\"data row6 col0\" >4</td>\n",
       "                        <td id=\"T_5fc2ef30_fcb6_11ea_82b7_02420a391420row6_col1\" class=\"data row6 col1\" >4</td>\n",
       "                        <td id=\"T_5fc2ef30_fcb6_11ea_82b7_02420a391420row6_col2\" class=\"data row6 col2\" >23.8183</td>\n",
       "            </tr>\n",
       "            <tr>\n",
       "                        <th id=\"T_5fc2ef30_fcb6_11ea_82b7_02420a391420level0_row7\" class=\"row_heading level0 row7\" >7</th>\n",
       "                        <td id=\"T_5fc2ef30_fcb6_11ea_82b7_02420a391420row7_col0\" class=\"data row7 col0\" >4</td>\n",
       "                        <td id=\"T_5fc2ef30_fcb6_11ea_82b7_02420a391420row7_col1\" class=\"data row7 col1\" >6</td>\n",
       "                        <td id=\"T_5fc2ef30_fcb6_11ea_82b7_02420a391420row7_col2\" class=\"data row7 col2\" >23.6081</td>\n",
       "            </tr>\n",
       "            <tr>\n",
       "                        <th id=\"T_5fc2ef30_fcb6_11ea_82b7_02420a391420level0_row8\" class=\"row_heading level0 row8\" >8</th>\n",
       "                        <td id=\"T_5fc2ef30_fcb6_11ea_82b7_02420a391420row8_col0\" class=\"data row8 col0\" >4</td>\n",
       "                        <td id=\"T_5fc2ef30_fcb6_11ea_82b7_02420a391420row8_col1\" class=\"data row8 col1\" >8</td>\n",
       "                        <td id=\"T_5fc2ef30_fcb6_11ea_82b7_02420a391420row8_col2\" class=\"data row8 col2\" >23.3723</td>\n",
       "            </tr>\n",
       "            <tr>\n",
       "                        <th id=\"T_5fc2ef30_fcb6_11ea_82b7_02420a391420level0_row9\" class=\"row_heading level0 row9\" >9</th>\n",
       "                        <td id=\"T_5fc2ef30_fcb6_11ea_82b7_02420a391420row9_col0\" class=\"data row9 col0\" >4</td>\n",
       "                        <td id=\"T_5fc2ef30_fcb6_11ea_82b7_02420a391420row9_col1\" class=\"data row9 col1\" >10</td>\n",
       "                        <td id=\"T_5fc2ef30_fcb6_11ea_82b7_02420a391420row9_col2\" class=\"data row9 col2\" >23.4508</td>\n",
       "            </tr>\n",
       "            <tr>\n",
       "                        <th id=\"T_5fc2ef30_fcb6_11ea_82b7_02420a391420level0_row10\" class=\"row_heading level0 row10\" >10</th>\n",
       "                        <td id=\"T_5fc2ef30_fcb6_11ea_82b7_02420a391420row10_col0\" class=\"data row10 col0\" >6</td>\n",
       "                        <td id=\"T_5fc2ef30_fcb6_11ea_82b7_02420a391420row10_col1\" class=\"data row10 col1\" >2</td>\n",
       "                        <td id=\"T_5fc2ef30_fcb6_11ea_82b7_02420a391420row10_col2\" class=\"data row10 col2\" >23.7841</td>\n",
       "            </tr>\n",
       "            <tr>\n",
       "                        <th id=\"T_5fc2ef30_fcb6_11ea_82b7_02420a391420level0_row11\" class=\"row_heading level0 row11\" >11</th>\n",
       "                        <td id=\"T_5fc2ef30_fcb6_11ea_82b7_02420a391420row11_col0\" class=\"data row11 col0\" >6</td>\n",
       "                        <td id=\"T_5fc2ef30_fcb6_11ea_82b7_02420a391420row11_col1\" class=\"data row11 col1\" >4</td>\n",
       "                        <td id=\"T_5fc2ef30_fcb6_11ea_82b7_02420a391420row11_col2\" class=\"data row11 col2\" >23.7512</td>\n",
       "            </tr>\n",
       "            <tr>\n",
       "                        <th id=\"T_5fc2ef30_fcb6_11ea_82b7_02420a391420level0_row12\" class=\"row_heading level0 row12\" >12</th>\n",
       "                        <td id=\"T_5fc2ef30_fcb6_11ea_82b7_02420a391420row12_col0\" class=\"data row12 col0\" >6</td>\n",
       "                        <td id=\"T_5fc2ef30_fcb6_11ea_82b7_02420a391420row12_col1\" class=\"data row12 col1\" >6</td>\n",
       "                        <td id=\"T_5fc2ef30_fcb6_11ea_82b7_02420a391420row12_col2\" class=\"data row12 col2\" >23.6433</td>\n",
       "            </tr>\n",
       "            <tr>\n",
       "                        <th id=\"T_5fc2ef30_fcb6_11ea_82b7_02420a391420level0_row13\" class=\"row_heading level0 row13\" >13</th>\n",
       "                        <td id=\"T_5fc2ef30_fcb6_11ea_82b7_02420a391420row13_col0\" class=\"data row13 col0\" >6</td>\n",
       "                        <td id=\"T_5fc2ef30_fcb6_11ea_82b7_02420a391420row13_col1\" class=\"data row13 col1\" >8</td>\n",
       "                        <td id=\"T_5fc2ef30_fcb6_11ea_82b7_02420a391420row13_col2\" class=\"data row13 col2\" >23.3939</td>\n",
       "            </tr>\n",
       "            <tr>\n",
       "                        <th id=\"T_5fc2ef30_fcb6_11ea_82b7_02420a391420level0_row14\" class=\"row_heading level0 row14\" >14</th>\n",
       "                        <td id=\"T_5fc2ef30_fcb6_11ea_82b7_02420a391420row14_col0\" class=\"data row14 col0\" >6</td>\n",
       "                        <td id=\"T_5fc2ef30_fcb6_11ea_82b7_02420a391420row14_col1\" class=\"data row14 col1\" >10</td>\n",
       "                        <td id=\"T_5fc2ef30_fcb6_11ea_82b7_02420a391420row14_col2\" class=\"data row14 col2\" >23.4956</td>\n",
       "            </tr>\n",
       "            <tr>\n",
       "                        <th id=\"T_5fc2ef30_fcb6_11ea_82b7_02420a391420level0_row15\" class=\"row_heading level0 row15\" >15</th>\n",
       "                        <td id=\"T_5fc2ef30_fcb6_11ea_82b7_02420a391420row15_col0\" class=\"data row15 col0\" >8</td>\n",
       "                        <td id=\"T_5fc2ef30_fcb6_11ea_82b7_02420a391420row15_col1\" class=\"data row15 col1\" >2</td>\n",
       "                        <td id=\"T_5fc2ef30_fcb6_11ea_82b7_02420a391420row15_col2\" class=\"data row15 col2\" >23.3808</td>\n",
       "            </tr>\n",
       "            <tr>\n",
       "                        <th id=\"T_5fc2ef30_fcb6_11ea_82b7_02420a391420level0_row16\" class=\"row_heading level0 row16\" >16</th>\n",
       "                        <td id=\"T_5fc2ef30_fcb6_11ea_82b7_02420a391420row16_col0\" class=\"data row16 col0\" >8</td>\n",
       "                        <td id=\"T_5fc2ef30_fcb6_11ea_82b7_02420a391420row16_col1\" class=\"data row16 col1\" >4</td>\n",
       "                        <td id=\"T_5fc2ef30_fcb6_11ea_82b7_02420a391420row16_col2\" class=\"data row16 col2\" >23.4132</td>\n",
       "            </tr>\n",
       "            <tr>\n",
       "                        <th id=\"T_5fc2ef30_fcb6_11ea_82b7_02420a391420level0_row17\" class=\"row_heading level0 row17\" >17</th>\n",
       "                        <td id=\"T_5fc2ef30_fcb6_11ea_82b7_02420a391420row17_col0\" class=\"data row17 col0\" >8</td>\n",
       "                        <td id=\"T_5fc2ef30_fcb6_11ea_82b7_02420a391420row17_col1\" class=\"data row17 col1\" >6</td>\n",
       "                        <td id=\"T_5fc2ef30_fcb6_11ea_82b7_02420a391420row17_col2\" class=\"data row17 col2\" >23.3369</td>\n",
       "            </tr>\n",
       "            <tr>\n",
       "                        <th id=\"T_5fc2ef30_fcb6_11ea_82b7_02420a391420level0_row18\" class=\"row_heading level0 row18\" >18</th>\n",
       "                        <td id=\"T_5fc2ef30_fcb6_11ea_82b7_02420a391420row18_col0\" class=\"data row18 col0\" >8</td>\n",
       "                        <td id=\"T_5fc2ef30_fcb6_11ea_82b7_02420a391420row18_col1\" class=\"data row18 col1\" >8</td>\n",
       "                        <td id=\"T_5fc2ef30_fcb6_11ea_82b7_02420a391420row18_col2\" class=\"data row18 col2\" >23.2044</td>\n",
       "            </tr>\n",
       "            <tr>\n",
       "                        <th id=\"T_5fc2ef30_fcb6_11ea_82b7_02420a391420level0_row19\" class=\"row_heading level0 row19\" >19</th>\n",
       "                        <td id=\"T_5fc2ef30_fcb6_11ea_82b7_02420a391420row19_col0\" class=\"data row19 col0\" >8</td>\n",
       "                        <td id=\"T_5fc2ef30_fcb6_11ea_82b7_02420a391420row19_col1\" class=\"data row19 col1\" >10</td>\n",
       "                        <td id=\"T_5fc2ef30_fcb6_11ea_82b7_02420a391420row19_col2\" class=\"data row19 col2\" >23.2696</td>\n",
       "            </tr>\n",
       "            <tr>\n",
       "                        <th id=\"T_5fc2ef30_fcb6_11ea_82b7_02420a391420level0_row20\" class=\"row_heading level0 row20\" >20</th>\n",
       "                        <td id=\"T_5fc2ef30_fcb6_11ea_82b7_02420a391420row20_col0\" class=\"data row20 col0\" >10</td>\n",
       "                        <td id=\"T_5fc2ef30_fcb6_11ea_82b7_02420a391420row20_col1\" class=\"data row20 col1\" >2</td>\n",
       "                        <td id=\"T_5fc2ef30_fcb6_11ea_82b7_02420a391420row20_col2\" class=\"data row20 col2\" >23.64</td>\n",
       "            </tr>\n",
       "            <tr>\n",
       "                        <th id=\"T_5fc2ef30_fcb6_11ea_82b7_02420a391420level0_row21\" class=\"row_heading level0 row21\" >21</th>\n",
       "                        <td id=\"T_5fc2ef30_fcb6_11ea_82b7_02420a391420row21_col0\" class=\"data row21 col0\" >10</td>\n",
       "                        <td id=\"T_5fc2ef30_fcb6_11ea_82b7_02420a391420row21_col1\" class=\"data row21 col1\" >4</td>\n",
       "                        <td id=\"T_5fc2ef30_fcb6_11ea_82b7_02420a391420row21_col2\" class=\"data row21 col2\" >23.6224</td>\n",
       "            </tr>\n",
       "            <tr>\n",
       "                        <th id=\"T_5fc2ef30_fcb6_11ea_82b7_02420a391420level0_row22\" class=\"row_heading level0 row22\" >22</th>\n",
       "                        <td id=\"T_5fc2ef30_fcb6_11ea_82b7_02420a391420row22_col0\" class=\"data row22 col0\" >10</td>\n",
       "                        <td id=\"T_5fc2ef30_fcb6_11ea_82b7_02420a391420row22_col1\" class=\"data row22 col1\" >6</td>\n",
       "                        <td id=\"T_5fc2ef30_fcb6_11ea_82b7_02420a391420row22_col2\" class=\"data row22 col2\" >23.4752</td>\n",
       "            </tr>\n",
       "            <tr>\n",
       "                        <th id=\"T_5fc2ef30_fcb6_11ea_82b7_02420a391420level0_row23\" class=\"row_heading level0 row23\" >23</th>\n",
       "                        <td id=\"T_5fc2ef30_fcb6_11ea_82b7_02420a391420row23_col0\" class=\"data row23 col0\" >10</td>\n",
       "                        <td id=\"T_5fc2ef30_fcb6_11ea_82b7_02420a391420row23_col1\" class=\"data row23 col1\" >8</td>\n",
       "                        <td id=\"T_5fc2ef30_fcb6_11ea_82b7_02420a391420row23_col2\" class=\"data row23 col2\" >23.4925</td>\n",
       "            </tr>\n",
       "            <tr>\n",
       "                        <th id=\"T_5fc2ef30_fcb6_11ea_82b7_02420a391420level0_row24\" class=\"row_heading level0 row24\" >24</th>\n",
       "                        <td id=\"T_5fc2ef30_fcb6_11ea_82b7_02420a391420row24_col0\" class=\"data row24 col0\" >10</td>\n",
       "                        <td id=\"T_5fc2ef30_fcb6_11ea_82b7_02420a391420row24_col1\" class=\"data row24 col1\" >10</td>\n",
       "                        <td id=\"T_5fc2ef30_fcb6_11ea_82b7_02420a391420row24_col2\" class=\"data row24 col2\" >23.4467</td>\n",
       "            </tr>\n",
       "    </tbody></table>"
      ],
      "text/plain": [
       "<pandas.io.formats.style.Styler at 0x7faee0acfe90>"
      ]
     },
     "execution_count": 38,
     "metadata": {},
     "output_type": "execute_result"
    }
   ],
   "source": [
    "research.style.highlight_min(['RMSE'],color='lightgreen', axis = 0)"
   ]
  },
  {
   "cell_type": "markdown",
   "metadata": {},
   "source": [
    "Метрика **RMSE** стала намного лучше, но хуже чем у модели **CatBoostRegressor**"
   ]
  },
  {
   "cell_type": "markdown",
   "metadata": {},
   "source": [
    "[Содержание](#title)"
   ]
  },
  {
   "cell_type": "markdown",
   "metadata": {},
   "source": [
    "# 4. Тестирование <a name=\"4\"></a>"
   ]
  },
  {
   "cell_type": "markdown",
   "metadata": {},
   "source": [
    "Так как определение нагрузки происходит раз в час, а не требуется постоянно, то перед нами не стоит серьёзной задачи в сокращении времени обучения и предсказания. Наиболее определяющей выберем заданную заказчиком метрику **RMSE**"
   ]
  },
  {
   "cell_type": "markdown",
   "metadata": {},
   "source": [
    "Самые высокие показатели метрики **RMSE** на валидационной выборке показала модель **CatBoostRegressor**  гиперпараметрами подобранными методом **GridSearch**"
   ]
  },
  {
   "cell_type": "markdown",
   "metadata": {},
   "source": [
    "Для последующего тестирования обучим модель с заданнами гиперпараметрами заново на дополненой выборке"
   ]
  },
  {
   "cell_type": "markdown",
   "metadata": {},
   "source": [
    "Сформируем дополненную выборку"
   ]
  },
  {
   "cell_type": "code",
   "execution_count": 39,
   "metadata": {},
   "outputs": [
    {
     "name": "stdout",
     "output_type": "stream",
     "text": [
      "Размер обучающей выборки: 2018-03-08 00:00:00 2018-08-13 13:00:00\n",
      "Размер тестовой выборки: 2018-08-13 14:00:00 2018-08-31 23:00:00\n"
     ]
    }
   ],
   "source": [
    "del df_taxi\n",
    "df_taxi = make_features(df_h, 8, 8)\n",
    "target_train, features_train, target_test, features_test = split(df_taxi)\n",
    "\n",
    "print('Размер обучающей выборки:', target_train.index.min(), target_train.index.max())\n",
    "print('Размер тестовой выборки:', target_test.index.min(), target_test.index.max())"
   ]
  },
  {
   "cell_type": "markdown",
   "metadata": {},
   "source": [
    "Обучим модель"
   ]
  },
  {
   "cell_type": "code",
   "execution_count": 40,
   "metadata": {},
   "outputs": [
    {
     "name": "stdout",
     "output_type": "stream",
     "text": [
      "0:\tlearn: 37.6740132\ttotal: 2.88ms\tremaining: 430ms\n",
      "149:\tlearn: 20.8008444\ttotal: 3.18s\tremaining: 0us\n",
      "CPU times: user 2.82 s, sys: 579 ms, total: 3.4 s\n",
      "Wall time: 4.51 s\n"
     ]
    },
    {
     "data": {
      "text/plain": [
       "<catboost.core.CatBoostRegressor at 0x7faee0a7b310>"
      ]
     },
     "execution_count": 40,
     "metadata": {},
     "output_type": "execute_result"
    }
   ],
   "source": [
    "%%time\n",
    "model_cat = CatBoostRegressor(depth=3,\\\n",
    "                              iterations=150,\\\n",
    "                              l2_leaf_reg=2,\\\n",
    "                              learning_rate=0.05,\\\n",
    "                              random_state=33,\\\n",
    "                              verbose=150,\n",
    "                              cat_features=cat_features)\n",
    "\n",
    "model_cat.fit(features_train, target_train)"
   ]
  },
  {
   "cell_type": "code",
   "execution_count": 41,
   "metadata": {},
   "outputs": [
    {
     "name": "stdout",
     "output_type": "stream",
     "text": [
      "Время предсказания:\n",
      "CPU times: user 9.13 ms, sys: 4.45 ms, total: 13.6 ms\n",
      "Wall time: 8.1 ms\n"
     ]
    }
   ],
   "source": [
    "%%time\n",
    "print('Время предсказания:')\n",
    "predicted_cat = model_cat.predict(features_test)"
   ]
  },
  {
   "cell_type": "code",
   "execution_count": 42,
   "metadata": {},
   "outputs": [
    {
     "name": "stdout",
     "output_type": "stream",
     "text": [
      "Для модели CatBoostRegressor значение RMSE на тестовой выборке равно: 41.71451095547906\n"
     ]
    }
   ],
   "source": [
    "print('Для модели CatBoostRegressor значение RMSE на тестовой выборке равно:', rmse(target_test, predicted_cat))"
   ]
  },
  {
   "cell_type": "markdown",
   "metadata": {},
   "source": [
    "Значение метрики **RMSE** входит в заданные рамки. Модель годится для использования"
   ]
  },
  {
   "cell_type": "markdown",
   "metadata": {},
   "source": [
    "[Содержание](#title)"
   ]
  },
  {
   "cell_type": "code",
   "execution_count": 43,
   "metadata": {},
   "outputs": [
    {
     "data": {
      "text/plain": [
       "35.88169858310787"
      ]
     },
     "execution_count": 43,
     "metadata": {},
     "output_type": "execute_result"
    }
   ],
   "source": [
    "# примечание\n",
    "t = np.arrange\n",
    "\n",
    "model_logistic_2 = LinearRegression()\n",
    "model_logistic_2.fit(features_train, target_train)\n",
    "predicted_lg = model_logistic_2.predict(features_test)\n",
    "rmse(target_test, predicted_lg)"
   ]
  },
  {
   "cell_type": "code",
   "execution_count": null,
   "metadata": {},
   "outputs": [],
   "source": [
    "target_train"
   ]
  },
  {
   "cell_type": "markdown",
   "metadata": {},
   "source": [
    "# Чек-лист проверки"
   ]
  },
 ],
 "metadata": {
  "kernelspec": {
   "display_name": "Python 3",
   "language": "python",
   "name": "python3"
  },
  "language_info": {
   "codemirror_mode": {
    "name": "ipython",
    "version": 3
   },
   "file_extension": ".py",
   "mimetype": "text/x-python",
   "name": "python",
   "nbconvert_exporter": "python",
   "pygments_lexer": "ipython3",
   "version": "3.7.6"
  }
 },
 "nbformat": 4,
 "nbformat_minor": 2
}
