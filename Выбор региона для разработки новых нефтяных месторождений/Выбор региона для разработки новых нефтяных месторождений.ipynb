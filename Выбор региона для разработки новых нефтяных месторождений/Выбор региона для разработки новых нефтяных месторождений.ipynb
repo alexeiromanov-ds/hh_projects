{
 "cells": [
  {
   "cell_type": "markdown",
   "metadata": {},
   "source": [
    "# Описание проекта\n",
    "\n",
    "Добывающей компании «ГлавРосГосНефть» нужно решить, где бурить новую скважину.\n",
    "\n",
    "Собраны характеристики пробы нефти для скважин: качество нефти и объём её запасов по трем регионам. Характеристики для каждой скважины в регионе уже известны. \n",
    "\n",
    "Построена модель для предсказания объёма запасов в новых скважинах.\n",
    "Выбраны скважины с самыми высокими оценками значений.\n",
    "\n",
    "Определены регионы с максимальной суммарной прибылью отобранных скважин.\n",
    "\n",
    "Построена модель для определения региона, где добыча принесёт наибольшую прибыль. \n",
    "\n",
    "Проанализирована возможная прибыль и риски техникой `Bootstrap`.\n",
    "\n",
    "### Задачи проекта\n",
    "Разработка модели, предсказывающей коэффициент восстановления золота из золотосодержащей руды. \n",
    "\n",
    "* При разведке региона исследуют 500 точек, из которых выбирают 200 лучших для расчёта прибыли.\n",
    "* Бюджет на разработку скважин в регионе — 10 млрд рублей.\n",
    "* Один баррель сырья приносит 450 рублей дохода. Доход с каждой единицы продукта составляет 450 тыс. рублей, поскольку объём указан в тысячах баррелей.\n",
    "* После оценки рисков нужно оставить лишь те регионы, в которых вероятность убытков меньше 5%. Среди них выбирают регион с наибольшей средней прибылью.\n",
    "\n",
    "### Ключевые слова и навыки\n",
    "\n",
    "`A/B-тестирование, Bootstrap, data science, machine learning, ML, Python, SQL, Git, Pandas, Numpy, Matplotlib, seaborn, Sklearn, Tableau, Spark, Hadoop, R, sci-py, Research, Kaggle, Algorithms, PyTorch, TensorFlow, CatBoost, xgboost,  Support vector machines, градиентный бустинг, нелинейная оптимизация, кластеризация, random forest, descision trees,  regression,  Reinforcement Learning, OpenCV, PIL`\n",
    "\n",
    "### Описание данных\n",
    "\n",
    "* `id` — уникальный идентификатор скважины;\n",
    "* `f0, f1, f2` — три признака точек (неважно, что они означают, но сами признаки значимы);\n",
    "* `product` — объём запасов в скважине (тыс. баррелей)\n",
    "\n",
    "# Содержание <a name=\"title\"></a>\n",
    "\n",
    "[Импорт библиотек и задание констант](#import)\n",
    "1. [Загрузка и подготовка данных](#1)\n",
    "\n",
    "    1.1 [Подготовка региона alpha](#1.1)\n",
    "    \n",
    "    1.2 [Подготовка региона beta](#1.2)\n",
    "    \n",
    "    1.3 [Подготовка региона gamma](#1.3)\n",
    "    \n",
    " \n",
    "2. [Обучение и проверка модели](#2)\n",
    "\n",
    "    2.1 [Обучение и проверка региона alpha](#2.1)\n",
    "    \n",
    "    2.2 [Обучение и проверка региона beta](#2.2)\n",
    "    \n",
    "    2.3 [Обучение и проверка региона gamma](#2.3)\n",
    "    \n",
    "    \n",
    "3. [Подготовка к расчёту прибыли](#3)\n",
    "\n",
    "\n",
    "4. [Расчёт прибыли по выбранным скважинам](#4)\n",
    "\n",
    "\n",
    "5. [Расчёт рисков и прибыли для каждого региона](#5)"
   ]
  },
  {
   "cell_type": "markdown",
   "metadata": {},
   "source": [
    "# Импорт библиотек и задание констант <a name=\"import\"></a>"
   ]
  },
  {
   "cell_type": "code",
   "execution_count": 1,
   "metadata": {},
   "outputs": [],
   "source": [
    "import pandas as pd\n",
    "from IPython.display import display\n",
    "import inspect\n",
    "from sklearn.model_selection import train_test_split\n",
    "from sklearn.linear_model import LinearRegression\n",
    "from sklearn.metrics import mean_squared_error\n",
    "import seaborn as sns\n",
    "import matplotlib.pyplot as plt\n",
    "import numpy as np\n",
    "from scipy import stats as st\n",
    "\n",
    "RNG = 123 # константа для random_state"
   ]
  },
  {
   "cell_type": "markdown",
   "metadata": {},
   "source": [
    "[Содержание](#title)"
   ]
  },
  {
   "cell_type": "markdown",
   "metadata": {},
   "source": [
    "# 1. Загрузка и подготовка данных <a name=\"1\"></a>"
   ]
  },
  {
   "cell_type": "markdown",
   "metadata": {},
   "source": [
    "Загрузим данные геолокации и зададим названия для регионов **alpha, beta, gamma**"
   ]
  },
  {
   "cell_type": "code",
   "execution_count": 2,
   "metadata": {},
   "outputs": [],
   "source": [
    "alpha = pd.read_csv('/datasets/geo_data_0.csv')\n",
    "beta = pd.read_csv('/datasets/geo_data_1.csv')\n",
    "gamma = pd.read_csv('/datasets/geo_data_2.csv')"
   ]
  },
  {
   "cell_type": "markdown",
   "metadata": {},
   "source": [
    "Создадим классы и функции необходимые для удобного ознакомления с информацией"
   ]
  },
  {
   "cell_type": "code",
   "execution_count": 3,
   "metadata": {},
   "outputs": [],
   "source": [
    "class Explorer:\n",
    "    class show(object):\n",
    "        template = \"\"\"<div style=\"float: left; padding: 10px;\">\n",
    "        <p style='font-family:\"Courier New\", Courier, monospace'>{0}</p>{1}\n",
    "        </div>\"\"\"\n",
    "\n",
    "        def __init__(self, *args):\n",
    "            self.args = args\n",
    "    \n",
    "        def _repr_html_(self):\n",
    "            return '\\n'.join(self.template.format(a, eval(a)._repr_html_()) for a in self.args)\n",
    "        \n",
    "def review(data):\n",
    "    return pd.concat([data.head(), data.tail()], keys=['head', 'tail'])\n",
    "    \n",
    "explorer = Explorer()"
   ]
  },
  {
   "cell_type": "markdown",
   "metadata": {},
   "source": [
    "[Содержание](#title)"
   ]
  },
  {
   "cell_type": "markdown",
   "metadata": {},
   "source": [
    "## 1.1 Подготовка региона alpha <a name=\"1.1\"></a>"
   ]
  },
  {
   "cell_type": "markdown",
   "metadata": {},
   "source": [
    "Рассмотрим регион **alpha**"
   ]
  },
  {
   "cell_type": "code",
   "execution_count": 4,
   "metadata": {},
   "outputs": [
    {
     "data": {
      "text/html": [
       "<div style=\"float: left; padding: 10px;\">\n",
       "        <p style='font-family:\"Courier New\", Courier, monospace'>review(alpha)</p><div>\n",
       "<style scoped>\n",
       "    .dataframe tbody tr th:only-of-type {\n",
       "        vertical-align: middle;\n",
       "    }\n",
       "\n",
       "    .dataframe tbody tr th {\n",
       "        vertical-align: top;\n",
       "    }\n",
       "\n",
       "    .dataframe thead th {\n",
       "        text-align: right;\n",
       "    }\n",
       "</style>\n",
       "<table border=\"1\" class=\"dataframe\">\n",
       "  <thead>\n",
       "    <tr style=\"text-align: right;\">\n",
       "      <th></th>\n",
       "      <th></th>\n",
       "      <th>id</th>\n",
       "      <th>f0</th>\n",
       "      <th>f1</th>\n",
       "      <th>f2</th>\n",
       "      <th>product</th>\n",
       "    </tr>\n",
       "  </thead>\n",
       "  <tbody>\n",
       "    <tr>\n",
       "      <td rowspan=\"5\" valign=\"top\">head</td>\n",
       "      <td>0</td>\n",
       "      <td>txEyH</td>\n",
       "      <td>0.705745</td>\n",
       "      <td>-0.497823</td>\n",
       "      <td>1.221170</td>\n",
       "      <td>105.280062</td>\n",
       "    </tr>\n",
       "    <tr>\n",
       "      <td>1</td>\n",
       "      <td>2acmU</td>\n",
       "      <td>1.334711</td>\n",
       "      <td>-0.340164</td>\n",
       "      <td>4.365080</td>\n",
       "      <td>73.037750</td>\n",
       "    </tr>\n",
       "    <tr>\n",
       "      <td>2</td>\n",
       "      <td>409Wp</td>\n",
       "      <td>1.022732</td>\n",
       "      <td>0.151990</td>\n",
       "      <td>1.419926</td>\n",
       "      <td>85.265647</td>\n",
       "    </tr>\n",
       "    <tr>\n",
       "      <td>3</td>\n",
       "      <td>iJLyR</td>\n",
       "      <td>-0.032172</td>\n",
       "      <td>0.139033</td>\n",
       "      <td>2.978566</td>\n",
       "      <td>168.620776</td>\n",
       "    </tr>\n",
       "    <tr>\n",
       "      <td>4</td>\n",
       "      <td>Xdl7t</td>\n",
       "      <td>1.988431</td>\n",
       "      <td>0.155413</td>\n",
       "      <td>4.751769</td>\n",
       "      <td>154.036647</td>\n",
       "    </tr>\n",
       "    <tr>\n",
       "      <td rowspan=\"5\" valign=\"top\">tail</td>\n",
       "      <td>99995</td>\n",
       "      <td>DLsed</td>\n",
       "      <td>0.971957</td>\n",
       "      <td>0.370953</td>\n",
       "      <td>6.075346</td>\n",
       "      <td>110.744026</td>\n",
       "    </tr>\n",
       "    <tr>\n",
       "      <td>99996</td>\n",
       "      <td>QKivN</td>\n",
       "      <td>1.392429</td>\n",
       "      <td>-0.382606</td>\n",
       "      <td>1.273912</td>\n",
       "      <td>122.346843</td>\n",
       "    </tr>\n",
       "    <tr>\n",
       "      <td>99997</td>\n",
       "      <td>3rnvd</td>\n",
       "      <td>1.029585</td>\n",
       "      <td>0.018787</td>\n",
       "      <td>-1.348308</td>\n",
       "      <td>64.375443</td>\n",
       "    </tr>\n",
       "    <tr>\n",
       "      <td>99998</td>\n",
       "      <td>7kl59</td>\n",
       "      <td>0.998163</td>\n",
       "      <td>-0.528582</td>\n",
       "      <td>1.583869</td>\n",
       "      <td>74.040764</td>\n",
       "    </tr>\n",
       "    <tr>\n",
       "      <td>99999</td>\n",
       "      <td>1CWhH</td>\n",
       "      <td>1.764754</td>\n",
       "      <td>-0.266417</td>\n",
       "      <td>5.722849</td>\n",
       "      <td>149.633246</td>\n",
       "    </tr>\n",
       "  </tbody>\n",
       "</table>\n",
       "</div>\n",
       "        </div>\n",
       "<div style=\"float: left; padding: 10px;\">\n",
       "        <p style='font-family:\"Courier New\", Courier, monospace'>alpha.describe()</p><div>\n",
       "<style scoped>\n",
       "    .dataframe tbody tr th:only-of-type {\n",
       "        vertical-align: middle;\n",
       "    }\n",
       "\n",
       "    .dataframe tbody tr th {\n",
       "        vertical-align: top;\n",
       "    }\n",
       "\n",
       "    .dataframe thead th {\n",
       "        text-align: right;\n",
       "    }\n",
       "</style>\n",
       "<table border=\"1\" class=\"dataframe\">\n",
       "  <thead>\n",
       "    <tr style=\"text-align: right;\">\n",
       "      <th></th>\n",
       "      <th>f0</th>\n",
       "      <th>f1</th>\n",
       "      <th>f2</th>\n",
       "      <th>product</th>\n",
       "    </tr>\n",
       "  </thead>\n",
       "  <tbody>\n",
       "    <tr>\n",
       "      <td>count</td>\n",
       "      <td>100000.000000</td>\n",
       "      <td>100000.000000</td>\n",
       "      <td>100000.000000</td>\n",
       "      <td>100000.000000</td>\n",
       "    </tr>\n",
       "    <tr>\n",
       "      <td>mean</td>\n",
       "      <td>0.500419</td>\n",
       "      <td>0.250143</td>\n",
       "      <td>2.502647</td>\n",
       "      <td>92.500000</td>\n",
       "    </tr>\n",
       "    <tr>\n",
       "      <td>std</td>\n",
       "      <td>0.871832</td>\n",
       "      <td>0.504433</td>\n",
       "      <td>3.248248</td>\n",
       "      <td>44.288691</td>\n",
       "    </tr>\n",
       "    <tr>\n",
       "      <td>min</td>\n",
       "      <td>-1.408605</td>\n",
       "      <td>-0.848218</td>\n",
       "      <td>-12.088328</td>\n",
       "      <td>0.000000</td>\n",
       "    </tr>\n",
       "    <tr>\n",
       "      <td>25%</td>\n",
       "      <td>-0.072580</td>\n",
       "      <td>-0.200881</td>\n",
       "      <td>0.287748</td>\n",
       "      <td>56.497507</td>\n",
       "    </tr>\n",
       "    <tr>\n",
       "      <td>50%</td>\n",
       "      <td>0.502360</td>\n",
       "      <td>0.250252</td>\n",
       "      <td>2.515969</td>\n",
       "      <td>91.849972</td>\n",
       "    </tr>\n",
       "    <tr>\n",
       "      <td>75%</td>\n",
       "      <td>1.073581</td>\n",
       "      <td>0.700646</td>\n",
       "      <td>4.715088</td>\n",
       "      <td>128.564089</td>\n",
       "    </tr>\n",
       "    <tr>\n",
       "      <td>max</td>\n",
       "      <td>2.362331</td>\n",
       "      <td>1.343769</td>\n",
       "      <td>16.003790</td>\n",
       "      <td>185.364347</td>\n",
       "    </tr>\n",
       "  </tbody>\n",
       "</table>\n",
       "</div>\n",
       "        </div>"
      ],
      "text/plain": [
       "<__main__.Explorer.show at 0x7f586dc13cd0>"
      ]
     },
     "metadata": {},
     "output_type": "display_data"
    },
    {
     "name": "stdout",
     "output_type": "stream",
     "text": [
      "<class 'pandas.core.frame.DataFrame'>\n",
      "RangeIndex: 100000 entries, 0 to 99999\n",
      "Data columns (total 5 columns):\n",
      "id         100000 non-null object\n",
      "f0         100000 non-null float64\n",
      "f1         100000 non-null float64\n",
      "f2         100000 non-null float64\n",
      "product    100000 non-null float64\n",
      "dtypes: float64(4), object(1)\n",
      "memory usage: 3.8+ MB\n"
     ]
    },
    {
     "data": {
      "text/plain": [
       "None"
      ]
     },
     "metadata": {},
     "output_type": "display_data"
    }
   ],
   "source": [
    "display(explorer.show('review(alpha)', 'alpha.describe()'))\n",
    "display(alpha.info())"
   ]
  },
  {
   "cell_type": "markdown",
   "metadata": {},
   "source": [
    "Пропусков не обнаружено, данные корректного формата. При визуальном осмотре выбросы не обнаружены."
   ]
  },
  {
   "cell_type": "markdown",
   "metadata": {},
   "source": [
    "Проверим наличие полных дубликатов и уникальных значений в столбцах."
   ]
  },
  {
   "cell_type": "code",
   "execution_count": 5,
   "metadata": {},
   "outputs": [
    {
     "name": "stdout",
     "output_type": "stream",
     "text": [
      "В датасете 0 полных дубликатов\n"
     ]
    },
    {
     "data": {
      "text/plain": [
       "id          99990\n",
       "f0         100000\n",
       "f1         100000\n",
       "f2         100000\n",
       "product    100000\n",
       "dtype: int64"
      ]
     },
     "execution_count": 5,
     "metadata": {},
     "output_type": "execute_result"
    }
   ],
   "source": [
    "print('В датасете {} полных дубликатов'.format(alpha.duplicated().sum()))\n",
    "alpha.nunique()"
   ]
  },
  {
   "cell_type": "markdown",
   "metadata": {},
   "source": [
    "Прослеживаются повторения значений идентификатора скважины. Это могло произойти из-за повторного исследования скважины или из-за ошибок при формировании датасета. Общий объём повторений крайне мал, он слабо повлияет на результат модели, поэтому оставим данные в первозданном виде."
   ]
  },
  {
   "cell_type": "markdown",
   "metadata": {},
   "source": [
    "[Содержание](#title)"
   ]
  },
  {
   "cell_type": "markdown",
   "metadata": {},
   "source": [
    "## 1.2 Подготовка региона beta <a name=\"1.2\"></a>"
   ]
  },
  {
   "cell_type": "markdown",
   "metadata": {},
   "source": [
    "Рассмотрим регион **beta**"
   ]
  },
  {
   "cell_type": "code",
   "execution_count": 6,
   "metadata": {},
   "outputs": [
    {
     "data": {
      "text/html": [
       "<div style=\"float: left; padding: 10px;\">\n",
       "        <p style='font-family:\"Courier New\", Courier, monospace'>review(beta)</p><div>\n",
       "<style scoped>\n",
       "    .dataframe tbody tr th:only-of-type {\n",
       "        vertical-align: middle;\n",
       "    }\n",
       "\n",
       "    .dataframe tbody tr th {\n",
       "        vertical-align: top;\n",
       "    }\n",
       "\n",
       "    .dataframe thead th {\n",
       "        text-align: right;\n",
       "    }\n",
       "</style>\n",
       "<table border=\"1\" class=\"dataframe\">\n",
       "  <thead>\n",
       "    <tr style=\"text-align: right;\">\n",
       "      <th></th>\n",
       "      <th></th>\n",
       "      <th>id</th>\n",
       "      <th>f0</th>\n",
       "      <th>f1</th>\n",
       "      <th>f2</th>\n",
       "      <th>product</th>\n",
       "    </tr>\n",
       "  </thead>\n",
       "  <tbody>\n",
       "    <tr>\n",
       "      <td rowspan=\"5\" valign=\"top\">head</td>\n",
       "      <td>0</td>\n",
       "      <td>kBEdx</td>\n",
       "      <td>-15.001348</td>\n",
       "      <td>-8.276000</td>\n",
       "      <td>-0.005876</td>\n",
       "      <td>3.179103</td>\n",
       "    </tr>\n",
       "    <tr>\n",
       "      <td>1</td>\n",
       "      <td>62mP7</td>\n",
       "      <td>14.272088</td>\n",
       "      <td>-3.475083</td>\n",
       "      <td>0.999183</td>\n",
       "      <td>26.953261</td>\n",
       "    </tr>\n",
       "    <tr>\n",
       "      <td>2</td>\n",
       "      <td>vyE1P</td>\n",
       "      <td>6.263187</td>\n",
       "      <td>-5.948386</td>\n",
       "      <td>5.001160</td>\n",
       "      <td>134.766305</td>\n",
       "    </tr>\n",
       "    <tr>\n",
       "      <td>3</td>\n",
       "      <td>KcrkZ</td>\n",
       "      <td>-13.081196</td>\n",
       "      <td>-11.506057</td>\n",
       "      <td>4.999415</td>\n",
       "      <td>137.945408</td>\n",
       "    </tr>\n",
       "    <tr>\n",
       "      <td>4</td>\n",
       "      <td>AHL4O</td>\n",
       "      <td>12.702195</td>\n",
       "      <td>-8.147433</td>\n",
       "      <td>5.004363</td>\n",
       "      <td>134.766305</td>\n",
       "    </tr>\n",
       "    <tr>\n",
       "      <td rowspan=\"5\" valign=\"top\">tail</td>\n",
       "      <td>99995</td>\n",
       "      <td>QywKC</td>\n",
       "      <td>9.535637</td>\n",
       "      <td>-6.878139</td>\n",
       "      <td>1.998296</td>\n",
       "      <td>53.906522</td>\n",
       "    </tr>\n",
       "    <tr>\n",
       "      <td>99996</td>\n",
       "      <td>ptvty</td>\n",
       "      <td>-10.160631</td>\n",
       "      <td>-12.558096</td>\n",
       "      <td>5.005581</td>\n",
       "      <td>137.945408</td>\n",
       "    </tr>\n",
       "    <tr>\n",
       "      <td>99997</td>\n",
       "      <td>09gWa</td>\n",
       "      <td>-7.378891</td>\n",
       "      <td>-3.084104</td>\n",
       "      <td>4.998651</td>\n",
       "      <td>137.945408</td>\n",
       "    </tr>\n",
       "    <tr>\n",
       "      <td>99998</td>\n",
       "      <td>rqwUm</td>\n",
       "      <td>0.665714</td>\n",
       "      <td>-6.152593</td>\n",
       "      <td>1.000146</td>\n",
       "      <td>30.132364</td>\n",
       "    </tr>\n",
       "    <tr>\n",
       "      <td>99999</td>\n",
       "      <td>relB0</td>\n",
       "      <td>-3.426139</td>\n",
       "      <td>-7.794274</td>\n",
       "      <td>-0.003299</td>\n",
       "      <td>3.179103</td>\n",
       "    </tr>\n",
       "  </tbody>\n",
       "</table>\n",
       "</div>\n",
       "        </div>\n",
       "<div style=\"float: left; padding: 10px;\">\n",
       "        <p style='font-family:\"Courier New\", Courier, monospace'>beta.describe()</p><div>\n",
       "<style scoped>\n",
       "    .dataframe tbody tr th:only-of-type {\n",
       "        vertical-align: middle;\n",
       "    }\n",
       "\n",
       "    .dataframe tbody tr th {\n",
       "        vertical-align: top;\n",
       "    }\n",
       "\n",
       "    .dataframe thead th {\n",
       "        text-align: right;\n",
       "    }\n",
       "</style>\n",
       "<table border=\"1\" class=\"dataframe\">\n",
       "  <thead>\n",
       "    <tr style=\"text-align: right;\">\n",
       "      <th></th>\n",
       "      <th>f0</th>\n",
       "      <th>f1</th>\n",
       "      <th>f2</th>\n",
       "      <th>product</th>\n",
       "    </tr>\n",
       "  </thead>\n",
       "  <tbody>\n",
       "    <tr>\n",
       "      <td>count</td>\n",
       "      <td>100000.000000</td>\n",
       "      <td>100000.000000</td>\n",
       "      <td>100000.000000</td>\n",
       "      <td>100000.000000</td>\n",
       "    </tr>\n",
       "    <tr>\n",
       "      <td>mean</td>\n",
       "      <td>1.141296</td>\n",
       "      <td>-4.796579</td>\n",
       "      <td>2.494541</td>\n",
       "      <td>68.825000</td>\n",
       "    </tr>\n",
       "    <tr>\n",
       "      <td>std</td>\n",
       "      <td>8.965932</td>\n",
       "      <td>5.119872</td>\n",
       "      <td>1.703572</td>\n",
       "      <td>45.944423</td>\n",
       "    </tr>\n",
       "    <tr>\n",
       "      <td>min</td>\n",
       "      <td>-31.609576</td>\n",
       "      <td>-26.358598</td>\n",
       "      <td>-0.018144</td>\n",
       "      <td>0.000000</td>\n",
       "    </tr>\n",
       "    <tr>\n",
       "      <td>25%</td>\n",
       "      <td>-6.298551</td>\n",
       "      <td>-8.267985</td>\n",
       "      <td>1.000021</td>\n",
       "      <td>26.953261</td>\n",
       "    </tr>\n",
       "    <tr>\n",
       "      <td>50%</td>\n",
       "      <td>1.153055</td>\n",
       "      <td>-4.813172</td>\n",
       "      <td>2.011479</td>\n",
       "      <td>57.085625</td>\n",
       "    </tr>\n",
       "    <tr>\n",
       "      <td>75%</td>\n",
       "      <td>8.621015</td>\n",
       "      <td>-1.332816</td>\n",
       "      <td>3.999904</td>\n",
       "      <td>107.813044</td>\n",
       "    </tr>\n",
       "    <tr>\n",
       "      <td>max</td>\n",
       "      <td>29.421755</td>\n",
       "      <td>18.734063</td>\n",
       "      <td>5.019721</td>\n",
       "      <td>137.945408</td>\n",
       "    </tr>\n",
       "  </tbody>\n",
       "</table>\n",
       "</div>\n",
       "        </div>"
      ],
      "text/plain": [
       "<__main__.Explorer.show at 0x7f586e2aa890>"
      ]
     },
     "metadata": {},
     "output_type": "display_data"
    },
    {
     "name": "stdout",
     "output_type": "stream",
     "text": [
      "<class 'pandas.core.frame.DataFrame'>\n",
      "RangeIndex: 100000 entries, 0 to 99999\n",
      "Data columns (total 5 columns):\n",
      "id         100000 non-null object\n",
      "f0         100000 non-null float64\n",
      "f1         100000 non-null float64\n",
      "f2         100000 non-null float64\n",
      "product    100000 non-null float64\n",
      "dtypes: float64(4), object(1)\n",
      "memory usage: 3.8+ MB\n"
     ]
    },
    {
     "data": {
      "text/plain": [
       "None"
      ]
     },
     "metadata": {},
     "output_type": "display_data"
    }
   ],
   "source": [
    "display(explorer.show('review(beta)', 'beta.describe()'))\n",
    "display(beta.info())"
   ]
  },
  {
   "cell_type": "markdown",
   "metadata": {},
   "source": [
    "Пропусков не обнаружено, данные корректного формата. При визуальном осмотре выбросы не обнаружены, но заменты повторы в значениях объёма запаса."
   ]
  },
  {
   "cell_type": "markdown",
   "metadata": {},
   "source": [
    "Проверим наличие полных дубликатов и уникальных значений в столбцах."
   ]
  },
  {
   "cell_type": "code",
   "execution_count": 7,
   "metadata": {},
   "outputs": [
    {
     "name": "stdout",
     "output_type": "stream",
     "text": [
      "В датасете 0 полных дубликатов\n"
     ]
    },
    {
     "data": {
      "text/plain": [
       "id          99996\n",
       "f0         100000\n",
       "f1         100000\n",
       "f2         100000\n",
       "product        12\n",
       "dtype: int64"
      ]
     },
     "execution_count": 7,
     "metadata": {},
     "output_type": "execute_result"
    }
   ],
   "source": [
    "print('В датасете {} полных дубликатов'.format(beta.duplicated().sum()))\n",
    "beta.nunique()"
   ]
  },
  {
   "cell_type": "markdown",
   "metadata": {},
   "source": [
    "Полных дубликатов не наблюдается.\n",
    "\n",
    "Объёмы продукта в скавижине имеют **всего 12 уникальных значений**. Данные могли быть испорчены или получены некорректным способом, необходимо связаться со специалистом. Продолжим работу с данным датасетом, однако все выводы поставленные по нему **будем подвергать сомнению**. Повторения идентификатора скважины будем считать несущественными."
   ]
  },
  {
   "cell_type": "markdown",
   "metadata": {},
   "source": [
    "[Содержание](#title)"
   ]
  },
  {
   "cell_type": "markdown",
   "metadata": {},
   "source": [
    "## 1.3 Подготовка региона gamma <a name=\"1.3\"></a>"
   ]
  },
  {
   "cell_type": "markdown",
   "metadata": {},
   "source": [
    "Рассмотрим регион **gamma**"
   ]
  },
  {
   "cell_type": "code",
   "execution_count": 8,
   "metadata": {},
   "outputs": [
    {
     "data": {
      "text/html": [
       "<div style=\"float: left; padding: 10px;\">\n",
       "        <p style='font-family:\"Courier New\", Courier, monospace'>review(gamma)</p><div>\n",
       "<style scoped>\n",
       "    .dataframe tbody tr th:only-of-type {\n",
       "        vertical-align: middle;\n",
       "    }\n",
       "\n",
       "    .dataframe tbody tr th {\n",
       "        vertical-align: top;\n",
       "    }\n",
       "\n",
       "    .dataframe thead th {\n",
       "        text-align: right;\n",
       "    }\n",
       "</style>\n",
       "<table border=\"1\" class=\"dataframe\">\n",
       "  <thead>\n",
       "    <tr style=\"text-align: right;\">\n",
       "      <th></th>\n",
       "      <th></th>\n",
       "      <th>id</th>\n",
       "      <th>f0</th>\n",
       "      <th>f1</th>\n",
       "      <th>f2</th>\n",
       "      <th>product</th>\n",
       "    </tr>\n",
       "  </thead>\n",
       "  <tbody>\n",
       "    <tr>\n",
       "      <td rowspan=\"5\" valign=\"top\">head</td>\n",
       "      <td>0</td>\n",
       "      <td>fwXo0</td>\n",
       "      <td>-1.146987</td>\n",
       "      <td>0.963328</td>\n",
       "      <td>-0.828965</td>\n",
       "      <td>27.758673</td>\n",
       "    </tr>\n",
       "    <tr>\n",
       "      <td>1</td>\n",
       "      <td>WJtFt</td>\n",
       "      <td>0.262778</td>\n",
       "      <td>0.269839</td>\n",
       "      <td>-2.530187</td>\n",
       "      <td>56.069697</td>\n",
       "    </tr>\n",
       "    <tr>\n",
       "      <td>2</td>\n",
       "      <td>ovLUW</td>\n",
       "      <td>0.194587</td>\n",
       "      <td>0.289035</td>\n",
       "      <td>-5.586433</td>\n",
       "      <td>62.871910</td>\n",
       "    </tr>\n",
       "    <tr>\n",
       "      <td>3</td>\n",
       "      <td>q6cA6</td>\n",
       "      <td>2.236060</td>\n",
       "      <td>-0.553760</td>\n",
       "      <td>0.930038</td>\n",
       "      <td>114.572842</td>\n",
       "    </tr>\n",
       "    <tr>\n",
       "      <td>4</td>\n",
       "      <td>WPMUX</td>\n",
       "      <td>-0.515993</td>\n",
       "      <td>1.716266</td>\n",
       "      <td>5.899011</td>\n",
       "      <td>149.600746</td>\n",
       "    </tr>\n",
       "    <tr>\n",
       "      <td rowspan=\"5\" valign=\"top\">tail</td>\n",
       "      <td>99995</td>\n",
       "      <td>4GxBu</td>\n",
       "      <td>-1.777037</td>\n",
       "      <td>1.125220</td>\n",
       "      <td>6.263374</td>\n",
       "      <td>172.327046</td>\n",
       "    </tr>\n",
       "    <tr>\n",
       "      <td>99996</td>\n",
       "      <td>YKFjq</td>\n",
       "      <td>-1.261523</td>\n",
       "      <td>-0.894828</td>\n",
       "      <td>2.524545</td>\n",
       "      <td>138.748846</td>\n",
       "    </tr>\n",
       "    <tr>\n",
       "      <td>99997</td>\n",
       "      <td>tKPY3</td>\n",
       "      <td>-1.199934</td>\n",
       "      <td>-2.957637</td>\n",
       "      <td>5.219411</td>\n",
       "      <td>157.080080</td>\n",
       "    </tr>\n",
       "    <tr>\n",
       "      <td>99998</td>\n",
       "      <td>nmxp2</td>\n",
       "      <td>-2.419896</td>\n",
       "      <td>2.417221</td>\n",
       "      <td>-5.548444</td>\n",
       "      <td>51.795253</td>\n",
       "    </tr>\n",
       "    <tr>\n",
       "      <td>99999</td>\n",
       "      <td>V9kWn</td>\n",
       "      <td>-2.551421</td>\n",
       "      <td>-2.025625</td>\n",
       "      <td>6.090891</td>\n",
       "      <td>102.775767</td>\n",
       "    </tr>\n",
       "  </tbody>\n",
       "</table>\n",
       "</div>\n",
       "        </div>\n",
       "<div style=\"float: left; padding: 10px;\">\n",
       "        <p style='font-family:\"Courier New\", Courier, monospace'>gamma.describe()</p><div>\n",
       "<style scoped>\n",
       "    .dataframe tbody tr th:only-of-type {\n",
       "        vertical-align: middle;\n",
       "    }\n",
       "\n",
       "    .dataframe tbody tr th {\n",
       "        vertical-align: top;\n",
       "    }\n",
       "\n",
       "    .dataframe thead th {\n",
       "        text-align: right;\n",
       "    }\n",
       "</style>\n",
       "<table border=\"1\" class=\"dataframe\">\n",
       "  <thead>\n",
       "    <tr style=\"text-align: right;\">\n",
       "      <th></th>\n",
       "      <th>f0</th>\n",
       "      <th>f1</th>\n",
       "      <th>f2</th>\n",
       "      <th>product</th>\n",
       "    </tr>\n",
       "  </thead>\n",
       "  <tbody>\n",
       "    <tr>\n",
       "      <td>count</td>\n",
       "      <td>100000.000000</td>\n",
       "      <td>100000.000000</td>\n",
       "      <td>100000.000000</td>\n",
       "      <td>100000.000000</td>\n",
       "    </tr>\n",
       "    <tr>\n",
       "      <td>mean</td>\n",
       "      <td>0.002023</td>\n",
       "      <td>-0.002081</td>\n",
       "      <td>2.495128</td>\n",
       "      <td>95.000000</td>\n",
       "    </tr>\n",
       "    <tr>\n",
       "      <td>std</td>\n",
       "      <td>1.732045</td>\n",
       "      <td>1.730417</td>\n",
       "      <td>3.473445</td>\n",
       "      <td>44.749921</td>\n",
       "    </tr>\n",
       "    <tr>\n",
       "      <td>min</td>\n",
       "      <td>-8.760004</td>\n",
       "      <td>-7.084020</td>\n",
       "      <td>-11.970335</td>\n",
       "      <td>0.000000</td>\n",
       "    </tr>\n",
       "    <tr>\n",
       "      <td>25%</td>\n",
       "      <td>-1.162288</td>\n",
       "      <td>-1.174820</td>\n",
       "      <td>0.130359</td>\n",
       "      <td>59.450441</td>\n",
       "    </tr>\n",
       "    <tr>\n",
       "      <td>50%</td>\n",
       "      <td>0.009424</td>\n",
       "      <td>-0.009482</td>\n",
       "      <td>2.484236</td>\n",
       "      <td>94.925613</td>\n",
       "    </tr>\n",
       "    <tr>\n",
       "      <td>75%</td>\n",
       "      <td>1.158535</td>\n",
       "      <td>1.163678</td>\n",
       "      <td>4.858794</td>\n",
       "      <td>130.595027</td>\n",
       "    </tr>\n",
       "    <tr>\n",
       "      <td>max</td>\n",
       "      <td>7.238262</td>\n",
       "      <td>7.844801</td>\n",
       "      <td>16.739402</td>\n",
       "      <td>190.029838</td>\n",
       "    </tr>\n",
       "  </tbody>\n",
       "</table>\n",
       "</div>\n",
       "        </div>"
      ],
      "text/plain": [
       "<__main__.Explorer.show at 0x7f586e2d39d0>"
      ]
     },
     "metadata": {},
     "output_type": "display_data"
    },
    {
     "name": "stdout",
     "output_type": "stream",
     "text": [
      "<class 'pandas.core.frame.DataFrame'>\n",
      "RangeIndex: 100000 entries, 0 to 99999\n",
      "Data columns (total 5 columns):\n",
      "id         100000 non-null object\n",
      "f0         100000 non-null float64\n",
      "f1         100000 non-null float64\n",
      "f2         100000 non-null float64\n",
      "product    100000 non-null float64\n",
      "dtypes: float64(4), object(1)\n",
      "memory usage: 3.8+ MB\n"
     ]
    },
    {
     "data": {
      "text/plain": [
       "None"
      ]
     },
     "metadata": {},
     "output_type": "display_data"
    }
   ],
   "source": [
    "display(explorer.show('review(gamma)', 'gamma.describe()'))\n",
    "display(gamma.info())"
   ]
  },
  {
   "cell_type": "markdown",
   "metadata": {},
   "source": [
    "Пропусков не обнаружено, данные корректного формата. При визуальном осмотре выбросы не обнаружены."
   ]
  },
  {
   "cell_type": "markdown",
   "metadata": {},
   "source": [
    "Проверим наличие полных дубликатов и уникальных значений в столбцах."
   ]
  },
  {
   "cell_type": "code",
   "execution_count": 9,
   "metadata": {},
   "outputs": [
    {
     "name": "stdout",
     "output_type": "stream",
     "text": [
      "В датасете 0 полных дубликатов\n"
     ]
    },
    {
     "data": {
      "text/plain": [
       "id          99996\n",
       "f0         100000\n",
       "f1         100000\n",
       "f2         100000\n",
       "product    100000\n",
       "dtype: int64"
      ]
     },
     "execution_count": 9,
     "metadata": {},
     "output_type": "execute_result"
    }
   ],
   "source": [
    "print('В датасете {} полных дубликатов'.format(gamma.duplicated().sum()))\n",
    "gamma.nunique()"
   ]
  },
  {
   "cell_type": "markdown",
   "metadata": {},
   "source": [
    "Прослеживаются повторения значений идентификатора скважины. Это могло произойти из-за повторного исследования скважины или из-за ошибок при формировании датасета. Общий объём повторений крайне мал, он слабо повлияет на результат модели, поэтому оставим данные в первозданном виде."
   ]
  },
  {
   "cell_type": "markdown",
   "metadata": {},
   "source": [
    "[Содержание](#title)"
   ]
  },
  {
   "cell_type": "markdown",
   "metadata": {},
   "source": [
    "# 2. Обучение и проверка модели <a name=\"2\"></a>"
   ]
  },
  {
   "cell_type": "markdown",
   "metadata": {},
   "source": [
    "Напишем функцию для разбития данных."
   ]
  },
  {
   "cell_type": "code",
   "execution_count": 10,
   "metadata": {},
   "outputs": [],
   "source": [
    "def df_split(data, features_drop, target, test_size, random_state):\n",
    "    feature = data.drop(features_drop, axis=1)\n",
    "    target = data[target]\n",
    "    x_train, x_test, y_train, y_test  = train_test_split(feature, target, test_size=test_size, random_state = random_state)\n",
    "    return x_train, x_test, y_train, y_test"
   ]
  },
  {
   "cell_type": "markdown",
   "metadata": {},
   "source": [
    "[Содержание](#title)"
   ]
  },
  {
   "cell_type": "markdown",
   "metadata": {},
   "source": [
    "## 2.1 Обучение и проверка региона alpha <a name=\"2.1\"></a>"
   ]
  },
  {
   "cell_type": "markdown",
   "metadata": {},
   "source": [
    "### 2.1.1 Разбитие данных на обучающуюся и валидационную выборку"
   ]
  },
  {
   "cell_type": "markdown",
   "metadata": {},
   "source": [
    "Воспользуемся функцией **df_split** для создания выборок. Из признаков удалим столбец **id**, так как он не несёт полезной нагрузки и может негативно повлиять на результаты обучения."
   ]
  },
  {
   "cell_type": "code",
   "execution_count": 11,
   "metadata": {},
   "outputs": [
    {
     "name": "stdout",
     "output_type": "stream",
     "text": [
      "Размеры обучающих выборок (75000, 3) и (75000,)\n",
      "Размеры валидационных выборок (25000, 3) и (25000,)\n"
     ]
    }
   ],
   "source": [
    "features_train, features_valid, target_train, target_valid = df_split(alpha, ['id', 'product'], 'product', 0.25, RNG)\n",
    "print(f'Размеры обучающих выборок {features_train.shape} и {target_train.shape}')\n",
    "print(f'Размеры валидационных выборок {features_valid.shape} и {target_valid.shape}')"
   ]
  },
  {
   "cell_type": "markdown",
   "metadata": {},
   "source": [
    "### 2.1.2 Обучение модели и предсказания для региона alpha"
   ]
  },
  {
   "cell_type": "markdown",
   "metadata": {},
   "source": [
    "Обучим модель на основе линейной регрессии"
   ]
  },
  {
   "cell_type": "code",
   "execution_count": 12,
   "metadata": {},
   "outputs": [],
   "source": [
    "model = LinearRegression()\n",
    "model.fit(features_train, target_train)\n",
    "predicted_valid = model.predict(features_valid)"
   ]
  },
  {
   "cell_type": "markdown",
   "metadata": {},
   "source": [
    "Сравним правильные ответы и предсказания на валидационной выборке"
   ]
  },
  {
   "cell_type": "code",
   "execution_count": 13,
   "metadata": {},
   "outputs": [
    {
     "data": {
      "text/html": [
       "<div>\n",
       "<style scoped>\n",
       "    .dataframe tbody tr th:only-of-type {\n",
       "        vertical-align: middle;\n",
       "    }\n",
       "\n",
       "    .dataframe tbody tr th {\n",
       "        vertical-align: top;\n",
       "    }\n",
       "\n",
       "    .dataframe thead th {\n",
       "        text-align: right;\n",
       "    }\n",
       "</style>\n",
       "<table border=\"1\" class=\"dataframe\">\n",
       "  <thead>\n",
       "    <tr style=\"text-align: right;\">\n",
       "      <th></th>\n",
       "      <th></th>\n",
       "      <th>product</th>\n",
       "      <th>predict</th>\n",
       "    </tr>\n",
       "  </thead>\n",
       "  <tbody>\n",
       "    <tr>\n",
       "      <td rowspan=\"5\" valign=\"top\">head</td>\n",
       "      <td>42083</td>\n",
       "      <td>145.825972</td>\n",
       "      <td>123.284256</td>\n",
       "    </tr>\n",
       "    <tr>\n",
       "      <td>71825</td>\n",
       "      <td>134.020212</td>\n",
       "      <td>75.838240</td>\n",
       "    </tr>\n",
       "    <tr>\n",
       "      <td>99535</td>\n",
       "      <td>88.905826</td>\n",
       "      <td>55.526760</td>\n",
       "    </tr>\n",
       "    <tr>\n",
       "      <td>47879</td>\n",
       "      <td>19.508226</td>\n",
       "      <td>86.673045</td>\n",
       "    </tr>\n",
       "    <tr>\n",
       "      <td>36734</td>\n",
       "      <td>108.713468</td>\n",
       "      <td>109.909327</td>\n",
       "    </tr>\n",
       "    <tr>\n",
       "      <td rowspan=\"5\" valign=\"top\">tail</td>\n",
       "      <td>56405</td>\n",
       "      <td>80.100250</td>\n",
       "      <td>89.708779</td>\n",
       "    </tr>\n",
       "    <tr>\n",
       "      <td>50954</td>\n",
       "      <td>47.345664</td>\n",
       "      <td>55.672078</td>\n",
       "    </tr>\n",
       "    <tr>\n",
       "      <td>99121</td>\n",
       "      <td>176.382705</td>\n",
       "      <td>139.042911</td>\n",
       "    </tr>\n",
       "    <tr>\n",
       "      <td>4170</td>\n",
       "      <td>140.334745</td>\n",
       "      <td>96.867927</td>\n",
       "    </tr>\n",
       "    <tr>\n",
       "      <td>18144</td>\n",
       "      <td>117.324049</td>\n",
       "      <td>54.714331</td>\n",
       "    </tr>\n",
       "  </tbody>\n",
       "</table>\n",
       "</div>"
      ],
      "text/plain": [
       "               product     predict\n",
       "head 42083  145.825972  123.284256\n",
       "     71825  134.020212   75.838240\n",
       "     99535   88.905826   55.526760\n",
       "     47879   19.508226   86.673045\n",
       "     36734  108.713468  109.909327\n",
       "tail 56405   80.100250   89.708779\n",
       "     50954   47.345664   55.672078\n",
       "     99121  176.382705  139.042911\n",
       "     4170   140.334745   96.867927\n",
       "     18144  117.324049   54.714331"
      ]
     },
     "execution_count": 13,
     "metadata": {},
     "output_type": "execute_result"
    }
   ],
   "source": [
    "alpha_predict = pd.DataFrame(target_valid)\n",
    "alpha_predict['predict'] = predicted_valid\n",
    "review(alpha_predict)"
   ]
  },
  {
   "cell_type": "markdown",
   "metadata": {},
   "source": [
    "Выведим график пересечения предсказаний с правильными ответами"
   ]
  },
  {
   "cell_type": "code",
   "execution_count": 14,
   "metadata": {},
   "outputs": [
    {
     "data": {
      "image/png": "[encoded data removed]",
      "text/plain": [
       "<Figure size 1152x864 with 1 Axes>"
      ]
     },
     "metadata": {},
     "output_type": "display_data"
    }
   ],
   "source": [
    "sns.set(style=\"darkgrid\")\n",
    "fig = plt.figure(figsize=(16,12))\n",
    "ax = sns.regplot(x=\"product\", y=\"predict\", data = alpha_predict, x_bins=20)\n",
    "plt.title(\"График пересечения предсказаний с правильными ответами\")\n",
    "ax.set_xlabel('Правильные ответы')\n",
    "ax.set_ylabel('Предсказания')\n",
    "ax.set(ylim=(60, 120))\n",
    "ax.set(xlim=(20, 160))\n",
    "plt.show()"
   ]
  },
  {
   "cell_type": "markdown",
   "metadata": {},
   "source": [
    "Линия регрессии имеет положительную зависимость, однако является слишком пологой, поэтому предсказанные значения определяются с повышенной погрещностью на предельных значениях."
   ]
  },
  {
   "cell_type": "markdown",
   "metadata": {},
   "source": [
    "### 2.1.3 Расчёт среднего запаса и RSME"
   ]
  },
  {
   "cell_type": "markdown",
   "metadata": {},
   "source": [
    "Произведем расчёт среднего"
   ]
  },
  {
   "cell_type": "code",
   "execution_count": 15,
   "metadata": {},
   "outputs": [
    {
     "name": "stdout",
     "output_type": "stream",
     "text": [
      "Реальный средний объём запаса 92.85062391123445\n",
      "Предсказанный средний объём запаса 92.54936189116309\n"
     ]
    }
   ],
   "source": [
    "alpha_real_mean_product = alpha_predict['product'].mean()\n",
    "alpha_predicted_mean_product = alpha_predict['predict'].mean()\n",
    "print('Реальный средний объём запаса', alpha_real_mean_product)\n",
    "print('Предсказанный средний объём запаса', alpha_predicted_mean_product)"
   ]
  },
  {
   "cell_type": "markdown",
   "metadata": {},
   "source": [
    "Произведем расчёт RSME"
   ]
  },
  {
   "cell_type": "code",
   "execution_count": 16,
   "metadata": {},
   "outputs": [
    {
     "name": "stdout",
     "output_type": "stream",
     "text": [
      "Значение mse равно 1417.3615751967832\n",
      "Значение rmse равно 37.64786282376176\n"
     ]
    }
   ],
   "source": [
    "mse = mean_squared_error(target_valid, predicted_valid)\n",
    "rmse = np.sqrt(mse)\n",
    "print('Значение mse равно', mse)\n",
    "print('Значение rmse равно', rmse)"
   ]
  },
  {
   "cell_type": "markdown",
   "metadata": {},
   "source": [
    "Корень из средней квадратичной ошибки составил 37 тыс. баррелей"
   ]
  },
  {
   "cell_type": "markdown",
   "metadata": {},
   "source": [
    "**Вывод**\n",
    "\n",
    "* Модель некорректно определяет значения на предельных значениях\n",
    "* Предсказанный средний объём равен запасов равен 92,5 тыс. баррелей нефти, что близко к реальным значениям\n",
    "* Значение RMSE равно 37.6 тыс. баррелей нефти"
   ]
  },
  {
   "cell_type": "markdown",
   "metadata": {},
   "source": [
    "[Содержание](#title)"
   ]
  },
  {
   "cell_type": "markdown",
   "metadata": {},
   "source": [
    "## 2.2 Обучение и проверка региона beta <a name=\"2.2\"></a>"
   ]
  },
  {
   "cell_type": "markdown",
   "metadata": {},
   "source": [
    "### 2.2.1 Разбитие данных на обучающуюся и валидационную выборку"
   ]
  },
  {
   "cell_type": "markdown",
   "metadata": {},
   "source": [
    "Воспользуемся функцией **df_split** для создания выборок. Из признаков удалим столбец **id**, так как он не несёт полезной нагрузки и может негативно повлиять на результаты обучения."
   ]
  },
  {
   "cell_type": "code",
   "execution_count": 17,
   "metadata": {},
   "outputs": [
    {
     "name": "stdout",
     "output_type": "stream",
     "text": [
      "Размеры обучающих выборок (75000, 3) и (75000,)\n",
      "Размеры валидационных выборок (25000, 3) и (25000,)\n"
     ]
    }
   ],
   "source": [
    "features_train, features_valid, target_train, target_valid = df_split(beta, ['id', 'product'], 'product', 0.25, RNG)\n",
    "print(f'Размеры обучающих выборок {features_train.shape} и {target_train.shape}')\n",
    "print(f'Размеры валидационных выборок {features_valid.shape} и {target_valid.shape}')"
   ]
  },
  {
   "cell_type": "markdown",
   "metadata": {},
   "source": [
    "### 2.2.2 Обучение модели и предсказания для региона beta"
   ]
  },
  {
   "cell_type": "markdown",
   "metadata": {},
   "source": [
    "Обучим модель на основе линейной регрессии"
   ]
  },
  {
   "cell_type": "code",
   "execution_count": 18,
   "metadata": {},
   "outputs": [],
   "source": [
    "model = LinearRegression()\n",
    "model.fit(features_train, target_train)\n",
    "predicted_valid = model.predict(features_valid)"
   ]
  },
  {
   "cell_type": "markdown",
   "metadata": {},
   "source": [
    "Сравним правильные ответы и предсказания на валидационной выборке"
   ]
  },
  {
   "cell_type": "code",
   "execution_count": 19,
   "metadata": {},
   "outputs": [
    {
     "data": {
      "text/html": [
       "<div>\n",
       "<style scoped>\n",
       "    .dataframe tbody tr th:only-of-type {\n",
       "        vertical-align: middle;\n",
       "    }\n",
       "\n",
       "    .dataframe tbody tr th {\n",
       "        vertical-align: top;\n",
       "    }\n",
       "\n",
       "    .dataframe thead th {\n",
       "        text-align: right;\n",
       "    }\n",
       "</style>\n",
       "<table border=\"1\" class=\"dataframe\">\n",
       "  <thead>\n",
       "    <tr style=\"text-align: right;\">\n",
       "      <th></th>\n",
       "      <th></th>\n",
       "      <th>product</th>\n",
       "      <th>predict</th>\n",
       "    </tr>\n",
       "  </thead>\n",
       "  <tbody>\n",
       "    <tr>\n",
       "      <td rowspan=\"5\" valign=\"top\">head</td>\n",
       "      <td>42083</td>\n",
       "      <td>57.085625</td>\n",
       "      <td>56.056314</td>\n",
       "    </tr>\n",
       "    <tr>\n",
       "      <td>71825</td>\n",
       "      <td>80.859783</td>\n",
       "      <td>81.589811</td>\n",
       "    </tr>\n",
       "    <tr>\n",
       "      <td>99535</td>\n",
       "      <td>53.906522</td>\n",
       "      <td>54.461926</td>\n",
       "    </tr>\n",
       "    <tr>\n",
       "      <td>47879</td>\n",
       "      <td>107.813044</td>\n",
       "      <td>108.660979</td>\n",
       "    </tr>\n",
       "    <tr>\n",
       "      <td>36734</td>\n",
       "      <td>53.906522</td>\n",
       "      <td>54.479416</td>\n",
       "    </tr>\n",
       "    <tr>\n",
       "      <td rowspan=\"5\" valign=\"top\">tail</td>\n",
       "      <td>56405</td>\n",
       "      <td>30.132364</td>\n",
       "      <td>28.805734</td>\n",
       "    </tr>\n",
       "    <tr>\n",
       "      <td>50954</td>\n",
       "      <td>110.992147</td>\n",
       "      <td>110.025164</td>\n",
       "    </tr>\n",
       "    <tr>\n",
       "      <td>99121</td>\n",
       "      <td>3.179103</td>\n",
       "      <td>3.278982</td>\n",
       "    </tr>\n",
       "    <tr>\n",
       "      <td>4170</td>\n",
       "      <td>53.906522</td>\n",
       "      <td>53.705839</td>\n",
       "    </tr>\n",
       "    <tr>\n",
       "      <td>18144</td>\n",
       "      <td>134.766305</td>\n",
       "      <td>135.021879</td>\n",
       "    </tr>\n",
       "  </tbody>\n",
       "</table>\n",
       "</div>"
      ],
      "text/plain": [
       "               product     predict\n",
       "head 42083   57.085625   56.056314\n",
       "     71825   80.859783   81.589811\n",
       "     99535   53.906522   54.461926\n",
       "     47879  107.813044  108.660979\n",
       "     36734   53.906522   54.479416\n",
       "tail 56405   30.132364   28.805734\n",
       "     50954  110.992147  110.025164\n",
       "     99121    3.179103    3.278982\n",
       "     4170    53.906522   53.705839\n",
       "     18144  134.766305  135.021879"
      ]
     },
     "execution_count": 19,
     "metadata": {},
     "output_type": "execute_result"
    }
   ],
   "source": [
    "beta_predict = pd.DataFrame(target_valid)\n",
    "beta_predict['predict'] = predicted_valid\n",
    "review(beta_predict)"
   ]
  },
  {
   "cell_type": "markdown",
   "metadata": {},
   "source": [
    "Выведим график пересечения предсказаний с правильными ответами"
   ]
  },
  {
   "cell_type": "code",
   "execution_count": 20,
   "metadata": {},
   "outputs": [
    {
     "data": {
      "image/png": "[encoded data removed]",
      "text/plain": [
       "<Figure size 1152x864 with 1 Axes>"
      ]
     },
     "metadata": {},
     "output_type": "display_data"
    }
   ],
   "source": [
    "fig = plt.figure(figsize=(16,12))\n",
    "ax = sns.regplot(x=\"product\", y=\"predict\", data = beta_predict, x_bins=20)\n",
    "plt.title(\"График пересечения предсказаний с правильными ответами\")\n",
    "ax.set_xlabel('Правильные ответы')\n",
    "ax.set_ylabel('Предсказания')\n",
    "ax.set(ylim=(20, 160))\n",
    "ax.set(xlim=(20, 160))\n",
    "plt.show()"
   ]
  },
  {
   "cell_type": "markdown",
   "metadata": {},
   "source": [
    "Линия регрессии имеет положительную зависимость, а качество предсказания приближено к идеальному. Тем не менее входные данные региона **beta** имеют низкое качество, делать выводы по данному региону не рекомендуется."
   ]
  },
  {
   "cell_type": "markdown",
   "metadata": {},
   "source": [
    "### 2.2.3 Расчёт среднего запаса и RSME"
   ]
  },
  {
   "cell_type": "markdown",
   "metadata": {},
   "source": [
    "Произведем расчёт среднего"
   ]
  },
  {
   "cell_type": "code",
   "execution_count": 21,
   "metadata": {},
   "outputs": [
    {
     "name": "stdout",
     "output_type": "stream",
     "text": [
      "Реальный средний объём запаса 69.27371236077902\n",
      "Предсказанный средний объём запаса 69.28001860653976\n"
     ]
    }
   ],
   "source": [
    "beta_real_mean_product = beta_predict['product'].mean()\n",
    "beta_predicted_mean_product = beta_predict['predict'].mean()\n",
    "print('Реальный средний объём запаса', beta_real_mean_product)\n",
    "print('Предсказанный средний объём запаса', beta_predicted_mean_product)"
   ]
  },
  {
   "cell_type": "markdown",
   "metadata": {},
   "source": [
    "Произведем расчёт RSME"
   ]
  },
  {
   "cell_type": "code",
   "execution_count": 22,
   "metadata": {},
   "outputs": [
    {
     "name": "stdout",
     "output_type": "stream",
     "text": [
      "Значение mse равно 0.8017661964648802\n",
      "Значение rmse равно 0.8954139804944304\n"
     ]
    }
   ],
   "source": [
    "mse = mean_squared_error(target_valid, predicted_valid)\n",
    "rmse = np.sqrt(mse)\n",
    "print('Значение mse равно', mse)\n",
    "print('Значение rmse равно', rmse)"
   ]
  },
  {
   "cell_type": "markdown",
   "metadata": {},
   "source": [
    "Корень из средней квадратичной ошибки составил 0,89 тыс. баррелей"
   ]
  },
  {
   "cell_type": "markdown",
   "metadata": {},
   "source": [
    "**Вывод**\n",
    "\n",
    "* Модель очень качественно определяет объёмы запаса\n",
    "* Предсказанный средний объём равен запасов равен 69,3 тыс. баррелей нефти, что близко к реальным значениям\n",
    "* Значение RMSE крайне мало и равно 0,89 тыс. баррелей нефти\n",
    "* Полученные выводы необходимо ставить под сомнение, так как входные данные с высокой вероятностью недостоверны"
   ]
  },
  {
   "cell_type": "markdown",
   "metadata": {},
   "source": [
    "[Содержание](#title)"
   ]
  },
  {
   "cell_type": "markdown",
   "metadata": {},
   "source": [
    "## 2.3 Обучение и проверка региона gamma <a name=\"2.3\"></a>"
   ]
  },
  {
   "cell_type": "markdown",
   "metadata": {},
   "source": [
    "### 2.3.1 Разбитие данных на обучающуюся и валидационную выборку"
   ]
  },
  {
   "cell_type": "markdown",
   "metadata": {},
   "source": [
    "Воспользуемся функцией **df_split** для создания выборок. Из признаков удалим столбец **id**, так как он не несёт полезной нагрузки и может негативно повлиять на результаты обучения."
   ]
  },
  {
   "cell_type": "code",
   "execution_count": 23,
   "metadata": {},
   "outputs": [
    {
     "name": "stdout",
     "output_type": "stream",
     "text": [
      "Размеры обучающих выборок (75000, 3) и (75000,)\n",
      "Размеры валидационных выборок (25000, 3) и (25000,)\n"
     ]
    }
   ],
   "source": [
    "features_train, features_valid, target_train, target_valid = df_split(gamma, ['id', 'product'], 'product', 0.25, RNG)\n",
    "print(f'Размеры обучающих выборок {features_train.shape} и {target_train.shape}')\n",
    "print(f'Размеры валидационных выборок {features_valid.shape} и {target_valid.shape}')"
   ]
  },
  {
   "cell_type": "markdown",
   "metadata": {},
   "source": [
    "### 2.3.2 Обучение модели и предсказания для региона gamma"
   ]
  },
  {
   "cell_type": "markdown",
   "metadata": {},
   "source": [
    "Обучим модель на основе линейной регрессии"
   ]
  },
  {
   "cell_type": "code",
   "execution_count": 24,
   "metadata": {},
   "outputs": [],
   "source": [
    "model = LinearRegression()\n",
    "model.fit(features_train, target_train)\n",
    "predicted_valid = model.predict(features_valid)"
   ]
  },
  {
   "cell_type": "markdown",
   "metadata": {},
   "source": [
    "Сравним правильные ответы и предсказания на валидационной выборке"
   ]
  },
  {
   "cell_type": "code",
   "execution_count": 25,
   "metadata": {},
   "outputs": [
    {
     "data": {
      "text/html": [
       "<div>\n",
       "<style scoped>\n",
       "    .dataframe tbody tr th:only-of-type {\n",
       "        vertical-align: middle;\n",
       "    }\n",
       "\n",
       "    .dataframe tbody tr th {\n",
       "        vertical-align: top;\n",
       "    }\n",
       "\n",
       "    .dataframe thead th {\n",
       "        text-align: right;\n",
       "    }\n",
       "</style>\n",
       "<table border=\"1\" class=\"dataframe\">\n",
       "  <thead>\n",
       "    <tr style=\"text-align: right;\">\n",
       "      <th></th>\n",
       "      <th></th>\n",
       "      <th>product</th>\n",
       "      <th>predict</th>\n",
       "    </tr>\n",
       "  </thead>\n",
       "  <tbody>\n",
       "    <tr>\n",
       "      <td rowspan=\"5\" valign=\"top\">head</td>\n",
       "      <td>42083</td>\n",
       "      <td>147.451978</td>\n",
       "      <td>94.075161</td>\n",
       "    </tr>\n",
       "    <tr>\n",
       "      <td>71825</td>\n",
       "      <td>128.711794</td>\n",
       "      <td>122.604414</td>\n",
       "    </tr>\n",
       "    <tr>\n",
       "      <td>99535</td>\n",
       "      <td>106.628185</td>\n",
       "      <td>80.055039</td>\n",
       "    </tr>\n",
       "    <tr>\n",
       "      <td>47879</td>\n",
       "      <td>128.787131</td>\n",
       "      <td>100.175906</td>\n",
       "    </tr>\n",
       "    <tr>\n",
       "      <td>36734</td>\n",
       "      <td>159.328488</td>\n",
       "      <td>89.804044</td>\n",
       "    </tr>\n",
       "    <tr>\n",
       "      <td rowspan=\"5\" valign=\"top\">tail</td>\n",
       "      <td>56405</td>\n",
       "      <td>114.783531</td>\n",
       "      <td>92.274315</td>\n",
       "    </tr>\n",
       "    <tr>\n",
       "      <td>50954</td>\n",
       "      <td>48.814291</td>\n",
       "      <td>93.406866</td>\n",
       "    </tr>\n",
       "    <tr>\n",
       "      <td>99121</td>\n",
       "      <td>152.196856</td>\n",
       "      <td>67.803679</td>\n",
       "    </tr>\n",
       "    <tr>\n",
       "      <td>4170</td>\n",
       "      <td>137.501887</td>\n",
       "      <td>84.156844</td>\n",
       "    </tr>\n",
       "    <tr>\n",
       "      <td>18144</td>\n",
       "      <td>125.854138</td>\n",
       "      <td>127.484202</td>\n",
       "    </tr>\n",
       "  </tbody>\n",
       "</table>\n",
       "</div>"
      ],
      "text/plain": [
       "               product     predict\n",
       "head 42083  147.451978   94.075161\n",
       "     71825  128.711794  122.604414\n",
       "     99535  106.628185   80.055039\n",
       "     47879  128.787131  100.175906\n",
       "     36734  159.328488   89.804044\n",
       "tail 56405  114.783531   92.274315\n",
       "     50954   48.814291   93.406866\n",
       "     99121  152.196856   67.803679\n",
       "     4170   137.501887   84.156844\n",
       "     18144  125.854138  127.484202"
      ]
     },
     "execution_count": 25,
     "metadata": {},
     "output_type": "execute_result"
    }
   ],
   "source": [
    "gamma_predict = pd.DataFrame(target_valid)\n",
    "gamma_predict['predict'] = predicted_valid\n",
    "review(gamma_predict)"
   ]
  },
  {
   "cell_type": "markdown",
   "metadata": {},
   "source": [
    "Выведим график пересечения предсказаний с правильными ответами"
   ]
  },
  {
   "cell_type": "code",
   "execution_count": 26,
   "metadata": {},
   "outputs": [
    {
     "data": {
      "image/png": "[encoded data removed]",
      "text/plain": [
       "<Figure size 1152x864 with 1 Axes>"
      ]
     },
     "metadata": {},
     "output_type": "display_data"
    }
   ],
   "source": [
    "fig = plt.figure(figsize=(16,12))\n",
    "ax = sns.regplot(x=\"product\", y=\"predict\", data = gamma_predict, x_bins=20)\n",
    "plt.title(\"График пересечения предсказаний с правильными ответами\")\n",
    "ax.set_xlabel('Правильные ответы')\n",
    "ax.set_ylabel('Предсказания')\n",
    "ax.set(ylim=(60, 120))\n",
    "ax.set(xlim=(20, 160))\n",
    "plt.show()"
   ]
  },
  {
   "cell_type": "markdown",
   "metadata": {},
   "source": [
    "Линия регрессии имеет положительную зависимость, однако является слишком пологой, поэтому предсказанные значения имеют очень низкую точность."
   ]
  },
  {
   "cell_type": "markdown",
   "metadata": {},
   "source": [
    "### 2.3.3 Расчёт среднего запаса и RSME"
   ]
  },
  {
   "cell_type": "markdown",
   "metadata": {},
   "source": [
    "Произведем расчёт среднего"
   ]
  },
  {
   "cell_type": "code",
   "execution_count": 27,
   "metadata": {},
   "outputs": [
    {
     "name": "stdout",
     "output_type": "stream",
     "text": [
      "Реальный средний объём запаса 94.87348818660215\n",
      "Предсказанный средний объём запаса 95.09859933591373\n"
     ]
    }
   ],
   "source": [
    "gamma_real_mean_product = gamma_predict['product'].mean()\n",
    "gamma_predicted_mean_product = gamma_predict['predict'].mean()\n",
    "print('Реальный средний объём запаса', gamma_real_mean_product)\n",
    "print('Предсказанный средний объём запаса', gamma_predicted_mean_product)"
   ]
  },
  {
   "cell_type": "markdown",
   "metadata": {},
   "source": [
    "Произведем расчёт RSME"
   ]
  },
  {
   "cell_type": "code",
   "execution_count": 28,
   "metadata": {},
   "outputs": [
    {
     "name": "stdout",
     "output_type": "stream",
     "text": [
      "Значение mse равно 1610.2587969766078\n",
      "Значение rmse равно 40.12803006598514\n"
     ]
    }
   ],
   "source": [
    "mse = mean_squared_error(target_valid, predicted_valid)\n",
    "rmse = np.sqrt(mse)\n",
    "print('Значение mse равно', mse)\n",
    "print('Значение rmse равно', rmse)"
   ]
  },
  {
   "cell_type": "markdown",
   "metadata": {},
   "source": [
    "Корень из средней квадратичной ошибки составил 0,89 тыс. баррелей"
   ]
  },
  {
   "cell_type": "markdown",
   "metadata": {},
   "source": [
    "**Вывод**\n",
    "\n",
    "* Модель некорректно определяет значения объёмов запаса\n",
    "* Предсказанный средний объём равен запасов равен 95,1 тыс. баррелей нефти, что близко к реальным значениям\n",
    "* Значение RMSE равно 40.1 тыс. баррелей нефти"
   ]
  },
  {
   "cell_type": "markdown",
   "metadata": {},
   "source": [
    "[Содержание](#title)"
   ]
  },
  {
   "cell_type": "markdown",
   "metadata": {},
   "source": [
    "## 2.4 Вывод"
   ]
  },
  {
   "cell_type": "markdown",
   "metadata": {},
   "source": [
    "Полученные модели, кроме региона **beta**, малопригодны для определения запасов нефти и несут высокие риски. Для повышения качества можно использовать другие методы построения модели и накопить более обширную базу данных."
   ]
  },
  {
   "cell_type": "markdown",
   "metadata": {},
   "source": [
    "# 3. Подготовка к расчёту прибыли <a name=\"3\"></a>"
   ]
  },
  {
   "cell_type": "markdown",
   "metadata": {},
   "source": [
    "Сохраним значения переменных"
   ]
  },
  {
   "cell_type": "code",
   "execution_count": 29,
   "metadata": {},
   "outputs": [
    {
     "name": "stdout",
     "output_type": "stream",
     "text": [
      "Общий бюджет равен 10000000 тыс. рублей\n",
      "При разведке исследуют 500 скважин\n",
      "Из которых выбирают 200  самых прибыльных скважин\n",
      "Стоимость тысячи баррелей нефти равна 450 тыс. рублей\n"
     ]
    }
   ],
   "source": [
    "BUDGET = 10**7\n",
    "MAX_RESEARCH = 500\n",
    "WELL_RESEARCH = 200\n",
    "PRICE_PER_BARREL = 450\n",
    "print(f'Общий бюджет равен {BUDGET} тыс. рублей')\n",
    "print(f'При разведке исследуют {MAX_RESEARCH} скважин')\n",
    "print(f'Из которых выбирают {WELL_RESEARCH}  самых прибыльных скважин')\n",
    "print(f'Стоимость тысячи баррелей нефти равна {PRICE_PER_BARREL} тыс. рублей')"
   ]
  },
  {
   "cell_type": "markdown",
   "metadata": {},
   "source": [
    "## 3.1 Рассчёт достаточного объём сырья для безубыточной разработки новой скважины"
   ]
  },
  {
   "cell_type": "markdown",
   "metadata": {},
   "source": [
    "Для расчёта поделим общий бюджет на количество разрабатываемых скважин"
   ]
  },
  {
   "cell_type": "code",
   "execution_count": 30,
   "metadata": {},
   "outputs": [
    {
     "name": "stdout",
     "output_type": "stream",
     "text": [
      "Точка безубыточности для разработки скважины составляет 50000.0 тыс. рублей\n",
      "Минимальное количество запасов нефти в скважине для получения прибыли составляет 111.11 тыс. баррелей\n"
     ]
    }
   ],
   "source": [
    "well_drilling_price = BUDGET / WELL_RESEARCH\n",
    "print(f'Точка безубыточности для разработки скважины составляет {well_drilling_price} тыс. рублей')\n",
    "well_reserves = well_drilling_price / PRICE_PER_BARREL\n",
    "print('Минимальное количество запасов нефти в скважине для получения прибыли составляет {:.2f} тыс. баррелей'.format(well_reserves))"
   ]
  },
  {
   "cell_type": "markdown",
   "metadata": {},
   "source": [
    "Сравним полученный объём сырья со средним запасом в каждом регионе"
   ]
  },
  {
   "cell_type": "code",
   "execution_count": 31,
   "metadata": {},
   "outputs": [
    {
     "data": {
      "text/html": [
       "<div>\n",
       "<style scoped>\n",
       "    .dataframe tbody tr th:only-of-type {\n",
       "        vertical-align: middle;\n",
       "    }\n",
       "\n",
       "    .dataframe tbody tr th {\n",
       "        vertical-align: top;\n",
       "    }\n",
       "\n",
       "    .dataframe thead th {\n",
       "        text-align: right;\n",
       "    }\n",
       "</style>\n",
       "<table border=\"1\" class=\"dataframe\">\n",
       "  <thead>\n",
       "    <tr style=\"text-align: right;\">\n",
       "      <th></th>\n",
       "      <th>alpha_mean</th>\n",
       "      <th>beta_mean</th>\n",
       "      <th>gamma_mean</th>\n",
       "      <th>well_reserves</th>\n",
       "    </tr>\n",
       "  </thead>\n",
       "  <tbody>\n",
       "    <tr>\n",
       "      <td>0</td>\n",
       "      <td>92.850624</td>\n",
       "      <td>69.273712</td>\n",
       "      <td>94.873488</td>\n",
       "      <td>111.111111</td>\n",
       "    </tr>\n",
       "  </tbody>\n",
       "</table>\n",
       "</div>"
      ],
      "text/plain": [
       "   alpha_mean  beta_mean  gamma_mean  well_reserves\n",
       "0   92.850624  69.273712   94.873488     111.111111"
      ]
     },
     "execution_count": 31,
     "metadata": {},
     "output_type": "execute_result"
    }
   ],
   "source": [
    "data = {'alpha_mean': [alpha_real_mean_product],\n",
    "        'beta_mean': [beta_real_mean_product],\n",
    "        'gamma_mean': [gamma_real_mean_product],\n",
    "        'well_reserves': [well_reserves]}\n",
    "research = pd.DataFrame(data=data)\n",
    "research"
   ]
  },
  {
   "cell_type": "markdown",
   "metadata": {},
   "source": [
    "## 3.2 Вывод"
   ]
  },
  {
   "cell_type": "markdown",
   "metadata": {},
   "source": [
    "* Точка безубыточности для разработки скважины составляет 50000.0 тыс. рублей;\n",
    "* Минимальное количество запасов нефти в скважине для получения прибыли составляет 111.1 тыс. баррелей;\n",
    "* Средние запасы нефти во всех регионах существенно ниже требуемого минимального количества запасов, это значит, что ошибки при выборе скважин приведут к финансовым потерям."
   ]
  },
  {
   "cell_type": "markdown",
   "metadata": {},
   "source": [
    "[Содержание](#title)"
   ]
  },
  {
   "cell_type": "markdown",
   "metadata": {},
   "source": [
    "# 4. Расчёт прибыли по выбранным скважинам<a name=\"4\"></a>"
   ]
  },
  {
   "cell_type": "markdown",
   "metadata": {},
   "source": [
    "Произведем расчёт максимально возможной прибыли выбранных скважин по предсказаниям модели"
   ]
  },
  {
   "cell_type": "code",
   "execution_count": 32,
   "metadata": {},
   "outputs": [
    {
     "data": {
      "text/html": [
       "<div style=\"float: left; padding: 10px;\">\n",
       "        <p style='font-family:\"Courier New\", Courier, monospace'>review(alpha_sort)</p><div>\n",
       "<style scoped>\n",
       "    .dataframe tbody tr th:only-of-type {\n",
       "        vertical-align: middle;\n",
       "    }\n",
       "\n",
       "    .dataframe tbody tr th {\n",
       "        vertical-align: top;\n",
       "    }\n",
       "\n",
       "    .dataframe thead th {\n",
       "        text-align: right;\n",
       "    }\n",
       "</style>\n",
       "<table border=\"1\" class=\"dataframe\">\n",
       "  <thead>\n",
       "    <tr style=\"text-align: right;\">\n",
       "      <th></th>\n",
       "      <th></th>\n",
       "      <th>index</th>\n",
       "      <th>product</th>\n",
       "      <th>predict</th>\n",
       "      <th>profit, thousand rubles</th>\n",
       "    </tr>\n",
       "  </thead>\n",
       "  <tbody>\n",
       "    <tr>\n",
       "      <td rowspan=\"5\" valign=\"top\">head</td>\n",
       "      <td>0</td>\n",
       "      <td>93073</td>\n",
       "      <td>162.810993</td>\n",
       "      <td>180.192010</td>\n",
       "      <td>23264.946664</td>\n",
       "    </tr>\n",
       "    <tr>\n",
       "      <td>1</td>\n",
       "      <td>78948</td>\n",
       "      <td>162.153488</td>\n",
       "      <td>175.758271</td>\n",
       "      <td>22969.069644</td>\n",
       "    </tr>\n",
       "    <tr>\n",
       "      <td>2</td>\n",
       "      <td>95537</td>\n",
       "      <td>158.128561</td>\n",
       "      <td>171.721784</td>\n",
       "      <td>21157.852449</td>\n",
       "    </tr>\n",
       "    <tr>\n",
       "      <td>3</td>\n",
       "      <td>74946</td>\n",
       "      <td>168.479729</td>\n",
       "      <td>168.782147</td>\n",
       "      <td>25815.877926</td>\n",
       "    </tr>\n",
       "    <tr>\n",
       "      <td>4</td>\n",
       "      <td>95898</td>\n",
       "      <td>164.608224</td>\n",
       "      <td>168.271148</td>\n",
       "      <td>24073.700841</td>\n",
       "    </tr>\n",
       "    <tr>\n",
       "      <td rowspan=\"5\" valign=\"top\">tail</td>\n",
       "      <td>195</td>\n",
       "      <td>30211</td>\n",
       "      <td>139.484045</td>\n",
       "      <td>148.503523</td>\n",
       "      <td>12767.820146</td>\n",
       "    </tr>\n",
       "    <tr>\n",
       "      <td>196</td>\n",
       "      <td>97484</td>\n",
       "      <td>164.427796</td>\n",
       "      <td>148.478642</td>\n",
       "      <td>23992.508119</td>\n",
       "    </tr>\n",
       "    <tr>\n",
       "      <td>197</td>\n",
       "      <td>84185</td>\n",
       "      <td>164.091663</td>\n",
       "      <td>148.459006</td>\n",
       "      <td>23841.248346</td>\n",
       "    </tr>\n",
       "    <tr>\n",
       "      <td>198</td>\n",
       "      <td>70880</td>\n",
       "      <td>145.533587</td>\n",
       "      <td>148.443983</td>\n",
       "      <td>15490.114174</td>\n",
       "    </tr>\n",
       "    <tr>\n",
       "      <td>199</td>\n",
       "      <td>77851</td>\n",
       "      <td>136.803646</td>\n",
       "      <td>148.369019</td>\n",
       "      <td>11561.640813</td>\n",
       "    </tr>\n",
       "  </tbody>\n",
       "</table>\n",
       "</div>\n",
       "        </div>\n",
       "<div style=\"float: left; padding: 10px;\">\n",
       "        <p style='font-family:\"Courier New\", Courier, monospace'>review(beta_sort)</p><div>\n",
       "<style scoped>\n",
       "    .dataframe tbody tr th:only-of-type {\n",
       "        vertical-align: middle;\n",
       "    }\n",
       "\n",
       "    .dataframe tbody tr th {\n",
       "        vertical-align: top;\n",
       "    }\n",
       "\n",
       "    .dataframe thead th {\n",
       "        text-align: right;\n",
       "    }\n",
       "</style>\n",
       "<table border=\"1\" class=\"dataframe\">\n",
       "  <thead>\n",
       "    <tr style=\"text-align: right;\">\n",
       "      <th></th>\n",
       "      <th></th>\n",
       "      <th>index</th>\n",
       "      <th>product</th>\n",
       "      <th>predict</th>\n",
       "      <th>profit, thousand rubles</th>\n",
       "    </tr>\n",
       "  </thead>\n",
       "  <tbody>\n",
       "    <tr>\n",
       "      <td rowspan=\"5\" valign=\"top\">head</td>\n",
       "      <td>0</td>\n",
       "      <td>55165</td>\n",
       "      <td>137.945408</td>\n",
       "      <td>139.906443</td>\n",
       "      <td>12075.433483</td>\n",
       "    </tr>\n",
       "    <tr>\n",
       "      <td>1</td>\n",
       "      <td>42738</td>\n",
       "      <td>137.945408</td>\n",
       "      <td>139.853002</td>\n",
       "      <td>12075.433483</td>\n",
       "    </tr>\n",
       "    <tr>\n",
       "      <td>2</td>\n",
       "      <td>19483</td>\n",
       "      <td>137.945408</td>\n",
       "      <td>139.724252</td>\n",
       "      <td>12075.433483</td>\n",
       "    </tr>\n",
       "    <tr>\n",
       "      <td>3</td>\n",
       "      <td>14041</td>\n",
       "      <td>137.945408</td>\n",
       "      <td>139.704776</td>\n",
       "      <td>12075.433483</td>\n",
       "    </tr>\n",
       "    <tr>\n",
       "      <td>4</td>\n",
       "      <td>33785</td>\n",
       "      <td>137.945408</td>\n",
       "      <td>139.672587</td>\n",
       "      <td>12075.433483</td>\n",
       "    </tr>\n",
       "    <tr>\n",
       "      <td rowspan=\"5\" valign=\"top\">tail</td>\n",
       "      <td>195</td>\n",
       "      <td>86344</td>\n",
       "      <td>137.945408</td>\n",
       "      <td>138.437833</td>\n",
       "      <td>12075.433483</td>\n",
       "    </tr>\n",
       "    <tr>\n",
       "      <td>196</td>\n",
       "      <td>24064</td>\n",
       "      <td>137.945408</td>\n",
       "      <td>138.434826</td>\n",
       "      <td>12075.433483</td>\n",
       "    </tr>\n",
       "    <tr>\n",
       "      <td>197</td>\n",
       "      <td>42635</td>\n",
       "      <td>137.945408</td>\n",
       "      <td>138.431997</td>\n",
       "      <td>12075.433483</td>\n",
       "    </tr>\n",
       "    <tr>\n",
       "      <td>198</td>\n",
       "      <td>1573</td>\n",
       "      <td>137.945408</td>\n",
       "      <td>138.431625</td>\n",
       "      <td>12075.433483</td>\n",
       "    </tr>\n",
       "    <tr>\n",
       "      <td>199</td>\n",
       "      <td>35636</td>\n",
       "      <td>137.945408</td>\n",
       "      <td>138.430903</td>\n",
       "      <td>12075.433483</td>\n",
       "    </tr>\n",
       "  </tbody>\n",
       "</table>\n",
       "</div>\n",
       "        </div>"
      ],
      "text/plain": [
       "<__main__.Explorer.show at 0x7f586d643d50>"
      ]
     },
     "metadata": {},
     "output_type": "display_data"
    },
    {
     "data": {
      "text/html": [
       "<div style=\"float: left; padding: 10px;\">\n",
       "        <p style='font-family:\"Courier New\", Courier, monospace'>review(gamma_sort)</p><div>\n",
       "<style scoped>\n",
       "    .dataframe tbody tr th:only-of-type {\n",
       "        vertical-align: middle;\n",
       "    }\n",
       "\n",
       "    .dataframe tbody tr th {\n",
       "        vertical-align: top;\n",
       "    }\n",
       "\n",
       "    .dataframe thead th {\n",
       "        text-align: right;\n",
       "    }\n",
       "</style>\n",
       "<table border=\"1\" class=\"dataframe\">\n",
       "  <thead>\n",
       "    <tr style=\"text-align: right;\">\n",
       "      <th></th>\n",
       "      <th></th>\n",
       "      <th>index</th>\n",
       "      <th>product</th>\n",
       "      <th>predict</th>\n",
       "      <th>profit, thousand rubles</th>\n",
       "    </tr>\n",
       "  </thead>\n",
       "  <tbody>\n",
       "    <tr>\n",
       "      <td rowspan=\"5\" valign=\"top\">head</td>\n",
       "      <td>0</td>\n",
       "      <td>6647</td>\n",
       "      <td>152.294162</td>\n",
       "      <td>174.573336</td>\n",
       "      <td>18532.372691</td>\n",
       "    </tr>\n",
       "    <tr>\n",
       "      <td>1</td>\n",
       "      <td>98619</td>\n",
       "      <td>175.103291</td>\n",
       "      <td>166.796364</td>\n",
       "      <td>28796.481016</td>\n",
       "    </tr>\n",
       "    <tr>\n",
       "      <td>2</td>\n",
       "      <td>29787</td>\n",
       "      <td>125.535602</td>\n",
       "      <td>164.518817</td>\n",
       "      <td>6491.020866</td>\n",
       "    </tr>\n",
       "    <tr>\n",
       "      <td>3</td>\n",
       "      <td>64380</td>\n",
       "      <td>122.460897</td>\n",
       "      <td>164.513090</td>\n",
       "      <td>5107.403490</td>\n",
       "    </tr>\n",
       "    <tr>\n",
       "      <td>4</td>\n",
       "      <td>17415</td>\n",
       "      <td>142.806484</td>\n",
       "      <td>163.097615</td>\n",
       "      <td>14262.917650</td>\n",
       "    </tr>\n",
       "    <tr>\n",
       "      <td rowspan=\"5\" valign=\"top\">tail</td>\n",
       "      <td>195</td>\n",
       "      <td>7969</td>\n",
       "      <td>151.798326</td>\n",
       "      <td>143.670927</td>\n",
       "      <td>18309.246585</td>\n",
       "    </tr>\n",
       "    <tr>\n",
       "      <td>196</td>\n",
       "      <td>7298</td>\n",
       "      <td>107.076173</td>\n",
       "      <td>143.583509</td>\n",
       "      <td>-1815.721947</td>\n",
       "    </tr>\n",
       "    <tr>\n",
       "      <td>197</td>\n",
       "      <td>80451</td>\n",
       "      <td>180.242375</td>\n",
       "      <td>143.548929</td>\n",
       "      <td>31109.068811</td>\n",
       "    </tr>\n",
       "    <tr>\n",
       "      <td>198</td>\n",
       "      <td>34854</td>\n",
       "      <td>137.672958</td>\n",
       "      <td>143.464527</td>\n",
       "      <td>11952.830876</td>\n",
       "    </tr>\n",
       "    <tr>\n",
       "      <td>199</td>\n",
       "      <td>42856</td>\n",
       "      <td>124.168831</td>\n",
       "      <td>143.430057</td>\n",
       "      <td>5875.974138</td>\n",
       "    </tr>\n",
       "  </tbody>\n",
       "</table>\n",
       "</div>\n",
       "        </div>\n",
       "<div style=\"float: left; padding: 10px;\">\n",
       "        <p style='font-family:\"Courier New\", Courier, monospace'>gross_profit_table</p><div>\n",
       "<style scoped>\n",
       "    .dataframe tbody tr th:only-of-type {\n",
       "        vertical-align: middle;\n",
       "    }\n",
       "\n",
       "    .dataframe tbody tr th {\n",
       "        vertical-align: top;\n",
       "    }\n",
       "\n",
       "    .dataframe thead th {\n",
       "        text-align: right;\n",
       "    }\n",
       "</style>\n",
       "<table border=\"1\" class=\"dataframe\">\n",
       "  <thead>\n",
       "    <tr style=\"text-align: right;\">\n",
       "      <th></th>\n",
       "      <th>profit, thousand rubles</th>\n",
       "    </tr>\n",
       "    <tr>\n",
       "      <th>region</th>\n",
       "      <th></th>\n",
       "    </tr>\n",
       "  </thead>\n",
       "  <tbody>\n",
       "    <tr>\n",
       "      <td>alpha</td>\n",
       "      <td>3534671</td>\n",
       "    </tr>\n",
       "    <tr>\n",
       "      <td>beta</td>\n",
       "      <td>2415087</td>\n",
       "    </tr>\n",
       "    <tr>\n",
       "      <td>gamma</td>\n",
       "      <td>2370344</td>\n",
       "    </tr>\n",
       "  </tbody>\n",
       "</table>\n",
       "</div>\n",
       "        </div>"
      ],
      "text/plain": [
       "<__main__.Explorer.show at 0x7f586d686fd0>"
      ]
     },
     "metadata": {},
     "output_type": "display_data"
    },
    {
     "name": "stdout",
     "output_type": "stream",
     "text": [
      "Убыточных скважин alpha 8\n",
      "Убыточных скважин beta 0\n",
      "Убыточных скважин gamma 32\n"
     ]
    }
   ],
   "source": [
    "alpha_sort = alpha_predict.sort_values('predict', ascending=False).reset_index()[0:WELL_RESEARCH]\n",
    "beta_sort = beta_predict.sort_values('predict', ascending=False).reset_index()[0:WELL_RESEARCH]\n",
    "gamma_sort = gamma_predict.sort_values('predict', ascending=False).reset_index()[0:WELL_RESEARCH]\n",
    "\n",
    "alpha_sort['profit, thousand rubles'] = alpha_sort['product'] * PRICE_PER_BARREL - well_drilling_price\n",
    "\n",
    "beta_sort['profit, thousand rubles'] = beta_sort['product'] * PRICE_PER_BARREL - well_drilling_price\n",
    "\n",
    "gamma_sort['profit, thousand rubles'] = gamma_sort['product'] * PRICE_PER_BARREL - well_drilling_price\n",
    "\n",
    "\n",
    "gross_profit_table = pd.DataFrame({'profit, thousand rubles': [round(alpha_sort['profit, thousand rubles'].sum()),\n",
    "                                                       round(beta_sort['profit, thousand rubles'].sum()),\n",
    "                                                       round(gamma_sort['profit, thousand rubles'].sum())],\n",
    "                                   'region': ['alpha', 'beta', 'gamma']}).set_index('region')\n",
    "\n",
    "\n",
    "display(explorer.show('review(alpha_sort)', 'review(beta_sort)'))\n",
    "display(explorer.show('review(gamma_sort)', 'gross_profit_table'))\n",
    "\n",
    "print('Убыточных скважин alpha', len(alpha_sort.query('product < 111.12')))\n",
    "print('Убыточных скважин beta', len(beta_sort.query('product < 111.12')))\n",
    "print('Убыточных скважин gamma', len(gamma_sort.query('product < 111.12')))"
   ]
  },
  {
   "cell_type": "markdown",
   "metadata": {},
   "source": [
    "**Вывод**\n",
    "\n",
    "Полученные результаты показывают самую высокую валовую прибыль в регионе **alpha**. Регион **beta** показывает положительную валовую прибыль, однако качество данных вызывает сомнение. В регионе **gamma** зафиксирована положительная валовая прибыль, но наблюдается высокое значение (больше 10%) убыточных скважин."
   ]
  },
  {
   "cell_type": "markdown",
   "metadata": {},
   "source": [
    "[Содержание](#title)"
   ]
  },
  {
   "cell_type": "markdown",
   "metadata": {},
   "source": [
    "# 5. Расчёт рисков и прибыли для каждого региона <a name=\"5\"></a>"
   ]
  },
  {
   "cell_type": "markdown",
   "metadata": {},
   "source": [
    "Применим технику Bootstrap с 1000 выборок, чтобы найти распределение прибыли, 95%-й доверительный интервал и риск убытков.  "
   ]
  },
  {
   "cell_type": "code",
   "execution_count": 33,
   "metadata": {},
   "outputs": [
    {
     "data": {
      "text/html": [
       "<style  type=\"text/css\" >\n",
       "    #T_a192bf76_d344_11ea_a615_02420a395c27row1_col0 {\n",
       "            background-color:  lightgreen;\n",
       "            : ;\n",
       "        }    #T_a192bf76_d344_11ea_a615_02420a395c27row1_col1 {\n",
       "            background-color:  lightgreen;\n",
       "            : ;\n",
       "        }    #T_a192bf76_d344_11ea_a615_02420a395c27row1_col2 {\n",
       "            background-color:  lightgreen;\n",
       "            : ;\n",
       "        }    #T_a192bf76_d344_11ea_a615_02420a395c27row1_col3 {\n",
       "            background-color:  lightgreen;\n",
       "            : ;\n",
       "        }    #T_a192bf76_d344_11ea_a615_02420a395c27row2_col0 {\n",
       "            : ;\n",
       "            background-color:  red;\n",
       "        }    #T_a192bf76_d344_11ea_a615_02420a395c27row2_col1 {\n",
       "            : ;\n",
       "            background-color:  red;\n",
       "        }    #T_a192bf76_d344_11ea_a615_02420a395c27row2_col2 {\n",
       "            : ;\n",
       "            background-color:  red;\n",
       "        }    #T_a192bf76_d344_11ea_a615_02420a395c27row2_col3 {\n",
       "            : ;\n",
       "            background-color:  red;\n",
       "        }</style><table id=\"T_a192bf76_d344_11ea_a615_02420a395c27\" ><thead>    <tr>        <th class=\"blank level0\" ></th>        <th class=\"col_heading level0 col0\" >mean_gross_profit, thousand rubles</th>        <th class=\"col_heading level0 col1\" >probability_of_loss</th>        <th class=\"col_heading level0 col2\" >min_confidence_interval_of_95%</th>        <th class=\"col_heading level0 col3\" >max_confidence_interval_of_95%</th>    </tr>    <tr>        <th class=\"index_name level0\" >region</th>        <th class=\"blank\" ></th>        <th class=\"blank\" ></th>        <th class=\"blank\" ></th>        <th class=\"blank\" ></th>    </tr></thead><tbody>\n",
       "                <tr>\n",
       "                        <th id=\"T_a192bf76_d344_11ea_a615_02420a395c27level0_row0\" class=\"row_heading level0 row0\" >alpha</th>\n",
       "                        <td id=\"T_a192bf76_d344_11ea_a615_02420a395c27row0_col0\" class=\"data row0 col0\" >505101</td>\n",
       "                        <td id=\"T_a192bf76_d344_11ea_a615_02420a395c27row0_col1\" class=\"data row0 col1\" >0.036</td>\n",
       "                        <td id=\"T_a192bf76_d344_11ea_a615_02420a395c27row0_col2\" class=\"data row0 col2\" >487977</td>\n",
       "                        <td id=\"T_a192bf76_d344_11ea_a615_02420a395c27row0_col3\" class=\"data row0 col3\" >522223</td>\n",
       "            </tr>\n",
       "            <tr>\n",
       "                        <th id=\"T_a192bf76_d344_11ea_a615_02420a395c27level0_row1\" class=\"row_heading level0 row1\" >beta</th>\n",
       "                        <td id=\"T_a192bf76_d344_11ea_a615_02420a395c27row1_col0\" class=\"data row1 col0\" >534873</td>\n",
       "                        <td id=\"T_a192bf76_d344_11ea_a615_02420a395c27row1_col1\" class=\"data row1 col1\" >0.007</td>\n",
       "                        <td id=\"T_a192bf76_d344_11ea_a615_02420a395c27row1_col2\" class=\"data row1 col2\" >521686</td>\n",
       "                        <td id=\"T_a192bf76_d344_11ea_a615_02420a395c27row1_col3\" class=\"data row1 col3\" >548059</td>\n",
       "            </tr>\n",
       "            <tr>\n",
       "                        <th id=\"T_a192bf76_d344_11ea_a615_02420a395c27level0_row2\" class=\"row_heading level0 row2\" >gamma</th>\n",
       "                        <td id=\"T_a192bf76_d344_11ea_a615_02420a395c27row2_col0\" class=\"data row2 col0\" >372805</td>\n",
       "                        <td id=\"T_a192bf76_d344_11ea_a615_02420a395c27row2_col1\" class=\"data row2 col1\" >0.091</td>\n",
       "                        <td id=\"T_a192bf76_d344_11ea_a615_02420a395c27row2_col2\" class=\"data row2 col2\" >355419</td>\n",
       "                        <td id=\"T_a192bf76_d344_11ea_a615_02420a395c27row2_col3\" class=\"data row2 col3\" >390191</td>\n",
       "            </tr>\n",
       "    </tbody></table>"
      ],
      "text/plain": [
       "<pandas.io.formats.style.Styler at 0x7f586dc137d0>"
      ]
     },
     "execution_count": 33,
     "metadata": {},
     "output_type": "execute_result"
    }
   ],
   "source": [
    "# функция для расчета прибыли по 200 самым высокодоходным скважинам, по результатам предсказаний\n",
    "def revenue(target, probabilities, count):\n",
    "    probs_sorted = probabilities.sort_values(ascending=False)\n",
    "    selected = target[probs_sorted.index][:count]\n",
    "    return selected.sum()*PRICE_PER_BARREL - well_drilling_price*count\n",
    "\n",
    "state = np.random.RandomState(RNG)\n",
    "\n",
    "# формируем массивы данных по каждому региону\n",
    "values_alpha = []\n",
    "values_beta = []\n",
    "values_gamma = []\n",
    "\n",
    "for i in range(1000):\n",
    "    \n",
    "    # формируем выборки для 500 разведок региона\n",
    "    target_subsample = alpha_predict['product'].sample(n=MAX_RESEARCH, replace=True, random_state=state)\n",
    "    probs_subsample = alpha_predict['predict'][target_subsample.index]\n",
    "    # считаем валовую прибыль по 200 лучшим скважинам после разведки\n",
    "    values_alpha.append(revenue(target_subsample, probs_subsample, WELL_RESEARCH))\n",
    "    \n",
    "    #повторяем для других регионов\n",
    "    target_subsample = beta_predict['product'].sample(n=MAX_RESEARCH, replace=True, random_state=state)\n",
    "    probs_subsample = beta_predict['predict'][target_subsample.index]\n",
    "    values_beta.append(revenue(target_subsample, probs_subsample, WELL_RESEARCH))\n",
    "    \n",
    "    target_subsample = gamma_predict['product'].sample(n=MAX_RESEARCH, replace=True, random_state=state)\n",
    "    probs_subsample = gamma_predict['predict'][target_subsample.index]\n",
    "    values_gamma.append(revenue(target_subsample, probs_subsample, WELL_RESEARCH))\n",
    "\n",
    "\n",
    "values_alpha = pd.Series(values_alpha)\n",
    "values_beta = pd.Series(values_beta)\n",
    "values_gamma = pd.Series(values_gamma)\n",
    "\n",
    "gross_profit_table = pd.DataFrame({'mean_gross_profit, thousand rubles': [values_alpha.mean(),\n",
    "                                                       values_beta.mean(),\n",
    "                                                       values_gamma.mean()],\n",
    "                                   'region': ['alpha', 'beta', 'gamma'],\n",
    "                                  'probability_of_loss': [(len(values_alpha[values_alpha<0])/len(values_alpha)),\n",
    "                                                         (len(values_beta[values_beta<0])/len(values_beta)),\n",
    "                                                         (len(values_gamma[values_gamma<0])/len(values_gamma))],\n",
    "                                  'min_confidence_interval_of_95%': [int((st.t.interval(0.95, len(values_alpha)-1,\n",
    "                                                                                        values_alpha.mean(), values_alpha.sem())[0])),\n",
    "                                                                    int((st.t.interval(0.95, len(values_beta)-1,\n",
    "                                                                                       values_beta.mean(), values_beta.sem())[0])),\n",
    "                                                                    int((st.t.interval(0.95, len(values_gamma)-1,\n",
    "                                                                                       values_gamma.mean(), values_gamma.sem())[0]))],\n",
    "                                  'max_confidence_interval_of_95%': [int((st.t.interval(0.95, len(values_alpha)-1,\n",
    "                                                                                        values_alpha.mean(), values_alpha.sem())[1])),\n",
    "                                                                    int((st.t.interval(0.95, len(values_beta)-1,\n",
    "                                                                                       values_beta.mean(), values_beta.sem())[1])),\n",
    "                                                                    int((st.t.interval(0.95, len(values_gamma)-1,\n",
    "                                                                                       values_gamma.mean(), values_gamma.sem())[1]))]}).\\\n",
    "set_index('region')\n",
    "\n",
    "gross_profit_table.style\\\n",
    ".highlight_max(['mean_gross_profit, thousand rubles','min_confidence_interval_of_95%', 'max_confidence_interval_of_95%']\n",
    "               ,color='lightgreen', axis = 0)\\\n",
    ".highlight_min(['probability_of_loss'],color='lightgreen', axis = 0)\\\n",
    ".highlight_min(['mean_gross_profit, thousand rubles','min_confidence_interval_of_95%', 'max_confidence_interval_of_95%']\n",
    "               ,color='red', axis = 0)\\\n",
    ".highlight_max(['probability_of_loss'],color='red', axis = 0)"
   ]
  },
  {
   "cell_type": "markdown",
   "metadata": {},
   "source": [
    "**Вывод**\n",
    "\n",
    "* Наилучшие показатели по всем пунктам обеспечивает регион **beta**, но входные данные должны быть перепроверены. Добыча в данный момент не рекомендована;\n",
    "* Худшие показатели по всем пунктам в регионе **gamma**, разработка в данном регионе слишком рискована. Риск убытков составляет более 9%;\n",
    "* Приемлимые показатели обеспечивает регион **alpha**, с вероятностью 95% валовая прибыль будет в интервале от 488 млн. рублей до 522 млн. рублей. Входные данные по данному региону с высокой долей вероятности реальны."
   ]
  },
  {
   "cell_type": "markdown",
   "metadata": {},
   "source": [
    "[Содержание](#title)"
   ]
  }
 ],
 "metadata": {
  "kernelspec": {
   "display_name": "Python 3",
   "language": "python",
   "name": "python3"
  },
  "language_info": {
   "codemirror_mode": {
    "name": "ipython",
    "version": 3
   },
   "file_extension": ".py",
   "mimetype": "text/x-python",
   "name": "python",
   "nbconvert_exporter": "python",
   "pygments_lexer": "ipython3",
   "version": "3.7.6"
  }
 },
 "nbformat": 4,
 "nbformat_minor": 2
}
