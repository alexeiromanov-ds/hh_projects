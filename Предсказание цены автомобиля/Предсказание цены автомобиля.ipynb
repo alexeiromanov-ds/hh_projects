{
 "cells": [
  {
   "cell_type": "markdown",
   "metadata": {},
   "source": [
    "# Описание проекта\n",
    "\n",
    "Сервис по продаже автомобилей с пробегом разрабатывает приложение для привлечения новых клиентов. В нём можно быстро узнать рыночную стоимость своего автомобиля. \n",
    "\n",
    "### Задачи проекта\n",
    "\n",
    "Обучить модель для определения рыночной стоимости автомобиля.\n",
    "\n",
    "Заказчику важны:\n",
    "\n",
    "- качество предсказания;\n",
    "- скорость предсказания;\n",
    "- время обучения.\n",
    "\n",
    "### Описание данных\n",
    "\n",
    "Данные находятся в файле `/datasets/autos.csv`\n",
    "\n",
    "Признаки:\n",
    "* `DateCrawled` — дата скачивания анкеты из базы\n",
    "* `VehicleType` — тип автомобильного кузова\n",
    "* `RegistrationYear` — год регистрации автомобиля\n",
    "* `Gearbox` — тип коробки передач\n",
    "* `Power` — мощность (л. с.)\n",
    "* `Model` — модель автомобиля\n",
    "* `Kilometer` — пробег (км)\n",
    "* `RegistrationMonth` — месяц регистрации автомобиля\n",
    "* `FuelType` — тип топлива\n",
    "* `Brand` — марка автомобиля\n",
    "* `NotRepaired` — была машина в ремонте или нет\n",
    "* `DateCreated` — дата создания анкеты\n",
    "* `NumberOfPictures` — количество фотографий автомобиля\n",
    "* `PostalCode` — почтовый индекс владельца анкеты (пользователя)\n",
    "* `LastSeen` — дата последней активности пользователя\n",
    "\n",
    "Целевой признак\n",
    "* `Price` — цена (евро)\n",
    "\n",
    "# Содержание <a name=\"title\"></a>\n",
    "\n",
    "[Импорт библиотек и задание констант](#import)\n",
    "1. [Загрузка и подготовка данных](#1)\n",
    "\n",
    "    1.1 [Обработка дубликатов](#1.1)\n",
    "    \n",
    "    1.2 [Обработка пропусков и удаление аномалий](#1.2)\n",
    "    \n",
    " \n",
    "2. [Обоснование алгоритма преобразования](#2)\n",
    "\n",
    "    2.1 [Обучение CatBoost](#2.1)\n",
    "    \n",
    "    2.2 [Обучение LightGBM](#2.2)\n",
    "\n",
    "    2.3 [Обучение логистической регрессии](#2.3)\n",
    "    \n",
    "    \n",
    "3. [Анализ моделей](#3)"
   ]
  },
  {
   "cell_type": "markdown",
   "metadata": {},
   "source": [
    "# Импорт библиотек и задание констант <a name=\"import\"></a>"
   ]
  },
  {
   "cell_type": "code",
   "execution_count": 1,
   "metadata": {},
   "outputs": [],
   "source": [
    "import pandas as pd\n",
    "import lightgbm as lgb\n",
    "import seaborn as sns\n",
    "import matplotlib.pyplot as plt\n",
    "import numpy as np\n",
    "import math\n",
    "\n",
    "from catboost import Pool, cv\n",
    "from sklearn.model_selection import train_test_split\n",
    "from sklearn.model_selection import cross_val_score\n",
    "from sklearn.metrics import make_scorer\n",
    "from sklearn.linear_model import LinearRegression\n",
    "import lightgbm as lgb\n",
    "from catboost import CatBoostRegressor\n",
    "from sklearn.metrics import mean_squared_error\n",
    "import warnings\n",
    "\n",
    "\n",
    "RNG = 42"
   ]
  },
  {
   "cell_type": "code",
   "execution_count": 2,
   "metadata": {},
   "outputs": [],
   "source": [
    "class Explorer:\n",
    "    class show(object):\n",
    "        template = \"\"\"<div style=\"float: left; padding: 10px;\">\n",
    "        <p style='font-family:\"Courier New\", Courier, monospace'>{0}</p>{1}\n",
    "        </div>\"\"\"\n",
    "\n",
    "        def __init__(self, *args):\n",
    "            self.args = args\n",
    "    \n",
    "        def _repr_html_(self):\n",
    "            return '\\n'.join(self.template.format(a, eval(a)._repr_html_()) for a in self.args)\n",
    "        \n",
    "    def hexbin(self, data, x, y):\n",
    "        data.plot(x = x, y = y, kind='hexbin', gridsize=20, figsize=(15, 10), sharex=False, grid=True)        \n",
    "\n",
    "explorer = Explorer()\n",
    "\n",
    "def review(data, i):\n",
    "    return pd.concat([data.head(i), data.tail(i)], keys=['head', 'tail'])"
   ]
  },
  {
   "cell_type": "markdown",
   "metadata": {},
   "source": [
    "[Содержание](#title)"
   ]
  },
  {
   "cell_type": "markdown",
   "metadata": {},
   "source": [
    "# 1. Загрузка и подготовка данных <a name=\"1\"></a>"
   ]
  },
  {
   "cell_type": "code",
   "execution_count": 3,
   "metadata": {},
   "outputs": [],
   "source": [
    "df = pd.read_csv(\"/datasets/autos.csv\")"
   ]
  },
  {
   "cell_type": "markdown",
   "metadata": {},
   "source": [
    "Посмотрим на данные"
   ]
  },
  {
   "cell_type": "code",
   "execution_count": 4,
   "metadata": {},
   "outputs": [
    {
     "data": {
      "text/html": [
       "<div>\n",
       "<style scoped>\n",
       "    .dataframe tbody tr th:only-of-type {\n",
       "        vertical-align: middle;\n",
       "    }\n",
       "\n",
       "    .dataframe tbody tr th {\n",
       "        vertical-align: top;\n",
       "    }\n",
       "\n",
       "    .dataframe thead th {\n",
       "        text-align: right;\n",
       "    }\n",
       "</style>\n",
       "<table border=\"1\" class=\"dataframe\">\n",
       "  <thead>\n",
       "    <tr style=\"text-align: right;\">\n",
       "      <th></th>\n",
       "      <th></th>\n",
       "      <th>DateCrawled</th>\n",
       "      <th>Price</th>\n",
       "      <th>VehicleType</th>\n",
       "      <th>RegistrationYear</th>\n",
       "      <th>Gearbox</th>\n",
       "      <th>Power</th>\n",
       "      <th>Model</th>\n",
       "      <th>Kilometer</th>\n",
       "      <th>RegistrationMonth</th>\n",
       "      <th>FuelType</th>\n",
       "      <th>Brand</th>\n",
       "      <th>NotRepaired</th>\n",
       "      <th>DateCreated</th>\n",
       "      <th>NumberOfPictures</th>\n",
       "      <th>PostalCode</th>\n",
       "      <th>LastSeen</th>\n",
       "    </tr>\n",
       "  </thead>\n",
       "  <tbody>\n",
       "    <tr>\n",
       "      <th rowspan=\"4\" valign=\"top\">head</th>\n",
       "      <th>0</th>\n",
       "      <td>2016-03-24 11:52:17</td>\n",
       "      <td>480</td>\n",
       "      <td>NaN</td>\n",
       "      <td>1993</td>\n",
       "      <td>manual</td>\n",
       "      <td>0</td>\n",
       "      <td>golf</td>\n",
       "      <td>150000</td>\n",
       "      <td>0</td>\n",
       "      <td>petrol</td>\n",
       "      <td>volkswagen</td>\n",
       "      <td>NaN</td>\n",
       "      <td>2016-03-24 00:00:00</td>\n",
       "      <td>0</td>\n",
       "      <td>70435</td>\n",
       "      <td>2016-04-07 03:16:57</td>\n",
       "    </tr>\n",
       "    <tr>\n",
       "      <th>1</th>\n",
       "      <td>2016-03-24 10:58:45</td>\n",
       "      <td>18300</td>\n",
       "      <td>coupe</td>\n",
       "      <td>2011</td>\n",
       "      <td>manual</td>\n",
       "      <td>190</td>\n",
       "      <td>NaN</td>\n",
       "      <td>125000</td>\n",
       "      <td>5</td>\n",
       "      <td>gasoline</td>\n",
       "      <td>audi</td>\n",
       "      <td>yes</td>\n",
       "      <td>2016-03-24 00:00:00</td>\n",
       "      <td>0</td>\n",
       "      <td>66954</td>\n",
       "      <td>2016-04-07 01:46:50</td>\n",
       "    </tr>\n",
       "    <tr>\n",
       "      <th>2</th>\n",
       "      <td>2016-03-14 12:52:21</td>\n",
       "      <td>9800</td>\n",
       "      <td>suv</td>\n",
       "      <td>2004</td>\n",
       "      <td>auto</td>\n",
       "      <td>163</td>\n",
       "      <td>grand</td>\n",
       "      <td>125000</td>\n",
       "      <td>8</td>\n",
       "      <td>gasoline</td>\n",
       "      <td>jeep</td>\n",
       "      <td>NaN</td>\n",
       "      <td>2016-03-14 00:00:00</td>\n",
       "      <td>0</td>\n",
       "      <td>90480</td>\n",
       "      <td>2016-04-05 12:47:46</td>\n",
       "    </tr>\n",
       "    <tr>\n",
       "      <th>3</th>\n",
       "      <td>2016-03-17 16:54:04</td>\n",
       "      <td>1500</td>\n",
       "      <td>small</td>\n",
       "      <td>2001</td>\n",
       "      <td>manual</td>\n",
       "      <td>75</td>\n",
       "      <td>golf</td>\n",
       "      <td>150000</td>\n",
       "      <td>6</td>\n",
       "      <td>petrol</td>\n",
       "      <td>volkswagen</td>\n",
       "      <td>no</td>\n",
       "      <td>2016-03-17 00:00:00</td>\n",
       "      <td>0</td>\n",
       "      <td>91074</td>\n",
       "      <td>2016-03-17 17:40:17</td>\n",
       "    </tr>\n",
       "    <tr>\n",
       "      <th rowspan=\"4\" valign=\"top\">tail</th>\n",
       "      <th>354365</th>\n",
       "      <td>2016-03-14 17:48:27</td>\n",
       "      <td>2200</td>\n",
       "      <td>NaN</td>\n",
       "      <td>2005</td>\n",
       "      <td>NaN</td>\n",
       "      <td>0</td>\n",
       "      <td>NaN</td>\n",
       "      <td>20000</td>\n",
       "      <td>1</td>\n",
       "      <td>NaN</td>\n",
       "      <td>sonstige_autos</td>\n",
       "      <td>NaN</td>\n",
       "      <td>2016-03-14 00:00:00</td>\n",
       "      <td>0</td>\n",
       "      <td>39576</td>\n",
       "      <td>2016-04-06 00:46:52</td>\n",
       "    </tr>\n",
       "    <tr>\n",
       "      <th>354366</th>\n",
       "      <td>2016-03-05 19:56:21</td>\n",
       "      <td>1199</td>\n",
       "      <td>convertible</td>\n",
       "      <td>2000</td>\n",
       "      <td>auto</td>\n",
       "      <td>101</td>\n",
       "      <td>fortwo</td>\n",
       "      <td>125000</td>\n",
       "      <td>3</td>\n",
       "      <td>petrol</td>\n",
       "      <td>smart</td>\n",
       "      <td>no</td>\n",
       "      <td>2016-03-05 00:00:00</td>\n",
       "      <td>0</td>\n",
       "      <td>26135</td>\n",
       "      <td>2016-03-11 18:17:12</td>\n",
       "    </tr>\n",
       "    <tr>\n",
       "      <th>354367</th>\n",
       "      <td>2016-03-19 18:57:12</td>\n",
       "      <td>9200</td>\n",
       "      <td>bus</td>\n",
       "      <td>1996</td>\n",
       "      <td>manual</td>\n",
       "      <td>102</td>\n",
       "      <td>transporter</td>\n",
       "      <td>150000</td>\n",
       "      <td>3</td>\n",
       "      <td>gasoline</td>\n",
       "      <td>volkswagen</td>\n",
       "      <td>no</td>\n",
       "      <td>2016-03-19 00:00:00</td>\n",
       "      <td>0</td>\n",
       "      <td>87439</td>\n",
       "      <td>2016-04-07 07:15:26</td>\n",
       "    </tr>\n",
       "    <tr>\n",
       "      <th>354368</th>\n",
       "      <td>2016-03-20 19:41:08</td>\n",
       "      <td>3400</td>\n",
       "      <td>wagon</td>\n",
       "      <td>2002</td>\n",
       "      <td>manual</td>\n",
       "      <td>100</td>\n",
       "      <td>golf</td>\n",
       "      <td>150000</td>\n",
       "      <td>6</td>\n",
       "      <td>gasoline</td>\n",
       "      <td>volkswagen</td>\n",
       "      <td>NaN</td>\n",
       "      <td>2016-03-20 00:00:00</td>\n",
       "      <td>0</td>\n",
       "      <td>40764</td>\n",
       "      <td>2016-03-24 12:45:21</td>\n",
       "    </tr>\n",
       "  </tbody>\n",
       "</table>\n",
       "</div>"
      ],
      "text/plain": [
       "                     DateCrawled  Price  VehicleType  RegistrationYear  \\\n",
       "head 0       2016-03-24 11:52:17    480          NaN              1993   \n",
       "     1       2016-03-24 10:58:45  18300        coupe              2011   \n",
       "     2       2016-03-14 12:52:21   9800          suv              2004   \n",
       "     3       2016-03-17 16:54:04   1500        small              2001   \n",
       "tail 354365  2016-03-14 17:48:27   2200          NaN              2005   \n",
       "     354366  2016-03-05 19:56:21   1199  convertible              2000   \n",
       "     354367  2016-03-19 18:57:12   9200          bus              1996   \n",
       "     354368  2016-03-20 19:41:08   3400        wagon              2002   \n",
       "\n",
       "            Gearbox  Power        Model  Kilometer  RegistrationMonth  \\\n",
       "head 0       manual      0         golf     150000                  0   \n",
       "     1       manual    190          NaN     125000                  5   \n",
       "     2         auto    163        grand     125000                  8   \n",
       "     3       manual     75         golf     150000                  6   \n",
       "tail 354365     NaN      0          NaN      20000                  1   \n",
       "     354366    auto    101       fortwo     125000                  3   \n",
       "     354367  manual    102  transporter     150000                  3   \n",
       "     354368  manual    100         golf     150000                  6   \n",
       "\n",
       "             FuelType           Brand NotRepaired          DateCreated  \\\n",
       "head 0         petrol      volkswagen         NaN  2016-03-24 00:00:00   \n",
       "     1       gasoline            audi         yes  2016-03-24 00:00:00   \n",
       "     2       gasoline            jeep         NaN  2016-03-14 00:00:00   \n",
       "     3         petrol      volkswagen          no  2016-03-17 00:00:00   \n",
       "tail 354365       NaN  sonstige_autos         NaN  2016-03-14 00:00:00   \n",
       "     354366    petrol           smart          no  2016-03-05 00:00:00   \n",
       "     354367  gasoline      volkswagen          no  2016-03-19 00:00:00   \n",
       "     354368  gasoline      volkswagen         NaN  2016-03-20 00:00:00   \n",
       "\n",
       "             NumberOfPictures  PostalCode             LastSeen  \n",
       "head 0                      0       70435  2016-04-07 03:16:57  \n",
       "     1                      0       66954  2016-04-07 01:46:50  \n",
       "     2                      0       90480  2016-04-05 12:47:46  \n",
       "     3                      0       91074  2016-03-17 17:40:17  \n",
       "tail 354365                 0       39576  2016-04-06 00:46:52  \n",
       "     354366                 0       26135  2016-03-11 18:17:12  \n",
       "     354367                 0       87439  2016-04-07 07:15:26  \n",
       "     354368                 0       40764  2016-03-24 12:45:21  "
      ]
     },
     "execution_count": 4,
     "metadata": {},
     "output_type": "execute_result"
    }
   ],
   "source": [
    "review(df, 4)"
   ]
  },
  {
   "cell_type": "markdown",
   "metadata": {},
   "source": [
    "Приведем названия столбцов к нижнему регистру для удобства написания кода"
   ]
  },
  {
   "cell_type": "code",
   "execution_count": 5,
   "metadata": {},
   "outputs": [],
   "source": [
    "df.columns = df.columns.str.lower()"
   ]
  },
  {
   "cell_type": "markdown",
   "metadata": {},
   "source": [
    "Получим признаки:\n",
    "\n",
    "* **datecrawled** — дата скачивания анкеты из базы\n",
    "* **vehicletype** — тип автомобильного кузова\n",
    "* **registrationyear** — год регистрации автомобиля\n",
    "* **gearbox** — тип коробки передач\n",
    "* **power** — мощность (л. с.)\n",
    "* **model** — модель автомобиля\n",
    "* **kilometer** — пробег (км)\n",
    "* **registrationmonth** — месяц регистрации автомобиля\n",
    "* **fueltype** — тип топлива\n",
    "* **brand** — марка автомобиля\n",
    "* **notrepaired** — была машина в ремонте или нет\n",
    "* **datecreated** — дата создания анкеты\n",
    "* **numberofpictures** — количество фотографий автомобиля\n",
    "* **postalcode** — почтовый индекс владельца анкеты (пользователя)\n",
    "* **lastseen** — дата последней активности пользователя\n",
    "\n",
    "Целевой признак:\n",
    "\n",
    "* **price** — цена (евро)"
   ]
  },
  {
   "cell_type": "markdown",
   "metadata": {},
   "source": [
    "Посмотрим информацию по датасету"
   ]
  },
  {
   "cell_type": "code",
   "execution_count": 6,
   "metadata": {},
   "outputs": [
    {
     "name": "stdout",
     "output_type": "stream",
     "text": [
      "<class 'pandas.core.frame.DataFrame'>\n",
      "RangeIndex: 354369 entries, 0 to 354368\n",
      "Data columns (total 16 columns):\n",
      " #   Column             Non-Null Count   Dtype \n",
      "---  ------             --------------   ----- \n",
      " 0   datecrawled        354369 non-null  object\n",
      " 1   price              354369 non-null  int64 \n",
      " 2   vehicletype        316879 non-null  object\n",
      " 3   registrationyear   354369 non-null  int64 \n",
      " 4   gearbox            334536 non-null  object\n",
      " 5   power              354369 non-null  int64 \n",
      " 6   model              334664 non-null  object\n",
      " 7   kilometer          354369 non-null  int64 \n",
      " 8   registrationmonth  354369 non-null  int64 \n",
      " 9   fueltype           321474 non-null  object\n",
      " 10  brand              354369 non-null  object\n",
      " 11  notrepaired        283215 non-null  object\n",
      " 12  datecreated        354369 non-null  object\n",
      " 13  numberofpictures   354369 non-null  int64 \n",
      " 14  postalcode         354369 non-null  int64 \n",
      " 15  lastseen           354369 non-null  object\n",
      "dtypes: int64(7), object(9)\n",
      "memory usage: 43.3+ MB\n"
     ]
    }
   ],
   "source": [
    "df.info()"
   ]
  },
  {
   "cell_type": "markdown",
   "metadata": {},
   "source": [
    "Типы данных искажены, во многих столбцах наблюдаются пропуски. Необходимо произвести предобработку данных."
   ]
  },
  {
   "cell_type": "markdown",
   "metadata": {},
   "source": [
    "[Содержание](#title)"
   ]
  },
  {
   "cell_type": "markdown",
   "metadata": {},
   "source": [
    "### 1.1 Обработка дубликатов <a name=\"1.1\"></a>"
   ]
  },
  {
   "cell_type": "code",
   "execution_count": 7,
   "metadata": {},
   "outputs": [
    {
     "name": "stdout",
     "output_type": "stream",
     "text": [
      "В датасете 4 дубликата\n"
     ]
    }
   ],
   "source": [
    "print(f'В датасете {df.duplicated().sum()} дубликата')"
   ]
  },
  {
   "cell_type": "markdown",
   "metadata": {},
   "source": [
    "Удалим дубликаты"
   ]
  },
  {
   "cell_type": "code",
   "execution_count": 8,
   "metadata": {},
   "outputs": [
    {
     "name": "stdout",
     "output_type": "stream",
     "text": [
      "Количество дубликатов после удаления 0\n"
     ]
    }
   ],
   "source": [
    "df = df.drop_duplicates().reset_index(drop=True)\n",
    "print('Количество дубликатов после удаления', df.duplicated().sum())"
   ]
  },
  {
   "cell_type": "markdown",
   "metadata": {},
   "source": [
    "[Содержание](#title)"
   ]
  },
  {
   "cell_type": "markdown",
   "metadata": {},
   "source": [
    "### 1.2 Обработка пропусков и удаление аномалий <a name=\"1.2\"></a>"
   ]
  },
  {
   "cell_type": "code",
   "execution_count": 9,
   "metadata": {},
   "outputs": [
    {
     "data": {
      "text/html": [
       "<div>\n",
       "<style scoped>\n",
       "    .dataframe tbody tr th:only-of-type {\n",
       "        vertical-align: middle;\n",
       "    }\n",
       "\n",
       "    .dataframe tbody tr th {\n",
       "        vertical-align: top;\n",
       "    }\n",
       "\n",
       "    .dataframe thead th {\n",
       "        text-align: right;\n",
       "    }\n",
       "</style>\n",
       "<table border=\"1\" class=\"dataframe\">\n",
       "  <thead>\n",
       "    <tr style=\"text-align: right;\">\n",
       "      <th></th>\n",
       "      <th>price</th>\n",
       "      <th>registrationyear</th>\n",
       "      <th>power</th>\n",
       "      <th>kilometer</th>\n",
       "      <th>registrationmonth</th>\n",
       "      <th>numberofpictures</th>\n",
       "      <th>postalcode</th>\n",
       "    </tr>\n",
       "  </thead>\n",
       "  <tbody>\n",
       "    <tr>\n",
       "      <th>count</th>\n",
       "      <td>354365.000000</td>\n",
       "      <td>354365.000000</td>\n",
       "      <td>354365.000000</td>\n",
       "      <td>354365.000000</td>\n",
       "      <td>354365.000000</td>\n",
       "      <td>354365.0</td>\n",
       "      <td>354365.000000</td>\n",
       "    </tr>\n",
       "    <tr>\n",
       "      <th>mean</th>\n",
       "      <td>4416.679830</td>\n",
       "      <td>2004.234481</td>\n",
       "      <td>110.093816</td>\n",
       "      <td>128211.363989</td>\n",
       "      <td>5.714650</td>\n",
       "      <td>0.0</td>\n",
       "      <td>50508.503800</td>\n",
       "    </tr>\n",
       "    <tr>\n",
       "      <th>std</th>\n",
       "      <td>4514.176349</td>\n",
       "      <td>90.228466</td>\n",
       "      <td>189.851330</td>\n",
       "      <td>37905.083858</td>\n",
       "      <td>3.726432</td>\n",
       "      <td>0.0</td>\n",
       "      <td>25783.100078</td>\n",
       "    </tr>\n",
       "    <tr>\n",
       "      <th>min</th>\n",
       "      <td>0.000000</td>\n",
       "      <td>1000.000000</td>\n",
       "      <td>0.000000</td>\n",
       "      <td>5000.000000</td>\n",
       "      <td>0.000000</td>\n",
       "      <td>0.0</td>\n",
       "      <td>1067.000000</td>\n",
       "    </tr>\n",
       "    <tr>\n",
       "      <th>25%</th>\n",
       "      <td>1050.000000</td>\n",
       "      <td>1999.000000</td>\n",
       "      <td>69.000000</td>\n",
       "      <td>125000.000000</td>\n",
       "      <td>3.000000</td>\n",
       "      <td>0.0</td>\n",
       "      <td>30165.000000</td>\n",
       "    </tr>\n",
       "    <tr>\n",
       "      <th>50%</th>\n",
       "      <td>2700.000000</td>\n",
       "      <td>2003.000000</td>\n",
       "      <td>105.000000</td>\n",
       "      <td>150000.000000</td>\n",
       "      <td>6.000000</td>\n",
       "      <td>0.0</td>\n",
       "      <td>49413.000000</td>\n",
       "    </tr>\n",
       "    <tr>\n",
       "      <th>75%</th>\n",
       "      <td>6400.000000</td>\n",
       "      <td>2008.000000</td>\n",
       "      <td>143.000000</td>\n",
       "      <td>150000.000000</td>\n",
       "      <td>9.000000</td>\n",
       "      <td>0.0</td>\n",
       "      <td>71083.000000</td>\n",
       "    </tr>\n",
       "    <tr>\n",
       "      <th>max</th>\n",
       "      <td>20000.000000</td>\n",
       "      <td>9999.000000</td>\n",
       "      <td>20000.000000</td>\n",
       "      <td>150000.000000</td>\n",
       "      <td>12.000000</td>\n",
       "      <td>0.0</td>\n",
       "      <td>99998.000000</td>\n",
       "    </tr>\n",
       "  </tbody>\n",
       "</table>\n",
       "</div>"
      ],
      "text/plain": [
       "               price  registrationyear          power      kilometer  \\\n",
       "count  354365.000000     354365.000000  354365.000000  354365.000000   \n",
       "mean     4416.679830       2004.234481     110.093816  128211.363989   \n",
       "std      4514.176349         90.228466     189.851330   37905.083858   \n",
       "min         0.000000       1000.000000       0.000000    5000.000000   \n",
       "25%      1050.000000       1999.000000      69.000000  125000.000000   \n",
       "50%      2700.000000       2003.000000     105.000000  150000.000000   \n",
       "75%      6400.000000       2008.000000     143.000000  150000.000000   \n",
       "max     20000.000000       9999.000000   20000.000000  150000.000000   \n",
       "\n",
       "       registrationmonth  numberofpictures     postalcode  \n",
       "count      354365.000000          354365.0  354365.000000  \n",
       "mean            5.714650               0.0   50508.503800  \n",
       "std             3.726432               0.0   25783.100078  \n",
       "min             0.000000               0.0    1067.000000  \n",
       "25%             3.000000               0.0   30165.000000  \n",
       "50%             6.000000               0.0   49413.000000  \n",
       "75%             9.000000               0.0   71083.000000  \n",
       "max            12.000000               0.0   99998.000000  "
      ]
     },
     "execution_count": 9,
     "metadata": {},
     "output_type": "execute_result"
    }
   ],
   "source": [
    "df.describe()"
   ]
  },
  {
   "cell_type": "markdown",
   "metadata": {},
   "source": [
    "В рассмотренных данных следующие проблемы:\n",
    "* год регистрации в столбце **registrationyear** доходит до 9999, необходимо избавиться от аномалий;\n",
    "* в столбце **power** количество л.с. доходит до 20 тыс., выглядит нереалистично, необходимо избиавиться от аномалий;\n",
    "* столбец **numberofpictures** заполнен нулями, в данном виде столбец нецелесообразен;\n",
    "* регион продажи автомобиля может повлиять на его стоимость, однако, привязка к почтовому индексу может испортить алгоритмы обучения, столбец **postalcode** в данном виде столбец нецелесообразен;\n",
    "* в столце **price** наблюдаются нулевые значения, скорее всего это непроданные машины или ошибка выгрузки данных. Удалим строки с данными значениями после заполнения всех пропусков."
   ]
  },
  {
   "cell_type": "markdown",
   "metadata": {},
   "source": [
    "Изучим столбец **registrationyear**"
   ]
  },
  {
   "cell_type": "code",
   "execution_count": 10,
   "metadata": {},
   "outputs": [
    {
     "data": {
      "image/png": "[encoded data removed]",
      "text/plain": [
       "<Figure size 1152x216 with 1 Axes>"
      ]
     },
     "metadata": {},
     "output_type": "display_data"
    }
   ],
   "source": [
    "sns.set(style=\"darkgrid\")\n",
    "fig = plt.figure(figsize=(16,3))\n",
    "ax = sns.boxplot(data=df['registrationyear'], orient='h')\n",
    "ax.set_xlabel('Год выпуска')\n",
    "plt.title(\"Диаграмма размаха года выпуска автомобиля\")\n",
    "plt.show()"
   ]
  },
  {
   "cell_type": "markdown",
   "metadata": {},
   "source": [
    "Ограничим датасет по годам выпуска автомобиля с 1900 по текущий 2020 год."
   ]
  },
  {
   "cell_type": "code",
   "execution_count": 11,
   "metadata": {},
   "outputs": [],
   "source": [
    "df = df.query('1900 < registrationyear < 2020')"
   ]
  },
  {
   "cell_type": "code",
   "execution_count": 12,
   "metadata": {},
   "outputs": [
    {
     "data": {
      "image/png": "[encoded data removed]",
      "text/plain": [
       "<Figure size 1152x216 with 1 Axes>"
      ]
     },
     "metadata": {},
     "output_type": "display_data"
    }
   ],
   "source": [
    "fig = plt.figure(figsize=(16,3))\n",
    "ax = sns.boxplot(data=df['registrationyear'], orient='h')\n",
    "ax.set_xlabel('Год выпуска')\n",
    "plt.title(\"Диаграмма размаха года выпуска автомобиля\")\n",
    "plt.show()"
   ]
  },
  {
   "cell_type": "markdown",
   "metadata": {},
   "source": [
    "Заменили артефакты раритетами."
   ]
  },
  {
   "cell_type": "markdown",
   "metadata": {},
   "source": [
    "Изучим столбец **power**"
   ]
  },
  {
   "cell_type": "code",
   "execution_count": 13,
   "metadata": {},
   "outputs": [
    {
     "data": {
      "image/png": "[encoded data removed]",
      "text/plain": [
       "<Figure size 1152x216 with 1 Axes>"
      ]
     },
     "metadata": {},
     "output_type": "display_data"
    }
   ],
   "source": [
    "fig = plt.figure(figsize=(16,3))\n",
    "ax = sns.boxplot(data=df['power'], orient='h')\n",
    "ax.set_xlabel('Мощность, л.с.')\n",
    "plt.title(\"Диаграмма размаха мощности автомобиля\")\n",
    "plt.show()"
   ]
  },
  {
   "cell_type": "markdown",
   "metadata": {},
   "source": [
    "Ограничим максимальную мощность по правилу трёх сигм. "
   ]
  },
  {
   "cell_type": "code",
   "execution_count": 14,
   "metadata": {},
   "outputs": [
    {
     "name": "stdout",
     "output_type": "stream",
     "text": [
      "Ограничение максимальной мощности равно 678.6899849232713\n"
     ]
    }
   ],
   "source": [
    "adv_mean = df['power'].mean()\n",
    "adv_var = variance = np.var(df['power'])\n",
    "adv_std = np.sqrt(adv_var)\n",
    "power_max = adv_mean + 3*adv_std\n",
    "print('Ограничение максимальной мощности равно', power_max)"
   ]
  },
  {
   "cell_type": "markdown",
   "metadata": {},
   "source": [
    "В целом, серийных автомобилей мощнее 2 тыс.л.с. не производится, а машин с мощностью выше 1 тыс.л.с. единицы. Примем рассчитанное значение."
   ]
  },
  {
   "cell_type": "code",
   "execution_count": 15,
   "metadata": {},
   "outputs": [],
   "source": [
    "df = df.query('power < @power_max')"
   ]
  },
  {
   "cell_type": "code",
   "execution_count": 16,
   "metadata": {},
   "outputs": [
    {
     "data": {
      "image/png": "[encoded data removed]",
      "text/plain": [
       "<Figure size 1152x216 with 1 Axes>"
      ]
     },
     "metadata": {},
     "output_type": "display_data"
    }
   ],
   "source": [
    "fig = plt.figure(figsize=(16,3))\n",
    "ax = sns.boxplot(data=df['power'], orient='h')\n",
    "ax.set_xlabel('Мощность, л.с.')\n",
    "plt.title(\"Диаграмма размаха мощности автомобиля\")\n",
    "plt.show()"
   ]
  },
  {
   "cell_type": "markdown",
   "metadata": {},
   "source": [
    "Посмотрим на самые мощные автомобили"
   ]
  },
  {
   "cell_type": "code",
   "execution_count": 17,
   "metadata": {},
   "outputs": [
    {
     "data": {
      "text/html": [
       "<div>\n",
       "<style scoped>\n",
       "    .dataframe tbody tr th:only-of-type {\n",
       "        vertical-align: middle;\n",
       "    }\n",
       "\n",
       "    .dataframe tbody tr th {\n",
       "        vertical-align: top;\n",
       "    }\n",
       "\n",
       "    .dataframe thead th {\n",
       "        text-align: right;\n",
       "    }\n",
       "</style>\n",
       "<table border=\"1\" class=\"dataframe\">\n",
       "  <thead>\n",
       "    <tr style=\"text-align: right;\">\n",
       "      <th></th>\n",
       "      <th></th>\n",
       "      <th>datecrawled</th>\n",
       "      <th>price</th>\n",
       "      <th>vehicletype</th>\n",
       "      <th>registrationyear</th>\n",
       "      <th>gearbox</th>\n",
       "      <th>power</th>\n",
       "      <th>model</th>\n",
       "      <th>kilometer</th>\n",
       "      <th>registrationmonth</th>\n",
       "      <th>fueltype</th>\n",
       "      <th>brand</th>\n",
       "      <th>notrepaired</th>\n",
       "      <th>datecreated</th>\n",
       "      <th>numberofpictures</th>\n",
       "      <th>postalcode</th>\n",
       "      <th>lastseen</th>\n",
       "    </tr>\n",
       "  </thead>\n",
       "  <tbody>\n",
       "    <tr>\n",
       "      <th rowspan=\"3\" valign=\"top\">head</th>\n",
       "      <th>41</th>\n",
       "      <td>2016-03-30 20:38:20</td>\n",
       "      <td>7500</td>\n",
       "      <td>sedan</td>\n",
       "      <td>2002</td>\n",
       "      <td>auto</td>\n",
       "      <td>306</td>\n",
       "      <td>e_klasse</td>\n",
       "      <td>150000</td>\n",
       "      <td>4</td>\n",
       "      <td>NaN</td>\n",
       "      <td>mercedes_benz</td>\n",
       "      <td>NaN</td>\n",
       "      <td>2016-03-30 00:00:00</td>\n",
       "      <td>0</td>\n",
       "      <td>33649</td>\n",
       "      <td>2016-04-03 11:44:49</td>\n",
       "    </tr>\n",
       "    <tr>\n",
       "      <th>172</th>\n",
       "      <td>2016-03-07 12:38:19</td>\n",
       "      <td>19750</td>\n",
       "      <td>convertible</td>\n",
       "      <td>2006</td>\n",
       "      <td>manual</td>\n",
       "      <td>305</td>\n",
       "      <td>mustang</td>\n",
       "      <td>50000</td>\n",
       "      <td>7</td>\n",
       "      <td>petrol</td>\n",
       "      <td>ford</td>\n",
       "      <td>no</td>\n",
       "      <td>2016-03-07 00:00:00</td>\n",
       "      <td>0</td>\n",
       "      <td>38350</td>\n",
       "      <td>2016-03-12 20:18:29</td>\n",
       "    </tr>\n",
       "    <tr>\n",
       "      <th>204</th>\n",
       "      <td>2016-03-31 12:58:26</td>\n",
       "      <td>18400</td>\n",
       "      <td>wagon</td>\n",
       "      <td>2011</td>\n",
       "      <td>auto</td>\n",
       "      <td>313</td>\n",
       "      <td>5er</td>\n",
       "      <td>150000</td>\n",
       "      <td>11</td>\n",
       "      <td>gasoline</td>\n",
       "      <td>bmw</td>\n",
       "      <td>no</td>\n",
       "      <td>2016-03-31 00:00:00</td>\n",
       "      <td>0</td>\n",
       "      <td>52477</td>\n",
       "      <td>2016-03-31 13:44:44</td>\n",
       "    </tr>\n",
       "    <tr>\n",
       "      <th rowspan=\"3\" valign=\"top\">tail</th>\n",
       "      <th>354063</th>\n",
       "      <td>2016-03-20 22:39:32</td>\n",
       "      <td>11500</td>\n",
       "      <td>wagon</td>\n",
       "      <td>2005</td>\n",
       "      <td>auto</td>\n",
       "      <td>340</td>\n",
       "      <td>300c</td>\n",
       "      <td>150000</td>\n",
       "      <td>4</td>\n",
       "      <td>petrol</td>\n",
       "      <td>chrysler</td>\n",
       "      <td>no</td>\n",
       "      <td>2016-03-20 00:00:00</td>\n",
       "      <td>0</td>\n",
       "      <td>25924</td>\n",
       "      <td>2016-04-01 11:44:42</td>\n",
       "    </tr>\n",
       "    <tr>\n",
       "      <th>354092</th>\n",
       "      <td>2016-03-16 13:50:12</td>\n",
       "      <td>15550</td>\n",
       "      <td>sedan</td>\n",
       "      <td>2006</td>\n",
       "      <td>auto</td>\n",
       "      <td>334</td>\n",
       "      <td>a6</td>\n",
       "      <td>90000</td>\n",
       "      <td>1</td>\n",
       "      <td>petrol</td>\n",
       "      <td>audi</td>\n",
       "      <td>NaN</td>\n",
       "      <td>2016-03-16 00:00:00</td>\n",
       "      <td>0</td>\n",
       "      <td>82152</td>\n",
       "      <td>2016-04-06 11:16:18</td>\n",
       "    </tr>\n",
       "    <tr>\n",
       "      <th>354333</th>\n",
       "      <td>2016-03-26 14:38:18</td>\n",
       "      <td>11500</td>\n",
       "      <td>sedan</td>\n",
       "      <td>2004</td>\n",
       "      <td>auto</td>\n",
       "      <td>445</td>\n",
       "      <td>7er</td>\n",
       "      <td>125000</td>\n",
       "      <td>0</td>\n",
       "      <td>petrol</td>\n",
       "      <td>bmw</td>\n",
       "      <td>NaN</td>\n",
       "      <td>2016-03-26 00:00:00</td>\n",
       "      <td>0</td>\n",
       "      <td>4107</td>\n",
       "      <td>2016-04-06 20:45:16</td>\n",
       "    </tr>\n",
       "  </tbody>\n",
       "</table>\n",
       "</div>"
      ],
      "text/plain": [
       "                     datecrawled  price  vehicletype  registrationyear  \\\n",
       "head 41      2016-03-30 20:38:20   7500        sedan              2002   \n",
       "     172     2016-03-07 12:38:19  19750  convertible              2006   \n",
       "     204     2016-03-31 12:58:26  18400        wagon              2011   \n",
       "tail 354063  2016-03-20 22:39:32  11500        wagon              2005   \n",
       "     354092  2016-03-16 13:50:12  15550        sedan              2006   \n",
       "     354333  2016-03-26 14:38:18  11500        sedan              2004   \n",
       "\n",
       "            gearbox  power     model  kilometer  registrationmonth  fueltype  \\\n",
       "head 41        auto    306  e_klasse     150000                  4       NaN   \n",
       "     172     manual    305   mustang      50000                  7    petrol   \n",
       "     204       auto    313       5er     150000                 11  gasoline   \n",
       "tail 354063    auto    340      300c     150000                  4    petrol   \n",
       "     354092    auto    334        a6      90000                  1    petrol   \n",
       "     354333    auto    445       7er     125000                  0    petrol   \n",
       "\n",
       "                     brand notrepaired          datecreated  numberofpictures  \\\n",
       "head 41      mercedes_benz         NaN  2016-03-30 00:00:00                 0   \n",
       "     172              ford          no  2016-03-07 00:00:00                 0   \n",
       "     204               bmw          no  2016-03-31 00:00:00                 0   \n",
       "tail 354063       chrysler          no  2016-03-20 00:00:00                 0   \n",
       "     354092           audi         NaN  2016-03-16 00:00:00                 0   \n",
       "     354333            bmw         NaN  2016-03-26 00:00:00                 0   \n",
       "\n",
       "             postalcode             lastseen  \n",
       "head 41           33649  2016-04-03 11:44:49  \n",
       "     172          38350  2016-03-12 20:18:29  \n",
       "     204          52477  2016-03-31 13:44:44  \n",
       "tail 354063       25924  2016-04-01 11:44:42  \n",
       "     354092       82152  2016-04-06 11:16:18  \n",
       "     354333        4107  2016-04-06 20:45:16  "
      ]
     },
     "execution_count": 17,
     "metadata": {},
     "output_type": "execute_result"
    }
   ],
   "source": [
    "review(df.query('power > 300'), 3)"
   ]
  },
  {
   "cell_type": "markdown",
   "metadata": {},
   "source": [
    "Автомобили и правда хорошие, похоже на правду"
   ]
  },
  {
   "cell_type": "markdown",
   "metadata": {},
   "source": [
    "Удалим столбец **numberofpictures** и **postalcode**"
   ]
  },
  {
   "cell_type": "code",
   "execution_count": 18,
   "metadata": {},
   "outputs": [],
   "source": [
    "df.drop(['numberofpictures', 'postalcode'], axis='columns', inplace=True)"
   ]
  },
  {
   "cell_type": "code",
   "execution_count": 19,
   "metadata": {},
   "outputs": [
    {
     "data": {
      "text/html": [
       "<div>\n",
       "<style scoped>\n",
       "    .dataframe tbody tr th:only-of-type {\n",
       "        vertical-align: middle;\n",
       "    }\n",
       "\n",
       "    .dataframe tbody tr th {\n",
       "        vertical-align: top;\n",
       "    }\n",
       "\n",
       "    .dataframe thead th {\n",
       "        text-align: right;\n",
       "    }\n",
       "</style>\n",
       "<table border=\"1\" class=\"dataframe\">\n",
       "  <thead>\n",
       "    <tr style=\"text-align: right;\">\n",
       "      <th></th>\n",
       "      <th></th>\n",
       "      <th>datecrawled</th>\n",
       "      <th>price</th>\n",
       "      <th>vehicletype</th>\n",
       "      <th>registrationyear</th>\n",
       "      <th>gearbox</th>\n",
       "      <th>power</th>\n",
       "      <th>model</th>\n",
       "      <th>kilometer</th>\n",
       "      <th>registrationmonth</th>\n",
       "      <th>fueltype</th>\n",
       "      <th>brand</th>\n",
       "      <th>notrepaired</th>\n",
       "      <th>datecreated</th>\n",
       "      <th>lastseen</th>\n",
       "    </tr>\n",
       "  </thead>\n",
       "  <tbody>\n",
       "    <tr>\n",
       "      <th rowspan=\"4\" valign=\"top\">head</th>\n",
       "      <th>0</th>\n",
       "      <td>2016-03-24 11:52:17</td>\n",
       "      <td>480</td>\n",
       "      <td>NaN</td>\n",
       "      <td>1993</td>\n",
       "      <td>manual</td>\n",
       "      <td>0</td>\n",
       "      <td>golf</td>\n",
       "      <td>150000</td>\n",
       "      <td>0</td>\n",
       "      <td>petrol</td>\n",
       "      <td>volkswagen</td>\n",
       "      <td>NaN</td>\n",
       "      <td>2016-03-24 00:00:00</td>\n",
       "      <td>2016-04-07 03:16:57</td>\n",
       "    </tr>\n",
       "    <tr>\n",
       "      <th>1</th>\n",
       "      <td>2016-03-24 10:58:45</td>\n",
       "      <td>18300</td>\n",
       "      <td>coupe</td>\n",
       "      <td>2011</td>\n",
       "      <td>manual</td>\n",
       "      <td>190</td>\n",
       "      <td>NaN</td>\n",
       "      <td>125000</td>\n",
       "      <td>5</td>\n",
       "      <td>gasoline</td>\n",
       "      <td>audi</td>\n",
       "      <td>yes</td>\n",
       "      <td>2016-03-24 00:00:00</td>\n",
       "      <td>2016-04-07 01:46:50</td>\n",
       "    </tr>\n",
       "    <tr>\n",
       "      <th>2</th>\n",
       "      <td>2016-03-14 12:52:21</td>\n",
       "      <td>9800</td>\n",
       "      <td>suv</td>\n",
       "      <td>2004</td>\n",
       "      <td>auto</td>\n",
       "      <td>163</td>\n",
       "      <td>grand</td>\n",
       "      <td>125000</td>\n",
       "      <td>8</td>\n",
       "      <td>gasoline</td>\n",
       "      <td>jeep</td>\n",
       "      <td>NaN</td>\n",
       "      <td>2016-03-14 00:00:00</td>\n",
       "      <td>2016-04-05 12:47:46</td>\n",
       "    </tr>\n",
       "    <tr>\n",
       "      <th>3</th>\n",
       "      <td>2016-03-17 16:54:04</td>\n",
       "      <td>1500</td>\n",
       "      <td>small</td>\n",
       "      <td>2001</td>\n",
       "      <td>manual</td>\n",
       "      <td>75</td>\n",
       "      <td>golf</td>\n",
       "      <td>150000</td>\n",
       "      <td>6</td>\n",
       "      <td>petrol</td>\n",
       "      <td>volkswagen</td>\n",
       "      <td>no</td>\n",
       "      <td>2016-03-17 00:00:00</td>\n",
       "      <td>2016-03-17 17:40:17</td>\n",
       "    </tr>\n",
       "    <tr>\n",
       "      <th rowspan=\"4\" valign=\"top\">tail</th>\n",
       "      <th>354361</th>\n",
       "      <td>2016-03-14 17:48:27</td>\n",
       "      <td>2200</td>\n",
       "      <td>NaN</td>\n",
       "      <td>2005</td>\n",
       "      <td>NaN</td>\n",
       "      <td>0</td>\n",
       "      <td>NaN</td>\n",
       "      <td>20000</td>\n",
       "      <td>1</td>\n",
       "      <td>NaN</td>\n",
       "      <td>sonstige_autos</td>\n",
       "      <td>NaN</td>\n",
       "      <td>2016-03-14 00:00:00</td>\n",
       "      <td>2016-04-06 00:46:52</td>\n",
       "    </tr>\n",
       "    <tr>\n",
       "      <th>354362</th>\n",
       "      <td>2016-03-05 19:56:21</td>\n",
       "      <td>1199</td>\n",
       "      <td>convertible</td>\n",
       "      <td>2000</td>\n",
       "      <td>auto</td>\n",
       "      <td>101</td>\n",
       "      <td>fortwo</td>\n",
       "      <td>125000</td>\n",
       "      <td>3</td>\n",
       "      <td>petrol</td>\n",
       "      <td>smart</td>\n",
       "      <td>no</td>\n",
       "      <td>2016-03-05 00:00:00</td>\n",
       "      <td>2016-03-11 18:17:12</td>\n",
       "    </tr>\n",
       "    <tr>\n",
       "      <th>354363</th>\n",
       "      <td>2016-03-19 18:57:12</td>\n",
       "      <td>9200</td>\n",
       "      <td>bus</td>\n",
       "      <td>1996</td>\n",
       "      <td>manual</td>\n",
       "      <td>102</td>\n",
       "      <td>transporter</td>\n",
       "      <td>150000</td>\n",
       "      <td>3</td>\n",
       "      <td>gasoline</td>\n",
       "      <td>volkswagen</td>\n",
       "      <td>no</td>\n",
       "      <td>2016-03-19 00:00:00</td>\n",
       "      <td>2016-04-07 07:15:26</td>\n",
       "    </tr>\n",
       "    <tr>\n",
       "      <th>354364</th>\n",
       "      <td>2016-03-20 19:41:08</td>\n",
       "      <td>3400</td>\n",
       "      <td>wagon</td>\n",
       "      <td>2002</td>\n",
       "      <td>manual</td>\n",
       "      <td>100</td>\n",
       "      <td>golf</td>\n",
       "      <td>150000</td>\n",
       "      <td>6</td>\n",
       "      <td>gasoline</td>\n",
       "      <td>volkswagen</td>\n",
       "      <td>NaN</td>\n",
       "      <td>2016-03-20 00:00:00</td>\n",
       "      <td>2016-03-24 12:45:21</td>\n",
       "    </tr>\n",
       "  </tbody>\n",
       "</table>\n",
       "</div>"
      ],
      "text/plain": [
       "                     datecrawled  price  vehicletype  registrationyear  \\\n",
       "head 0       2016-03-24 11:52:17    480          NaN              1993   \n",
       "     1       2016-03-24 10:58:45  18300        coupe              2011   \n",
       "     2       2016-03-14 12:52:21   9800          suv              2004   \n",
       "     3       2016-03-17 16:54:04   1500        small              2001   \n",
       "tail 354361  2016-03-14 17:48:27   2200          NaN              2005   \n",
       "     354362  2016-03-05 19:56:21   1199  convertible              2000   \n",
       "     354363  2016-03-19 18:57:12   9200          bus              1996   \n",
       "     354364  2016-03-20 19:41:08   3400        wagon              2002   \n",
       "\n",
       "            gearbox  power        model  kilometer  registrationmonth  \\\n",
       "head 0       manual      0         golf     150000                  0   \n",
       "     1       manual    190          NaN     125000                  5   \n",
       "     2         auto    163        grand     125000                  8   \n",
       "     3       manual     75         golf     150000                  6   \n",
       "tail 354361     NaN      0          NaN      20000                  1   \n",
       "     354362    auto    101       fortwo     125000                  3   \n",
       "     354363  manual    102  transporter     150000                  3   \n",
       "     354364  manual    100         golf     150000                  6   \n",
       "\n",
       "             fueltype           brand notrepaired          datecreated  \\\n",
       "head 0         petrol      volkswagen         NaN  2016-03-24 00:00:00   \n",
       "     1       gasoline            audi         yes  2016-03-24 00:00:00   \n",
       "     2       gasoline            jeep         NaN  2016-03-14 00:00:00   \n",
       "     3         petrol      volkswagen          no  2016-03-17 00:00:00   \n",
       "tail 354361       NaN  sonstige_autos         NaN  2016-03-14 00:00:00   \n",
       "     354362    petrol           smart          no  2016-03-05 00:00:00   \n",
       "     354363  gasoline      volkswagen          no  2016-03-19 00:00:00   \n",
       "     354364  gasoline      volkswagen         NaN  2016-03-20 00:00:00   \n",
       "\n",
       "                        lastseen  \n",
       "head 0       2016-04-07 03:16:57  \n",
       "     1       2016-04-07 01:46:50  \n",
       "     2       2016-04-05 12:47:46  \n",
       "     3       2016-03-17 17:40:17  \n",
       "tail 354361  2016-04-06 00:46:52  \n",
       "     354362  2016-03-11 18:17:12  \n",
       "     354363  2016-04-07 07:15:26  \n",
       "     354364  2016-03-24 12:45:21  "
      ]
     },
     "execution_count": 19,
     "metadata": {},
     "output_type": "execute_result"
    }
   ],
   "source": [
    "review(df, 4)"
   ]
  },
  {
   "cell_type": "markdown",
   "metadata": {},
   "source": [
    "Приведем столбцы **datecrawled, datecreated, lastseen** к типу datetime64 и исследуем значения"
   ]
  },
  {
   "cell_type": "code",
   "execution_count": 20,
   "metadata": {},
   "outputs": [],
   "source": [
    "df['datecrawled'] = pd.to_datetime(df['datecrawled'], format='%Y-%m-%d')\n",
    "df['datecreated'] = pd.to_datetime(df['datecreated'], format='%Y-%m-%d')\n",
    "df['lastseen'] = pd.to_datetime(df['lastseen'], format='%Y-%m-%d')"
   ]
  },
  {
   "cell_type": "code",
   "execution_count": 21,
   "metadata": {},
   "outputs": [
    {
     "name": "stderr",
     "output_type": "stream",
     "text": [
      "/opt/conda/lib/python3.7/site-packages/ipykernel_launcher.py:1: FutureWarning: Treating datetime data as categorical rather than numeric in `.describe` is deprecated and will be removed in a future version of pandas. Specify `datetime_is_numeric=True` to silence this warning and adopt the future behavior now.\n",
      "  \"\"\"Entry point for launching an IPython kernel.\n",
      "/opt/conda/lib/python3.7/site-packages/ipykernel_launcher.py:2: FutureWarning: Treating datetime data as categorical rather than numeric in `.describe` is deprecated and will be removed in a future version of pandas. Specify `datetime_is_numeric=True` to silence this warning and adopt the future behavior now.\n",
      "  \n",
      "/opt/conda/lib/python3.7/site-packages/ipykernel_launcher.py:3: FutureWarning: Treating datetime data as categorical rather than numeric in `.describe` is deprecated and will be removed in a future version of pandas. Specify `datetime_is_numeric=True` to silence this warning and adopt the future behavior now.\n",
      "  This is separate from the ipykernel package so we can avoid doing imports until\n"
     ]
    },
    {
     "data": {
      "text/html": [
       "<div style=\"float: left; padding: 10px;\">\n",
       "        <p style='font-family:\"Courier New\", Courier, monospace'>df_1</p><div>\n",
       "<style scoped>\n",
       "    .dataframe tbody tr th:only-of-type {\n",
       "        vertical-align: middle;\n",
       "    }\n",
       "\n",
       "    .dataframe tbody tr th {\n",
       "        vertical-align: top;\n",
       "    }\n",
       "\n",
       "    .dataframe thead th {\n",
       "        text-align: right;\n",
       "    }\n",
       "</style>\n",
       "<table border=\"1\" class=\"dataframe\">\n",
       "  <thead>\n",
       "    <tr style=\"text-align: right;\">\n",
       "      <th></th>\n",
       "      <th>datecrawled</th>\n",
       "    </tr>\n",
       "  </thead>\n",
       "  <tbody>\n",
       "    <tr>\n",
       "      <th>count</th>\n",
       "      <td>353846</td>\n",
       "    </tr>\n",
       "    <tr>\n",
       "      <th>unique</th>\n",
       "      <td>270894</td>\n",
       "    </tr>\n",
       "    <tr>\n",
       "      <th>top</th>\n",
       "      <td>2016-03-24 14:49:47</td>\n",
       "    </tr>\n",
       "    <tr>\n",
       "      <th>freq</th>\n",
       "      <td>7</td>\n",
       "    </tr>\n",
       "    <tr>\n",
       "      <th>first</th>\n",
       "      <td>2016-03-05 14:06:22</td>\n",
       "    </tr>\n",
       "    <tr>\n",
       "      <th>last</th>\n",
       "      <td>2016-04-07 14:36:58</td>\n",
       "    </tr>\n",
       "  </tbody>\n",
       "</table>\n",
       "</div>\n",
       "        </div>\n",
       "<div style=\"float: left; padding: 10px;\">\n",
       "        <p style='font-family:\"Courier New\", Courier, monospace'>df_2</p><div>\n",
       "<style scoped>\n",
       "    .dataframe tbody tr th:only-of-type {\n",
       "        vertical-align: middle;\n",
       "    }\n",
       "\n",
       "    .dataframe tbody tr th {\n",
       "        vertical-align: top;\n",
       "    }\n",
       "\n",
       "    .dataframe thead th {\n",
       "        text-align: right;\n",
       "    }\n",
       "</style>\n",
       "<table border=\"1\" class=\"dataframe\">\n",
       "  <thead>\n",
       "    <tr style=\"text-align: right;\">\n",
       "      <th></th>\n",
       "      <th>datecreated</th>\n",
       "    </tr>\n",
       "  </thead>\n",
       "  <tbody>\n",
       "    <tr>\n",
       "      <th>count</th>\n",
       "      <td>353846</td>\n",
       "    </tr>\n",
       "    <tr>\n",
       "      <th>unique</th>\n",
       "      <td>109</td>\n",
       "    </tr>\n",
       "    <tr>\n",
       "      <th>top</th>\n",
       "      <td>2016-04-03 00:00:00</td>\n",
       "    </tr>\n",
       "    <tr>\n",
       "      <th>freq</th>\n",
       "      <td>13700</td>\n",
       "    </tr>\n",
       "    <tr>\n",
       "      <th>first</th>\n",
       "      <td>2014-03-10 00:00:00</td>\n",
       "    </tr>\n",
       "    <tr>\n",
       "      <th>last</th>\n",
       "      <td>2016-04-07 00:00:00</td>\n",
       "    </tr>\n",
       "  </tbody>\n",
       "</table>\n",
       "</div>\n",
       "        </div>\n",
       "<div style=\"float: left; padding: 10px;\">\n",
       "        <p style='font-family:\"Courier New\", Courier, monospace'>df_3</p><div>\n",
       "<style scoped>\n",
       "    .dataframe tbody tr th:only-of-type {\n",
       "        vertical-align: middle;\n",
       "    }\n",
       "\n",
       "    .dataframe tbody tr th {\n",
       "        vertical-align: top;\n",
       "    }\n",
       "\n",
       "    .dataframe thead th {\n",
       "        text-align: right;\n",
       "    }\n",
       "</style>\n",
       "<table border=\"1\" class=\"dataframe\">\n",
       "  <thead>\n",
       "    <tr style=\"text-align: right;\">\n",
       "      <th></th>\n",
       "      <th>lastseen</th>\n",
       "    </tr>\n",
       "  </thead>\n",
       "  <tbody>\n",
       "    <tr>\n",
       "      <th>count</th>\n",
       "      <td>353846</td>\n",
       "    </tr>\n",
       "    <tr>\n",
       "      <th>unique</th>\n",
       "      <td>178936</td>\n",
       "    </tr>\n",
       "    <tr>\n",
       "      <th>top</th>\n",
       "      <td>2016-04-06 13:45:54</td>\n",
       "    </tr>\n",
       "    <tr>\n",
       "      <th>freq</th>\n",
       "      <td>17</td>\n",
       "    </tr>\n",
       "    <tr>\n",
       "      <th>first</th>\n",
       "      <td>2016-03-05 14:15:08</td>\n",
       "    </tr>\n",
       "    <tr>\n",
       "      <th>last</th>\n",
       "      <td>2016-04-07 14:58:51</td>\n",
       "    </tr>\n",
       "  </tbody>\n",
       "</table>\n",
       "</div>\n",
       "        </div>"
      ],
      "text/plain": [
       "<__main__.Explorer.show at 0x7fed4a6d6d90>"
      ]
     },
     "metadata": {},
     "output_type": "display_data"
    }
   ],
   "source": [
    "df_1 = pd.DataFrame(df[\"datecrawled\"].describe())\n",
    "df_2 = pd.DataFrame(df[\"datecreated\"].describe())\n",
    "df_3 = pd.DataFrame(df[\"lastseen\"].describe())\n",
    "display(explorer.show('df_1', 'df_2', 'df_3'))"
   ]
  },
  {
   "cell_type": "markdown",
   "metadata": {},
   "source": [
    "Разброс дат крайне мал, вероятность их влияния на цены минимальна.Удалим данные столбцы."
   ]
  },
  {
   "cell_type": "code",
   "execution_count": 22,
   "metadata": {},
   "outputs": [],
   "source": [
    "df.drop(['datecrawled', 'datecreated', 'lastseen'], axis='columns', inplace=True)"
   ]
  },
  {
   "cell_type": "markdown",
   "metadata": {},
   "source": [
    "Также рассмотрим корреляцию других столбцов"
   ]
  },
  {
   "cell_type": "code",
   "execution_count": 23,
   "metadata": {
    "scrolled": true
   },
   "outputs": [
    {
     "name": "stdout",
     "output_type": "stream",
     "text": [
      "                      price  registrationyear     power  kilometer  \\\n",
      "price              1.000000          0.369056  0.485807  -0.334975   \n",
      "registrationyear   0.369056          1.000000  0.113425  -0.170065   \n",
      "power              0.485807          0.113425  1.000000   0.084247   \n",
      "kilometer         -0.334975         -0.170065  0.084247   1.000000   \n",
      "registrationmonth  0.110393          0.049655  0.131019   0.007849   \n",
      "\n",
      "                   registrationmonth  \n",
      "price                       0.110393  \n",
      "registrationyear            0.049655  \n",
      "power                       0.131019  \n",
      "kilometer                   0.007849  \n",
      "registrationmonth           1.000000  \n"
     ]
    }
   ],
   "source": [
    "print(df.corr())"
   ]
  },
  {
   "cell_type": "code",
   "execution_count": 24,
   "metadata": {},
   "outputs": [
    {
     "name": "stdout",
     "output_type": "stream",
     "text": [
      "Зависимость цены от месяца регистрации\n"
     ]
    },
    {
     "data": {
      "image/png": "[encoded data removed]",
      "text/plain": [
       "<Figure size 1080x720 with 2 Axes>"
      ]
     },
     "metadata": {},
     "output_type": "display_data"
    }
   ],
   "source": [
    "print('Зависимость цены от месяца регистрации')\n",
    "explorer.hexbin(df, 'price', 'registrationmonth')"
   ]
  },
  {
   "cell_type": "code",
   "execution_count": 25,
   "metadata": {},
   "outputs": [
    {
     "name": "stdout",
     "output_type": "stream",
     "text": [
      "Зависимость цены от мощности\n"
     ]
    },
    {
     "data": {
      "image/png": "[encoded data removed]",
      "text/plain": [
       "<Figure size 1080x720 with 2 Axes>"
      ]
     },
     "metadata": {},
     "output_type": "display_data"
    }
   ],
   "source": [
    "print('Зависимость цены от мощности')\n",
    "explorer.hexbin(df, 'price', 'power')"
   ]
  },
  {
   "cell_type": "markdown",
   "metadata": {},
   "source": [
    "Столбец **registrationmonth** имеет очень низкую, похожую на случайную корреляцию. Удалим столбец для ускорения производительности и для повышения качества модели."
   ]
  },
  {
   "cell_type": "code",
   "execution_count": 26,
   "metadata": {},
   "outputs": [],
   "source": [
    "df.drop(['registrationmonth'], axis='columns', inplace=True)"
   ]
  },
  {
   "cell_type": "code",
   "execution_count": 27,
   "metadata": {},
   "outputs": [],
   "source": [
    "df = df.reset_index(drop=True)"
   ]
  },
  {
   "cell_type": "code",
   "execution_count": 28,
   "metadata": {},
   "outputs": [
    {
     "data": {
      "text/html": [
       "<div>\n",
       "<style scoped>\n",
       "    .dataframe tbody tr th:only-of-type {\n",
       "        vertical-align: middle;\n",
       "    }\n",
       "\n",
       "    .dataframe tbody tr th {\n",
       "        vertical-align: top;\n",
       "    }\n",
       "\n",
       "    .dataframe thead th {\n",
       "        text-align: right;\n",
       "    }\n",
       "</style>\n",
       "<table border=\"1\" class=\"dataframe\">\n",
       "  <thead>\n",
       "    <tr style=\"text-align: right;\">\n",
       "      <th></th>\n",
       "      <th></th>\n",
       "      <th>price</th>\n",
       "      <th>vehicletype</th>\n",
       "      <th>registrationyear</th>\n",
       "      <th>gearbox</th>\n",
       "      <th>power</th>\n",
       "      <th>model</th>\n",
       "      <th>kilometer</th>\n",
       "      <th>fueltype</th>\n",
       "      <th>brand</th>\n",
       "      <th>notrepaired</th>\n",
       "    </tr>\n",
       "  </thead>\n",
       "  <tbody>\n",
       "    <tr>\n",
       "      <th rowspan=\"4\" valign=\"top\">head</th>\n",
       "      <th>0</th>\n",
       "      <td>480</td>\n",
       "      <td>NaN</td>\n",
       "      <td>1993</td>\n",
       "      <td>manual</td>\n",
       "      <td>0</td>\n",
       "      <td>golf</td>\n",
       "      <td>150000</td>\n",
       "      <td>petrol</td>\n",
       "      <td>volkswagen</td>\n",
       "      <td>NaN</td>\n",
       "    </tr>\n",
       "    <tr>\n",
       "      <th>1</th>\n",
       "      <td>18300</td>\n",
       "      <td>coupe</td>\n",
       "      <td>2011</td>\n",
       "      <td>manual</td>\n",
       "      <td>190</td>\n",
       "      <td>NaN</td>\n",
       "      <td>125000</td>\n",
       "      <td>gasoline</td>\n",
       "      <td>audi</td>\n",
       "      <td>yes</td>\n",
       "    </tr>\n",
       "    <tr>\n",
       "      <th>2</th>\n",
       "      <td>9800</td>\n",
       "      <td>suv</td>\n",
       "      <td>2004</td>\n",
       "      <td>auto</td>\n",
       "      <td>163</td>\n",
       "      <td>grand</td>\n",
       "      <td>125000</td>\n",
       "      <td>gasoline</td>\n",
       "      <td>jeep</td>\n",
       "      <td>NaN</td>\n",
       "    </tr>\n",
       "    <tr>\n",
       "      <th>3</th>\n",
       "      <td>1500</td>\n",
       "      <td>small</td>\n",
       "      <td>2001</td>\n",
       "      <td>manual</td>\n",
       "      <td>75</td>\n",
       "      <td>golf</td>\n",
       "      <td>150000</td>\n",
       "      <td>petrol</td>\n",
       "      <td>volkswagen</td>\n",
       "      <td>no</td>\n",
       "    </tr>\n",
       "    <tr>\n",
       "      <th rowspan=\"4\" valign=\"top\">tail</th>\n",
       "      <th>353842</th>\n",
       "      <td>2200</td>\n",
       "      <td>NaN</td>\n",
       "      <td>2005</td>\n",
       "      <td>NaN</td>\n",
       "      <td>0</td>\n",
       "      <td>NaN</td>\n",
       "      <td>20000</td>\n",
       "      <td>NaN</td>\n",
       "      <td>sonstige_autos</td>\n",
       "      <td>NaN</td>\n",
       "    </tr>\n",
       "    <tr>\n",
       "      <th>353843</th>\n",
       "      <td>1199</td>\n",
       "      <td>convertible</td>\n",
       "      <td>2000</td>\n",
       "      <td>auto</td>\n",
       "      <td>101</td>\n",
       "      <td>fortwo</td>\n",
       "      <td>125000</td>\n",
       "      <td>petrol</td>\n",
       "      <td>smart</td>\n",
       "      <td>no</td>\n",
       "    </tr>\n",
       "    <tr>\n",
       "      <th>353844</th>\n",
       "      <td>9200</td>\n",
       "      <td>bus</td>\n",
       "      <td>1996</td>\n",
       "      <td>manual</td>\n",
       "      <td>102</td>\n",
       "      <td>transporter</td>\n",
       "      <td>150000</td>\n",
       "      <td>gasoline</td>\n",
       "      <td>volkswagen</td>\n",
       "      <td>no</td>\n",
       "    </tr>\n",
       "    <tr>\n",
       "      <th>353845</th>\n",
       "      <td>3400</td>\n",
       "      <td>wagon</td>\n",
       "      <td>2002</td>\n",
       "      <td>manual</td>\n",
       "      <td>100</td>\n",
       "      <td>golf</td>\n",
       "      <td>150000</td>\n",
       "      <td>gasoline</td>\n",
       "      <td>volkswagen</td>\n",
       "      <td>NaN</td>\n",
       "    </tr>\n",
       "  </tbody>\n",
       "</table>\n",
       "</div>"
      ],
      "text/plain": [
       "             price  vehicletype  registrationyear gearbox  power        model  \\\n",
       "head 0         480          NaN              1993  manual      0         golf   \n",
       "     1       18300        coupe              2011  manual    190          NaN   \n",
       "     2        9800          suv              2004    auto    163        grand   \n",
       "     3        1500        small              2001  manual     75         golf   \n",
       "tail 353842   2200          NaN              2005     NaN      0          NaN   \n",
       "     353843   1199  convertible              2000    auto    101       fortwo   \n",
       "     353844   9200          bus              1996  manual    102  transporter   \n",
       "     353845   3400        wagon              2002  manual    100         golf   \n",
       "\n",
       "             kilometer  fueltype           brand notrepaired  \n",
       "head 0          150000    petrol      volkswagen         NaN  \n",
       "     1          125000  gasoline            audi         yes  \n",
       "     2          125000  gasoline            jeep         NaN  \n",
       "     3          150000    petrol      volkswagen          no  \n",
       "tail 353842      20000       NaN  sonstige_autos         NaN  \n",
       "     353843     125000    petrol           smart          no  \n",
       "     353844     150000  gasoline      volkswagen          no  \n",
       "     353845     150000  gasoline      volkswagen         NaN  "
      ]
     },
     "execution_count": 28,
     "metadata": {},
     "output_type": "execute_result"
    }
   ],
   "source": [
    "review(df, 4)"
   ]
  },
  {
   "cell_type": "markdown",
   "metadata": {},
   "source": [
    "Исследуем общее количество пропусков и их процентное соотношение"
   ]
  },
  {
   "cell_type": "code",
   "execution_count": 29,
   "metadata": {},
   "outputs": [
    {
     "data": {
      "text/html": [
       "<div style=\"float: left; padding: 10px;\">\n",
       "        <p style='font-family:\"Courier New\", Courier, monospace'>pd.DataFrame(df.isnull().sum())</p><div>\n",
       "<style scoped>\n",
       "    .dataframe tbody tr th:only-of-type {\n",
       "        vertical-align: middle;\n",
       "    }\n",
       "\n",
       "    .dataframe tbody tr th {\n",
       "        vertical-align: top;\n",
       "    }\n",
       "\n",
       "    .dataframe thead th {\n",
       "        text-align: right;\n",
       "    }\n",
       "</style>\n",
       "<table border=\"1\" class=\"dataframe\">\n",
       "  <thead>\n",
       "    <tr style=\"text-align: right;\">\n",
       "      <th></th>\n",
       "      <th>0</th>\n",
       "    </tr>\n",
       "  </thead>\n",
       "  <tbody>\n",
       "    <tr>\n",
       "      <th>price</th>\n",
       "      <td>0</td>\n",
       "    </tr>\n",
       "    <tr>\n",
       "      <th>vehicletype</th>\n",
       "      <td>37270</td>\n",
       "    </tr>\n",
       "    <tr>\n",
       "      <th>registrationyear</th>\n",
       "      <td>0</td>\n",
       "    </tr>\n",
       "    <tr>\n",
       "      <th>gearbox</th>\n",
       "      <td>19677</td>\n",
       "    </tr>\n",
       "    <tr>\n",
       "      <th>power</th>\n",
       "      <td>0</td>\n",
       "    </tr>\n",
       "    <tr>\n",
       "      <th>model</th>\n",
       "      <td>19585</td>\n",
       "    </tr>\n",
       "    <tr>\n",
       "      <th>kilometer</th>\n",
       "      <td>0</td>\n",
       "    </tr>\n",
       "    <tr>\n",
       "      <th>fueltype</th>\n",
       "      <td>32696</td>\n",
       "    </tr>\n",
       "    <tr>\n",
       "      <th>brand</th>\n",
       "      <td>0</td>\n",
       "    </tr>\n",
       "    <tr>\n",
       "      <th>notrepaired</th>\n",
       "      <td>70885</td>\n",
       "    </tr>\n",
       "  </tbody>\n",
       "</table>\n",
       "</div>\n",
       "        </div>\n",
       "<div style=\"float: left; padding: 10px;\">\n",
       "        <p style='font-family:\"Courier New\", Courier, monospace'>pd.DataFrame(df.isnull().sum() / len(df))</p><div>\n",
       "<style scoped>\n",
       "    .dataframe tbody tr th:only-of-type {\n",
       "        vertical-align: middle;\n",
       "    }\n",
       "\n",
       "    .dataframe tbody tr th {\n",
       "        vertical-align: top;\n",
       "    }\n",
       "\n",
       "    .dataframe thead th {\n",
       "        text-align: right;\n",
       "    }\n",
       "</style>\n",
       "<table border=\"1\" class=\"dataframe\">\n",
       "  <thead>\n",
       "    <tr style=\"text-align: right;\">\n",
       "      <th></th>\n",
       "      <th>0</th>\n",
       "    </tr>\n",
       "  </thead>\n",
       "  <tbody>\n",
       "    <tr>\n",
       "      <th>price</th>\n",
       "      <td>0.000000</td>\n",
       "    </tr>\n",
       "    <tr>\n",
       "      <th>vehicletype</th>\n",
       "      <td>0.105328</td>\n",
       "    </tr>\n",
       "    <tr>\n",
       "      <th>registrationyear</th>\n",
       "      <td>0.000000</td>\n",
       "    </tr>\n",
       "    <tr>\n",
       "      <th>gearbox</th>\n",
       "      <td>0.055609</td>\n",
       "    </tr>\n",
       "    <tr>\n",
       "      <th>power</th>\n",
       "      <td>0.000000</td>\n",
       "    </tr>\n",
       "    <tr>\n",
       "      <th>model</th>\n",
       "      <td>0.055349</td>\n",
       "    </tr>\n",
       "    <tr>\n",
       "      <th>kilometer</th>\n",
       "      <td>0.000000</td>\n",
       "    </tr>\n",
       "    <tr>\n",
       "      <th>fueltype</th>\n",
       "      <td>0.092402</td>\n",
       "    </tr>\n",
       "    <tr>\n",
       "      <th>brand</th>\n",
       "      <td>0.000000</td>\n",
       "    </tr>\n",
       "    <tr>\n",
       "      <th>notrepaired</th>\n",
       "      <td>0.200327</td>\n",
       "    </tr>\n",
       "  </tbody>\n",
       "</table>\n",
       "</div>\n",
       "        </div>"
      ],
      "text/plain": [
       "<__main__.Explorer.show at 0x7fed4a774750>"
      ]
     },
     "metadata": {},
     "output_type": "display_data"
    }
   ],
   "source": [
    "display(explorer.show('pd.DataFrame(df.isnull().sum())', 'pd.DataFrame(df.isnull().sum() / len(df))'))"
   ]
  },
  {
   "cell_type": "markdown",
   "metadata": {},
   "source": [
    "Количество пропусков в некоторых стобцах достигает 20%. Заполним их модами."
   ]
  },
  {
   "cell_type": "code",
   "execution_count": 30,
   "metadata": {},
   "outputs": [],
   "source": [
    "df_fill = df.copy()"
   ]
  },
  {
   "cell_type": "markdown",
   "metadata": {},
   "source": [
    "Проверочный датасет для **vehicletype**"
   ]
  },
  {
   "cell_type": "code",
   "execution_count": 31,
   "metadata": {},
   "outputs": [
    {
     "data": {
      "text/html": [
       "<div>\n",
       "<style scoped>\n",
       "    .dataframe tbody tr th:only-of-type {\n",
       "        vertical-align: middle;\n",
       "    }\n",
       "\n",
       "    .dataframe tbody tr th {\n",
       "        vertical-align: top;\n",
       "    }\n",
       "\n",
       "    .dataframe thead th {\n",
       "        text-align: right;\n",
       "    }\n",
       "</style>\n",
       "<table border=\"1\" class=\"dataframe\">\n",
       "  <thead>\n",
       "    <tr style=\"text-align: right;\">\n",
       "      <th></th>\n",
       "      <th>price</th>\n",
       "      <th>vehicletype</th>\n",
       "      <th>registrationyear</th>\n",
       "      <th>gearbox</th>\n",
       "      <th>power</th>\n",
       "      <th>model</th>\n",
       "      <th>kilometer</th>\n",
       "      <th>fueltype</th>\n",
       "      <th>brand</th>\n",
       "      <th>notrepaired</th>\n",
       "    </tr>\n",
       "  </thead>\n",
       "  <tbody>\n",
       "    <tr>\n",
       "      <th>0</th>\n",
       "      <td>480</td>\n",
       "      <td>NaN</td>\n",
       "      <td>1993</td>\n",
       "      <td>manual</td>\n",
       "      <td>0</td>\n",
       "      <td>golf</td>\n",
       "      <td>150000</td>\n",
       "      <td>petrol</td>\n",
       "      <td>volkswagen</td>\n",
       "      <td>NaN</td>\n",
       "    </tr>\n",
       "    <tr>\n",
       "      <th>16</th>\n",
       "      <td>300</td>\n",
       "      <td>NaN</td>\n",
       "      <td>2016</td>\n",
       "      <td>NaN</td>\n",
       "      <td>60</td>\n",
       "      <td>polo</td>\n",
       "      <td>150000</td>\n",
       "      <td>petrol</td>\n",
       "      <td>volkswagen</td>\n",
       "      <td>NaN</td>\n",
       "    </tr>\n",
       "    <tr>\n",
       "      <th>22</th>\n",
       "      <td>2900</td>\n",
       "      <td>NaN</td>\n",
       "      <td>2018</td>\n",
       "      <td>manual</td>\n",
       "      <td>90</td>\n",
       "      <td>meriva</td>\n",
       "      <td>150000</td>\n",
       "      <td>petrol</td>\n",
       "      <td>opel</td>\n",
       "      <td>no</td>\n",
       "    </tr>\n",
       "    <tr>\n",
       "      <th>26</th>\n",
       "      <td>5555</td>\n",
       "      <td>NaN</td>\n",
       "      <td>2017</td>\n",
       "      <td>manual</td>\n",
       "      <td>125</td>\n",
       "      <td>c4</td>\n",
       "      <td>125000</td>\n",
       "      <td>NaN</td>\n",
       "      <td>citroen</td>\n",
       "      <td>no</td>\n",
       "    </tr>\n",
       "    <tr>\n",
       "      <th>31</th>\n",
       "      <td>899</td>\n",
       "      <td>NaN</td>\n",
       "      <td>2016</td>\n",
       "      <td>manual</td>\n",
       "      <td>60</td>\n",
       "      <td>clio</td>\n",
       "      <td>150000</td>\n",
       "      <td>petrol</td>\n",
       "      <td>renault</td>\n",
       "      <td>NaN</td>\n",
       "    </tr>\n",
       "    <tr>\n",
       "      <th>35</th>\n",
       "      <td>350</td>\n",
       "      <td>NaN</td>\n",
       "      <td>2016</td>\n",
       "      <td>manual</td>\n",
       "      <td>75</td>\n",
       "      <td>golf</td>\n",
       "      <td>150000</td>\n",
       "      <td>petrol</td>\n",
       "      <td>volkswagen</td>\n",
       "      <td>no</td>\n",
       "    </tr>\n",
       "    <tr>\n",
       "      <th>37</th>\n",
       "      <td>1500</td>\n",
       "      <td>NaN</td>\n",
       "      <td>2016</td>\n",
       "      <td>NaN</td>\n",
       "      <td>0</td>\n",
       "      <td>kangoo</td>\n",
       "      <td>150000</td>\n",
       "      <td>gasoline</td>\n",
       "      <td>renault</td>\n",
       "      <td>no</td>\n",
       "    </tr>\n",
       "    <tr>\n",
       "      <th>40</th>\n",
       "      <td>0</td>\n",
       "      <td>NaN</td>\n",
       "      <td>1990</td>\n",
       "      <td>NaN</td>\n",
       "      <td>0</td>\n",
       "      <td>corsa</td>\n",
       "      <td>150000</td>\n",
       "      <td>petrol</td>\n",
       "      <td>opel</td>\n",
       "      <td>NaN</td>\n",
       "    </tr>\n",
       "    <tr>\n",
       "      <th>48</th>\n",
       "      <td>7750</td>\n",
       "      <td>NaN</td>\n",
       "      <td>2017</td>\n",
       "      <td>manual</td>\n",
       "      <td>80</td>\n",
       "      <td>golf</td>\n",
       "      <td>100000</td>\n",
       "      <td>petrol</td>\n",
       "      <td>volkswagen</td>\n",
       "      <td>NaN</td>\n",
       "    </tr>\n",
       "    <tr>\n",
       "      <th>51</th>\n",
       "      <td>2000</td>\n",
       "      <td>NaN</td>\n",
       "      <td>2017</td>\n",
       "      <td>manual</td>\n",
       "      <td>90</td>\n",
       "      <td>punto</td>\n",
       "      <td>150000</td>\n",
       "      <td>gasoline</td>\n",
       "      <td>fiat</td>\n",
       "      <td>yes</td>\n",
       "    </tr>\n",
       "  </tbody>\n",
       "</table>\n",
       "</div>"
      ],
      "text/plain": [
       "    price vehicletype  registrationyear gearbox  power   model  kilometer  \\\n",
       "0     480         NaN              1993  manual      0    golf     150000   \n",
       "16    300         NaN              2016     NaN     60    polo     150000   \n",
       "22   2900         NaN              2018  manual     90  meriva     150000   \n",
       "26   5555         NaN              2017  manual    125      c4     125000   \n",
       "31    899         NaN              2016  manual     60    clio     150000   \n",
       "35    350         NaN              2016  manual     75    golf     150000   \n",
       "37   1500         NaN              2016     NaN      0  kangoo     150000   \n",
       "40      0         NaN              1990     NaN      0   corsa     150000   \n",
       "48   7750         NaN              2017  manual     80    golf     100000   \n",
       "51   2000         NaN              2017  manual     90   punto     150000   \n",
       "\n",
       "    fueltype       brand notrepaired  \n",
       "0     petrol  volkswagen         NaN  \n",
       "16    petrol  volkswagen         NaN  \n",
       "22    petrol        opel          no  \n",
       "26       NaN     citroen          no  \n",
       "31    petrol     renault         NaN  \n",
       "35    petrol  volkswagen          no  \n",
       "37  gasoline     renault          no  \n",
       "40    petrol        opel         NaN  \n",
       "48    petrol  volkswagen         NaN  \n",
       "51  gasoline        fiat         yes  "
      ]
     },
     "execution_count": 31,
     "metadata": {},
     "output_type": "execute_result"
    }
   ],
   "source": [
    "check_data = df_fill[pd.isnull(df_fill['vehicletype'])].head(10)\n",
    "check_data"
   ]
  },
  {
   "cell_type": "markdown",
   "metadata": {},
   "source": [
    "Заполним **vehicletype** по названию модели и бренда"
   ]
  },
  {
   "cell_type": "code",
   "execution_count": 32,
   "metadata": {},
   "outputs": [],
   "source": [
    "dict_for_type = df_fill.groupby(['model', 'brand'])['vehicletype'].apply(lambda x: x.mode()).to_dict()\n",
    "\n",
    "dict_for_type = {(key[:-1]): value for key, value in dict_for_type.items()}\n",
    "\n",
    "def filler(row):\n",
    "    if type(row['vehicletype']) != str:\n",
    "        return dict_for_type.get((row['model'], row['brand']), \"unknown\")\n",
    "    return row['vehicletype']\n",
    "\n",
    "df_fill['vehicletype'] = df_fill.apply(filler, axis=1)"
   ]
  },
  {
   "cell_type": "markdown",
   "metadata": {},
   "source": [
    "Проверка"
   ]
  },
  {
   "cell_type": "code",
   "execution_count": 33,
   "metadata": {},
   "outputs": [
    {
     "data": {
      "text/html": [
       "<div>\n",
       "<style scoped>\n",
       "    .dataframe tbody tr th:only-of-type {\n",
       "        vertical-align: middle;\n",
       "    }\n",
       "\n",
       "    .dataframe tbody tr th {\n",
       "        vertical-align: top;\n",
       "    }\n",
       "\n",
       "    .dataframe thead th {\n",
       "        text-align: right;\n",
       "    }\n",
       "</style>\n",
       "<table border=\"1\" class=\"dataframe\">\n",
       "  <thead>\n",
       "    <tr style=\"text-align: right;\">\n",
       "      <th></th>\n",
       "      <th>price</th>\n",
       "      <th>vehicletype</th>\n",
       "      <th>registrationyear</th>\n",
       "      <th>gearbox</th>\n",
       "      <th>power</th>\n",
       "      <th>model</th>\n",
       "      <th>kilometer</th>\n",
       "      <th>fueltype</th>\n",
       "      <th>brand</th>\n",
       "      <th>notrepaired</th>\n",
       "    </tr>\n",
       "  </thead>\n",
       "  <tbody>\n",
       "    <tr>\n",
       "      <th>0</th>\n",
       "      <td>480</td>\n",
       "      <td>sedan</td>\n",
       "      <td>1993</td>\n",
       "      <td>manual</td>\n",
       "      <td>0</td>\n",
       "      <td>golf</td>\n",
       "      <td>150000</td>\n",
       "      <td>petrol</td>\n",
       "      <td>volkswagen</td>\n",
       "      <td>NaN</td>\n",
       "    </tr>\n",
       "    <tr>\n",
       "      <th>16</th>\n",
       "      <td>300</td>\n",
       "      <td>small</td>\n",
       "      <td>2016</td>\n",
       "      <td>NaN</td>\n",
       "      <td>60</td>\n",
       "      <td>polo</td>\n",
       "      <td>150000</td>\n",
       "      <td>petrol</td>\n",
       "      <td>volkswagen</td>\n",
       "      <td>NaN</td>\n",
       "    </tr>\n",
       "    <tr>\n",
       "      <th>22</th>\n",
       "      <td>2900</td>\n",
       "      <td>bus</td>\n",
       "      <td>2018</td>\n",
       "      <td>manual</td>\n",
       "      <td>90</td>\n",
       "      <td>meriva</td>\n",
       "      <td>150000</td>\n",
       "      <td>petrol</td>\n",
       "      <td>opel</td>\n",
       "      <td>no</td>\n",
       "    </tr>\n",
       "    <tr>\n",
       "      <th>26</th>\n",
       "      <td>5555</td>\n",
       "      <td>sedan</td>\n",
       "      <td>2017</td>\n",
       "      <td>manual</td>\n",
       "      <td>125</td>\n",
       "      <td>c4</td>\n",
       "      <td>125000</td>\n",
       "      <td>NaN</td>\n",
       "      <td>citroen</td>\n",
       "      <td>no</td>\n",
       "    </tr>\n",
       "    <tr>\n",
       "      <th>31</th>\n",
       "      <td>899</td>\n",
       "      <td>small</td>\n",
       "      <td>2016</td>\n",
       "      <td>manual</td>\n",
       "      <td>60</td>\n",
       "      <td>clio</td>\n",
       "      <td>150000</td>\n",
       "      <td>petrol</td>\n",
       "      <td>renault</td>\n",
       "      <td>NaN</td>\n",
       "    </tr>\n",
       "    <tr>\n",
       "      <th>35</th>\n",
       "      <td>350</td>\n",
       "      <td>sedan</td>\n",
       "      <td>2016</td>\n",
       "      <td>manual</td>\n",
       "      <td>75</td>\n",
       "      <td>golf</td>\n",
       "      <td>150000</td>\n",
       "      <td>petrol</td>\n",
       "      <td>volkswagen</td>\n",
       "      <td>no</td>\n",
       "    </tr>\n",
       "    <tr>\n",
       "      <th>37</th>\n",
       "      <td>1500</td>\n",
       "      <td>bus</td>\n",
       "      <td>2016</td>\n",
       "      <td>NaN</td>\n",
       "      <td>0</td>\n",
       "      <td>kangoo</td>\n",
       "      <td>150000</td>\n",
       "      <td>gasoline</td>\n",
       "      <td>renault</td>\n",
       "      <td>no</td>\n",
       "    </tr>\n",
       "    <tr>\n",
       "      <th>40</th>\n",
       "      <td>0</td>\n",
       "      <td>small</td>\n",
       "      <td>1990</td>\n",
       "      <td>NaN</td>\n",
       "      <td>0</td>\n",
       "      <td>corsa</td>\n",
       "      <td>150000</td>\n",
       "      <td>petrol</td>\n",
       "      <td>opel</td>\n",
       "      <td>NaN</td>\n",
       "    </tr>\n",
       "    <tr>\n",
       "      <th>48</th>\n",
       "      <td>7750</td>\n",
       "      <td>sedan</td>\n",
       "      <td>2017</td>\n",
       "      <td>manual</td>\n",
       "      <td>80</td>\n",
       "      <td>golf</td>\n",
       "      <td>100000</td>\n",
       "      <td>petrol</td>\n",
       "      <td>volkswagen</td>\n",
       "      <td>NaN</td>\n",
       "    </tr>\n",
       "    <tr>\n",
       "      <th>51</th>\n",
       "      <td>2000</td>\n",
       "      <td>small</td>\n",
       "      <td>2017</td>\n",
       "      <td>manual</td>\n",
       "      <td>90</td>\n",
       "      <td>punto</td>\n",
       "      <td>150000</td>\n",
       "      <td>gasoline</td>\n",
       "      <td>fiat</td>\n",
       "      <td>yes</td>\n",
       "    </tr>\n",
       "  </tbody>\n",
       "</table>\n",
       "</div>"
      ],
      "text/plain": [
       "    price vehicletype  registrationyear gearbox  power   model  kilometer  \\\n",
       "0     480       sedan              1993  manual      0    golf     150000   \n",
       "16    300       small              2016     NaN     60    polo     150000   \n",
       "22   2900         bus              2018  manual     90  meriva     150000   \n",
       "26   5555       sedan              2017  manual    125      c4     125000   \n",
       "31    899       small              2016  manual     60    clio     150000   \n",
       "35    350       sedan              2016  manual     75    golf     150000   \n",
       "37   1500         bus              2016     NaN      0  kangoo     150000   \n",
       "40      0       small              1990     NaN      0   corsa     150000   \n",
       "48   7750       sedan              2017  manual     80    golf     100000   \n",
       "51   2000       small              2017  manual     90   punto     150000   \n",
       "\n",
       "    fueltype       brand notrepaired  \n",
       "0     petrol  volkswagen         NaN  \n",
       "16    petrol  volkswagen         NaN  \n",
       "22    petrol        opel          no  \n",
       "26       NaN     citroen          no  \n",
       "31    petrol     renault         NaN  \n",
       "35    petrol  volkswagen          no  \n",
       "37  gasoline     renault          no  \n",
       "40    petrol        opel         NaN  \n",
       "48    petrol  volkswagen         NaN  \n",
       "51  gasoline        fiat         yes  "
      ]
     },
     "execution_count": 33,
     "metadata": {},
     "output_type": "execute_result"
    }
   ],
   "source": [
    "df_fill.query('index in @check_data.index')"
   ]
  },
  {
   "cell_type": "code",
   "execution_count": 34,
   "metadata": {},
   "outputs": [
    {
     "data": {
      "text/plain": [
       "0"
      ]
     },
     "execution_count": 34,
     "metadata": {},
     "output_type": "execute_result"
    }
   ],
   "source": [
    "df_fill['vehicletype'].isna().sum()"
   ]
  },
  {
   "cell_type": "markdown",
   "metadata": {},
   "source": [
    "Заполнено корректно"
   ]
  },
  {
   "cell_type": "markdown",
   "metadata": {},
   "source": [
    "Проверочный датасет для **model**"
   ]
  },
  {
   "cell_type": "code",
   "execution_count": 35,
   "metadata": {},
   "outputs": [
    {
     "data": {
      "text/html": [
       "<div>\n",
       "<style scoped>\n",
       "    .dataframe tbody tr th:only-of-type {\n",
       "        vertical-align: middle;\n",
       "    }\n",
       "\n",
       "    .dataframe tbody tr th {\n",
       "        vertical-align: top;\n",
       "    }\n",
       "\n",
       "    .dataframe thead th {\n",
       "        text-align: right;\n",
       "    }\n",
       "</style>\n",
       "<table border=\"1\" class=\"dataframe\">\n",
       "  <thead>\n",
       "    <tr style=\"text-align: right;\">\n",
       "      <th></th>\n",
       "      <th>price</th>\n",
       "      <th>vehicletype</th>\n",
       "      <th>registrationyear</th>\n",
       "      <th>gearbox</th>\n",
       "      <th>power</th>\n",
       "      <th>model</th>\n",
       "      <th>kilometer</th>\n",
       "      <th>fueltype</th>\n",
       "      <th>brand</th>\n",
       "      <th>notrepaired</th>\n",
       "    </tr>\n",
       "  </thead>\n",
       "  <tbody>\n",
       "    <tr>\n",
       "      <th>1</th>\n",
       "      <td>18300</td>\n",
       "      <td>coupe</td>\n",
       "      <td>2011</td>\n",
       "      <td>manual</td>\n",
       "      <td>190</td>\n",
       "      <td>NaN</td>\n",
       "      <td>125000</td>\n",
       "      <td>gasoline</td>\n",
       "      <td>audi</td>\n",
       "      <td>yes</td>\n",
       "    </tr>\n",
       "    <tr>\n",
       "      <th>59</th>\n",
       "      <td>1</td>\n",
       "      <td>suv</td>\n",
       "      <td>1994</td>\n",
       "      <td>manual</td>\n",
       "      <td>286</td>\n",
       "      <td>NaN</td>\n",
       "      <td>150000</td>\n",
       "      <td>NaN</td>\n",
       "      <td>sonstige_autos</td>\n",
       "      <td>NaN</td>\n",
       "    </tr>\n",
       "    <tr>\n",
       "      <th>81</th>\n",
       "      <td>350</td>\n",
       "      <td>small</td>\n",
       "      <td>1997</td>\n",
       "      <td>manual</td>\n",
       "      <td>54</td>\n",
       "      <td>NaN</td>\n",
       "      <td>150000</td>\n",
       "      <td>NaN</td>\n",
       "      <td>fiat</td>\n",
       "      <td>yes</td>\n",
       "    </tr>\n",
       "    <tr>\n",
       "      <th>115</th>\n",
       "      <td>0</td>\n",
       "      <td>small</td>\n",
       "      <td>1999</td>\n",
       "      <td>NaN</td>\n",
       "      <td>0</td>\n",
       "      <td>NaN</td>\n",
       "      <td>5000</td>\n",
       "      <td>petrol</td>\n",
       "      <td>volkswagen</td>\n",
       "      <td>NaN</td>\n",
       "    </tr>\n",
       "    <tr>\n",
       "      <th>135</th>\n",
       "      <td>1450</td>\n",
       "      <td>sedan</td>\n",
       "      <td>1992</td>\n",
       "      <td>manual</td>\n",
       "      <td>136</td>\n",
       "      <td>NaN</td>\n",
       "      <td>150000</td>\n",
       "      <td>NaN</td>\n",
       "      <td>audi</td>\n",
       "      <td>no</td>\n",
       "    </tr>\n",
       "    <tr>\n",
       "      <th>151</th>\n",
       "      <td>6799</td>\n",
       "      <td>small</td>\n",
       "      <td>2009</td>\n",
       "      <td>NaN</td>\n",
       "      <td>60</td>\n",
       "      <td>NaN</td>\n",
       "      <td>20000</td>\n",
       "      <td>petrol</td>\n",
       "      <td>volkswagen</td>\n",
       "      <td>no</td>\n",
       "    </tr>\n",
       "    <tr>\n",
       "      <th>160</th>\n",
       "      <td>500</td>\n",
       "      <td>small</td>\n",
       "      <td>1999</td>\n",
       "      <td>manual</td>\n",
       "      <td>0</td>\n",
       "      <td>NaN</td>\n",
       "      <td>150000</td>\n",
       "      <td>petrol</td>\n",
       "      <td>renault</td>\n",
       "      <td>no</td>\n",
       "    </tr>\n",
       "    <tr>\n",
       "      <th>161</th>\n",
       "      <td>1495</td>\n",
       "      <td>wagon</td>\n",
       "      <td>2001</td>\n",
       "      <td>NaN</td>\n",
       "      <td>64</td>\n",
       "      <td>NaN</td>\n",
       "      <td>150000</td>\n",
       "      <td>gasoline</td>\n",
       "      <td>volkswagen</td>\n",
       "      <td>NaN</td>\n",
       "    </tr>\n",
       "    <tr>\n",
       "      <th>186</th>\n",
       "      <td>14000</td>\n",
       "      <td>sedan</td>\n",
       "      <td>2008</td>\n",
       "      <td>NaN</td>\n",
       "      <td>235</td>\n",
       "      <td>NaN</td>\n",
       "      <td>150000</td>\n",
       "      <td>NaN</td>\n",
       "      <td>bmw</td>\n",
       "      <td>no</td>\n",
       "    </tr>\n",
       "    <tr>\n",
       "      <th>193</th>\n",
       "      <td>1200</td>\n",
       "      <td>coupe</td>\n",
       "      <td>1990</td>\n",
       "      <td>manual</td>\n",
       "      <td>45</td>\n",
       "      <td>NaN</td>\n",
       "      <td>150000</td>\n",
       "      <td>petrol</td>\n",
       "      <td>volkswagen</td>\n",
       "      <td>NaN</td>\n",
       "    </tr>\n",
       "  </tbody>\n",
       "</table>\n",
       "</div>"
      ],
      "text/plain": [
       "     price vehicletype  registrationyear gearbox  power model  kilometer  \\\n",
       "1    18300       coupe              2011  manual    190   NaN     125000   \n",
       "59       1         suv              1994  manual    286   NaN     150000   \n",
       "81     350       small              1997  manual     54   NaN     150000   \n",
       "115      0       small              1999     NaN      0   NaN       5000   \n",
       "135   1450       sedan              1992  manual    136   NaN     150000   \n",
       "151   6799       small              2009     NaN     60   NaN      20000   \n",
       "160    500       small              1999  manual      0   NaN     150000   \n",
       "161   1495       wagon              2001     NaN     64   NaN     150000   \n",
       "186  14000       sedan              2008     NaN    235   NaN     150000   \n",
       "193   1200       coupe              1990  manual     45   NaN     150000   \n",
       "\n",
       "     fueltype           brand notrepaired  \n",
       "1    gasoline            audi         yes  \n",
       "59        NaN  sonstige_autos         NaN  \n",
       "81        NaN            fiat         yes  \n",
       "115    petrol      volkswagen         NaN  \n",
       "135       NaN            audi          no  \n",
       "151    petrol      volkswagen          no  \n",
       "160    petrol         renault          no  \n",
       "161  gasoline      volkswagen         NaN  \n",
       "186       NaN             bmw          no  \n",
       "193    petrol      volkswagen         NaN  "
      ]
     },
     "execution_count": 35,
     "metadata": {},
     "output_type": "execute_result"
    }
   ],
   "source": [
    "check_data = df_fill[pd.isnull(df_fill['model'])].head(10)\n",
    "check_data"
   ]
  },
  {
   "cell_type": "markdown",
   "metadata": {},
   "source": [
    "Заполним **model** по названию бренду, типу автомобиля и году регистрации"
   ]
  },
  {
   "cell_type": "code",
   "execution_count": 36,
   "metadata": {},
   "outputs": [],
   "source": [
    "dict_for_type = df_fill.groupby(['vehicletype', 'brand', 'registrationyear'])['model'].apply(lambda x: x.mode()).to_dict()\n",
    "\n",
    "dict_for_type = {(key[:-1]): value for key, value in dict_for_type.items()}\n",
    "\n",
    "def filler(row):\n",
    "    if type(row['model']) != str:\n",
    "        return dict_for_type.get((row['vehicletype'], row['brand'], row['registrationyear']), \"unknown\")\n",
    "    return row['model']\n",
    "\n",
    "df_fill['model'] = df_fill.apply(filler, axis=1)"
   ]
  },
  {
   "cell_type": "markdown",
   "metadata": {},
   "source": [
    "Проверка"
   ]
  },
  {
   "cell_type": "code",
   "execution_count": 37,
   "metadata": {},
   "outputs": [
    {
     "data": {
      "text/html": [
       "<div>\n",
       "<style scoped>\n",
       "    .dataframe tbody tr th:only-of-type {\n",
       "        vertical-align: middle;\n",
       "    }\n",
       "\n",
       "    .dataframe tbody tr th {\n",
       "        vertical-align: top;\n",
       "    }\n",
       "\n",
       "    .dataframe thead th {\n",
       "        text-align: right;\n",
       "    }\n",
       "</style>\n",
       "<table border=\"1\" class=\"dataframe\">\n",
       "  <thead>\n",
       "    <tr style=\"text-align: right;\">\n",
       "      <th></th>\n",
       "      <th>price</th>\n",
       "      <th>vehicletype</th>\n",
       "      <th>registrationyear</th>\n",
       "      <th>gearbox</th>\n",
       "      <th>power</th>\n",
       "      <th>model</th>\n",
       "      <th>kilometer</th>\n",
       "      <th>fueltype</th>\n",
       "      <th>brand</th>\n",
       "      <th>notrepaired</th>\n",
       "    </tr>\n",
       "  </thead>\n",
       "  <tbody>\n",
       "    <tr>\n",
       "      <th>1</th>\n",
       "      <td>18300</td>\n",
       "      <td>coupe</td>\n",
       "      <td>2011</td>\n",
       "      <td>manual</td>\n",
       "      <td>190</td>\n",
       "      <td>a5</td>\n",
       "      <td>125000</td>\n",
       "      <td>gasoline</td>\n",
       "      <td>audi</td>\n",
       "      <td>yes</td>\n",
       "    </tr>\n",
       "    <tr>\n",
       "      <th>59</th>\n",
       "      <td>1</td>\n",
       "      <td>suv</td>\n",
       "      <td>1994</td>\n",
       "      <td>manual</td>\n",
       "      <td>286</td>\n",
       "      <td>unknown</td>\n",
       "      <td>150000</td>\n",
       "      <td>NaN</td>\n",
       "      <td>sonstige_autos</td>\n",
       "      <td>NaN</td>\n",
       "    </tr>\n",
       "    <tr>\n",
       "      <th>81</th>\n",
       "      <td>350</td>\n",
       "      <td>small</td>\n",
       "      <td>1997</td>\n",
       "      <td>manual</td>\n",
       "      <td>54</td>\n",
       "      <td>punto</td>\n",
       "      <td>150000</td>\n",
       "      <td>NaN</td>\n",
       "      <td>fiat</td>\n",
       "      <td>yes</td>\n",
       "    </tr>\n",
       "    <tr>\n",
       "      <th>115</th>\n",
       "      <td>0</td>\n",
       "      <td>small</td>\n",
       "      <td>1999</td>\n",
       "      <td>NaN</td>\n",
       "      <td>0</td>\n",
       "      <td>polo</td>\n",
       "      <td>5000</td>\n",
       "      <td>petrol</td>\n",
       "      <td>volkswagen</td>\n",
       "      <td>NaN</td>\n",
       "    </tr>\n",
       "    <tr>\n",
       "      <th>135</th>\n",
       "      <td>1450</td>\n",
       "      <td>sedan</td>\n",
       "      <td>1992</td>\n",
       "      <td>manual</td>\n",
       "      <td>136</td>\n",
       "      <td>80</td>\n",
       "      <td>150000</td>\n",
       "      <td>NaN</td>\n",
       "      <td>audi</td>\n",
       "      <td>no</td>\n",
       "    </tr>\n",
       "    <tr>\n",
       "      <th>151</th>\n",
       "      <td>6799</td>\n",
       "      <td>small</td>\n",
       "      <td>2009</td>\n",
       "      <td>NaN</td>\n",
       "      <td>60</td>\n",
       "      <td>polo</td>\n",
       "      <td>20000</td>\n",
       "      <td>petrol</td>\n",
       "      <td>volkswagen</td>\n",
       "      <td>no</td>\n",
       "    </tr>\n",
       "    <tr>\n",
       "      <th>160</th>\n",
       "      <td>500</td>\n",
       "      <td>small</td>\n",
       "      <td>1999</td>\n",
       "      <td>manual</td>\n",
       "      <td>0</td>\n",
       "      <td>twingo</td>\n",
       "      <td>150000</td>\n",
       "      <td>petrol</td>\n",
       "      <td>renault</td>\n",
       "      <td>no</td>\n",
       "    </tr>\n",
       "    <tr>\n",
       "      <th>161</th>\n",
       "      <td>1495</td>\n",
       "      <td>wagon</td>\n",
       "      <td>2001</td>\n",
       "      <td>NaN</td>\n",
       "      <td>64</td>\n",
       "      <td>passat</td>\n",
       "      <td>150000</td>\n",
       "      <td>gasoline</td>\n",
       "      <td>volkswagen</td>\n",
       "      <td>NaN</td>\n",
       "    </tr>\n",
       "    <tr>\n",
       "      <th>186</th>\n",
       "      <td>14000</td>\n",
       "      <td>sedan</td>\n",
       "      <td>2008</td>\n",
       "      <td>NaN</td>\n",
       "      <td>235</td>\n",
       "      <td>1er</td>\n",
       "      <td>150000</td>\n",
       "      <td>NaN</td>\n",
       "      <td>bmw</td>\n",
       "      <td>no</td>\n",
       "    </tr>\n",
       "    <tr>\n",
       "      <th>193</th>\n",
       "      <td>1200</td>\n",
       "      <td>coupe</td>\n",
       "      <td>1990</td>\n",
       "      <td>manual</td>\n",
       "      <td>45</td>\n",
       "      <td>polo</td>\n",
       "      <td>150000</td>\n",
       "      <td>petrol</td>\n",
       "      <td>volkswagen</td>\n",
       "      <td>NaN</td>\n",
       "    </tr>\n",
       "  </tbody>\n",
       "</table>\n",
       "</div>"
      ],
      "text/plain": [
       "     price vehicletype  registrationyear gearbox  power    model  kilometer  \\\n",
       "1    18300       coupe              2011  manual    190       a5     125000   \n",
       "59       1         suv              1994  manual    286  unknown     150000   \n",
       "81     350       small              1997  manual     54    punto     150000   \n",
       "115      0       small              1999     NaN      0     polo       5000   \n",
       "135   1450       sedan              1992  manual    136       80     150000   \n",
       "151   6799       small              2009     NaN     60     polo      20000   \n",
       "160    500       small              1999  manual      0   twingo     150000   \n",
       "161   1495       wagon              2001     NaN     64   passat     150000   \n",
       "186  14000       sedan              2008     NaN    235      1er     150000   \n",
       "193   1200       coupe              1990  manual     45     polo     150000   \n",
       "\n",
       "     fueltype           brand notrepaired  \n",
       "1    gasoline            audi         yes  \n",
       "59        NaN  sonstige_autos         NaN  \n",
       "81        NaN            fiat         yes  \n",
       "115    petrol      volkswagen         NaN  \n",
       "135       NaN            audi          no  \n",
       "151    petrol      volkswagen          no  \n",
       "160    petrol         renault          no  \n",
       "161  gasoline      volkswagen         NaN  \n",
       "186       NaN             bmw          no  \n",
       "193    petrol      volkswagen         NaN  "
      ]
     },
     "execution_count": 37,
     "metadata": {},
     "output_type": "execute_result"
    }
   ],
   "source": [
    "df_fill.query('index in @check_data.index')"
   ]
  },
  {
   "cell_type": "code",
   "execution_count": 38,
   "metadata": {},
   "outputs": [
    {
     "data": {
      "text/plain": [
       "0"
      ]
     },
     "execution_count": 38,
     "metadata": {},
     "output_type": "execute_result"
    }
   ],
   "source": [
    "df_fill['model'].isna().sum()"
   ]
  },
  {
   "cell_type": "markdown",
   "metadata": {},
   "source": [
    "Заполнено корректно"
   ]
  },
  {
   "cell_type": "markdown",
   "metadata": {},
   "source": [
    "По жизненному опыту известно, что значения столбцов **gearbox, fueltype, notrepaired** отражаются на цене автомобиля, но предсказания их значений по марке, бренду, мощности и году регистрации исказят результаты обучения. Пропуски в данных столбцах заполним как **unknown**."
   ]
  },
  {
   "cell_type": "code",
   "execution_count": 39,
   "metadata": {},
   "outputs": [],
   "source": [
    "df_fill.fillna('unknown', inplace=True)"
   ]
  },
  {
   "cell_type": "markdown",
   "metadata": {},
   "source": [
    "Проверим результат"
   ]
  },
  {
   "cell_type": "code",
   "execution_count": 40,
   "metadata": {},
   "outputs": [
    {
     "data": {
      "text/plain": [
       "price               0\n",
       "vehicletype         0\n",
       "registrationyear    0\n",
       "gearbox             0\n",
       "power               0\n",
       "model               0\n",
       "kilometer           0\n",
       "fueltype            0\n",
       "brand               0\n",
       "notrepaired         0\n",
       "dtype: int64"
      ]
     },
     "execution_count": 40,
     "metadata": {},
     "output_type": "execute_result"
    }
   ],
   "source": [
    "df_fill.isnull().sum()"
   ]
  },
  {
   "cell_type": "markdown",
   "metadata": {},
   "source": [
    "В столце **price** наблюдаются нулевые значения, скорее всего это непроданные машины или ошибка выгрузки данных. Удалим строки с нулевыми значениями, чтобы не портить модели обучения"
   ]
  },
  {
   "cell_type": "code",
   "execution_count": 41,
   "metadata": {},
   "outputs": [
    {
     "name": "stdout",
     "output_type": "stream",
     "text": [
      "Датасет до удаления имеет длину 353846\n",
      "Датасет после удаления имеет длину 343127\n"
     ]
    }
   ],
   "source": [
    "before = len(df_fill)\n",
    "df_fill = df_fill.query('price > 0')\n",
    "after = len(df_fill)\n",
    "print('Датасет до удаления имеет длину', before)\n",
    "print('Датасет после удаления имеет длину', after)"
   ]
  },
  {
   "cell_type": "markdown",
   "metadata": {},
   "source": [
    "Изучим датасет после предобработки"
   ]
  },
  {
   "cell_type": "code",
   "execution_count": 42,
   "metadata": {},
   "outputs": [
    {
     "data": {
      "text/html": [
       "<div>\n",
       "<style scoped>\n",
       "    .dataframe tbody tr th:only-of-type {\n",
       "        vertical-align: middle;\n",
       "    }\n",
       "\n",
       "    .dataframe tbody tr th {\n",
       "        vertical-align: top;\n",
       "    }\n",
       "\n",
       "    .dataframe thead th {\n",
       "        text-align: right;\n",
       "    }\n",
       "</style>\n",
       "<table border=\"1\" class=\"dataframe\">\n",
       "  <thead>\n",
       "    <tr style=\"text-align: right;\">\n",
       "      <th></th>\n",
       "      <th></th>\n",
       "      <th>price</th>\n",
       "      <th>vehicletype</th>\n",
       "      <th>registrationyear</th>\n",
       "      <th>gearbox</th>\n",
       "      <th>power</th>\n",
       "      <th>model</th>\n",
       "      <th>kilometer</th>\n",
       "      <th>fueltype</th>\n",
       "      <th>brand</th>\n",
       "      <th>notrepaired</th>\n",
       "    </tr>\n",
       "  </thead>\n",
       "  <tbody>\n",
       "    <tr>\n",
       "      <th rowspan=\"4\" valign=\"top\">head</th>\n",
       "      <th>0</th>\n",
       "      <td>480</td>\n",
       "      <td>sedan</td>\n",
       "      <td>1993</td>\n",
       "      <td>manual</td>\n",
       "      <td>0</td>\n",
       "      <td>golf</td>\n",
       "      <td>150000</td>\n",
       "      <td>petrol</td>\n",
       "      <td>volkswagen</td>\n",
       "      <td>unknown</td>\n",
       "    </tr>\n",
       "    <tr>\n",
       "      <th>1</th>\n",
       "      <td>18300</td>\n",
       "      <td>coupe</td>\n",
       "      <td>2011</td>\n",
       "      <td>manual</td>\n",
       "      <td>190</td>\n",
       "      <td>a5</td>\n",
       "      <td>125000</td>\n",
       "      <td>gasoline</td>\n",
       "      <td>audi</td>\n",
       "      <td>yes</td>\n",
       "    </tr>\n",
       "    <tr>\n",
       "      <th>2</th>\n",
       "      <td>9800</td>\n",
       "      <td>suv</td>\n",
       "      <td>2004</td>\n",
       "      <td>auto</td>\n",
       "      <td>163</td>\n",
       "      <td>grand</td>\n",
       "      <td>125000</td>\n",
       "      <td>gasoline</td>\n",
       "      <td>jeep</td>\n",
       "      <td>unknown</td>\n",
       "    </tr>\n",
       "    <tr>\n",
       "      <th>3</th>\n",
       "      <td>1500</td>\n",
       "      <td>small</td>\n",
       "      <td>2001</td>\n",
       "      <td>manual</td>\n",
       "      <td>75</td>\n",
       "      <td>golf</td>\n",
       "      <td>150000</td>\n",
       "      <td>petrol</td>\n",
       "      <td>volkswagen</td>\n",
       "      <td>no</td>\n",
       "    </tr>\n",
       "    <tr>\n",
       "      <th rowspan=\"4\" valign=\"top\">tail</th>\n",
       "      <th>353842</th>\n",
       "      <td>2200</td>\n",
       "      <td>unknown</td>\n",
       "      <td>2005</td>\n",
       "      <td>unknown</td>\n",
       "      <td>0</td>\n",
       "      <td>unknown</td>\n",
       "      <td>20000</td>\n",
       "      <td>unknown</td>\n",
       "      <td>sonstige_autos</td>\n",
       "      <td>unknown</td>\n",
       "    </tr>\n",
       "    <tr>\n",
       "      <th>353843</th>\n",
       "      <td>1199</td>\n",
       "      <td>convertible</td>\n",
       "      <td>2000</td>\n",
       "      <td>auto</td>\n",
       "      <td>101</td>\n",
       "      <td>fortwo</td>\n",
       "      <td>125000</td>\n",
       "      <td>petrol</td>\n",
       "      <td>smart</td>\n",
       "      <td>no</td>\n",
       "    </tr>\n",
       "    <tr>\n",
       "      <th>353844</th>\n",
       "      <td>9200</td>\n",
       "      <td>bus</td>\n",
       "      <td>1996</td>\n",
       "      <td>manual</td>\n",
       "      <td>102</td>\n",
       "      <td>transporter</td>\n",
       "      <td>150000</td>\n",
       "      <td>gasoline</td>\n",
       "      <td>volkswagen</td>\n",
       "      <td>no</td>\n",
       "    </tr>\n",
       "    <tr>\n",
       "      <th>353845</th>\n",
       "      <td>3400</td>\n",
       "      <td>wagon</td>\n",
       "      <td>2002</td>\n",
       "      <td>manual</td>\n",
       "      <td>100</td>\n",
       "      <td>golf</td>\n",
       "      <td>150000</td>\n",
       "      <td>gasoline</td>\n",
       "      <td>volkswagen</td>\n",
       "      <td>unknown</td>\n",
       "    </tr>\n",
       "  </tbody>\n",
       "</table>\n",
       "</div>"
      ],
      "text/plain": [
       "             price  vehicletype  registrationyear  gearbox  power  \\\n",
       "head 0         480        sedan              1993   manual      0   \n",
       "     1       18300        coupe              2011   manual    190   \n",
       "     2        9800          suv              2004     auto    163   \n",
       "     3        1500        small              2001   manual     75   \n",
       "tail 353842   2200      unknown              2005  unknown      0   \n",
       "     353843   1199  convertible              2000     auto    101   \n",
       "     353844   9200          bus              1996   manual    102   \n",
       "     353845   3400        wagon              2002   manual    100   \n",
       "\n",
       "                   model  kilometer  fueltype           brand notrepaired  \n",
       "head 0              golf     150000    petrol      volkswagen     unknown  \n",
       "     1                a5     125000  gasoline            audi         yes  \n",
       "     2             grand     125000  gasoline            jeep     unknown  \n",
       "     3              golf     150000    petrol      volkswagen          no  \n",
       "tail 353842      unknown      20000   unknown  sonstige_autos     unknown  \n",
       "     353843       fortwo     125000    petrol           smart          no  \n",
       "     353844  transporter     150000  gasoline      volkswagen          no  \n",
       "     353845         golf     150000  gasoline      volkswagen     unknown  "
      ]
     },
     "execution_count": 42,
     "metadata": {},
     "output_type": "execute_result"
    }
   ],
   "source": [
    "review(df_fill, 4)"
   ]
  },
  {
   "cell_type": "code",
   "execution_count": 43,
   "metadata": {},
   "outputs": [
    {
     "name": "stdout",
     "output_type": "stream",
     "text": [
      "<class 'pandas.core.frame.DataFrame'>\n",
      "Int64Index: 343127 entries, 0 to 353845\n",
      "Data columns (total 10 columns):\n",
      " #   Column            Non-Null Count   Dtype \n",
      "---  ------            --------------   ----- \n",
      " 0   price             343127 non-null  int64 \n",
      " 1   vehicletype       343127 non-null  object\n",
      " 2   registrationyear  343127 non-null  int64 \n",
      " 3   gearbox           343127 non-null  object\n",
      " 4   power             343127 non-null  int64 \n",
      " 5   model             343127 non-null  object\n",
      " 6   kilometer         343127 non-null  int64 \n",
      " 7   fueltype          343127 non-null  object\n",
      " 8   brand             343127 non-null  object\n",
      " 9   notrepaired       343127 non-null  object\n",
      "dtypes: int64(4), object(6)\n",
      "memory usage: 28.8+ MB\n"
     ]
    }
   ],
   "source": [
    "df_fill.info()"
   ]
  },
  {
   "cell_type": "markdown",
   "metadata": {},
   "source": [
    "Данные предобработаны и готовы к обучению модели"
   ]
  },
  {
   "cell_type": "markdown",
   "metadata": {},
   "source": [
    "[Содержание](#title)"
   ]
  },
  {
   "cell_type": "markdown",
   "metadata": {},
   "source": [
    "# 2. Обучение моделей  <a name=\"2\"></a>"
   ]
  },
  {
   "cell_type": "markdown",
   "metadata": {},
   "source": [
    "Обучать модели будем на основе градиентного бустинга. Прямую работу с категориальными параметрами обеспечивают библиотеки **CatBoost** и **LightGBM**. Для оценки времени обучения и скорости предсказания используем команду ```%%time```"
   ]
  },
  {
   "cell_type": "markdown",
   "metadata": {},
   "source": [
    "Создадим выборки"
   ]
  },
  {
   "cell_type": "code",
   "execution_count": 44,
   "metadata": {},
   "outputs": [
    {
     "name": "stdout",
     "output_type": "stream",
     "text": [
      "Размеры обучающих выборок (257345, 9) и (257345,)\n",
      "Размеры валидационных выборок (85782, 9) и (85782,)\n"
     ]
    }
   ],
   "source": [
    "target = df_fill['price']\n",
    "features = df_fill.drop('price', axis=1)\n",
    "\n",
    "features_train, features_test, target_train, target_test = train_test_split(features, target, test_size=0.25, random_state=RNG)\n",
    "print(f'Размеры обучающих выборок {features_train.shape} и {target_train.shape}')\n",
    "print(f'Размеры валидационных выборок {features_test.shape} и {target_test.shape}')"
   ]
  },
  {
   "cell_type": "markdown",
   "metadata": {},
   "source": [
    "Выведем распределение признаков и оценку качества константных моделей для определения качества результатов моделей"
   ]
  },
  {
   "cell_type": "code",
   "execution_count": 45,
   "metadata": {},
   "outputs": [
    {
     "data": {
      "text/plain": [
       "count    343127.000000\n",
       "mean       4557.105696\n",
       "std        4515.718852\n",
       "min           1.000000\n",
       "25%        1200.000000\n",
       "50%        2890.000000\n",
       "75%        6500.000000\n",
       "max       20000.000000\n",
       "Name: price, dtype: float64"
      ]
     },
     "execution_count": 45,
     "metadata": {},
     "output_type": "execute_result"
    }
   ],
   "source": [
    "target.describe()"
   ]
  },
  {
   "cell_type": "code",
   "execution_count": 46,
   "metadata": {},
   "outputs": [
    {
     "name": "stdout",
     "output_type": "stream",
     "text": [
      "Константная средняя модель выдаёт RMSE = 4521.128158952899\n"
     ]
    }
   ],
   "source": [
    "constant_mean = pd.Series(target_test.mean(), target_test.index)\n",
    "\n",
    "rmse_mean = (mean_squared_error(target_test, constant_mean))**0.5\n",
    "\n",
    "print('Константная средняя модель выдаёт RMSE =',rmse_mean)"
   ]
  },
  {
   "cell_type": "markdown",
   "metadata": {},
   "source": [
    "[Содержание](#title)"
   ]
  },
  {
   "cell_type": "markdown",
   "metadata": {},
   "source": [
    "Зададим категориальные признаки"
   ]
  },
  {
   "cell_type": "code",
   "execution_count": 47,
   "metadata": {},
   "outputs": [],
   "source": [
    "warnings.filterwarnings('ignore')\n",
    "\n",
    "cat_features=cat_features = ['vehicletype', 'gearbox', 'model', 'fueltype', 'brand', 'notrepaired']\n",
    "for c in cat_features:\n",
    "    features_train[c] = features_train[c].astype('category')\n",
    "    \n",
    "for c in cat_features:\n",
    "    features_test[c] = features_test[c].astype('category')"
   ]
  },
  {
   "cell_type": "markdown",
   "metadata": {},
   "source": [
    "### 2.1 Обучение CatBoost<a name=\"2.1\"></a>"
   ]
  },
  {
   "cell_type": "markdown",
   "metadata": {},
   "source": [
    "**model_cat_4**"
   ]
  },
  {
   "cell_type": "code",
   "execution_count": 48,
   "metadata": {},
   "outputs": [
    {
     "name": "stdout",
     "output_type": "stream",
     "text": [
      "0:\tlearn: 3609.3825507\ttotal: 1.29s\tremaining: 6m 25s\n",
      "30:\tlearn: 1705.2943885\ttotal: 41.6s\tremaining: 6m 1s\n",
      "60:\tlearn: 1614.8939322\ttotal: 1m 25s\tremaining: 5m 33s\n",
      "90:\tlearn: 1561.1086085\ttotal: 2m 5s\tremaining: 4m 48s\n",
      "120:\tlearn: 1530.9484097\ttotal: 2m 45s\tremaining: 4m 5s\n",
      "150:\tlearn: 1503.1576471\ttotal: 3m 30s\tremaining: 3m 27s\n",
      "180:\tlearn: 1476.3238717\ttotal: 4m 15s\tremaining: 2m 48s\n",
      "210:\tlearn: 1459.3421061\ttotal: 4m 58s\tremaining: 2m 5s\n",
      "240:\tlearn: 1441.5688542\ttotal: 5m 42s\tremaining: 1m 23s\n",
      "270:\tlearn: 1425.3764584\ttotal: 6m 26s\tremaining: 41.4s\n",
      "299:\tlearn: 1410.7946332\ttotal: 7m 10s\tremaining: 0us\n",
      "CPU times: user 7min 1s, sys: 10.4 s, total: 7min 12s\n",
      "Wall time: 7min 14s\n"
     ]
    },
    {
     "data": {
      "text/plain": [
       "<catboost.core.CatBoostRegressor at 0x7fed4a8b4910>"
      ]
     },
     "execution_count": 48,
     "metadata": {},
     "output_type": "execute_result"
    }
   ],
   "source": [
    "%%time\n",
    "model_cat_4 = CatBoostRegressor(random_state=RNG, iterations=300, depth=10, learning_rate=0.3, l2_leaf_reg=4,\\\n",
    "                                loss_function='RMSE', thread_count=3, early_stopping_rounds=5)\n",
    "model_cat_4.fit(features_train, target_train, cat_features=cat_features, verbose=30)"
   ]
  },
  {
   "cell_type": "code",
   "execution_count": 49,
   "metadata": {},
   "outputs": [
    {
     "name": "stdout",
     "output_type": "stream",
     "text": [
      "Время предсказания:\n",
      "CPU times: user 1.11 s, sys: 44.3 ms, total: 1.16 s\n",
      "Wall time: 1.1 s\n"
     ]
    }
   ],
   "source": [
    "%%time\n",
    "print('Время предсказания:')\n",
    "predicted_test_4 = model_cat_4.predict(features_test)"
   ]
  },
  {
   "cell_type": "markdown",
   "metadata": {},
   "source": [
    "Исследуем результат методом кросс-валидации"
   ]
  },
  {
   "cell_type": "code",
   "execution_count": 50,
   "metadata": {},
   "outputs": [],
   "source": [
    "pool = Pool(data=features_train, label=target_train, cat_features=cat_features)\n",
    "\n",
    "params = {}\n",
    "params['iterations'] = 300\n",
    "params['learning_rate'] = 0.3\n",
    "params['depth'] = 10\n",
    "params['loss_function'] = 'RMSE'\n",
    "params['l2_leaf_reg'] = 4\n",
    "params['thread_count'] = 3\n",
    "params['random_state'] = RNG"
   ]
  },
  {
   "cell_type": "code",
   "execution_count": 51,
   "metadata": {},
   "outputs": [
    {
     "name": "stdout",
     "output_type": "stream",
     "text": [
      "CPU times: user 4 µs, sys: 0 ns, total: 4 µs\n",
      "Wall time: 8.58 µs\n",
      "0:\tlearn: 4825.5638754\ttest: 4826.0116013\tbest: 4826.0116013 (0)\ttotal: 3.44s\tremaining: 17m 9s\n",
      "30:\tlearn: 1709.2410139\ttest: 1762.6727365\tbest: 1762.6727365 (30)\ttotal: 1m 34s\tremaining: 13m 36s\n",
      "60:\tlearn: 1610.1675311\ttest: 1705.3814020\tbest: 1705.3814020 (60)\ttotal: 3m 11s\tremaining: 12m 29s\n",
      "90:\tlearn: 1551.3040396\ttest: 1680.8695790\tbest: 1680.8695790 (90)\ttotal: 4m 54s\tremaining: 11m 15s\n",
      "120:\tlearn: 1511.4893614\ttest: 1670.1624341\tbest: 1670.1624341 (120)\ttotal: 6m 38s\tremaining: 9m 50s\n",
      "150:\tlearn: 1479.6137591\ttest: 1660.9106374\tbest: 1660.9106374 (150)\ttotal: 8m 13s\tremaining: 8m 7s\n",
      "180:\tlearn: 1450.9396349\ttest: 1654.4540647\tbest: 1654.4540647 (180)\ttotal: 9m 52s\tremaining: 6m 29s\n",
      "210:\tlearn: 1427.1133049\ttest: 1650.2024365\tbest: 1650.2024365 (210)\ttotal: 11m 28s\tremaining: 4m 50s\n",
      "Stopped by overfitting detector  (5 iterations wait)\n"
     ]
    }
   ],
   "source": [
    "%time\n",
    "cv = cv(pool=pool,\n",
    "        params=params,\n",
    "        fold_count=3,\n",
    "        shuffle=True,\n",
    "        partition_random_seed=0,\n",
    "        verbose=30,\n",
    "        early_stopping_rounds=5)"
   ]
  },
  {
   "cell_type": "markdown",
   "metadata": {},
   "source": [
    "Полученная модель обладает приемлемой точностью, долгим временем обучения и быстрым предсказанием результатов."
   ]
  },
  {
   "cell_type": "markdown",
   "metadata": {},
   "source": [
    "[Содержание](#title)"
   ]
  },
  {
   "cell_type": "markdown",
   "metadata": {},
   "source": [
    "### 2.2 Обучение LightGBM <a name=\"2.2\"></a>"
   ]
  },
  {
   "cell_type": "markdown",
   "metadata": {},
   "source": [
    "**model_lgbm_3**"
   ]
  },
  {
   "cell_type": "code",
   "execution_count": 52,
   "metadata": {},
   "outputs": [
    {
     "name": "stdout",
     "output_type": "stream",
     "text": [
      "CPU times: user 7.62 s, sys: 19.1 ms, total: 7.63 s\n",
      "Wall time: 7.67 s\n"
     ]
    },
    {
     "data": {
      "text/plain": [
       "LGBMRegressor(boosting_type='gbdt', class_weight=None, colsample_bytree=1.0,\n",
       "              importance_type='split', learning_rate=0.2, max_depth=10,\n",
       "              min_child_samples=20, min_child_weight=0.001, min_split_gain=0.0,\n",
       "              n_estimators=100, n_jobs=-1, num_leaves=31, objective=None,\n",
       "              random_state=42, reg_alpha=0.0, reg_lambda=0.0, silent=True,\n",
       "              subsample=1.0, subsample_for_bin=200000, subsample_freq=0)"
      ]
     },
     "execution_count": 52,
     "metadata": {},
     "output_type": "execute_result"
    }
   ],
   "source": [
    "%%time\n",
    "model_lgbm_3 = lgb.LGBMRegressor(random_state=RNG, max_depth = 10, learning_rate=0.2)\n",
    "model_lgbm_3.fit(features_train, target_train)"
   ]
  },
  {
   "cell_type": "code",
   "execution_count": 53,
   "metadata": {},
   "outputs": [
    {
     "name": "stdout",
     "output_type": "stream",
     "text": [
      "Время предсказания:\n",
      "CPU times: user 916 ms, sys: 0 ns, total: 916 ms\n",
      "Wall time: 905 ms\n"
     ]
    }
   ],
   "source": [
    "%%time\n",
    "print('Время предсказания:')\n",
    "predicted_lgbm_3 = model_lgbm_3.predict(features_test)"
   ]
  },
  {
   "cell_type": "markdown",
   "metadata": {},
   "source": [
    "Исследуем результат методом кросс-валидации"
   ]
  },
  {
   "cell_type": "code",
   "execution_count": 54,
   "metadata": {},
   "outputs": [],
   "source": [
    "def rmse(target, pred):\n",
    "    return (mean_squared_error(target, pred))**0.5\n",
    "\n",
    "custom_scorer = make_scorer(rmse, greater_is_better=False)"
   ]
  },
  {
   "cell_type": "code",
   "execution_count": 55,
   "metadata": {},
   "outputs": [
    {
     "name": "stdout",
     "output_type": "stream",
     "text": [
      "RMSE = 1669.462744465065\n",
      "CPU times: user 19.9 s, sys: 129 ms, total: 20 s\n",
      "Wall time: 20.3 s\n"
     ]
    }
   ],
   "source": [
    "%%time\n",
    "print('RMSE =', np.abs(cross_val_score(model_lgbm_3, features_train, target_train, cv=3, scoring=custom_scorer)).mean())"
   ]
  },
  {
   "cell_type": "markdown",
   "metadata": {},
   "source": [
    "Полученная модель обладает приемлемой точностью, низким временем обучения и быстрым предсказанием результатов."
   ]
  },
  {
   "cell_type": "markdown",
   "metadata": {},
   "source": [
    "[Содержание](#title)"
   ]
  },
  {
   "cell_type": "markdown",
   "metadata": {},
   "source": [
    "### 2.3 Обучение логистической регрессии <a name=\"2.3\"></a>"
   ]
  },
  {
   "cell_type": "markdown",
   "metadata": {},
   "source": [
    "Преобразуем категориальные признаки в численные при помощи техники прямого кодирования, или отображения (**One-Hot Encoding, OHE**), предусмотрев наличие дамми ловушек (dummy trap)."
   ]
  },
  {
   "cell_type": "code",
   "execution_count": 56,
   "metadata": {},
   "outputs": [
    {
     "name": "stdout",
     "output_type": "stream",
     "text": [
      "Размеры обучающих выборок (257345, 311) и (257345,)\n",
      "Размеры валидационных выборок (85782, 311) и (85782,)\n"
     ]
    }
   ],
   "source": [
    "df_hot = pd.get_dummies(df_fill, drop_first=True)\n",
    "\n",
    "target_hot = df_hot['price']\n",
    "features_hot = df_hot.drop('price', axis=1)\n",
    "\n",
    "features_train_hot, features_test_hot, target_train_hot, target_test_hot = train_test_split(features_hot, target_hot, test_size=0.25, random_state=RNG)\n",
    "print(f'Размеры обучающих выборок {features_train_hot.shape} и {target_train_hot.shape}')\n",
    "print(f'Размеры валидационных выборок {features_test_hot.shape} и {target_test_hot.shape}')"
   ]
  },
  {
   "cell_type": "markdown",
   "metadata": {},
   "source": [
    "Обучим модель"
   ]
  },
  {
   "cell_type": "code",
   "execution_count": 57,
   "metadata": {},
   "outputs": [
    {
     "name": "stdout",
     "output_type": "stream",
     "text": [
      "CPU times: user 4 µs, sys: 0 ns, total: 4 µs\n",
      "Wall time: 8.11 µs\n"
     ]
    },
    {
     "data": {
      "text/plain": [
       "LinearRegression(copy_X=True, fit_intercept=True, n_jobs=None, normalize=False)"
      ]
     },
     "execution_count": 57,
     "metadata": {},
     "output_type": "execute_result"
    }
   ],
   "source": [
    "%time\n",
    "model_logistic = LinearRegression()\n",
    "model_logistic.fit(features_train_hot, target_train)"
   ]
  },
  {
   "cell_type": "code",
   "execution_count": 58,
   "metadata": {},
   "outputs": [
    {
     "name": "stdout",
     "output_type": "stream",
     "text": [
      "Время предсказания:\n",
      "CPU times: user 137 ms, sys: 126 ms, total: 264 ms\n",
      "Wall time: 221 ms\n"
     ]
    }
   ],
   "source": [
    "%%time\n",
    "print('Время предсказания:')\n",
    "model_logistic_predict = model_logistic.predict(features_test_hot)"
   ]
  },
  {
   "cell_type": "code",
   "execution_count": 59,
   "metadata": {},
   "outputs": [
    {
     "name": "stdout",
     "output_type": "stream",
     "text": [
      "RMSE = 2777.790689509801\n",
      "CPU times: user 43.7 s, sys: 11.9 s, total: 55.6 s\n",
      "Wall time: 56 s\n"
     ]
    }
   ],
   "source": [
    "%%time\n",
    "print('RMSE =', np.abs(cross_val_score(model_logistic, pd.get_dummies(features_train, drop_first=True), target_train, cv=3, scoring=custom_scorer)).mean())"
   ]
  },
  {
   "cell_type": "markdown",
   "metadata": {},
   "source": [
    "Полученная модель обладает низкой точность (по сравнению с моделями градиентного бустинга), быстрое время обучения и предсказания, но требует предварительной обработки категориальных признаков."
   ]
  },
  {
   "cell_type": "markdown",
   "metadata": {},
   "source": [
    "[Содержание](#title)"
   ]
  },
  {
   "cell_type": "markdown",
   "metadata": {},
   "source": [
    "# 3. Анализ моделей <a name=\"3\"></a>"
   ]
  },
  {
   "cell_type": "markdown",
   "metadata": {},
   "source": [
    "Все обученные модели показали качество выше констаных моделей"
   ]
  },
  {
   "cell_type": "markdown",
   "metadata": {},
   "source": [
    "Сравним лучшие модели для обеих библиотек"
   ]
  },
  {
   "cell_type": "code",
   "execution_count": 62,
   "metadata": {},
   "outputs": [
    {
     "data": {
      "text/html": [
       "<style  type=\"text/css\" >\n",
       "#T_a8002fd0_f68d_11ea_8d48_02420a392704row0_col2,#T_a8002fd0_f68d_11ea_8d48_02420a392704row2_col3,#T_a8002fd0_f68d_11ea_8d48_02420a392704row2_col4{\n",
       "            background-color:  lightgreen;\n",
       "        }</style><table id=\"T_a8002fd0_f68d_11ea_8d48_02420a392704\" ><thead>    <tr>        <th class=\"blank level0\" ></th>        <th class=\"col_heading level0 col0\" >Библиотека</th>        <th class=\"col_heading level0 col1\" >Модель</th>        <th class=\"col_heading level0 col2\" >rmse, на кросс-валидации</th>        <th class=\"col_heading level0 col3\" >Время обучения, секунд</th>        <th class=\"col_heading level0 col4\" >Время предсказания, секунд</th>    </tr></thead><tbody>\n",
       "                <tr>\n",
       "                        <th id=\"T_a8002fd0_f68d_11ea_8d48_02420a392704level0_row0\" class=\"row_heading level0 row0\" >0</th>\n",
       "                        <td id=\"T_a8002fd0_f68d_11ea_8d48_02420a392704row0_col0\" class=\"data row0 col0\" >CatBoostRegressor</td>\n",
       "                        <td id=\"T_a8002fd0_f68d_11ea_8d48_02420a392704row0_col1\" class=\"data row0 col1\" >model_cat_4</td>\n",
       "                        <td id=\"T_a8002fd0_f68d_11ea_8d48_02420a392704row0_col2\" class=\"data row0 col2\" >1650.20</td>\n",
       "                        <td id=\"T_a8002fd0_f68d_11ea_8d48_02420a392704row0_col3\" class=\"data row0 col3\" >434</td>\n",
       "                        <td id=\"T_a8002fd0_f68d_11ea_8d48_02420a392704row0_col4\" class=\"data row0 col4\" >1.1</td>\n",
       "            </tr>\n",
       "            <tr>\n",
       "                        <th id=\"T_a8002fd0_f68d_11ea_8d48_02420a392704level0_row1\" class=\"row_heading level0 row1\" >1</th>\n",
       "                        <td id=\"T_a8002fd0_f68d_11ea_8d48_02420a392704row1_col0\" class=\"data row1 col0\" >LGBMRegressor</td>\n",
       "                        <td id=\"T_a8002fd0_f68d_11ea_8d48_02420a392704row1_col1\" class=\"data row1 col1\" >model_lgbm_3</td>\n",
       "                        <td id=\"T_a8002fd0_f68d_11ea_8d48_02420a392704row1_col2\" class=\"data row1 col2\" >1669.46</td>\n",
       "                        <td id=\"T_a8002fd0_f68d_11ea_8d48_02420a392704row1_col3\" class=\"data row1 col3\" >7.67</td>\n",
       "                        <td id=\"T_a8002fd0_f68d_11ea_8d48_02420a392704row1_col4\" class=\"data row1 col4\" >0.000905</td>\n",
       "            </tr>\n",
       "            <tr>\n",
       "                        <th id=\"T_a8002fd0_f68d_11ea_8d48_02420a392704level0_row2\" class=\"row_heading level0 row2\" >2</th>\n",
       "                        <td id=\"T_a8002fd0_f68d_11ea_8d48_02420a392704row2_col0\" class=\"data row2 col0\" >LinearRegression</td>\n",
       "                        <td id=\"T_a8002fd0_f68d_11ea_8d48_02420a392704row2_col1\" class=\"data row2 col1\" >model_logistic</td>\n",
       "                        <td id=\"T_a8002fd0_f68d_11ea_8d48_02420a392704row2_col2\" class=\"data row2 col2\" >2777.79</td>\n",
       "                        <td id=\"T_a8002fd0_f68d_11ea_8d48_02420a392704row2_col3\" class=\"data row2 col3\" >0.000008</td>\n",
       "                        <td id=\"T_a8002fd0_f68d_11ea_8d48_02420a392704row2_col4\" class=\"data row2 col4\" >0.000211</td>\n",
       "            </tr>\n",
       "    </tbody></table>"
      ],
      "text/plain": [
       "<pandas.io.formats.style.Styler at 0x7fed46ce2290>"
      ]
     },
     "execution_count": 62,
     "metadata": {},
     "output_type": "execute_result"
    }
   ],
   "source": [
    "data = {'Библиотека': ['CatBoostRegressor', 'LGBMRegressor', 'LinearRegression'],\\\n",
    "        'Модель': ['model_cat_4', 'model_lgbm_3', 'model_logistic'],\\\n",
    "        'rmse, на кросс-валидации': ['1650.20', '1669.46', '2777.79'],\\\n",
    "        'Время обучения, секунд': ['434', '7.67', '0.000008'],\\\n",
    "        'Время предсказания, секунд': ['1.1', '0.000905', '0.000211']}\n",
    "research = pd.DataFrame(data=data)\n",
    "\n",
    "research.style.highlight_min(['rmse, на кросс-валидации', 'Время обучения, секунд', 'Время предсказания, секунд'],color='lightgreen', axis = 0)"
   ]
  },
  {
   "cell_type": "markdown",
   "metadata": {},
   "source": [
    "Модели градиентного бустинга показывают намного большую точность, чем модель логистической регрессии, поэтому использовать её не рекомендуется.\n",
    "\n",
    "По двум параметрам из трех лучшей оказалась модель **model_lgbm_3** из библиотеки **LGBMRegressor**. Модель показала высокую точность, низкое время обучения и предсказания. Модель **model_cat_4** оказалась сложнее для из-за большого количества итераций в обучении."
   ]
  },
  {
   "cell_type": "markdown",
   "metadata": {},
   "source": [
    "Само по себе время обучения и предсказания очень приблизительно, т.к. зависит от скорости выполнения на определенном компьютере в данный момент времени."
   ]
  },
  {
   "cell_type": "markdown",
   "metadata": {},
   "source": [
    "Для решения конкретной задачи выберем **model_lgbm_3**. Посмотрим значение метрики **RMSE** на тестовых данных"
   ]
  },
  {
   "cell_type": "code",
   "execution_count": 64,
   "metadata": {},
   "outputs": [
    {
     "name": "stdout",
     "output_type": "stream",
     "text": [
      "RMSE = 1656.8801296223046\n"
     ]
    }
   ],
   "source": [
    "print('RMSE =', (mean_squared_error(target_test, predicted_lgbm_3))**0.5)"
   ]
  },
  {
   "cell_type": "markdown",
   "metadata": {},
   "source": [
    "Модель адекватна. Точность модели могла пострадать на этапе предобработки данных, т.к. заполнение пропусков могло усложнить модель и добавить в перечень плохо описанные автомобили."
   ]
  },
  {
   "cell_type": "markdown",
   "metadata": {},
   "source": [
    "Модель **CatBoost** имеет лучшие показатели относительно других моделей при отсутствии настроек. В целом, выбор модели для каждого датасета очень индивидуален и должен подбираться под определенный набор данных. К преемуществам библиотеки также можно отнести отсутствие необходимости проведения допольнительной обработки категориальных признаков."
   ]
  },
  {
   "cell_type": "markdown",
   "metadata": {},
   "source": [
    "[Содержание](#title)"
   ]
  }
 ],
 "metadata": {
  "kernelspec": {
   "display_name": "Python 3",
   "language": "python",
   "name": "python3"
  },
  "language_info": {
   "codemirror_mode": {
    "name": "ipython",
    "version": 3
   },
   "file_extension": ".py",
   "mimetype": "text/x-python",
   "name": "python",
   "nbconvert_exporter": "python",
   "pygments_lexer": "ipython3",
   "version": "3.7.6"
  }
 },
 "nbformat": 4,
 "nbformat_minor": 2
}
