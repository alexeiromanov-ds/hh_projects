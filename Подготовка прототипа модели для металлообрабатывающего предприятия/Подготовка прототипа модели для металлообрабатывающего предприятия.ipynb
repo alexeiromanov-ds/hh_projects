t{
 "cells": [
  {
   "cell_type": "markdown",
   "metadata": {},
   "source": [
    "# Описание проекта\n",
    "\n",
    "Компания разрабатывает решения для эффективной работы золотодобывающей отрасли. Необходимо разработать модель, помогающая оптимизировать производство, чтобы не запускать предприятие с убыточными характеристиками.\n",
    "### Задачи проекта\n",
    "Разработка модели, предсказывающей коэффициент восстановления золота из золотосодержащей руды. \n",
    "\n",
    "### Описание данных\n",
    "\n",
    "**Параметры этапов:**\n",
    "\n",
    "* `air amount` — объём воздуха\n",
    "* `fluid levels` — уровень жидкости\n",
    "* `feed size` — размер гранул сырья\n",
    "* `feed rate` — скорость подачи\n",
    "\n",
    "**Наименование признаков**\n",
    "\n",
    "Наименование признаков должно быть такое:\n",
    "**[этап].[тип_параметра].[название_параметра]**\n",
    "\n",
    "**Пример**: `rougher.input.feed_ag`\n",
    "\n",
    "Возможные значения для блока [этап]:\n",
    "\n",
    "* `rougher` — флотация\n",
    "* `primary_cleaner` — первичная очистка\n",
    "* `secondary_cleaner` — вторичная очистка\n",
    "* `final` — финальные характеристики\n",
    "\n",
    "**Возможные значения для блока [тип_параметра]**:\n",
    "\n",
    "* `input` — параметры сырья\n",
    "* `output` — параметры продукта\n",
    "* `state` — параметры, характеризующие текущее состояние этапа\n",
    "* `calculation` — расчётные характеристики\n",
    "\n",
    "# Содержание <a name=\"title\"></a>\n",
    "\n",
    "[Импорт библиотек и задание констант](#import)\n",
    "1. [Загрузка и подготовка данных](#1)\n",
    "\n",
    "    1.1 [Проверка правильности расчёта эффективности обогащения](#1.1)\n",
    "    \n",
    "    1.2 [Анализ исходных данных](#1.2)\n",
    "    \n",
    "    1.3 [Предобработка данных](#1.3)\n",
    "    \n",
    " \n",
    "2. [Анализ данных](#2)\n",
    "\n",
    "    2.1 [Исследование концентрации металлов (Au, Ag, Pb) на различных этапах очистки](#2.1)\n",
    "    \n",
    "    2.2 [Исследование распределения гранул сырья в обучающей и тестовой выборке](#2.2)\n",
    "    \n",
    "    2.3 [Исследование суммарной концентрации всех веществ на разных стадиях: в сырье, в черновом и финальном концентратах](#2.3)\n",
    "    \n",
    "    \n",
    "3. [Построение модели](#3)\n",
    "\n",
    "    3.1 [Исследование концентрации металлов (Au, Ag, Pb) на различных этапах очистки](#3.1)\n",
    "    \n",
    "    3.2 [Исследование распределения гранул сырья в обучающей и тестовой выборке](#3.2)\n",
    "    \n",
    "    3.2.1 [Обучение модели флоатации](#3.2.1)\n",
    "    \n",
    "    3.2.2 [Обучение модели финального этапа](#3.2.2)\n",
    "    \n",
    "    3.2.3 [Выявление лучших моделей и тестирование](#3.2.3)\n",
    "    \n",
    "    \n",
    "4. [Вывод](#4)"
   ]
  },
  {
   "cell_type": "markdown",
   "metadata": {},
   "source": [
    "# Импорт библиотек и задание констант <a name=\"import\"></a>"
   ]
  },
  {
   "cell_type": "code",
   "execution_count": 1,
   "metadata": {},
   "outputs": [],
   "source": [
    "import pandas as pd\n",
    "\n",
    "from sklearn.metrics import mean_absolute_error \n",
    "from sklearn.metrics import make_scorer\n",
    "from sklearn.model_selection import GridSearchCV\n",
    "from sklearn.model_selection import cross_val_score\n",
    "from sklearn.tree import DecisionTreeRegressor\n",
    "from sklearn.ensemble import RandomForestRegressor\n",
    "from sklearn.ensemble import GradientBoostingRegressor\n",
    "from sklearn.linear_model import LinearRegression\n",
    "\n",
    "from IPython.display import display\n",
    "import seaborn as sns\n",
    "import matplotlib.pyplot as plt\n",
    "import numpy as np\n",
    "from pylab import *\n",
    "import warnings\n",
    "\n",
    "warnings.filterwarnings('ignore')\n",
    "\n",
    "\n",
    "RNG = 123 # константа для random_state"
   ]
  },
  {
   "cell_type": "code",
   "execution_count": 2,
   "metadata": {},
   "outputs": [],
   "source": [
    "class Explorer:\n",
    "    class show(object):\n",
    "        template = \"\"\"<div style=\"float: left; padding: 10px;\">\n",
    "        <p style='font-family:\"Courier New\", Courier, monospace'>{0}</p>{1}\n",
    "        </div>\"\"\"\n",
    "\n",
    "        def __init__(self, *args):\n",
    "            self.args = args\n",
    "    \n",
    "        def _repr_html_(self):\n",
    "            return '\\n'.join(self.template.format(a, eval(a)._repr_html_()) for a in self.args)\n",
    "        \n",
    "def review(data):\n",
    "    return pd.concat([data.head(), data.tail()], keys=['head', 'tail'])\n",
    "    \n",
    "explorer = Explorer()"
   ]
  },
  {
   "cell_type": "markdown",
   "metadata": {},
   "source": [
    "# 1. Загрузка и подготовка данных <a name=\"1\"></a>"
   ]
  },
  {
   "cell_type": "code",
   "execution_count": 3,
   "metadata": {},
   "outputs": [],
   "source": [
    "df_full = pd.read_csv('/datasets/gold_recovery_full.csv')\n",
    "df_train = pd.read_csv('/datasets/gold_recovery_train.csv')\n",
    "df_test = pd.read_csv('/datasets/gold_recovery_test.csv')"
   ]
  },
  {
   "cell_type": "markdown",
   "metadata": {},
   "source": [
    "Рассмотрим обучающую выборку"
   ]
  },
  {
   "cell_type": "code",
   "execution_count": 4,
   "metadata": {},
   "outputs": [
    {
     "data": {
      "text/html": [
       "<div>\n",
       "<style scoped>\n",
       "    .dataframe tbody tr th:only-of-type {\n",
       "        vertical-align: middle;\n",
       "    }\n",
       "\n",
       "    .dataframe tbody tr th {\n",
       "        vertical-align: top;\n",
       "    }\n",
       "\n",
       "    .dataframe thead th {\n",
       "        text-align: right;\n",
       "    }\n",
       "</style>\n",
       "<table border=\"1\" class=\"dataframe\">\n",
       "  <thead>\n",
       "    <tr style=\"text-align: right;\">\n",
       "      <th></th>\n",
       "      <th></th>\n",
       "      <th>date</th>\n",
       "      <th>final.output.concentrate_ag</th>\n",
       "      <th>final.output.concentrate_pb</th>\n",
       "      <th>final.output.concentrate_sol</th>\n",
       "      <th>final.output.concentrate_au</th>\n",
       "      <th>final.output.recovery</th>\n",
       "      <th>final.output.tail_ag</th>\n",
       "      <th>final.output.tail_pb</th>\n",
       "      <th>final.output.tail_sol</th>\n",
       "      <th>final.output.tail_au</th>\n",
       "      <th>...</th>\n",
       "      <th>secondary_cleaner.state.floatbank4_a_air</th>\n",
       "      <th>secondary_cleaner.state.floatbank4_a_level</th>\n",
       "      <th>secondary_cleaner.state.floatbank4_b_air</th>\n",
       "      <th>secondary_cleaner.state.floatbank4_b_level</th>\n",
       "      <th>secondary_cleaner.state.floatbank5_a_air</th>\n",
       "      <th>secondary_cleaner.state.floatbank5_a_level</th>\n",
       "      <th>secondary_cleaner.state.floatbank5_b_air</th>\n",
       "      <th>secondary_cleaner.state.floatbank5_b_level</th>\n",
       "      <th>secondary_cleaner.state.floatbank6_a_air</th>\n",
       "      <th>secondary_cleaner.state.floatbank6_a_level</th>\n",
       "    </tr>\n",
       "  </thead>\n",
       "  <tbody>\n",
       "    <tr>\n",
       "      <td rowspan=\"5\" valign=\"top\">head</td>\n",
       "      <td>0</td>\n",
       "      <td>2016-01-15 00:00:00</td>\n",
       "      <td>6.055403</td>\n",
       "      <td>9.889648</td>\n",
       "      <td>5.507324</td>\n",
       "      <td>42.192020</td>\n",
       "      <td>70.541216</td>\n",
       "      <td>10.411962</td>\n",
       "      <td>0.895447</td>\n",
       "      <td>16.904297</td>\n",
       "      <td>2.143149</td>\n",
       "      <td>...</td>\n",
       "      <td>14.016835</td>\n",
       "      <td>-502.488007</td>\n",
       "      <td>12.099931</td>\n",
       "      <td>-504.715942</td>\n",
       "      <td>9.925633</td>\n",
       "      <td>-498.310211</td>\n",
       "      <td>8.079666</td>\n",
       "      <td>-500.470978</td>\n",
       "      <td>14.151341</td>\n",
       "      <td>-605.841980</td>\n",
       "    </tr>\n",
       "    <tr>\n",
       "      <td>1</td>\n",
       "      <td>2016-01-15 01:00:00</td>\n",
       "      <td>6.029369</td>\n",
       "      <td>9.968944</td>\n",
       "      <td>5.257781</td>\n",
       "      <td>42.701629</td>\n",
       "      <td>69.266198</td>\n",
       "      <td>10.462676</td>\n",
       "      <td>0.927452</td>\n",
       "      <td>16.634514</td>\n",
       "      <td>2.224930</td>\n",
       "      <td>...</td>\n",
       "      <td>13.992281</td>\n",
       "      <td>-505.503262</td>\n",
       "      <td>11.950531</td>\n",
       "      <td>-501.331529</td>\n",
       "      <td>10.039245</td>\n",
       "      <td>-500.169983</td>\n",
       "      <td>7.984757</td>\n",
       "      <td>-500.582168</td>\n",
       "      <td>13.998353</td>\n",
       "      <td>-599.787184</td>\n",
       "    </tr>\n",
       "    <tr>\n",
       "      <td>2</td>\n",
       "      <td>2016-01-15 02:00:00</td>\n",
       "      <td>6.055926</td>\n",
       "      <td>10.213995</td>\n",
       "      <td>5.383759</td>\n",
       "      <td>42.657501</td>\n",
       "      <td>68.116445</td>\n",
       "      <td>10.507046</td>\n",
       "      <td>0.953716</td>\n",
       "      <td>16.208849</td>\n",
       "      <td>2.257889</td>\n",
       "      <td>...</td>\n",
       "      <td>14.015015</td>\n",
       "      <td>-502.520901</td>\n",
       "      <td>11.912783</td>\n",
       "      <td>-501.133383</td>\n",
       "      <td>10.070913</td>\n",
       "      <td>-500.129135</td>\n",
       "      <td>8.013877</td>\n",
       "      <td>-500.517572</td>\n",
       "      <td>14.028663</td>\n",
       "      <td>-601.427363</td>\n",
       "    </tr>\n",
       "    <tr>\n",
       "      <td>3</td>\n",
       "      <td>2016-01-15 03:00:00</td>\n",
       "      <td>6.047977</td>\n",
       "      <td>9.977019</td>\n",
       "      <td>4.858634</td>\n",
       "      <td>42.689819</td>\n",
       "      <td>68.347543</td>\n",
       "      <td>10.422762</td>\n",
       "      <td>0.883763</td>\n",
       "      <td>16.532835</td>\n",
       "      <td>2.146849</td>\n",
       "      <td>...</td>\n",
       "      <td>14.036510</td>\n",
       "      <td>-500.857308</td>\n",
       "      <td>11.999550</td>\n",
       "      <td>-501.193686</td>\n",
       "      <td>9.970366</td>\n",
       "      <td>-499.201640</td>\n",
       "      <td>7.977324</td>\n",
       "      <td>-500.255908</td>\n",
       "      <td>14.005551</td>\n",
       "      <td>-599.996129</td>\n",
       "    </tr>\n",
       "    <tr>\n",
       "      <td>4</td>\n",
       "      <td>2016-01-15 04:00:00</td>\n",
       "      <td>6.148599</td>\n",
       "      <td>10.142511</td>\n",
       "      <td>4.939416</td>\n",
       "      <td>42.774141</td>\n",
       "      <td>66.927016</td>\n",
       "      <td>10.360302</td>\n",
       "      <td>0.792826</td>\n",
       "      <td>16.525686</td>\n",
       "      <td>2.055292</td>\n",
       "      <td>...</td>\n",
       "      <td>14.027298</td>\n",
       "      <td>-499.838632</td>\n",
       "      <td>11.953070</td>\n",
       "      <td>-501.053894</td>\n",
       "      <td>9.925709</td>\n",
       "      <td>-501.686727</td>\n",
       "      <td>7.894242</td>\n",
       "      <td>-500.356035</td>\n",
       "      <td>13.996647</td>\n",
       "      <td>-601.496691</td>\n",
       "    </tr>\n",
       "    <tr>\n",
       "      <td rowspan=\"5\" valign=\"top\">tail</td>\n",
       "      <td>16855</td>\n",
       "      <td>2018-08-18 06:59:59</td>\n",
       "      <td>3.224920</td>\n",
       "      <td>11.356233</td>\n",
       "      <td>6.803482</td>\n",
       "      <td>46.713954</td>\n",
       "      <td>73.755150</td>\n",
       "      <td>8.769645</td>\n",
       "      <td>3.141541</td>\n",
       "      <td>10.403181</td>\n",
       "      <td>1.529220</td>\n",
       "      <td>...</td>\n",
       "      <td>23.031497</td>\n",
       "      <td>-501.167942</td>\n",
       "      <td>20.007571</td>\n",
       "      <td>-499.740028</td>\n",
       "      <td>18.006038</td>\n",
       "      <td>-499.834374</td>\n",
       "      <td>13.001114</td>\n",
       "      <td>-500.155694</td>\n",
       "      <td>20.007840</td>\n",
       "      <td>-501.296428</td>\n",
       "    </tr>\n",
       "    <tr>\n",
       "      <td>16856</td>\n",
       "      <td>2018-08-18 07:59:59</td>\n",
       "      <td>3.195978</td>\n",
       "      <td>11.349355</td>\n",
       "      <td>6.862249</td>\n",
       "      <td>46.866780</td>\n",
       "      <td>69.049291</td>\n",
       "      <td>8.897321</td>\n",
       "      <td>3.130493</td>\n",
       "      <td>10.549470</td>\n",
       "      <td>1.612542</td>\n",
       "      <td>...</td>\n",
       "      <td>22.960095</td>\n",
       "      <td>-501.612783</td>\n",
       "      <td>20.035660</td>\n",
       "      <td>-500.251357</td>\n",
       "      <td>17.998535</td>\n",
       "      <td>-500.395178</td>\n",
       "      <td>12.954048</td>\n",
       "      <td>-499.895163</td>\n",
       "      <td>19.968498</td>\n",
       "      <td>-501.041608</td>\n",
       "    </tr>\n",
       "    <tr>\n",
       "      <td>16857</td>\n",
       "      <td>2018-08-18 08:59:59</td>\n",
       "      <td>3.109998</td>\n",
       "      <td>11.434366</td>\n",
       "      <td>6.886013</td>\n",
       "      <td>46.795691</td>\n",
       "      <td>67.002189</td>\n",
       "      <td>8.529606</td>\n",
       "      <td>2.911418</td>\n",
       "      <td>11.115147</td>\n",
       "      <td>1.596616</td>\n",
       "      <td>...</td>\n",
       "      <td>23.015718</td>\n",
       "      <td>-501.711599</td>\n",
       "      <td>19.951231</td>\n",
       "      <td>-499.857027</td>\n",
       "      <td>18.019543</td>\n",
       "      <td>-500.451156</td>\n",
       "      <td>13.023431</td>\n",
       "      <td>-499.914391</td>\n",
       "      <td>19.990885</td>\n",
       "      <td>-501.518452</td>\n",
       "    </tr>\n",
       "    <tr>\n",
       "      <td>16858</td>\n",
       "      <td>2018-08-18 09:59:59</td>\n",
       "      <td>3.367241</td>\n",
       "      <td>11.625587</td>\n",
       "      <td>6.799433</td>\n",
       "      <td>46.408188</td>\n",
       "      <td>65.523246</td>\n",
       "      <td>8.777171</td>\n",
       "      <td>2.819214</td>\n",
       "      <td>10.463847</td>\n",
       "      <td>1.602879</td>\n",
       "      <td>...</td>\n",
       "      <td>23.024963</td>\n",
       "      <td>-501.153409</td>\n",
       "      <td>20.054122</td>\n",
       "      <td>-500.314711</td>\n",
       "      <td>17.979515</td>\n",
       "      <td>-499.272871</td>\n",
       "      <td>12.992404</td>\n",
       "      <td>-499.976268</td>\n",
       "      <td>20.013986</td>\n",
       "      <td>-500.625471</td>\n",
       "    </tr>\n",
       "    <tr>\n",
       "      <td>16859</td>\n",
       "      <td>2018-08-18 10:59:59</td>\n",
       "      <td>3.598375</td>\n",
       "      <td>11.737832</td>\n",
       "      <td>6.717509</td>\n",
       "      <td>46.299438</td>\n",
       "      <td>70.281454</td>\n",
       "      <td>8.406690</td>\n",
       "      <td>2.517518</td>\n",
       "      <td>10.652193</td>\n",
       "      <td>1.389434</td>\n",
       "      <td>...</td>\n",
       "      <td>23.018622</td>\n",
       "      <td>-500.492702</td>\n",
       "      <td>20.020205</td>\n",
       "      <td>-500.220296</td>\n",
       "      <td>17.963512</td>\n",
       "      <td>-499.939490</td>\n",
       "      <td>12.990306</td>\n",
       "      <td>-500.080993</td>\n",
       "      <td>19.990336</td>\n",
       "      <td>-499.191575</td>\n",
       "    </tr>\n",
       "  </tbody>\n",
       "</table>\n",
       "<p>10 rows × 87 columns</p>\n",
       "</div>"
      ],
      "text/plain": [
       "                           date  final.output.concentrate_ag  \\\n",
       "head 0      2016-01-15 00:00:00                     6.055403   \n",
       "     1      2016-01-15 01:00:00                     6.029369   \n",
       "     2      2016-01-15 02:00:00                     6.055926   \n",
       "     3      2016-01-15 03:00:00                     6.047977   \n",
       "     4      2016-01-15 04:00:00                     6.148599   \n",
       "tail 16855  2018-08-18 06:59:59                     3.224920   \n",
       "     16856  2018-08-18 07:59:59                     3.195978   \n",
       "     16857  2018-08-18 08:59:59                     3.109998   \n",
       "     16858  2018-08-18 09:59:59                     3.367241   \n",
       "     16859  2018-08-18 10:59:59                     3.598375   \n",
       "\n",
       "            final.output.concentrate_pb  final.output.concentrate_sol  \\\n",
       "head 0                         9.889648                      5.507324   \n",
       "     1                         9.968944                      5.257781   \n",
       "     2                        10.213995                      5.383759   \n",
       "     3                         9.977019                      4.858634   \n",
       "     4                        10.142511                      4.939416   \n",
       "tail 16855                    11.356233                      6.803482   \n",
       "     16856                    11.349355                      6.862249   \n",
       "     16857                    11.434366                      6.886013   \n",
       "     16858                    11.625587                      6.799433   \n",
       "     16859                    11.737832                      6.717509   \n",
       "\n",
       "            final.output.concentrate_au  final.output.recovery  \\\n",
       "head 0                        42.192020              70.541216   \n",
       "     1                        42.701629              69.266198   \n",
       "     2                        42.657501              68.116445   \n",
       "     3                        42.689819              68.347543   \n",
       "     4                        42.774141              66.927016   \n",
       "tail 16855                    46.713954              73.755150   \n",
       "     16856                    46.866780              69.049291   \n",
       "     16857                    46.795691              67.002189   \n",
       "     16858                    46.408188              65.523246   \n",
       "     16859                    46.299438              70.281454   \n",
       "\n",
       "            final.output.tail_ag  final.output.tail_pb  final.output.tail_sol  \\\n",
       "head 0                 10.411962              0.895447              16.904297   \n",
       "     1                 10.462676              0.927452              16.634514   \n",
       "     2                 10.507046              0.953716              16.208849   \n",
       "     3                 10.422762              0.883763              16.532835   \n",
       "     4                 10.360302              0.792826              16.525686   \n",
       "tail 16855              8.769645              3.141541              10.403181   \n",
       "     16856              8.897321              3.130493              10.549470   \n",
       "     16857              8.529606              2.911418              11.115147   \n",
       "     16858              8.777171              2.819214              10.463847   \n",
       "     16859              8.406690              2.517518              10.652193   \n",
       "\n",
       "            final.output.tail_au  ...  \\\n",
       "head 0                  2.143149  ...   \n",
       "     1                  2.224930  ...   \n",
       "     2                  2.257889  ...   \n",
       "     3                  2.146849  ...   \n",
       "     4                  2.055292  ...   \n",
       "tail 16855              1.529220  ...   \n",
       "     16856              1.612542  ...   \n",
       "     16857              1.596616  ...   \n",
       "     16858              1.602879  ...   \n",
       "     16859              1.389434  ...   \n",
       "\n",
       "            secondary_cleaner.state.floatbank4_a_air  \\\n",
       "head 0                                     14.016835   \n",
       "     1                                     13.992281   \n",
       "     2                                     14.015015   \n",
       "     3                                     14.036510   \n",
       "     4                                     14.027298   \n",
       "tail 16855                                 23.031497   \n",
       "     16856                                 22.960095   \n",
       "     16857                                 23.015718   \n",
       "     16858                                 23.024963   \n",
       "     16859                                 23.018622   \n",
       "\n",
       "            secondary_cleaner.state.floatbank4_a_level  \\\n",
       "head 0                                     -502.488007   \n",
       "     1                                     -505.503262   \n",
       "     2                                     -502.520901   \n",
       "     3                                     -500.857308   \n",
       "     4                                     -499.838632   \n",
       "tail 16855                                 -501.167942   \n",
       "     16856                                 -501.612783   \n",
       "     16857                                 -501.711599   \n",
       "     16858                                 -501.153409   \n",
       "     16859                                 -500.492702   \n",
       "\n",
       "            secondary_cleaner.state.floatbank4_b_air  \\\n",
       "head 0                                     12.099931   \n",
       "     1                                     11.950531   \n",
       "     2                                     11.912783   \n",
       "     3                                     11.999550   \n",
       "     4                                     11.953070   \n",
       "tail 16855                                 20.007571   \n",
       "     16856                                 20.035660   \n",
       "     16857                                 19.951231   \n",
       "     16858                                 20.054122   \n",
       "     16859                                 20.020205   \n",
       "\n",
       "            secondary_cleaner.state.floatbank4_b_level  \\\n",
       "head 0                                     -504.715942   \n",
       "     1                                     -501.331529   \n",
       "     2                                     -501.133383   \n",
       "     3                                     -501.193686   \n",
       "     4                                     -501.053894   \n",
       "tail 16855                                 -499.740028   \n",
       "     16856                                 -500.251357   \n",
       "     16857                                 -499.857027   \n",
       "     16858                                 -500.314711   \n",
       "     16859                                 -500.220296   \n",
       "\n",
       "            secondary_cleaner.state.floatbank5_a_air  \\\n",
       "head 0                                      9.925633   \n",
       "     1                                     10.039245   \n",
       "     2                                     10.070913   \n",
       "     3                                      9.970366   \n",
       "     4                                      9.925709   \n",
       "tail 16855                                 18.006038   \n",
       "     16856                                 17.998535   \n",
       "     16857                                 18.019543   \n",
       "     16858                                 17.979515   \n",
       "     16859                                 17.963512   \n",
       "\n",
       "            secondary_cleaner.state.floatbank5_a_level  \\\n",
       "head 0                                     -498.310211   \n",
       "     1                                     -500.169983   \n",
       "     2                                     -500.129135   \n",
       "     3                                     -499.201640   \n",
       "     4                                     -501.686727   \n",
       "tail 16855                                 -499.834374   \n",
       "     16856                                 -500.395178   \n",
       "     16857                                 -500.451156   \n",
       "     16858                                 -499.272871   \n",
       "     16859                                 -499.939490   \n",
       "\n",
       "            secondary_cleaner.state.floatbank5_b_air  \\\n",
       "head 0                                      8.079666   \n",
       "     1                                      7.984757   \n",
       "     2                                      8.013877   \n",
       "     3                                      7.977324   \n",
       "     4                                      7.894242   \n",
       "tail 16855                                 13.001114   \n",
       "     16856                                 12.954048   \n",
       "     16857                                 13.023431   \n",
       "     16858                                 12.992404   \n",
       "     16859                                 12.990306   \n",
       "\n",
       "            secondary_cleaner.state.floatbank5_b_level  \\\n",
       "head 0                                     -500.470978   \n",
       "     1                                     -500.582168   \n",
       "     2                                     -500.517572   \n",
       "     3                                     -500.255908   \n",
       "     4                                     -500.356035   \n",
       "tail 16855                                 -500.155694   \n",
       "     16856                                 -499.895163   \n",
       "     16857                                 -499.914391   \n",
       "     16858                                 -499.976268   \n",
       "     16859                                 -500.080993   \n",
       "\n",
       "            secondary_cleaner.state.floatbank6_a_air  \\\n",
       "head 0                                     14.151341   \n",
       "     1                                     13.998353   \n",
       "     2                                     14.028663   \n",
       "     3                                     14.005551   \n",
       "     4                                     13.996647   \n",
       "tail 16855                                 20.007840   \n",
       "     16856                                 19.968498   \n",
       "     16857                                 19.990885   \n",
       "     16858                                 20.013986   \n",
       "     16859                                 19.990336   \n",
       "\n",
       "            secondary_cleaner.state.floatbank6_a_level  \n",
       "head 0                                     -605.841980  \n",
       "     1                                     -599.787184  \n",
       "     2                                     -601.427363  \n",
       "     3                                     -599.996129  \n",
       "     4                                     -601.496691  \n",
       "tail 16855                                 -501.296428  \n",
       "     16856                                 -501.041608  \n",
       "     16857                                 -501.518452  \n",
       "     16858                                 -500.625471  \n",
       "     16859                                 -499.191575  \n",
       "\n",
       "[10 rows x 87 columns]"
      ]
     },
     "execution_count": 4,
     "metadata": {},
     "output_type": "execute_result"
    }
   ],
   "source": [
    "review(df_train)"
   ]
  },
  {
   "cell_type": "code",
   "execution_count": 5,
   "metadata": {
    "scrolled": false
   },
   "outputs": [
    {
     "name": "stdout",
     "output_type": "stream",
     "text": [
      "<class 'pandas.core.frame.DataFrame'>\n",
      "RangeIndex: 16860 entries, 0 to 16859\n",
      "Data columns (total 87 columns):\n",
      "date                                                  16860 non-null object\n",
      "final.output.concentrate_ag                           16788 non-null float64\n",
      "final.output.concentrate_pb                           16788 non-null float64\n",
      "final.output.concentrate_sol                          16490 non-null float64\n",
      "final.output.concentrate_au                           16789 non-null float64\n",
      "final.output.recovery                                 15339 non-null float64\n",
      "final.output.tail_ag                                  16794 non-null float64\n",
      "final.output.tail_pb                                  16677 non-null float64\n",
      "final.output.tail_sol                                 16715 non-null float64\n",
      "final.output.tail_au                                  16794 non-null float64\n",
      "primary_cleaner.input.sulfate                         15553 non-null float64\n",
      "primary_cleaner.input.depressant                      15598 non-null float64\n",
      "primary_cleaner.input.feed_size                       16860 non-null float64\n",
      "primary_cleaner.input.xanthate                        15875 non-null float64\n",
      "primary_cleaner.output.concentrate_ag                 16778 non-null float64\n",
      "primary_cleaner.output.concentrate_pb                 16502 non-null float64\n",
      "primary_cleaner.output.concentrate_sol                16224 non-null float64\n",
      "primary_cleaner.output.concentrate_au                 16778 non-null float64\n",
      "primary_cleaner.output.tail_ag                        16777 non-null float64\n",
      "primary_cleaner.output.tail_pb                        16761 non-null float64\n",
      "primary_cleaner.output.tail_sol                       16579 non-null float64\n",
      "primary_cleaner.output.tail_au                        16777 non-null float64\n",
      "primary_cleaner.state.floatbank8_a_air                16820 non-null float64\n",
      "primary_cleaner.state.floatbank8_a_level              16827 non-null float64\n",
      "primary_cleaner.state.floatbank8_b_air                16820 non-null float64\n",
      "primary_cleaner.state.floatbank8_b_level              16833 non-null float64\n",
      "primary_cleaner.state.floatbank8_c_air                16822 non-null float64\n",
      "primary_cleaner.state.floatbank8_c_level              16833 non-null float64\n",
      "primary_cleaner.state.floatbank8_d_air                16821 non-null float64\n",
      "primary_cleaner.state.floatbank8_d_level              16833 non-null float64\n",
      "rougher.calculation.sulfate_to_au_concentrate         16833 non-null float64\n",
      "rougher.calculation.floatbank10_sulfate_to_au_feed    16833 non-null float64\n",
      "rougher.calculation.floatbank11_sulfate_to_au_feed    16833 non-null float64\n",
      "rougher.calculation.au_pb_ratio                       15618 non-null float64\n",
      "rougher.input.feed_ag                                 16778 non-null float64\n",
      "rougher.input.feed_pb                                 16632 non-null float64\n",
      "rougher.input.feed_rate                               16347 non-null float64\n",
      "rougher.input.feed_size                               16443 non-null float64\n",
      "rougher.input.feed_sol                                16568 non-null float64\n",
      "rougher.input.feed_au                                 16777 non-null float64\n",
      "rougher.input.floatbank10_sulfate                     15816 non-null float64\n",
      "rougher.input.floatbank10_xanthate                    16514 non-null float64\n",
      "rougher.input.floatbank11_sulfate                     16237 non-null float64\n",
      "rougher.input.floatbank11_xanthate                    14956 non-null float64\n",
      "rougher.output.concentrate_ag                         16778 non-null float64\n",
      "rougher.output.concentrate_pb                         16778 non-null float64\n",
      "rougher.output.concentrate_sol                        16698 non-null float64\n",
      "rougher.output.concentrate_au                         16778 non-null float64\n",
      "rougher.output.recovery                               14287 non-null float64\n",
      "rougher.output.tail_ag                                14610 non-null float64\n",
      "rougher.output.tail_pb                                16778 non-null float64\n",
      "rougher.output.tail_sol                               14611 non-null float64\n",
      "rougher.output.tail_au                                14611 non-null float64\n",
      "rougher.state.floatbank10_a_air                       16807 non-null float64\n",
      "rougher.state.floatbank10_a_level                     16807 non-null float64\n",
      "rougher.state.floatbank10_b_air                       16807 non-null float64\n",
      "rougher.state.floatbank10_b_level                     16807 non-null float64\n",
      "rougher.state.floatbank10_c_air                       16807 non-null float64\n",
      "rougher.state.floatbank10_c_level                     16814 non-null float64\n",
      "rougher.state.floatbank10_d_air                       16802 non-null float64\n",
      "rougher.state.floatbank10_d_level                     16809 non-null float64\n",
      "rougher.state.floatbank10_e_air                       16257 non-null float64\n",
      "rougher.state.floatbank10_e_level                     16809 non-null float64\n",
      "rougher.state.floatbank10_f_air                       16802 non-null float64\n",
      "rougher.state.floatbank10_f_level                     16802 non-null float64\n",
      "secondary_cleaner.output.tail_ag                      16776 non-null float64\n",
      "secondary_cleaner.output.tail_pb                      16764 non-null float64\n",
      "secondary_cleaner.output.tail_sol                     14874 non-null float64\n",
      "secondary_cleaner.output.tail_au                      16778 non-null float64\n",
      "secondary_cleaner.state.floatbank2_a_air              16497 non-null float64\n",
      "secondary_cleaner.state.floatbank2_a_level            16751 non-null float64\n",
      "secondary_cleaner.state.floatbank2_b_air              16705 non-null float64\n",
      "secondary_cleaner.state.floatbank2_b_level            16748 non-null float64\n",
      "secondary_cleaner.state.floatbank3_a_air              16763 non-null float64\n",
      "secondary_cleaner.state.floatbank3_a_level            16747 non-null float64\n",
      "secondary_cleaner.state.floatbank3_b_air              16752 non-null float64\n",
      "secondary_cleaner.state.floatbank3_b_level            16750 non-null float64\n",
      "secondary_cleaner.state.floatbank4_a_air              16731 non-null float64\n",
      "secondary_cleaner.state.floatbank4_a_level            16747 non-null float64\n",
      "secondary_cleaner.state.floatbank4_b_air              16768 non-null float64\n",
      "secondary_cleaner.state.floatbank4_b_level            16767 non-null float64\n",
      "secondary_cleaner.state.floatbank5_a_air              16775 non-null float64\n",
      "secondary_cleaner.state.floatbank5_a_level            16775 non-null float64\n",
      "secondary_cleaner.state.floatbank5_b_air              16775 non-null float64\n",
      "secondary_cleaner.state.floatbank5_b_level            16776 non-null float64\n",
      "secondary_cleaner.state.floatbank6_a_air              16757 non-null float64\n",
      "secondary_cleaner.state.floatbank6_a_level            16775 non-null float64\n",
      "dtypes: float64(86), object(1)\n",
      "memory usage: 11.2+ MB\n"
     ]
    }
   ],
   "source": [
    "df_train.info()"
   ]
  },
  {
   "cell_type": "markdown",
   "metadata": {},
   "source": [
    "[Содержание](#title)"
   ]
  },
  {
   "cell_type": "markdown",
   "metadata": {},
   "source": [
    "## 1.1 Проверка правильности расчёта эффективности обогащения <a name=\"1.1\"></a>"
   ]
  },
  {
   "cell_type": "markdown",
   "metadata": {},
   "source": [
    "Проверим, что эффективность обогащения рассчитана правильно. Вычислим её на обучающей выборке для признака **rougher.output.recovery**. Найдём MAE между нашими расчётами и значением признака. Эффективность обогащения расчитывается как:\n",
    "\n",
    "$$Recovery = \\frac{C*(F-T)}{F*(C-T)}*100$$"
   ]
  },
  {
   "cell_type": "markdown",
   "metadata": {},
   "source": [
    "где, \n",
    "\n",
    "\n",
    "**recovery** – эффективность обогащения [**rougher.output.recovery**];\n",
    "\n",
    "**C** – доля золота в концентрате после флотации/очистки [**rougher.output.concentrate_au**];\n",
    "\n",
    "**F** – доля золота в сырье/концентрате до флотации/очистки [**rougher.input.feed_au**];\n",
    "\n",
    "**T** – доля золота в отвальных хвостах после флотации/очистки [**rougher.output.tail_au**]."
   ]
  },
  {
   "cell_type": "markdown",
   "metadata": {},
   "source": [
    "Создадим датасет для проверки"
   ]
  },
  {
   "cell_type": "code",
   "execution_count": 6,
   "metadata": {
    "scrolled": false
   },
   "outputs": [],
   "source": [
    "test_recovery_df = df_train.loc[:, ['rougher.output.concentrate_au', 'rougher.input.feed_au', 'rougher.output.tail_au', 'rougher.output.recovery']]\n",
    "columns = ['rougher_output_concentrate_au','rougher_input_feed_au','rougher_output_tail_au','rougher_output_recovery']\n",
    "test_recovery_df.columns = columns"
   ]
  },
  {
   "cell_type": "markdown",
   "metadata": {},
   "source": [
    "Проверим распределения значений и наличие пропусков."
   ]
  },
  {
   "cell_type": "code",
   "execution_count": 7,
   "metadata": {},
   "outputs": [
    {
     "data": {
      "text/html": [
       "<div>\n",
       "<style scoped>\n",
       "    .dataframe tbody tr th:only-of-type {\n",
       "        vertical-align: middle;\n",
       "    }\n",
       "\n",
       "    .dataframe tbody tr th {\n",
       "        vertical-align: top;\n",
       "    }\n",
       "\n",
       "    .dataframe thead th {\n",
       "        text-align: right;\n",
       "    }\n",
       "</style>\n",
       "<table border=\"1\" class=\"dataframe\">\n",
       "  <thead>\n",
       "    <tr style=\"text-align: right;\">\n",
       "      <th></th>\n",
       "      <th>rougher_output_concentrate_au</th>\n",
       "      <th>rougher_input_feed_au</th>\n",
       "      <th>rougher_output_tail_au</th>\n",
       "      <th>rougher_output_recovery</th>\n",
       "    </tr>\n",
       "  </thead>\n",
       "  <tbody>\n",
       "    <tr>\n",
       "      <td>count</td>\n",
       "      <td>16778.000000</td>\n",
       "      <td>16777.000000</td>\n",
       "      <td>14611.000000</td>\n",
       "      <td>14287.000000</td>\n",
       "    </tr>\n",
       "    <tr>\n",
       "      <td>mean</td>\n",
       "      <td>17.401541</td>\n",
       "      <td>7.170717</td>\n",
       "      <td>1.763930</td>\n",
       "      <td>82.394201</td>\n",
       "    </tr>\n",
       "    <tr>\n",
       "      <td>std</td>\n",
       "      <td>6.921875</td>\n",
       "      <td>3.002113</td>\n",
       "      <td>0.731518</td>\n",
       "      <td>15.096808</td>\n",
       "    </tr>\n",
       "    <tr>\n",
       "      <td>min</td>\n",
       "      <td>0.000000</td>\n",
       "      <td>0.000000</td>\n",
       "      <td>0.020676</td>\n",
       "      <td>0.000000</td>\n",
       "    </tr>\n",
       "    <tr>\n",
       "      <td>25%</td>\n",
       "      <td>17.443663</td>\n",
       "      <td>6.203083</td>\n",
       "      <td>1.311610</td>\n",
       "      <td>79.818372</td>\n",
       "    </tr>\n",
       "    <tr>\n",
       "      <td>50%</td>\n",
       "      <td>19.644663</td>\n",
       "      <td>7.443530</td>\n",
       "      <td>1.747907</td>\n",
       "      <td>85.235997</td>\n",
       "    </tr>\n",
       "    <tr>\n",
       "      <td>75%</td>\n",
       "      <td>21.224486</td>\n",
       "      <td>8.965193</td>\n",
       "      <td>2.190839</td>\n",
       "      <td>90.131691</td>\n",
       "    </tr>\n",
       "    <tr>\n",
       "      <td>max</td>\n",
       "      <td>28.522811</td>\n",
       "      <td>14.093363</td>\n",
       "      <td>9.688980</td>\n",
       "      <td>100.000000</td>\n",
       "    </tr>\n",
       "  </tbody>\n",
       "</table>\n",
       "</div>"
      ],
      "text/plain": [
       "       rougher_output_concentrate_au  rougher_input_feed_au  \\\n",
       "count                   16778.000000           16777.000000   \n",
       "mean                       17.401541               7.170717   \n",
       "std                         6.921875               3.002113   \n",
       "min                         0.000000               0.000000   \n",
       "25%                        17.443663               6.203083   \n",
       "50%                        19.644663               7.443530   \n",
       "75%                        21.224486               8.965193   \n",
       "max                        28.522811              14.093363   \n",
       "\n",
       "       rougher_output_tail_au  rougher_output_recovery  \n",
       "count            14611.000000             14287.000000  \n",
       "mean                 1.763930                82.394201  \n",
       "std                  0.731518                15.096808  \n",
       "min                  0.020676                 0.000000  \n",
       "25%                  1.311610                79.818372  \n",
       "50%                  1.747907                85.235997  \n",
       "75%                  2.190839                90.131691  \n",
       "max                  9.688980               100.000000  "
      ]
     },
     "execution_count": 7,
     "metadata": {},
     "output_type": "execute_result"
    }
   ],
   "source": [
    "test_recovery_df.describe()"
   ]
  },
  {
   "cell_type": "code",
   "execution_count": 8,
   "metadata": {},
   "outputs": [
    {
     "data": {
      "text/plain": [
       "rougher_output_concentrate_au      82\n",
       "rougher_input_feed_au              83\n",
       "rougher_output_tail_au           2249\n",
       "rougher_output_recovery          2573\n",
       "dtype: int64"
      ]
     },
     "execution_count": 8,
     "metadata": {},
     "output_type": "execute_result"
    }
   ],
   "source": [
    "test_recovery_df.isnull().sum()"
   ]
  },
  {
   "cell_type": "markdown",
   "metadata": {},
   "source": [
    "Для получения корректного расчёта **MAE** (среднего абсолютного отклонения), значение **F** не должно быть равно 0, а значения **C** и **T** не должны быть равны.\n",
    "\n",
    "Строки с отсутствующими значениями не позволяют произвести расчёт эффективности обогащения. Отфильтруем датасет."
   ]
  },
  {
   "cell_type": "code",
   "execution_count": 9,
   "metadata": {},
   "outputs": [
    {
     "data": {
      "text/html": [
       "<div>\n",
       "<style scoped>\n",
       "    .dataframe tbody tr th:only-of-type {\n",
       "        vertical-align: middle;\n",
       "    }\n",
       "\n",
       "    .dataframe tbody tr th {\n",
       "        vertical-align: top;\n",
       "    }\n",
       "\n",
       "    .dataframe thead th {\n",
       "        text-align: right;\n",
       "    }\n",
       "</style>\n",
       "<table border=\"1\" class=\"dataframe\">\n",
       "  <thead>\n",
       "    <tr style=\"text-align: right;\">\n",
       "      <th></th>\n",
       "      <th>rougher_output_concentrate_au</th>\n",
       "      <th>rougher_input_feed_au</th>\n",
       "      <th>rougher_output_tail_au</th>\n",
       "      <th>rougher_output_recovery</th>\n",
       "    </tr>\n",
       "  </thead>\n",
       "  <tbody>\n",
       "    <tr>\n",
       "      <td>count</td>\n",
       "      <td>14547.000000</td>\n",
       "      <td>14547.000000</td>\n",
       "      <td>14547.000000</td>\n",
       "      <td>14287.000000</td>\n",
       "    </tr>\n",
       "    <tr>\n",
       "      <td>mean</td>\n",
       "      <td>19.142840</td>\n",
       "      <td>7.835177</td>\n",
       "      <td>1.761855</td>\n",
       "      <td>82.394201</td>\n",
       "    </tr>\n",
       "    <tr>\n",
       "      <td>std</td>\n",
       "      <td>4.332117</td>\n",
       "      <td>1.990840</td>\n",
       "      <td>0.730830</td>\n",
       "      <td>15.096808</td>\n",
       "    </tr>\n",
       "    <tr>\n",
       "      <td>min</td>\n",
       "      <td>0.000000</td>\n",
       "      <td>0.010000</td>\n",
       "      <td>0.020676</td>\n",
       "      <td>0.000000</td>\n",
       "    </tr>\n",
       "    <tr>\n",
       "      <td>25%</td>\n",
       "      <td>18.286150</td>\n",
       "      <td>6.583792</td>\n",
       "      <td>1.310091</td>\n",
       "      <td>79.818372</td>\n",
       "    </tr>\n",
       "    <tr>\n",
       "      <td>50%</td>\n",
       "      <td>19.892199</td>\n",
       "      <td>7.650635</td>\n",
       "      <td>1.744990</td>\n",
       "      <td>85.235997</td>\n",
       "    </tr>\n",
       "    <tr>\n",
       "      <td>75%</td>\n",
       "      <td>21.356620</td>\n",
       "      <td>9.073149</td>\n",
       "      <td>2.188485</td>\n",
       "      <td>90.131691</td>\n",
       "    </tr>\n",
       "    <tr>\n",
       "      <td>max</td>\n",
       "      <td>28.522811</td>\n",
       "      <td>13.126043</td>\n",
       "      <td>9.688980</td>\n",
       "      <td>100.000000</td>\n",
       "    </tr>\n",
       "  </tbody>\n",
       "</table>\n",
       "</div>"
      ],
      "text/plain": [
       "       rougher_output_concentrate_au  rougher_input_feed_au  \\\n",
       "count                   14547.000000           14547.000000   \n",
       "mean                       19.142840               7.835177   \n",
       "std                         4.332117               1.990840   \n",
       "min                         0.000000               0.010000   \n",
       "25%                        18.286150               6.583792   \n",
       "50%                        19.892199               7.650635   \n",
       "75%                        21.356620               9.073149   \n",
       "max                        28.522811              13.126043   \n",
       "\n",
       "       rougher_output_tail_au  rougher_output_recovery  \n",
       "count            14547.000000             14287.000000  \n",
       "mean                 1.761855                82.394201  \n",
       "std                  0.730830                15.096808  \n",
       "min                  0.020676                 0.000000  \n",
       "25%                  1.310091                79.818372  \n",
       "50%                  1.744990                85.235997  \n",
       "75%                  2.188485                90.131691  \n",
       "max                  9.688980               100.000000  "
      ]
     },
     "metadata": {},
     "output_type": "display_data"
    },
    {
     "data": {
      "text/plain": [
       "rougher_output_concentrate_au      0\n",
       "rougher_input_feed_au              0\n",
       "rougher_output_tail_au             0\n",
       "rougher_output_recovery          260\n",
       "dtype: int64"
      ]
     },
     "metadata": {},
     "output_type": "display_data"
    }
   ],
   "source": [
    "test_recovery_df = test_recovery_df.query('rougher_input_feed_au > 0')\n",
    "test_recovery_df = test_recovery_df.query('rougher_output_concentrate_au != rougher_output_tail_au')\n",
    "test_recovery_df = test_recovery_df.dropna(subset=['rougher_output_concentrate_au', 'rougher_input_feed_au', 'rougher_output_tail_au'])\n",
    "display(test_recovery_df.describe())\n",
    "display(test_recovery_df.isnull().sum())"
   ]
  },
  {
   "cell_type": "markdown",
   "metadata": {},
   "source": [
    "Посмотрим срез с отсутствующими значениями эффективности обогащения"
   ]
  },
  {
   "cell_type": "code",
   "execution_count": 10,
   "metadata": {},
   "outputs": [
    {
     "data": {
      "text/html": [
       "<div>\n",
       "<style scoped>\n",
       "    .dataframe tbody tr th:only-of-type {\n",
       "        vertical-align: middle;\n",
       "    }\n",
       "\n",
       "    .dataframe tbody tr th {\n",
       "        vertical-align: top;\n",
       "    }\n",
       "\n",
       "    .dataframe thead th {\n",
       "        text-align: right;\n",
       "    }\n",
       "</style>\n",
       "<table border=\"1\" class=\"dataframe\">\n",
       "  <thead>\n",
       "    <tr style=\"text-align: right;\">\n",
       "      <th></th>\n",
       "      <th>rougher_output_concentrate_au</th>\n",
       "      <th>rougher_input_feed_au</th>\n",
       "      <th>rougher_output_tail_au</th>\n",
       "      <th>rougher_output_recovery</th>\n",
       "    </tr>\n",
       "  </thead>\n",
       "  <tbody>\n",
       "    <tr>\n",
       "      <td>53</td>\n",
       "      <td>3.507147</td>\n",
       "      <td>7.548341</td>\n",
       "      <td>2.187465</td>\n",
       "      <td>NaN</td>\n",
       "    </tr>\n",
       "    <tr>\n",
       "      <td>372</td>\n",
       "      <td>4.642559</td>\n",
       "      <td>0.139652</td>\n",
       "      <td>2.574309</td>\n",
       "      <td>NaN</td>\n",
       "    </tr>\n",
       "    <tr>\n",
       "      <td>377</td>\n",
       "      <td>15.084039</td>\n",
       "      <td>3.501578</td>\n",
       "      <td>5.964024</td>\n",
       "      <td>NaN</td>\n",
       "    </tr>\n",
       "    <tr>\n",
       "      <td>560</td>\n",
       "      <td>19.619751</td>\n",
       "      <td>1.921101</td>\n",
       "      <td>1.939904</td>\n",
       "      <td>NaN</td>\n",
       "    </tr>\n",
       "    <tr>\n",
       "      <td>700</td>\n",
       "      <td>1.483835</td>\n",
       "      <td>0.253075</td>\n",
       "      <td>1.477470</td>\n",
       "      <td>NaN</td>\n",
       "    </tr>\n",
       "  </tbody>\n",
       "</table>\n",
       "</div>"
      ],
      "text/plain": [
       "     rougher_output_concentrate_au  rougher_input_feed_au  \\\n",
       "53                        3.507147               7.548341   \n",
       "372                       4.642559               0.139652   \n",
       "377                      15.084039               3.501578   \n",
       "560                      19.619751               1.921101   \n",
       "700                       1.483835               0.253075   \n",
       "\n",
       "     rougher_output_tail_au  rougher_output_recovery  \n",
       "53                 2.187465                      NaN  \n",
       "372                2.574309                      NaN  \n",
       "377                5.964024                      NaN  \n",
       "560                1.939904                      NaN  \n",
       "700                1.477470                      NaN  "
      ]
     },
     "execution_count": 10,
     "metadata": {},
     "output_type": "execute_result"
    }
   ],
   "source": [
    "test_recovery_df[pd.isnull(test_recovery_df['rougher_output_recovery'])].head(5)"
   ]
  },
  {
   "cell_type": "markdown",
   "metadata": {},
   "source": [
    "Судя по данным, значение эффективночти отсутствует, если доля золота после флоатации упала. Отфильтруем датасет."
   ]
  },
  {
   "cell_type": "code",
   "execution_count": 11,
   "metadata": {},
   "outputs": [],
   "source": [
    "test_recovery_df = test_recovery_df.query('rougher_input_feed_au < rougher_output_concentrate_au')"
   ]
  },
  {
   "cell_type": "code",
   "execution_count": 12,
   "metadata": {},
   "outputs": [
    {
     "data": {
      "text/plain": [
       "rougher_output_concentrate_au     0\n",
       "rougher_input_feed_au             0\n",
       "rougher_output_tail_au            0\n",
       "rougher_output_recovery          47\n",
       "dtype: int64"
      ]
     },
     "metadata": {},
     "output_type": "display_data"
    }
   ],
   "source": [
    "display(test_recovery_df.isnull().sum())"
   ]
  },
  {
   "cell_type": "markdown",
   "metadata": {},
   "source": [
    "Оставшиеся строки с пропусками удалим, они слабо повлияют на результат."
   ]
  },
  {
   "cell_type": "code",
   "execution_count": 13,
   "metadata": {},
   "outputs": [],
   "source": [
    "test_recovery_df = test_recovery_df.dropna()"
   ]
  },
  {
   "cell_type": "markdown",
   "metadata": {},
   "source": [
    "Произведём расчёт эффективности"
   ]
  },
  {
   "cell_type": "code",
   "execution_count": 14,
   "metadata": {},
   "outputs": [
    {
     "data": {
      "text/html": [
       "<div>\n",
       "<style scoped>\n",
       "    .dataframe tbody tr th:only-of-type {\n",
       "        vertical-align: middle;\n",
       "    }\n",
       "\n",
       "    .dataframe tbody tr th {\n",
       "        vertical-align: top;\n",
       "    }\n",
       "\n",
       "    .dataframe thead th {\n",
       "        text-align: right;\n",
       "    }\n",
       "</style>\n",
       "<table border=\"1\" class=\"dataframe\">\n",
       "  <thead>\n",
       "    <tr style=\"text-align: right;\">\n",
       "      <th></th>\n",
       "      <th></th>\n",
       "      <th>rougher_output_concentrate_au</th>\n",
       "      <th>rougher_input_feed_au</th>\n",
       "      <th>rougher_output_tail_au</th>\n",
       "      <th>rougher_output_recovery</th>\n",
       "      <th>recovery_calculate</th>\n",
       "    </tr>\n",
       "  </thead>\n",
       "  <tbody>\n",
       "    <tr>\n",
       "      <td rowspan=\"5\" valign=\"top\">head</td>\n",
       "      <td>0</td>\n",
       "      <td>19.793808</td>\n",
       "      <td>6.486150</td>\n",
       "      <td>1.170244</td>\n",
       "      <td>87.107763</td>\n",
       "      <td>87.107763</td>\n",
       "    </tr>\n",
       "    <tr>\n",
       "      <td>1</td>\n",
       "      <td>20.050975</td>\n",
       "      <td>6.478583</td>\n",
       "      <td>1.184827</td>\n",
       "      <td>86.843261</td>\n",
       "      <td>86.843261</td>\n",
       "    </tr>\n",
       "    <tr>\n",
       "      <td>2</td>\n",
       "      <td>19.737170</td>\n",
       "      <td>6.362222</td>\n",
       "      <td>1.162562</td>\n",
       "      <td>86.842308</td>\n",
       "      <td>86.842308</td>\n",
       "    </tr>\n",
       "    <tr>\n",
       "      <td>3</td>\n",
       "      <td>19.320810</td>\n",
       "      <td>6.118189</td>\n",
       "      <td>1.079755</td>\n",
       "      <td>87.226430</td>\n",
       "      <td>87.226430</td>\n",
       "    </tr>\n",
       "    <tr>\n",
       "      <td>4</td>\n",
       "      <td>19.216101</td>\n",
       "      <td>5.663707</td>\n",
       "      <td>1.012642</td>\n",
       "      <td>86.688794</td>\n",
       "      <td>86.688794</td>\n",
       "    </tr>\n",
       "    <tr>\n",
       "      <td rowspan=\"5\" valign=\"top\">tail</td>\n",
       "      <td>16855</td>\n",
       "      <td>18.603550</td>\n",
       "      <td>5.335862</td>\n",
       "      <td>0.748633</td>\n",
       "      <td>89.574376</td>\n",
       "      <td>89.574376</td>\n",
       "    </tr>\n",
       "    <tr>\n",
       "      <td>16856</td>\n",
       "      <td>18.441436</td>\n",
       "      <td>4.838619</td>\n",
       "      <td>0.771582</td>\n",
       "      <td>87.724007</td>\n",
       "      <td>87.724007</td>\n",
       "    </tr>\n",
       "    <tr>\n",
       "      <td>16857</td>\n",
       "      <td>15.111231</td>\n",
       "      <td>4.525061</td>\n",
       "      <td>0.685059</td>\n",
       "      <td>88.890579</td>\n",
       "      <td>88.890579</td>\n",
       "    </tr>\n",
       "    <tr>\n",
       "      <td>16858</td>\n",
       "      <td>17.834772</td>\n",
       "      <td>4.362781</td>\n",
       "      <td>0.567130</td>\n",
       "      <td>89.858126</td>\n",
       "      <td>89.858126</td>\n",
       "    </tr>\n",
       "    <tr>\n",
       "      <td>16859</td>\n",
       "      <td>17.804134</td>\n",
       "      <td>4.365491</td>\n",
       "      <td>0.586439</td>\n",
       "      <td>89.514960</td>\n",
       "      <td>89.514960</td>\n",
       "    </tr>\n",
       "  </tbody>\n",
       "</table>\n",
       "</div>"
      ],
      "text/plain": [
       "            rougher_output_concentrate_au  rougher_input_feed_au  \\\n",
       "head 0                          19.793808               6.486150   \n",
       "     1                          20.050975               6.478583   \n",
       "     2                          19.737170               6.362222   \n",
       "     3                          19.320810               6.118189   \n",
       "     4                          19.216101               5.663707   \n",
       "tail 16855                      18.603550               5.335862   \n",
       "     16856                      18.441436               4.838619   \n",
       "     16857                      15.111231               4.525061   \n",
       "     16858                      17.834772               4.362781   \n",
       "     16859                      17.804134               4.365491   \n",
       "\n",
       "            rougher_output_tail_au  rougher_output_recovery  \\\n",
       "head 0                    1.170244                87.107763   \n",
       "     1                    1.184827                86.843261   \n",
       "     2                    1.162562                86.842308   \n",
       "     3                    1.079755                87.226430   \n",
       "     4                    1.012642                86.688794   \n",
       "tail 16855                0.748633                89.574376   \n",
       "     16856                0.771582                87.724007   \n",
       "     16857                0.685059                88.890579   \n",
       "     16858                0.567130                89.858126   \n",
       "     16859                0.586439                89.514960   \n",
       "\n",
       "            recovery_calculate  \n",
       "head 0               87.107763  \n",
       "     1               86.843261  \n",
       "     2               86.842308  \n",
       "     3               87.226430  \n",
       "     4               86.688794  \n",
       "tail 16855           89.574376  \n",
       "     16856           87.724007  \n",
       "     16857           88.890579  \n",
       "     16858           89.858126  \n",
       "     16859           89.514960  "
      ]
     },
     "execution_count": 14,
     "metadata": {},
     "output_type": "execute_result"
    }
   ],
   "source": [
    "test_recovery_df['recovery_calculate'] = round(\\\n",
    "test_recovery_df['rougher_output_concentrate_au'] * \\\n",
    "(test_recovery_df['rougher_input_feed_au'] - test_recovery_df['rougher_output_tail_au']) / \\\n",
    "(test_recovery_df['rougher_input_feed_au'] * \\\n",
    "(test_recovery_df['rougher_output_concentrate_au'] - test_recovery_df['rougher_output_tail_au']))*100, 6)\n",
    "review(test_recovery_df)"
   ]
  },
  {
   "cell_type": "markdown",
   "metadata": {},
   "source": [
    "Произведем расчёт **MAE** и проверим распределение значений."
   ]
  },
  {
   "cell_type": "code",
   "execution_count": 15,
   "metadata": {},
   "outputs": [
    {
     "data": {
      "text/html": [
       "<div style=\"float: left; padding: 10px;\">\n",
       "        <p style='font-family:\"Courier New\", Courier, monospace'>pd.DataFrame(des_out)</p><div>\n",
       "<style scoped>\n",
       "    .dataframe tbody tr th:only-of-type {\n",
       "        vertical-align: middle;\n",
       "    }\n",
       "\n",
       "    .dataframe tbody tr th {\n",
       "        vertical-align: top;\n",
       "    }\n",
       "\n",
       "    .dataframe thead th {\n",
       "        text-align: right;\n",
       "    }\n",
       "</style>\n",
       "<table border=\"1\" class=\"dataframe\">\n",
       "  <thead>\n",
       "    <tr style=\"text-align: right;\">\n",
       "      <th></th>\n",
       "      <th>recovery_calculate</th>\n",
       "    </tr>\n",
       "  </thead>\n",
       "  <tbody>\n",
       "    <tr>\n",
       "      <td>count</td>\n",
       "      <td>13958.000000</td>\n",
       "    </tr>\n",
       "    <tr>\n",
       "      <td>mean</td>\n",
       "      <td>84.285799</td>\n",
       "    </tr>\n",
       "    <tr>\n",
       "      <td>std</td>\n",
       "      <td>8.562391</td>\n",
       "    </tr>\n",
       "    <tr>\n",
       "      <td>min</td>\n",
       "      <td>1.412748</td>\n",
       "    </tr>\n",
       "    <tr>\n",
       "      <td>25%</td>\n",
       "      <td>80.272812</td>\n",
       "    </tr>\n",
       "    <tr>\n",
       "      <td>50%</td>\n",
       "      <td>85.449731</td>\n",
       "    </tr>\n",
       "    <tr>\n",
       "      <td>75%</td>\n",
       "      <td>90.239656</td>\n",
       "    </tr>\n",
       "    <tr>\n",
       "      <td>max</td>\n",
       "      <td>99.979041</td>\n",
       "    </tr>\n",
       "  </tbody>\n",
       "</table>\n",
       "</div>\n",
       "        </div>\n",
       "<div style=\"float: left; padding: 10px;\">\n",
       "        <p style='font-family:\"Courier New\", Courier, monospace'>pd.DataFrame(des_calc)</p><div>\n",
       "<style scoped>\n",
       "    .dataframe tbody tr th:only-of-type {\n",
       "        vertical-align: middle;\n",
       "    }\n",
       "\n",
       "    .dataframe tbody tr th {\n",
       "        vertical-align: top;\n",
       "    }\n",
       "\n",
       "    .dataframe thead th {\n",
       "        text-align: right;\n",
       "    }\n",
       "</style>\n",
       "<table border=\"1\" class=\"dataframe\">\n",
       "  <thead>\n",
       "    <tr style=\"text-align: right;\">\n",
       "      <th></th>\n",
       "      <th>rougher_output_recovery</th>\n",
       "    </tr>\n",
       "  </thead>\n",
       "  <tbody>\n",
       "    <tr>\n",
       "      <td>count</td>\n",
       "      <td>13958.000000</td>\n",
       "    </tr>\n",
       "    <tr>\n",
       "      <td>mean</td>\n",
       "      <td>84.285799</td>\n",
       "    </tr>\n",
       "    <tr>\n",
       "      <td>std</td>\n",
       "      <td>8.562391</td>\n",
       "    </tr>\n",
       "    <tr>\n",
       "      <td>min</td>\n",
       "      <td>1.412748</td>\n",
       "    </tr>\n",
       "    <tr>\n",
       "      <td>25%</td>\n",
       "      <td>80.272812</td>\n",
       "    </tr>\n",
       "    <tr>\n",
       "      <td>50%</td>\n",
       "      <td>85.449732</td>\n",
       "    </tr>\n",
       "    <tr>\n",
       "      <td>75%</td>\n",
       "      <td>90.239656</td>\n",
       "    </tr>\n",
       "    <tr>\n",
       "      <td>max</td>\n",
       "      <td>99.979041</td>\n",
       "    </tr>\n",
       "  </tbody>\n",
       "</table>\n",
       "</div>\n",
       "        </div>\n",
       "<div style=\"float: left; padding: 10px;\">\n",
       "        <p style='font-family:\"Courier New\", Courier, monospace'>mae</p><div>\n",
       "<style scoped>\n",
       "    .dataframe tbody tr th:only-of-type {\n",
       "        vertical-align: middle;\n",
       "    }\n",
       "\n",
       "    .dataframe tbody tr th {\n",
       "        vertical-align: top;\n",
       "    }\n",
       "\n",
       "    .dataframe thead th {\n",
       "        text-align: right;\n",
       "    }\n",
       "</style>\n",
       "<table border=\"1\" class=\"dataframe\">\n",
       "  <thead>\n",
       "    <tr style=\"text-align: right;\">\n",
       "      <th></th>\n",
       "      <th>mean_absolute_error</th>\n",
       "    </tr>\n",
       "  </thead>\n",
       "  <tbody>\n",
       "    <tr>\n",
       "      <td>0</td>\n",
       "      <td>2.505208e-07</td>\n",
       "    </tr>\n",
       "  </tbody>\n",
       "</table>\n",
       "</div>\n",
       "        </div>"
      ],
      "text/plain": [
       "<__main__.Explorer.show at 0x7f721228fb90>"
      ]
     },
     "metadata": {},
     "output_type": "display_data"
    },
    {
     "name": "stdout",
     "output_type": "stream",
     "text": [
      "\n"
     ]
    }
   ],
   "source": [
    "des_out = test_recovery_df['recovery_calculate'].describe()\n",
    "des_calc = test_recovery_df['rougher_output_recovery'].describe()\n",
    "data = [mean_absolute_error(test_recovery_df['recovery_calculate'], test_recovery_df['rougher_output_recovery'])]\n",
    "columns = ['mean_absolute_error']\n",
    "mae = pd.DataFrame(data=data, columns = columns)\n",
    "\n",
    "display(explorer.show('pd.DataFrame(des_out)',\\\n",
    "                      'pd.DataFrame(des_calc)',\\\n",
    "                     'mae'))\n",
    "\n",
    "print()"
   ]
  },
  {
   "cell_type": "markdown",
   "metadata": {},
   "source": [
    "Средняя абсолютная ошибка крайне мала. Полученная в исходных данных эффективность обогащения расчитана правильно."
   ]
  },
  {
   "cell_type": "markdown",
   "metadata": {},
   "source": [
    "[Содержание](#title)"
   ]
  },
  {
   "cell_type": "markdown",
   "metadata": {},
   "source": [
    "## 1.2 Анализ исходных данных <a name=\"1.2\"></a>"
   ]
  },
  {
   "cell_type": "markdown",
   "metadata": {},
   "source": [
    "Проверим совпадают ли стоблцы в полном и учебном датасете"
   ]
  },
  {
   "cell_type": "code",
   "execution_count": 16,
   "metadata": {},
   "outputs": [
    {
     "data": {
      "text/plain": [
       "array([ True,  True,  True,  True,  True,  True,  True,  True,  True,\n",
       "        True,  True,  True,  True,  True,  True,  True,  True,  True,\n",
       "        True,  True,  True,  True,  True,  True,  True,  True,  True,\n",
       "        True,  True,  True,  True,  True,  True,  True,  True,  True,\n",
       "        True,  True,  True,  True,  True,  True,  True,  True,  True,\n",
       "        True,  True,  True,  True,  True,  True,  True,  True,  True,\n",
       "        True,  True,  True,  True,  True,  True,  True,  True,  True,\n",
       "        True,  True,  True,  True,  True,  True,  True,  True,  True,\n",
       "        True,  True,  True,  True,  True,  True,  True,  True,  True,\n",
       "        True,  True,  True,  True,  True,  True])"
      ]
     },
     "execution_count": 16,
     "metadata": {},
     "output_type": "execute_result"
    }
   ],
   "source": [
    "df_full.columns == df_train.columns"
   ]
  },
  {
   "cell_type": "markdown",
   "metadata": {},
   "source": [
    "Проверим совпадают ли стоблцы в обучающей выборке и тестовой"
   ]
  },
  {
   "cell_type": "code",
   "execution_count": 17,
   "metadata": {},
   "outputs": [
    {
     "name": "stdout",
     "output_type": "stream",
     "text": [
      "Обучающая выборка больше тестовой на 34 столбца\n"
     ]
    }
   ],
   "source": [
    "print(f'Обучающая выборка больше тестовой на {len(df_train.columns) - len(df_test.columns)} столбца')"
   ]
  },
  {
   "cell_type": "markdown",
   "metadata": {},
   "source": [
    "Посмотрим какие столбцы отсутствуют в тестовой выборке"
   ]
  },
  {
   "cell_type": "code",
   "execution_count": 18,
   "metadata": {},
   "outputs": [
    {
     "data": {
      "text/plain": [
       "{'final.output.concentrate_ag',\n",
       " 'final.output.concentrate_au',\n",
       " 'final.output.concentrate_pb',\n",
       " 'final.output.concentrate_sol',\n",
       " 'final.output.recovery',\n",
       " 'final.output.tail_ag',\n",
       " 'final.output.tail_au',\n",
       " 'final.output.tail_pb',\n",
       " 'final.output.tail_sol',\n",
       " 'primary_cleaner.output.concentrate_ag',\n",
       " 'primary_cleaner.output.concentrate_au',\n",
       " 'primary_cleaner.output.concentrate_pb',\n",
       " 'primary_cleaner.output.concentrate_sol',\n",
       " 'primary_cleaner.output.tail_ag',\n",
       " 'primary_cleaner.output.tail_au',\n",
       " 'primary_cleaner.output.tail_pb',\n",
       " 'primary_cleaner.output.tail_sol',\n",
       " 'rougher.calculation.au_pb_ratio',\n",
       " 'rougher.calculation.floatbank10_sulfate_to_au_feed',\n",
       " 'rougher.calculation.floatbank11_sulfate_to_au_feed',\n",
       " 'rougher.calculation.sulfate_to_au_concentrate',\n",
       " 'rougher.output.concentrate_ag',\n",
       " 'rougher.output.concentrate_au',\n",
       " 'rougher.output.concentrate_pb',\n",
       " 'rougher.output.concentrate_sol',\n",
       " 'rougher.output.recovery',\n",
       " 'rougher.output.tail_ag',\n",
       " 'rougher.output.tail_au',\n",
       " 'rougher.output.tail_pb',\n",
       " 'rougher.output.tail_sol',\n",
       " 'secondary_cleaner.output.tail_ag',\n",
       " 'secondary_cleaner.output.tail_au',\n",
       " 'secondary_cleaner.output.tail_pb',\n",
       " 'secondary_cleaner.output.tail_sol'}"
      ]
     },
     "execution_count": 18,
     "metadata": {},
     "output_type": "execute_result"
    }
   ],
   "source": [
    "set(df_train.columns) - set(df_test.columns)"
   ]
  },
  {
   "cell_type": "markdown",
   "metadata": {},
   "source": [
    "В тестовом датасете отсутствуют конечные выходные данные, так как они относятся к целевым признакам. Также остутсвуют данные **calculate**. Скорее всего эти данные невозможно получить/измерить во время выполнения технологического процесса."
   ]
  },
  {
   "cell_type": "markdown",
   "metadata": {},
   "source": [
    "[Содержание](#title)"
   ]
  },
  {
   "cell_type": "markdown",
   "metadata": {},
   "source": [
    "## 1.3 Предобработка данных <a name=\"1.3\"></a>"
   ]
  },
  {
   "cell_type": "markdown",
   "metadata": {},
   "source": [
    "Сохраним новые столбцы обучающей выборки, ориентируясь на тестовую."
   ]
  },
  {
   "cell_type": "code",
   "execution_count": 19,
   "metadata": {},
   "outputs": [],
   "source": [
    "df_train = df_train[df_test.columns]"
   ]
  },
  {
   "cell_type": "markdown",
   "metadata": {},
   "source": [
    "Проверим наличие пропусков в данных"
   ]
  },
  {
   "cell_type": "code",
   "execution_count": 20,
   "metadata": {
    "scrolled": false
   },
   "outputs": [
    {
     "data": {
      "text/plain": [
       "date                                             0\n",
       "primary_cleaner.input.sulfate                 1307\n",
       "primary_cleaner.input.depressant              1262\n",
       "primary_cleaner.input.feed_size                  0\n",
       "primary_cleaner.input.xanthate                 985\n",
       "primary_cleaner.state.floatbank8_a_air          40\n",
       "primary_cleaner.state.floatbank8_a_level        33\n",
       "primary_cleaner.state.floatbank8_b_air          40\n",
       "primary_cleaner.state.floatbank8_b_level        27\n",
       "primary_cleaner.state.floatbank8_c_air          38\n",
       "primary_cleaner.state.floatbank8_c_level        27\n",
       "primary_cleaner.state.floatbank8_d_air          39\n",
       "primary_cleaner.state.floatbank8_d_level        27\n",
       "rougher.input.feed_ag                           82\n",
       "rougher.input.feed_pb                          228\n",
       "rougher.input.feed_rate                        513\n",
       "rougher.input.feed_size                        417\n",
       "rougher.input.feed_sol                         292\n",
       "rougher.input.feed_au                           83\n",
       "rougher.input.floatbank10_sulfate             1044\n",
       "rougher.input.floatbank10_xanthate             346\n",
       "rougher.input.floatbank11_sulfate              623\n",
       "rougher.input.floatbank11_xanthate            1904\n",
       "rougher.state.floatbank10_a_air                 53\n",
       "rougher.state.floatbank10_a_level               53\n",
       "rougher.state.floatbank10_b_air                 53\n",
       "rougher.state.floatbank10_b_level               53\n",
       "rougher.state.floatbank10_c_air                 53\n",
       "rougher.state.floatbank10_c_level               46\n",
       "rougher.state.floatbank10_d_air                 58\n",
       "rougher.state.floatbank10_d_level               51\n",
       "rougher.state.floatbank10_e_air                603\n",
       "rougher.state.floatbank10_e_level               51\n",
       "rougher.state.floatbank10_f_air                 58\n",
       "rougher.state.floatbank10_f_level               58\n",
       "secondary_cleaner.state.floatbank2_a_air       363\n",
       "secondary_cleaner.state.floatbank2_a_level     109\n",
       "secondary_cleaner.state.floatbank2_b_air       155\n",
       "secondary_cleaner.state.floatbank2_b_level     112\n",
       "secondary_cleaner.state.floatbank3_a_air        97\n",
       "secondary_cleaner.state.floatbank3_a_level     113\n",
       "secondary_cleaner.state.floatbank3_b_air       108\n",
       "secondary_cleaner.state.floatbank3_b_level     110\n",
       "secondary_cleaner.state.floatbank4_a_air       129\n",
       "secondary_cleaner.state.floatbank4_a_level     113\n",
       "secondary_cleaner.state.floatbank4_b_air        92\n",
       "secondary_cleaner.state.floatbank4_b_level      93\n",
       "secondary_cleaner.state.floatbank5_a_air        85\n",
       "secondary_cleaner.state.floatbank5_a_level      85\n",
       "secondary_cleaner.state.floatbank5_b_air        85\n",
       "secondary_cleaner.state.floatbank5_b_level      84\n",
       "secondary_cleaner.state.floatbank6_a_air       103\n",
       "secondary_cleaner.state.floatbank6_a_level      85\n",
       "dtype: int64"
      ]
     },
     "metadata": {},
     "output_type": "display_data"
    }
   ],
   "source": [
    "display(df_train.isnull().sum())"
   ]
  },
  {
   "cell_type": "markdown",
   "metadata": {},
   "source": [
    "Применим временное заполнение пропусков"
   ]
  },
  {
   "cell_type": "markdown",
   "metadata": {},
   "source": [
    "Сохраним тестовый датасет по столбцу **'rougher.input.feed_ag'** для проверки заполнения"
   ]
  },
  {
   "cell_type": "code",
   "execution_count": 21,
   "metadata": {},
   "outputs": [
    {
     "data": {
      "text/html": [
       "<div>\n",
       "<style scoped>\n",
       "    .dataframe tbody tr th:only-of-type {\n",
       "        vertical-align: middle;\n",
       "    }\n",
       "\n",
       "    .dataframe tbody tr th {\n",
       "        vertical-align: top;\n",
       "    }\n",
       "\n",
       "    .dataframe thead th {\n",
       "        text-align: right;\n",
       "    }\n",
       "</style>\n",
       "<table border=\"1\" class=\"dataframe\">\n",
       "  <thead>\n",
       "    <tr style=\"text-align: right;\">\n",
       "      <th></th>\n",
       "      <th>primary_cleaner.input.sulfate</th>\n",
       "      <th>primary_cleaner.input.depressant</th>\n",
       "      <th>primary_cleaner.input.feed_size</th>\n",
       "      <th>primary_cleaner.input.xanthate</th>\n",
       "      <th>primary_cleaner.state.floatbank8_a_air</th>\n",
       "      <th>primary_cleaner.state.floatbank8_a_level</th>\n",
       "      <th>primary_cleaner.state.floatbank8_b_air</th>\n",
       "      <th>primary_cleaner.state.floatbank8_b_level</th>\n",
       "      <th>primary_cleaner.state.floatbank8_c_air</th>\n",
       "      <th>primary_cleaner.state.floatbank8_c_level</th>\n",
       "      <th>...</th>\n",
       "      <th>secondary_cleaner.state.floatbank4_a_air</th>\n",
       "      <th>secondary_cleaner.state.floatbank4_a_level</th>\n",
       "      <th>secondary_cleaner.state.floatbank4_b_air</th>\n",
       "      <th>secondary_cleaner.state.floatbank4_b_level</th>\n",
       "      <th>secondary_cleaner.state.floatbank5_a_air</th>\n",
       "      <th>secondary_cleaner.state.floatbank5_a_level</th>\n",
       "      <th>secondary_cleaner.state.floatbank5_b_air</th>\n",
       "      <th>secondary_cleaner.state.floatbank5_b_level</th>\n",
       "      <th>secondary_cleaner.state.floatbank6_a_air</th>\n",
       "      <th>secondary_cleaner.state.floatbank6_a_level</th>\n",
       "    </tr>\n",
       "    <tr>\n",
       "      <th>date</th>\n",
       "      <th></th>\n",
       "      <th></th>\n",
       "      <th></th>\n",
       "      <th></th>\n",
       "      <th></th>\n",
       "      <th></th>\n",
       "      <th></th>\n",
       "      <th></th>\n",
       "      <th></th>\n",
       "      <th></th>\n",
       "      <th></th>\n",
       "      <th></th>\n",
       "      <th></th>\n",
       "      <th></th>\n",
       "      <th></th>\n",
       "      <th></th>\n",
       "      <th></th>\n",
       "      <th></th>\n",
       "      <th></th>\n",
       "      <th></th>\n",
       "      <th></th>\n",
       "    </tr>\n",
       "  </thead>\n",
       "  <tbody>\n",
       "    <tr>\n",
       "      <td>2016-02-15 02:00:00</td>\n",
       "      <td>NaN</td>\n",
       "      <td>NaN</td>\n",
       "      <td>7.03</td>\n",
       "      <td>NaN</td>\n",
       "      <td>NaN</td>\n",
       "      <td>NaN</td>\n",
       "      <td>NaN</td>\n",
       "      <td>NaN</td>\n",
       "      <td>NaN</td>\n",
       "      <td>NaN</td>\n",
       "      <td>...</td>\n",
       "      <td>NaN</td>\n",
       "      <td>NaN</td>\n",
       "      <td>NaN</td>\n",
       "      <td>NaN</td>\n",
       "      <td>NaN</td>\n",
       "      <td>NaN</td>\n",
       "      <td>NaN</td>\n",
       "      <td>NaN</td>\n",
       "      <td>NaN</td>\n",
       "      <td>NaN</td>\n",
       "    </tr>\n",
       "    <tr>\n",
       "      <td>2016-03-09 14:00:00</td>\n",
       "      <td>NaN</td>\n",
       "      <td>NaN</td>\n",
       "      <td>7.79</td>\n",
       "      <td>NaN</td>\n",
       "      <td>NaN</td>\n",
       "      <td>NaN</td>\n",
       "      <td>NaN</td>\n",
       "      <td>NaN</td>\n",
       "      <td>NaN</td>\n",
       "      <td>NaN</td>\n",
       "      <td>...</td>\n",
       "      <td>NaN</td>\n",
       "      <td>NaN</td>\n",
       "      <td>NaN</td>\n",
       "      <td>NaN</td>\n",
       "      <td>NaN</td>\n",
       "      <td>NaN</td>\n",
       "      <td>NaN</td>\n",
       "      <td>NaN</td>\n",
       "      <td>NaN</td>\n",
       "      <td>NaN</td>\n",
       "    </tr>\n",
       "    <tr>\n",
       "      <td>2016-03-09 15:00:00</td>\n",
       "      <td>NaN</td>\n",
       "      <td>NaN</td>\n",
       "      <td>7.79</td>\n",
       "      <td>NaN</td>\n",
       "      <td>NaN</td>\n",
       "      <td>NaN</td>\n",
       "      <td>NaN</td>\n",
       "      <td>NaN</td>\n",
       "      <td>NaN</td>\n",
       "      <td>NaN</td>\n",
       "      <td>...</td>\n",
       "      <td>NaN</td>\n",
       "      <td>NaN</td>\n",
       "      <td>NaN</td>\n",
       "      <td>NaN</td>\n",
       "      <td>NaN</td>\n",
       "      <td>NaN</td>\n",
       "      <td>NaN</td>\n",
       "      <td>NaN</td>\n",
       "      <td>NaN</td>\n",
       "      <td>NaN</td>\n",
       "    </tr>\n",
       "    <tr>\n",
       "      <td>2016-03-09 16:00:00</td>\n",
       "      <td>NaN</td>\n",
       "      <td>NaN</td>\n",
       "      <td>7.79</td>\n",
       "      <td>NaN</td>\n",
       "      <td>NaN</td>\n",
       "      <td>NaN</td>\n",
       "      <td>NaN</td>\n",
       "      <td>NaN</td>\n",
       "      <td>NaN</td>\n",
       "      <td>NaN</td>\n",
       "      <td>...</td>\n",
       "      <td>NaN</td>\n",
       "      <td>NaN</td>\n",
       "      <td>NaN</td>\n",
       "      <td>NaN</td>\n",
       "      <td>NaN</td>\n",
       "      <td>NaN</td>\n",
       "      <td>NaN</td>\n",
       "      <td>NaN</td>\n",
       "      <td>NaN</td>\n",
       "      <td>NaN</td>\n",
       "    </tr>\n",
       "    <tr>\n",
       "      <td>2016-04-04 10:00:00</td>\n",
       "      <td>NaN</td>\n",
       "      <td>NaN</td>\n",
       "      <td>7.84</td>\n",
       "      <td>0.005581</td>\n",
       "      <td>0.0042</td>\n",
       "      <td>-796.461194</td>\n",
       "      <td>0.02333</td>\n",
       "      <td>-799.974163</td>\n",
       "      <td>0.000241</td>\n",
       "      <td>-799.980302</td>\n",
       "      <td>...</td>\n",
       "      <td>NaN</td>\n",
       "      <td>NaN</td>\n",
       "      <td>NaN</td>\n",
       "      <td>NaN</td>\n",
       "      <td>NaN</td>\n",
       "      <td>NaN</td>\n",
       "      <td>NaN</td>\n",
       "      <td>NaN</td>\n",
       "      <td>NaN</td>\n",
       "      <td>NaN</td>\n",
       "    </tr>\n",
       "  </tbody>\n",
       "</table>\n",
       "<p>5 rows × 52 columns</p>\n",
       "</div>"
      ],
      "text/plain": [
       "                     primary_cleaner.input.sulfate  \\\n",
       "date                                                 \n",
       "2016-02-15 02:00:00                            NaN   \n",
       "2016-03-09 14:00:00                            NaN   \n",
       "2016-03-09 15:00:00                            NaN   \n",
       "2016-03-09 16:00:00                            NaN   \n",
       "2016-04-04 10:00:00                            NaN   \n",
       "\n",
       "                     primary_cleaner.input.depressant  \\\n",
       "date                                                    \n",
       "2016-02-15 02:00:00                               NaN   \n",
       "2016-03-09 14:00:00                               NaN   \n",
       "2016-03-09 15:00:00                               NaN   \n",
       "2016-03-09 16:00:00                               NaN   \n",
       "2016-04-04 10:00:00                               NaN   \n",
       "\n",
       "                     primary_cleaner.input.feed_size  \\\n",
       "date                                                   \n",
       "2016-02-15 02:00:00                             7.03   \n",
       "2016-03-09 14:00:00                             7.79   \n",
       "2016-03-09 15:00:00                             7.79   \n",
       "2016-03-09 16:00:00                             7.79   \n",
       "2016-04-04 10:00:00                             7.84   \n",
       "\n",
       "                     primary_cleaner.input.xanthate  \\\n",
       "date                                                  \n",
       "2016-02-15 02:00:00                             NaN   \n",
       "2016-03-09 14:00:00                             NaN   \n",
       "2016-03-09 15:00:00                             NaN   \n",
       "2016-03-09 16:00:00                             NaN   \n",
       "2016-04-04 10:00:00                        0.005581   \n",
       "\n",
       "                     primary_cleaner.state.floatbank8_a_air  \\\n",
       "date                                                          \n",
       "2016-02-15 02:00:00                                     NaN   \n",
       "2016-03-09 14:00:00                                     NaN   \n",
       "2016-03-09 15:00:00                                     NaN   \n",
       "2016-03-09 16:00:00                                     NaN   \n",
       "2016-04-04 10:00:00                                  0.0042   \n",
       "\n",
       "                     primary_cleaner.state.floatbank8_a_level  \\\n",
       "date                                                            \n",
       "2016-02-15 02:00:00                                       NaN   \n",
       "2016-03-09 14:00:00                                       NaN   \n",
       "2016-03-09 15:00:00                                       NaN   \n",
       "2016-03-09 16:00:00                                       NaN   \n",
       "2016-04-04 10:00:00                               -796.461194   \n",
       "\n",
       "                     primary_cleaner.state.floatbank8_b_air  \\\n",
       "date                                                          \n",
       "2016-02-15 02:00:00                                     NaN   \n",
       "2016-03-09 14:00:00                                     NaN   \n",
       "2016-03-09 15:00:00                                     NaN   \n",
       "2016-03-09 16:00:00                                     NaN   \n",
       "2016-04-04 10:00:00                                 0.02333   \n",
       "\n",
       "                     primary_cleaner.state.floatbank8_b_level  \\\n",
       "date                                                            \n",
       "2016-02-15 02:00:00                                       NaN   \n",
       "2016-03-09 14:00:00                                       NaN   \n",
       "2016-03-09 15:00:00                                       NaN   \n",
       "2016-03-09 16:00:00                                       NaN   \n",
       "2016-04-04 10:00:00                               -799.974163   \n",
       "\n",
       "                     primary_cleaner.state.floatbank8_c_air  \\\n",
       "date                                                          \n",
       "2016-02-15 02:00:00                                     NaN   \n",
       "2016-03-09 14:00:00                                     NaN   \n",
       "2016-03-09 15:00:00                                     NaN   \n",
       "2016-03-09 16:00:00                                     NaN   \n",
       "2016-04-04 10:00:00                                0.000241   \n",
       "\n",
       "                     primary_cleaner.state.floatbank8_c_level  ...  \\\n",
       "date                                                           ...   \n",
       "2016-02-15 02:00:00                                       NaN  ...   \n",
       "2016-03-09 14:00:00                                       NaN  ...   \n",
       "2016-03-09 15:00:00                                       NaN  ...   \n",
       "2016-03-09 16:00:00                                       NaN  ...   \n",
       "2016-04-04 10:00:00                               -799.980302  ...   \n",
       "\n",
       "                     secondary_cleaner.state.floatbank4_a_air  \\\n",
       "date                                                            \n",
       "2016-02-15 02:00:00                                       NaN   \n",
       "2016-03-09 14:00:00                                       NaN   \n",
       "2016-03-09 15:00:00                                       NaN   \n",
       "2016-03-09 16:00:00                                       NaN   \n",
       "2016-04-04 10:00:00                                       NaN   \n",
       "\n",
       "                     secondary_cleaner.state.floatbank4_a_level  \\\n",
       "date                                                              \n",
       "2016-02-15 02:00:00                                         NaN   \n",
       "2016-03-09 14:00:00                                         NaN   \n",
       "2016-03-09 15:00:00                                         NaN   \n",
       "2016-03-09 16:00:00                                         NaN   \n",
       "2016-04-04 10:00:00                                         NaN   \n",
       "\n",
       "                     secondary_cleaner.state.floatbank4_b_air  \\\n",
       "date                                                            \n",
       "2016-02-15 02:00:00                                       NaN   \n",
       "2016-03-09 14:00:00                                       NaN   \n",
       "2016-03-09 15:00:00                                       NaN   \n",
       "2016-03-09 16:00:00                                       NaN   \n",
       "2016-04-04 10:00:00                                       NaN   \n",
       "\n",
       "                     secondary_cleaner.state.floatbank4_b_level  \\\n",
       "date                                                              \n",
       "2016-02-15 02:00:00                                         NaN   \n",
       "2016-03-09 14:00:00                                         NaN   \n",
       "2016-03-09 15:00:00                                         NaN   \n",
       "2016-03-09 16:00:00                                         NaN   \n",
       "2016-04-04 10:00:00                                         NaN   \n",
       "\n",
       "                     secondary_cleaner.state.floatbank5_a_air  \\\n",
       "date                                                            \n",
       "2016-02-15 02:00:00                                       NaN   \n",
       "2016-03-09 14:00:00                                       NaN   \n",
       "2016-03-09 15:00:00                                       NaN   \n",
       "2016-03-09 16:00:00                                       NaN   \n",
       "2016-04-04 10:00:00                                       NaN   \n",
       "\n",
       "                     secondary_cleaner.state.floatbank5_a_level  \\\n",
       "date                                                              \n",
       "2016-02-15 02:00:00                                         NaN   \n",
       "2016-03-09 14:00:00                                         NaN   \n",
       "2016-03-09 15:00:00                                         NaN   \n",
       "2016-03-09 16:00:00                                         NaN   \n",
       "2016-04-04 10:00:00                                         NaN   \n",
       "\n",
       "                     secondary_cleaner.state.floatbank5_b_air  \\\n",
       "date                                                            \n",
       "2016-02-15 02:00:00                                       NaN   \n",
       "2016-03-09 14:00:00                                       NaN   \n",
       "2016-03-09 15:00:00                                       NaN   \n",
       "2016-03-09 16:00:00                                       NaN   \n",
       "2016-04-04 10:00:00                                       NaN   \n",
       "\n",
       "                     secondary_cleaner.state.floatbank5_b_level  \\\n",
       "date                                                              \n",
       "2016-02-15 02:00:00                                         NaN   \n",
       "2016-03-09 14:00:00                                         NaN   \n",
       "2016-03-09 15:00:00                                         NaN   \n",
       "2016-03-09 16:00:00                                         NaN   \n",
       "2016-04-04 10:00:00                                         NaN   \n",
       "\n",
       "                     secondary_cleaner.state.floatbank6_a_air  \\\n",
       "date                                                            \n",
       "2016-02-15 02:00:00                                       NaN   \n",
       "2016-03-09 14:00:00                                       NaN   \n",
       "2016-03-09 15:00:00                                       NaN   \n",
       "2016-03-09 16:00:00                                       NaN   \n",
       "2016-04-04 10:00:00                                       NaN   \n",
       "\n",
       "                     secondary_cleaner.state.floatbank6_a_level  \n",
       "date                                                             \n",
       "2016-02-15 02:00:00                                         NaN  \n",
       "2016-03-09 14:00:00                                         NaN  \n",
       "2016-03-09 15:00:00                                         NaN  \n",
       "2016-03-09 16:00:00                                         NaN  \n",
       "2016-04-04 10:00:00                                         NaN  \n",
       "\n",
       "[5 rows x 52 columns]"
      ]
     },
     "execution_count": 21,
     "metadata": {},
     "output_type": "execute_result"
    }
   ],
   "source": [
    "check_df = df_train[pd.isnull(df_train['rougher.input.feed_ag'])]\n",
    "check_df = check_df.set_index(['date'])\n",
    "check_df.head()"
   ]
  },
  {
   "cell_type": "markdown",
   "metadata": {},
   "source": [
    "Произведём заполнение"
   ]
  },
  {
   "cell_type": "code",
   "execution_count": 22,
   "metadata": {},
   "outputs": [],
   "source": [
    "df_train['date'] = pd.to_datetime(df_train['date'], dayfirst=True)\n",
    "df_train = df_train.set_index(['date'])\n",
    "df_train = df_train.interpolate(method='time')"
   ]
  },
  {
   "cell_type": "markdown",
   "metadata": {},
   "source": [
    "Произведем проверку заполнения"
   ]
  },
  {
   "cell_type": "code",
   "execution_count": 23,
   "metadata": {},
   "outputs": [
    {
     "data": {
      "text/html": [
       "<div>\n",
       "<style scoped>\n",
       "    .dataframe tbody tr th:only-of-type {\n",
       "        vertical-align: middle;\n",
       "    }\n",
       "\n",
       "    .dataframe tbody tr th {\n",
       "        vertical-align: top;\n",
       "    }\n",
       "\n",
       "    .dataframe thead th {\n",
       "        text-align: right;\n",
       "    }\n",
       "</style>\n",
       "<table border=\"1\" class=\"dataframe\">\n",
       "  <thead>\n",
       "    <tr style=\"text-align: right;\">\n",
       "      <th></th>\n",
       "      <th>primary_cleaner.input.sulfate</th>\n",
       "      <th>primary_cleaner.input.depressant</th>\n",
       "      <th>primary_cleaner.input.feed_size</th>\n",
       "      <th>primary_cleaner.input.xanthate</th>\n",
       "      <th>primary_cleaner.state.floatbank8_a_air</th>\n",
       "      <th>primary_cleaner.state.floatbank8_a_level</th>\n",
       "      <th>primary_cleaner.state.floatbank8_b_air</th>\n",
       "      <th>primary_cleaner.state.floatbank8_b_level</th>\n",
       "      <th>primary_cleaner.state.floatbank8_c_air</th>\n",
       "      <th>primary_cleaner.state.floatbank8_c_level</th>\n",
       "      <th>...</th>\n",
       "      <th>secondary_cleaner.state.floatbank4_a_air</th>\n",
       "      <th>secondary_cleaner.state.floatbank4_a_level</th>\n",
       "      <th>secondary_cleaner.state.floatbank4_b_air</th>\n",
       "      <th>secondary_cleaner.state.floatbank4_b_level</th>\n",
       "      <th>secondary_cleaner.state.floatbank5_a_air</th>\n",
       "      <th>secondary_cleaner.state.floatbank5_a_level</th>\n",
       "      <th>secondary_cleaner.state.floatbank5_b_air</th>\n",
       "      <th>secondary_cleaner.state.floatbank5_b_level</th>\n",
       "      <th>secondary_cleaner.state.floatbank6_a_air</th>\n",
       "      <th>secondary_cleaner.state.floatbank6_a_level</th>\n",
       "    </tr>\n",
       "    <tr>\n",
       "      <th>date</th>\n",
       "      <th></th>\n",
       "      <th></th>\n",
       "      <th></th>\n",
       "      <th></th>\n",
       "      <th></th>\n",
       "      <th></th>\n",
       "      <th></th>\n",
       "      <th></th>\n",
       "      <th></th>\n",
       "      <th></th>\n",
       "      <th></th>\n",
       "      <th></th>\n",
       "      <th></th>\n",
       "      <th></th>\n",
       "      <th></th>\n",
       "      <th></th>\n",
       "      <th></th>\n",
       "      <th></th>\n",
       "      <th></th>\n",
       "      <th></th>\n",
       "      <th></th>\n",
       "    </tr>\n",
       "  </thead>\n",
       "  <tbody>\n",
       "    <tr>\n",
       "      <td>2016-02-15 02:00:00</td>\n",
       "      <td>62.036018</td>\n",
       "      <td>6.016690</td>\n",
       "      <td>7.03</td>\n",
       "      <td>0.702799</td>\n",
       "      <td>1352.121648</td>\n",
       "      <td>-646.858225</td>\n",
       "      <td>1564.956215</td>\n",
       "      <td>-649.788234</td>\n",
       "      <td>1358.680804</td>\n",
       "      <td>-649.923907</td>\n",
       "      <td>...</td>\n",
       "      <td>9.021982</td>\n",
       "      <td>-646.197787</td>\n",
       "      <td>7.978899</td>\n",
       "      <td>-626.656113</td>\n",
       "      <td>7.916777</td>\n",
       "      <td>-633.545137</td>\n",
       "      <td>6.255205</td>\n",
       "      <td>-648.097735</td>\n",
       "      <td>12.655432</td>\n",
       "      <td>-592.038024</td>\n",
       "    </tr>\n",
       "    <tr>\n",
       "      <td>2016-03-09 14:00:00</td>\n",
       "      <td>41.714715</td>\n",
       "      <td>5.711031</td>\n",
       "      <td>7.79</td>\n",
       "      <td>0.349279</td>\n",
       "      <td>1843.225163</td>\n",
       "      <td>-482.904412</td>\n",
       "      <td>1856.790747</td>\n",
       "      <td>-502.119316</td>\n",
       "      <td>1863.693039</td>\n",
       "      <td>-497.514253</td>\n",
       "      <td>...</td>\n",
       "      <td>10.509333</td>\n",
       "      <td>-407.646364</td>\n",
       "      <td>12.037625</td>\n",
       "      <td>-499.358325</td>\n",
       "      <td>9.070486</td>\n",
       "      <td>-515.765919</td>\n",
       "      <td>10.124571</td>\n",
       "      <td>-529.110727</td>\n",
       "      <td>17.038337</td>\n",
       "      <td>-532.852264</td>\n",
       "    </tr>\n",
       "    <tr>\n",
       "      <td>2016-03-09 15:00:00</td>\n",
       "      <td>28.454617</td>\n",
       "      <td>5.141971</td>\n",
       "      <td>7.79</td>\n",
       "      <td>0.234752</td>\n",
       "      <td>1883.350622</td>\n",
       "      <td>-567.893657</td>\n",
       "      <td>1905.431283</td>\n",
       "      <td>-601.283137</td>\n",
       "      <td>1923.152887</td>\n",
       "      <td>-598.321935</td>\n",
       "      <td>...</td>\n",
       "      <td>7.006222</td>\n",
       "      <td>-412.546947</td>\n",
       "      <td>12.011779</td>\n",
       "      <td>-599.445064</td>\n",
       "      <td>5.991509</td>\n",
       "      <td>-591.934867</td>\n",
       "      <td>10.093891</td>\n",
       "      <td>-619.391383</td>\n",
       "      <td>17.001279</td>\n",
       "      <td>-618.688237</td>\n",
       "    </tr>\n",
       "    <tr>\n",
       "      <td>2016-03-09 16:00:00</td>\n",
       "      <td>15.194519</td>\n",
       "      <td>4.572911</td>\n",
       "      <td>7.79</td>\n",
       "      <td>0.120225</td>\n",
       "      <td>1923.476080</td>\n",
       "      <td>-652.882902</td>\n",
       "      <td>1954.071819</td>\n",
       "      <td>-700.446959</td>\n",
       "      <td>1982.612735</td>\n",
       "      <td>-699.129617</td>\n",
       "      <td>...</td>\n",
       "      <td>3.503111</td>\n",
       "      <td>-417.447529</td>\n",
       "      <td>11.985933</td>\n",
       "      <td>-699.531804</td>\n",
       "      <td>2.912532</td>\n",
       "      <td>-668.103814</td>\n",
       "      <td>10.063211</td>\n",
       "      <td>-709.672039</td>\n",
       "      <td>16.964222</td>\n",
       "      <td>-704.524211</td>\n",
       "    </tr>\n",
       "    <tr>\n",
       "      <td>2016-04-04 10:00:00</td>\n",
       "      <td>2.407637</td>\n",
       "      <td>0.190114</td>\n",
       "      <td>7.84</td>\n",
       "      <td>0.005581</td>\n",
       "      <td>0.004200</td>\n",
       "      <td>-796.461194</td>\n",
       "      <td>0.023330</td>\n",
       "      <td>-799.974163</td>\n",
       "      <td>0.000241</td>\n",
       "      <td>-799.980302</td>\n",
       "      <td>...</td>\n",
       "      <td>0.173899</td>\n",
       "      <td>-799.557213</td>\n",
       "      <td>0.014979</td>\n",
       "      <td>-799.712282</td>\n",
       "      <td>-0.171866</td>\n",
       "      <td>-799.740999</td>\n",
       "      <td>0.608582</td>\n",
       "      <td>-799.948793</td>\n",
       "      <td>0.221837</td>\n",
       "      <td>-798.692248</td>\n",
       "    </tr>\n",
       "    <tr>\n",
       "      <td>2016-04-04 11:00:00</td>\n",
       "      <td>0.145696</td>\n",
       "      <td>0.188387</td>\n",
       "      <td>7.84</td>\n",
       "      <td>0.006062</td>\n",
       "      <td>0.003534</td>\n",
       "      <td>-797.591892</td>\n",
       "      <td>0.019632</td>\n",
       "      <td>-799.970418</td>\n",
       "      <td>0.000203</td>\n",
       "      <td>-799.980009</td>\n",
       "      <td>...</td>\n",
       "      <td>0.170276</td>\n",
       "      <td>-799.559915</td>\n",
       "      <td>0.014667</td>\n",
       "      <td>-799.716457</td>\n",
       "      <td>-0.173229</td>\n",
       "      <td>-799.740901</td>\n",
       "      <td>0.608958</td>\n",
       "      <td>-799.952696</td>\n",
       "      <td>0.222298</td>\n",
       "      <td>-798.719555</td>\n",
       "    </tr>\n",
       "    <tr>\n",
       "      <td>2016-04-04 12:00:00</td>\n",
       "      <td>0.111099</td>\n",
       "      <td>0.186660</td>\n",
       "      <td>7.84</td>\n",
       "      <td>0.006542</td>\n",
       "      <td>0.002869</td>\n",
       "      <td>-797.627503</td>\n",
       "      <td>0.015935</td>\n",
       "      <td>-799.966673</td>\n",
       "      <td>0.000165</td>\n",
       "      <td>-799.979715</td>\n",
       "      <td>...</td>\n",
       "      <td>0.166653</td>\n",
       "      <td>-799.562618</td>\n",
       "      <td>0.014355</td>\n",
       "      <td>-799.720632</td>\n",
       "      <td>-0.174591</td>\n",
       "      <td>-799.740802</td>\n",
       "      <td>0.609334</td>\n",
       "      <td>-799.956599</td>\n",
       "      <td>0.222758</td>\n",
       "      <td>-798.746863</td>\n",
       "    </tr>\n",
       "    <tr>\n",
       "      <td>2016-04-04 13:00:00</td>\n",
       "      <td>0.108115</td>\n",
       "      <td>0.184933</td>\n",
       "      <td>7.84</td>\n",
       "      <td>0.008979</td>\n",
       "      <td>0.002203</td>\n",
       "      <td>-796.693218</td>\n",
       "      <td>0.012237</td>\n",
       "      <td>-799.962929</td>\n",
       "      <td>0.000126</td>\n",
       "      <td>-799.979422</td>\n",
       "      <td>...</td>\n",
       "      <td>0.163030</td>\n",
       "      <td>-799.565320</td>\n",
       "      <td>0.014043</td>\n",
       "      <td>-799.724806</td>\n",
       "      <td>-0.175954</td>\n",
       "      <td>-799.740704</td>\n",
       "      <td>0.609710</td>\n",
       "      <td>-799.960502</td>\n",
       "      <td>0.223219</td>\n",
       "      <td>-798.774170</td>\n",
       "    </tr>\n",
       "    <tr>\n",
       "      <td>2016-04-04 14:00:00</td>\n",
       "      <td>0.105130</td>\n",
       "      <td>0.183207</td>\n",
       "      <td>7.84</td>\n",
       "      <td>0.000823</td>\n",
       "      <td>0.001537</td>\n",
       "      <td>-796.612260</td>\n",
       "      <td>0.008539</td>\n",
       "      <td>-799.959184</td>\n",
       "      <td>0.000088</td>\n",
       "      <td>-799.979128</td>\n",
       "      <td>...</td>\n",
       "      <td>0.159407</td>\n",
       "      <td>-799.568023</td>\n",
       "      <td>0.013731</td>\n",
       "      <td>-799.728981</td>\n",
       "      <td>-0.177317</td>\n",
       "      <td>-799.740606</td>\n",
       "      <td>0.610086</td>\n",
       "      <td>-799.964405</td>\n",
       "      <td>0.223679</td>\n",
       "      <td>-798.801477</td>\n",
       "    </tr>\n",
       "    <tr>\n",
       "      <td>2016-04-04 15:00:00</td>\n",
       "      <td>0.102145</td>\n",
       "      <td>0.181480</td>\n",
       "      <td>7.84</td>\n",
       "      <td>0.011592</td>\n",
       "      <td>0.000872</td>\n",
       "      <td>-796.531303</td>\n",
       "      <td>0.004842</td>\n",
       "      <td>-799.955439</td>\n",
       "      <td>0.000050</td>\n",
       "      <td>-799.978835</td>\n",
       "      <td>...</td>\n",
       "      <td>0.155784</td>\n",
       "      <td>-799.570725</td>\n",
       "      <td>0.013419</td>\n",
       "      <td>-799.733156</td>\n",
       "      <td>-0.178680</td>\n",
       "      <td>-799.740507</td>\n",
       "      <td>0.610462</td>\n",
       "      <td>-799.968308</td>\n",
       "      <td>0.224140</td>\n",
       "      <td>-798.828785</td>\n",
       "    </tr>\n",
       "  </tbody>\n",
       "</table>\n",
       "<p>10 rows × 52 columns</p>\n",
       "</div>"
      ],
      "text/plain": [
       "                     primary_cleaner.input.sulfate  \\\n",
       "date                                                 \n",
       "2016-02-15 02:00:00                      62.036018   \n",
       "2016-03-09 14:00:00                      41.714715   \n",
       "2016-03-09 15:00:00                      28.454617   \n",
       "2016-03-09 16:00:00                      15.194519   \n",
       "2016-04-04 10:00:00                       2.407637   \n",
       "2016-04-04 11:00:00                       0.145696   \n",
       "2016-04-04 12:00:00                       0.111099   \n",
       "2016-04-04 13:00:00                       0.108115   \n",
       "2016-04-04 14:00:00                       0.105130   \n",
       "2016-04-04 15:00:00                       0.102145   \n",
       "\n",
       "                     primary_cleaner.input.depressant  \\\n",
       "date                                                    \n",
       "2016-02-15 02:00:00                          6.016690   \n",
       "2016-03-09 14:00:00                          5.711031   \n",
       "2016-03-09 15:00:00                          5.141971   \n",
       "2016-03-09 16:00:00                          4.572911   \n",
       "2016-04-04 10:00:00                          0.190114   \n",
       "2016-04-04 11:00:00                          0.188387   \n",
       "2016-04-04 12:00:00                          0.186660   \n",
       "2016-04-04 13:00:00                          0.184933   \n",
       "2016-04-04 14:00:00                          0.183207   \n",
       "2016-04-04 15:00:00                          0.181480   \n",
       "\n",
       "                     primary_cleaner.input.feed_size  \\\n",
       "date                                                   \n",
       "2016-02-15 02:00:00                             7.03   \n",
       "2016-03-09 14:00:00                             7.79   \n",
       "2016-03-09 15:00:00                             7.79   \n",
       "2016-03-09 16:00:00                             7.79   \n",
       "2016-04-04 10:00:00                             7.84   \n",
       "2016-04-04 11:00:00                             7.84   \n",
       "2016-04-04 12:00:00                             7.84   \n",
       "2016-04-04 13:00:00                             7.84   \n",
       "2016-04-04 14:00:00                             7.84   \n",
       "2016-04-04 15:00:00                             7.84   \n",
       "\n",
       "                     primary_cleaner.input.xanthate  \\\n",
       "date                                                  \n",
       "2016-02-15 02:00:00                        0.702799   \n",
       "2016-03-09 14:00:00                        0.349279   \n",
       "2016-03-09 15:00:00                        0.234752   \n",
       "2016-03-09 16:00:00                        0.120225   \n",
       "2016-04-04 10:00:00                        0.005581   \n",
       "2016-04-04 11:00:00                        0.006062   \n",
       "2016-04-04 12:00:00                        0.006542   \n",
       "2016-04-04 13:00:00                        0.008979   \n",
       "2016-04-04 14:00:00                        0.000823   \n",
       "2016-04-04 15:00:00                        0.011592   \n",
       "\n",
       "                     primary_cleaner.state.floatbank8_a_air  \\\n",
       "date                                                          \n",
       "2016-02-15 02:00:00                             1352.121648   \n",
       "2016-03-09 14:00:00                             1843.225163   \n",
       "2016-03-09 15:00:00                             1883.350622   \n",
       "2016-03-09 16:00:00                             1923.476080   \n",
       "2016-04-04 10:00:00                                0.004200   \n",
       "2016-04-04 11:00:00                                0.003534   \n",
       "2016-04-04 12:00:00                                0.002869   \n",
       "2016-04-04 13:00:00                                0.002203   \n",
       "2016-04-04 14:00:00                                0.001537   \n",
       "2016-04-04 15:00:00                                0.000872   \n",
       "\n",
       "                     primary_cleaner.state.floatbank8_a_level  \\\n",
       "date                                                            \n",
       "2016-02-15 02:00:00                               -646.858225   \n",
       "2016-03-09 14:00:00                               -482.904412   \n",
       "2016-03-09 15:00:00                               -567.893657   \n",
       "2016-03-09 16:00:00                               -652.882902   \n",
       "2016-04-04 10:00:00                               -796.461194   \n",
       "2016-04-04 11:00:00                               -797.591892   \n",
       "2016-04-04 12:00:00                               -797.627503   \n",
       "2016-04-04 13:00:00                               -796.693218   \n",
       "2016-04-04 14:00:00                               -796.612260   \n",
       "2016-04-04 15:00:00                               -796.531303   \n",
       "\n",
       "                     primary_cleaner.state.floatbank8_b_air  \\\n",
       "date                                                          \n",
       "2016-02-15 02:00:00                             1564.956215   \n",
       "2016-03-09 14:00:00                             1856.790747   \n",
       "2016-03-09 15:00:00                             1905.431283   \n",
       "2016-03-09 16:00:00                             1954.071819   \n",
       "2016-04-04 10:00:00                                0.023330   \n",
       "2016-04-04 11:00:00                                0.019632   \n",
       "2016-04-04 12:00:00                                0.015935   \n",
       "2016-04-04 13:00:00                                0.012237   \n",
       "2016-04-04 14:00:00                                0.008539   \n",
       "2016-04-04 15:00:00                                0.004842   \n",
       "\n",
       "                     primary_cleaner.state.floatbank8_b_level  \\\n",
       "date                                                            \n",
       "2016-02-15 02:00:00                               -649.788234   \n",
       "2016-03-09 14:00:00                               -502.119316   \n",
       "2016-03-09 15:00:00                               -601.283137   \n",
       "2016-03-09 16:00:00                               -700.446959   \n",
       "2016-04-04 10:00:00                               -799.974163   \n",
       "2016-04-04 11:00:00                               -799.970418   \n",
       "2016-04-04 12:00:00                               -799.966673   \n",
       "2016-04-04 13:00:00                               -799.962929   \n",
       "2016-04-04 14:00:00                               -799.959184   \n",
       "2016-04-04 15:00:00                               -799.955439   \n",
       "\n",
       "                     primary_cleaner.state.floatbank8_c_air  \\\n",
       "date                                                          \n",
       "2016-02-15 02:00:00                             1358.680804   \n",
       "2016-03-09 14:00:00                             1863.693039   \n",
       "2016-03-09 15:00:00                             1923.152887   \n",
       "2016-03-09 16:00:00                             1982.612735   \n",
       "2016-04-04 10:00:00                                0.000241   \n",
       "2016-04-04 11:00:00                                0.000203   \n",
       "2016-04-04 12:00:00                                0.000165   \n",
       "2016-04-04 13:00:00                                0.000126   \n",
       "2016-04-04 14:00:00                                0.000088   \n",
       "2016-04-04 15:00:00                                0.000050   \n",
       "\n",
       "                     primary_cleaner.state.floatbank8_c_level  ...  \\\n",
       "date                                                           ...   \n",
       "2016-02-15 02:00:00                               -649.923907  ...   \n",
       "2016-03-09 14:00:00                               -497.514253  ...   \n",
       "2016-03-09 15:00:00                               -598.321935  ...   \n",
       "2016-03-09 16:00:00                               -699.129617  ...   \n",
       "2016-04-04 10:00:00                               -799.980302  ...   \n",
       "2016-04-04 11:00:00                               -799.980009  ...   \n",
       "2016-04-04 12:00:00                               -799.979715  ...   \n",
       "2016-04-04 13:00:00                               -799.979422  ...   \n",
       "2016-04-04 14:00:00                               -799.979128  ...   \n",
       "2016-04-04 15:00:00                               -799.978835  ...   \n",
       "\n",
       "                     secondary_cleaner.state.floatbank4_a_air  \\\n",
       "date                                                            \n",
       "2016-02-15 02:00:00                                  9.021982   \n",
       "2016-03-09 14:00:00                                 10.509333   \n",
       "2016-03-09 15:00:00                                  7.006222   \n",
       "2016-03-09 16:00:00                                  3.503111   \n",
       "2016-04-04 10:00:00                                  0.173899   \n",
       "2016-04-04 11:00:00                                  0.170276   \n",
       "2016-04-04 12:00:00                                  0.166653   \n",
       "2016-04-04 13:00:00                                  0.163030   \n",
       "2016-04-04 14:00:00                                  0.159407   \n",
       "2016-04-04 15:00:00                                  0.155784   \n",
       "\n",
       "                     secondary_cleaner.state.floatbank4_a_level  \\\n",
       "date                                                              \n",
       "2016-02-15 02:00:00                                 -646.197787   \n",
       "2016-03-09 14:00:00                                 -407.646364   \n",
       "2016-03-09 15:00:00                                 -412.546947   \n",
       "2016-03-09 16:00:00                                 -417.447529   \n",
       "2016-04-04 10:00:00                                 -799.557213   \n",
       "2016-04-04 11:00:00                                 -799.559915   \n",
       "2016-04-04 12:00:00                                 -799.562618   \n",
       "2016-04-04 13:00:00                                 -799.565320   \n",
       "2016-04-04 14:00:00                                 -799.568023   \n",
       "2016-04-04 15:00:00                                 -799.570725   \n",
       "\n",
       "                     secondary_cleaner.state.floatbank4_b_air  \\\n",
       "date                                                            \n",
       "2016-02-15 02:00:00                                  7.978899   \n",
       "2016-03-09 14:00:00                                 12.037625   \n",
       "2016-03-09 15:00:00                                 12.011779   \n",
       "2016-03-09 16:00:00                                 11.985933   \n",
       "2016-04-04 10:00:00                                  0.014979   \n",
       "2016-04-04 11:00:00                                  0.014667   \n",
       "2016-04-04 12:00:00                                  0.014355   \n",
       "2016-04-04 13:00:00                                  0.014043   \n",
       "2016-04-04 14:00:00                                  0.013731   \n",
       "2016-04-04 15:00:00                                  0.013419   \n",
       "\n",
       "                     secondary_cleaner.state.floatbank4_b_level  \\\n",
       "date                                                              \n",
       "2016-02-15 02:00:00                                 -626.656113   \n",
       "2016-03-09 14:00:00                                 -499.358325   \n",
       "2016-03-09 15:00:00                                 -599.445064   \n",
       "2016-03-09 16:00:00                                 -699.531804   \n",
       "2016-04-04 10:00:00                                 -799.712282   \n",
       "2016-04-04 11:00:00                                 -799.716457   \n",
       "2016-04-04 12:00:00                                 -799.720632   \n",
       "2016-04-04 13:00:00                                 -799.724806   \n",
       "2016-04-04 14:00:00                                 -799.728981   \n",
       "2016-04-04 15:00:00                                 -799.733156   \n",
       "\n",
       "                     secondary_cleaner.state.floatbank5_a_air  \\\n",
       "date                                                            \n",
       "2016-02-15 02:00:00                                  7.916777   \n",
       "2016-03-09 14:00:00                                  9.070486   \n",
       "2016-03-09 15:00:00                                  5.991509   \n",
       "2016-03-09 16:00:00                                  2.912532   \n",
       "2016-04-04 10:00:00                                 -0.171866   \n",
       "2016-04-04 11:00:00                                 -0.173229   \n",
       "2016-04-04 12:00:00                                 -0.174591   \n",
       "2016-04-04 13:00:00                                 -0.175954   \n",
       "2016-04-04 14:00:00                                 -0.177317   \n",
       "2016-04-04 15:00:00                                 -0.178680   \n",
       "\n",
       "                     secondary_cleaner.state.floatbank5_a_level  \\\n",
       "date                                                              \n",
       "2016-02-15 02:00:00                                 -633.545137   \n",
       "2016-03-09 14:00:00                                 -515.765919   \n",
       "2016-03-09 15:00:00                                 -591.934867   \n",
       "2016-03-09 16:00:00                                 -668.103814   \n",
       "2016-04-04 10:00:00                                 -799.740999   \n",
       "2016-04-04 11:00:00                                 -799.740901   \n",
       "2016-04-04 12:00:00                                 -799.740802   \n",
       "2016-04-04 13:00:00                                 -799.740704   \n",
       "2016-04-04 14:00:00                                 -799.740606   \n",
       "2016-04-04 15:00:00                                 -799.740507   \n",
       "\n",
       "                     secondary_cleaner.state.floatbank5_b_air  \\\n",
       "date                                                            \n",
       "2016-02-15 02:00:00                                  6.255205   \n",
       "2016-03-09 14:00:00                                 10.124571   \n",
       "2016-03-09 15:00:00                                 10.093891   \n",
       "2016-03-09 16:00:00                                 10.063211   \n",
       "2016-04-04 10:00:00                                  0.608582   \n",
       "2016-04-04 11:00:00                                  0.608958   \n",
       "2016-04-04 12:00:00                                  0.609334   \n",
       "2016-04-04 13:00:00                                  0.609710   \n",
       "2016-04-04 14:00:00                                  0.610086   \n",
       "2016-04-04 15:00:00                                  0.610462   \n",
       "\n",
       "                     secondary_cleaner.state.floatbank5_b_level  \\\n",
       "date                                                              \n",
       "2016-02-15 02:00:00                                 -648.097735   \n",
       "2016-03-09 14:00:00                                 -529.110727   \n",
       "2016-03-09 15:00:00                                 -619.391383   \n",
       "2016-03-09 16:00:00                                 -709.672039   \n",
       "2016-04-04 10:00:00                                 -799.948793   \n",
       "2016-04-04 11:00:00                                 -799.952696   \n",
       "2016-04-04 12:00:00                                 -799.956599   \n",
       "2016-04-04 13:00:00                                 -799.960502   \n",
       "2016-04-04 14:00:00                                 -799.964405   \n",
       "2016-04-04 15:00:00                                 -799.968308   \n",
       "\n",
       "                     secondary_cleaner.state.floatbank6_a_air  \\\n",
       "date                                                            \n",
       "2016-02-15 02:00:00                                 12.655432   \n",
       "2016-03-09 14:00:00                                 17.038337   \n",
       "2016-03-09 15:00:00                                 17.001279   \n",
       "2016-03-09 16:00:00                                 16.964222   \n",
       "2016-04-04 10:00:00                                  0.221837   \n",
       "2016-04-04 11:00:00                                  0.222298   \n",
       "2016-04-04 12:00:00                                  0.222758   \n",
       "2016-04-04 13:00:00                                  0.223219   \n",
       "2016-04-04 14:00:00                                  0.223679   \n",
       "2016-04-04 15:00:00                                  0.224140   \n",
       "\n",
       "                     secondary_cleaner.state.floatbank6_a_level  \n",
       "date                                                             \n",
       "2016-02-15 02:00:00                                 -592.038024  \n",
       "2016-03-09 14:00:00                                 -532.852264  \n",
       "2016-03-09 15:00:00                                 -618.688237  \n",
       "2016-03-09 16:00:00                                 -704.524211  \n",
       "2016-04-04 10:00:00                                 -798.692248  \n",
       "2016-04-04 11:00:00                                 -798.719555  \n",
       "2016-04-04 12:00:00                                 -798.746863  \n",
       "2016-04-04 13:00:00                                 -798.774170  \n",
       "2016-04-04 14:00:00                                 -798.801477  \n",
       "2016-04-04 15:00:00                                 -798.828785  \n",
       "\n",
       "[10 rows x 52 columns]"
      ]
     },
     "execution_count": 23,
     "metadata": {},
     "output_type": "execute_result"
    }
   ],
   "source": [
    "df_train.query('index in @check_df.index').head(10)"
   ]
  },
  {
   "cell_type": "code",
   "execution_count": 24,
   "metadata": {},
   "outputs": [
    {
     "data": {
      "text/plain": [
       "primary_cleaner.input.sulfate                 0\n",
       "primary_cleaner.input.depressant              0\n",
       "primary_cleaner.input.feed_size               0\n",
       "primary_cleaner.input.xanthate                0\n",
       "primary_cleaner.state.floatbank8_a_air        0\n",
       "primary_cleaner.state.floatbank8_a_level      0\n",
       "primary_cleaner.state.floatbank8_b_air        0\n",
       "primary_cleaner.state.floatbank8_b_level      0\n",
       "primary_cleaner.state.floatbank8_c_air        0\n",
       "primary_cleaner.state.floatbank8_c_level      0\n",
       "primary_cleaner.state.floatbank8_d_air        0\n",
       "primary_cleaner.state.floatbank8_d_level      0\n",
       "rougher.input.feed_ag                         0\n",
       "rougher.input.feed_pb                         0\n",
       "rougher.input.feed_rate                       0\n",
       "rougher.input.feed_size                       0\n",
       "rougher.input.feed_sol                        0\n",
       "rougher.input.feed_au                         0\n",
       "rougher.input.floatbank10_sulfate             0\n",
       "rougher.input.floatbank10_xanthate            0\n",
       "rougher.input.floatbank11_sulfate             0\n",
       "rougher.input.floatbank11_xanthate            0\n",
       "rougher.state.floatbank10_a_air               0\n",
       "rougher.state.floatbank10_a_level             0\n",
       "rougher.state.floatbank10_b_air               0\n",
       "rougher.state.floatbank10_b_level             0\n",
       "rougher.state.floatbank10_c_air               0\n",
       "rougher.state.floatbank10_c_level             0\n",
       "rougher.state.floatbank10_d_air               0\n",
       "rougher.state.floatbank10_d_level             0\n",
       "rougher.state.floatbank10_e_air               0\n",
       "rougher.state.floatbank10_e_level             0\n",
       "rougher.state.floatbank10_f_air               0\n",
       "rougher.state.floatbank10_f_level             0\n",
       "secondary_cleaner.state.floatbank2_a_air      0\n",
       "secondary_cleaner.state.floatbank2_a_level    0\n",
       "secondary_cleaner.state.floatbank2_b_air      0\n",
       "secondary_cleaner.state.floatbank2_b_level    0\n",
       "secondary_cleaner.state.floatbank3_a_air      0\n",
       "secondary_cleaner.state.floatbank3_a_level    0\n",
       "secondary_cleaner.state.floatbank3_b_air      0\n",
       "secondary_cleaner.state.floatbank3_b_level    0\n",
       "secondary_cleaner.state.floatbank4_a_air      0\n",
       "secondary_cleaner.state.floatbank4_a_level    0\n",
       "secondary_cleaner.state.floatbank4_b_air      0\n",
       "secondary_cleaner.state.floatbank4_b_level    0\n",
       "secondary_cleaner.state.floatbank5_a_air      0\n",
       "secondary_cleaner.state.floatbank5_a_level    0\n",
       "secondary_cleaner.state.floatbank5_b_air      0\n",
       "secondary_cleaner.state.floatbank5_b_level    0\n",
       "secondary_cleaner.state.floatbank6_a_air      0\n",
       "secondary_cleaner.state.floatbank6_a_level    0\n",
       "dtype: int64"
      ]
     },
     "metadata": {},
     "output_type": "display_data"
    }
   ],
   "source": [
    "display(df_train.isnull().sum())"
   ]
  },
  {
   "cell_type": "markdown",
   "metadata": {},
   "source": [
    "Заполнено корректно. Предобработка завершена"
   ]
  },
  {
   "cell_type": "markdown",
   "metadata": {},
   "source": [
    "[Содержание](#title)"
   ]
  },
  {
   "cell_type": "markdown",
   "metadata": {},
   "source": [
    "# 2. Анализ данных <a name=\"2\"></a>"
   ]
  },
  {
   "cell_type": "markdown",
   "metadata": {},
   "source": [
    "## 2.1 Исследование концентрации металлов (Au, Ag, Pb) на различных этапах очистки <a name=\"2.1\"></a>"
   ]
  },
  {
   "cell_type": "markdown",
   "metadata": {},
   "source": [
    "Рассмотрим на полных данных, как меняется концентрация металлов (Au, Ag, Pb) на различных этапах очистки."
   ]
  },
  {
   "cell_type": "code",
   "execution_count": 25,
   "metadata": {},
   "outputs": [],
   "source": [
    "df_full['date'] = pd.to_datetime(df_full['date'], dayfirst=True)\n",
    "df_full = df_full.set_index(['date'])\n",
    "df_full = df_full.interpolate(method='time')"
   ]
  },
  {
   "cell_type": "code",
   "execution_count": 26,
   "metadata": {},
   "outputs": [
    {
     "data": {
      "image/png": "[encoded data removed]",
      "text/plain": [
       "<Figure size 1152x288 with 4 Axes>"
      ]
     },
     "metadata": {},
     "output_type": "display_data"
    }
   ],
   "source": [
    "sns.set(style=\"darkgrid\")\n",
    "sns.set(rc={\"figure.figsize\": (16, 4)})\n",
    "\n",
    "\n",
    "subplot(1,4,1)\n",
    "plt.title(\"Входное сырьё\")\n",
    "ax = sns.distplot(df_full['rougher.input.feed_ag'], kde_kws={\"color\": \"red\", \"label\": \"ag\"})\n",
    "ax = sns.distplot(df_full['rougher.input.feed_pb'], kde_kws={\"color\": \"green\", \"label\": \"pb\"})\n",
    "ax = sns.distplot(df_full['rougher.input.feed_au'], kde_kws={\"color\": \"blue\", \"label\": \"au\"})\n",
    "ax.set_xlabel('Концентрация')\n",
    "ax.set_ylabel('Частота')\n",
    "\n",
    "\n",
    "subplot(1,4,2)\n",
    "plt.title(\"После флотации\")\n",
    "ax = sns.distplot(df_full['rougher.output.concentrate_ag'], kde_kws={\"color\": \"red\", \"label\": \"ag\"})\n",
    "ax = sns.distplot(df_full['rougher.output.concentrate_pb'], kde_kws={\"color\": \"green\", \"label\": \"pb\"})\n",
    "ax = sns.distplot(df_full['rougher.output.concentrate_au'], kde_kws={\"color\": \"blue\", \"label\": \"au\"})\n",
    "ax.set_xlabel('Концентрация')\n",
    "\n",
    "\n",
    "subplot(1,4,3)\n",
    "plt.title(\"После первичной очистки\")\n",
    "ax = sns.distplot(df_full['primary_cleaner.output.concentrate_ag'], kde_kws={\"color\": \"red\", \"label\": \"ag\"})\n",
    "ax = sns.distplot(df_full['primary_cleaner.output.concentrate_pb'], kde_kws={\"color\": \"green\", \"label\": \"pb\"})\n",
    "ax = sns.distplot(df_full['primary_cleaner.output.concentrate_au'], kde_kws={\"color\": \"blue\", \"label\": \"au\"})\n",
    "ax.set_xlabel('Концентрация')\n",
    "\n",
    "\n",
    "subplot(1,4,4)\n",
    "plt.title(\"Финальные характеристики\")\n",
    "ax = sns.distplot(df_full['final.output.concentrate_ag'], kde_kws={\"color\": \"red\", \"label\": \"ag\"})\n",
    "ax = sns.distplot(df_full['final.output.concentrate_pb'], kde_kws={\"color\": \"green\", \"label\": \"pb\"})\n",
    "ax = sns.distplot(df_full['final.output.concentrate_au'], kde_kws={\"color\": \"blue\", \"label\": \"au\"})\n",
    "ax.set_xlabel('Концентрация')\n",
    "\n",
    "\n",
    "plt.show()"
   ]
  },
  {
   "cell_type": "markdown",
   "metadata": {},
   "source": [
    "Концентрация золота закономерно растёт с каждым этапом очистки, а концентрация побочных металлов падает. Также с каждым этапом падает концентрация побочных металлов"
   ]
  },
  {
   "cell_type": "markdown",
   "metadata": {},
   "source": [
    "[Содержание](#title)"
   ]
  },
  {
   "cell_type": "markdown",
   "metadata": {},
   "source": [
    "## 2.2 Исследование распределения гранул сырья в обучающей и тестовой выборке <a name=\"2.2\"></a>"
   ]
  },
  {
   "cell_type": "markdown",
   "metadata": {},
   "source": [
    "Сравним распределение размеров гранул сырья на обучающей и тестовой выборках. Если распределения сильно отличаются друг от друга, то оценка модели будет неправильной."
   ]
  },
  {
   "cell_type": "code",
   "execution_count": 27,
   "metadata": {},
   "outputs": [],
   "source": [
    "df_test['date'] = pd.to_datetime(df_test['date'], dayfirst=True)\n",
    "df_test = df_test.set_index(['date'])\n",
    "df_test = df_test.interpolate(method='time')"
   ]
  },
  {
   "cell_type": "code",
   "execution_count": 28,
   "metadata": {},
   "outputs": [
    {
     "data": {
      "image/png": "[encoded data removed]",
      "text/plain": [
       "<Figure size 1152x288 with 2 Axes>"
      ]
     },
     "metadata": {},
     "output_type": "display_data"
    }
   ],
   "source": [
    "sns.set(rc={\"figure.figsize\": (16, 4)})\n",
    "\n",
    "\n",
    "subplot(1,2,1)\n",
    "plt.title(\"Входное сырьё\")\n",
    "ax = sns.distplot(df_train['rougher.input.feed_size'], kde_kws={\"color\": \"red\", \"label\": \"ag\"})\n",
    "ax = sns.distplot(df_test['rougher.input.feed_size'], kde_kws={\"color\": \"green\", \"label\": \"pb\"})\n",
    "ax.set_xlabel('Размер гранул')\n",
    "ax.set_ylabel('Частота')\n",
    "\n",
    "\n",
    "subplot(1,2,2)\n",
    "plt.title(\"После флотации\")\n",
    "ax = sns.distplot(df_train['primary_cleaner.input.feed_size'], kde_kws={\"color\": \"red\", \"label\": \"ag\"})\n",
    "ax = sns.distplot(df_test['primary_cleaner.input.feed_size'], kde_kws={\"color\": \"green\", \"label\": \"pb\"})\n",
    "ax.set_xlabel('Размер гранул')\n",
    "\n",
    "\n",
    "plt.show()"
   ]
  },
  {
   "cell_type": "markdown",
   "metadata": {},
   "source": [
    "Размер гранул сырья в обеих выборках приблизительно равен. Оценка тестового датасета будет блика к реальной."
   ]
  },
  {
   "cell_type": "markdown",
   "metadata": {},
   "source": [
    "[Содержание](#title)"
   ]
  },
  {
   "cell_type": "markdown",
   "metadata": {},
   "source": [
    "## 2.3 Исследование суммарной концентрации всех веществ на разных стадиях: в сырье, в черновом и финальном концентратах <a name=\"2.3\"></a>"
   ]
  },
  {
   "cell_type": "code",
   "execution_count": 29,
   "metadata": {},
   "outputs": [
    {
     "data": {
      "image/png": "[encoded data removed]",
      "text/plain": [
       "<Figure size 1152x288 with 4 Axes>"
      ]
     },
     "metadata": {},
     "output_type": "display_data"
    }
   ],
   "source": [
    "sns.set(rc={\"figure.figsize\": (16, 4)})\n",
    "\n",
    "\n",
    "subplot(1,4,1)\n",
    "plt.title(\"Входное сырьё\")\n",
    "ax = sns.distplot(df_full['rougher.input.feed_ag'] +\n",
    "                  df_full['rougher.input.feed_pb'] +\n",
    "                  df_full['rougher.input.feed_au'], kde_kws={\"color\": \"green\", \"label\": \"sum\"})\n",
    "ax.set_xlabel('Концентрация')\n",
    "ax.set_ylabel('Частота')\n",
    "\n",
    "\n",
    "subplot(1,4,2)\n",
    "plt.title(\"После флотации\")\n",
    "ax = sns.distplot(df_full['rougher.output.concentrate_ag'] +\n",
    "                  df_full['rougher.output.concentrate_pb'] +\n",
    "                  df_full['rougher.output.concentrate_au'], kde_kws={\"color\": \"green\", \"label\": \"sum\"})\n",
    "ax.set_xlabel('Концентрация')\n",
    "\n",
    "\n",
    "subplot(1,4,3)\n",
    "plt.title(\"После первичной очистки\")\n",
    "ax = sns.distplot(df_full['primary_cleaner.output.concentrate_ag'] +\n",
    "                  df_full['primary_cleaner.output.concentrate_pb'] +\n",
    "                  df_full['primary_cleaner.output.concentrate_au'], kde_kws={\"color\": \"green\", \"label\": \"sum\"})\n",
    "ax.set_xlabel('Концентрация')\n",
    "\n",
    "\n",
    "subplot(1,4,4)\n",
    "plt.title(\"Финальные характеристики\")\n",
    "ax = sns.distplot(df_full['final.output.concentrate_ag'] +\n",
    "                  df_full['final.output.concentrate_pb'] +\n",
    "                  df_full['final.output.concentrate_au'], kde_kws={\"color\": \"green\", \"label\": \"sum\"})\n",
    "ax.set_xlabel('Концентрация')\n",
    "\n",
    "\n",
    "plt.show()"
   ]
  },
  {
   "cell_type": "markdown",
   "metadata": {},
   "source": [
    "В нулевой зоне наблюдаются аномальные значения в суммарном распределении. Скорее всего они возникли из-за ошибок выгрузки данных, либо ошибок детектирования. Данный \"хвост\" необходимо обрезать в обеих выборках."
   ]
  },
  {
   "cell_type": "markdown",
   "metadata": {},
   "source": [
    "Выведем диаграмму размаха для суммы входных значений концентрации."
   ]
  },
  {
   "cell_type": "code",
   "execution_count": 30,
   "metadata": {},
   "outputs": [
    {
     "data": {
      "image/png": "[encoded data removed]",
      "text/plain": [
       "<Figure size 1152x288 with 1 Axes>"
      ]
     },
     "metadata": {},
     "output_type": "display_data"
    }
   ],
   "source": [
    "df_full['sum'] = df_full['rougher.input.feed_ag'] + df_full['rougher.input.feed_pb'] + df_full['rougher.input.feed_au']\n",
    "\n",
    "ax = sns.boxplot(x=df_full[\"sum\"])"
   ]
  },
  {
   "cell_type": "markdown",
   "metadata": {},
   "source": [
    "Значения сумм концентраций металлов ниже 6 выходит за рамки левого межквартильного размаха и я являются выбросами. Для корректного построения модели и предсказания результатов избавимся от выбросов близких к нулю."
   ]
  },
  {
   "cell_type": "code",
   "execution_count": 31,
   "metadata": {},
   "outputs": [
    {
     "name": "stdout",
     "output_type": "stream",
     "text": [
      "Количество строк в обучающей выборке до чистки выбросов равно 16860\n",
      "Количество строк в обучающей выборке после чистки выбросов равно 15194\n",
      "Потеряно 9.881376037959669% значений обучающей выборки\n",
      "--------------------------------------------------------------------------------\n",
      "Количество строк в тестовой выборке до чистки выбросов равно 5856\n",
      "Количество строк в тестовой выборке после чистки выбросов равно 5466\n",
      "Потеряно 6.659836065573771% значений тестовой выборки\n"
     ]
    }
   ],
   "source": [
    "print(f'Количество строк в обучающей выборке до чистки выбросов равно {len(df_train)}')\n",
    "df_train_result = df_train[df_train['rougher.input.feed_ag'] + df_train['rougher.input.feed_pb'] + df_train['rougher.input.feed_au'] > 6]\n",
    "print(f'Количество строк в обучающей выборке после чистки выбросов равно {len(df_train_result)}')\n",
    "print(f'Потеряно {100 - (len(df_train_result)/len(df_train))*100}% значений обучающей выборки')\n",
    "print('-'*80)\n",
    "print(f'Количество строк в тестовой выборке до чистки выбросов равно {len(df_test)}')\n",
    "df_test_result = df_test[df_test['rougher.input.feed_ag'] + df_test['rougher.input.feed_pb'] + df_test['rougher.input.feed_au'] > 6]\n",
    "print(f'Количество строк в тестовой выборке после чистки выбросов равно {len(df_test_result)}')\n",
    "print(f'Потеряно {100 - (len(df_test_result)/len(df_test))*100}% значений тестовой выборки')"
   ]
  },
  {
   "cell_type": "markdown",
   "metadata": {},
   "source": [
    "Аномалии в данных удалены. Данные готовы к построению модели и проведению теста."
   ]
  },
  {
   "cell_type": "markdown",
   "metadata": {},
   "source": [
    "[Содержание](#title)"
   ]
  },
  {
   "cell_type": "markdown",
   "metadata": {},
   "source": [
    "# 3. Построение модели <a name=\"3\"></a>"
   ]
  },
  {
   "cell_type": "markdown",
   "metadata": {},
   "source": [
    "## 3.1 Функция для вычисления итоговой sMAPE <a name=\"3.1\"></a>"
   ]
  },
  {
   "cell_type": "markdown",
   "metadata": {},
   "source": [
    "Для метрики качества воспользуемся следующими формулами"
   ]
  },
  {
   "attachments": {
    "smape_1576239058.jpg": {
     "image/jpeg": "[encoded data removed]"
    }
   },
   "cell_type": "markdown",
   "metadata": {},
   "source": [
    "![smape_1576239058.jpg](attachment:smape_1576239058.jpg)"
   ]
  },
  {
   "cell_type": "markdown",
   "metadata": {},
   "source": [
    "где\n",
    "* **y** - значение целевого признака;\n",
    "* **y** с крышечкой - значение предсказанного призанака;\n",
    "* **N** - количество объектов в выборке;\n",
    "* **i** - порядковый номер."
   ]
  },
  {
   "attachments": {
    "_smape_1576239054.jpg": {
     "image/jpeg": "[encoded data removed]"
    }
   },
   "cell_type": "markdown",
   "metadata": {},
   "source": [
    "![_smape_1576239054.jpg](attachment:_smape_1576239054.jpg)"
   ]
  },
  {
   "cell_type": "markdown",
   "metadata": {},
   "source": [
    "Напишем функцию для расчёта **sMAPE**"
   ]
  },
  {
   "cell_type": "code",
   "execution_count": 32,
   "metadata": {},
   "outputs": [],
   "source": [
    "def smape(target, pred):\n",
    "    return np.mean(200*np.abs(target-pred)/(np.abs(target)+np.abs(pred)))\n",
    "\n",
    "def result_smape(smape_rougher, smape_final):\n",
    "    return 0.25*smape_rougher + 0.75*smape_final\n",
    "\n",
    "custom_scorer = make_scorer(smape, greater_is_better=False)"
   ]
  },
  {
   "cell_type": "markdown",
   "metadata": {},
   "source": [
    "[Содержание](#title)"
   ]
  },
  {
   "cell_type": "markdown",
   "metadata": {},
   "source": [
    "## 3.2 Обучение модели <a name=\"3.2\"></a>"
   ]
  },
  {
   "cell_type": "markdown",
   "metadata": {},
   "source": [
    "Сформируем целевые признаки **rougher.output.recovery** и **final.output.recovery** для обучающей и тестовой выборки"
   ]
  },
  {
   "cell_type": "code",
   "execution_count": 33,
   "metadata": {},
   "outputs": [],
   "source": [
    "train_target_rougher = df_full.loc[df_train_result.index,'rougher.output.recovery']\n",
    "train_target_final = df_full.loc[df_train_result.index,'final.output.recovery']\n",
    "\n",
    "test_target_rougher = df_full.loc[df_test_result.index,'rougher.output.recovery']\n",
    "test_target_final = df_full.loc[df_test_result.index,'final.output.recovery']"
   ]
  },
  {
   "cell_type": "markdown",
   "metadata": {},
   "source": [
    "### 3.2.1 Обучение модели флоатации <a name=\"3.2.1\"></a>"
   ]
  },
  {
   "cell_type": "markdown",
   "metadata": {},
   "source": [
    "Воспользуемся **GridSearchCV** для нахождения лучших параметров модели и посчитаем методом кросс-валидации их симметричное среднее абсолютное процентное отклонение (**sMAPE**)"
   ]
  },
  {
   "cell_type": "markdown",
   "metadata": {},
   "source": [
    "*Можно было использовать бОльшие значения cv и n_estimators, но время выполнения кода не входило в установленные временные рамки. Подбор оптимодели был произведён на скорую руку*"
   ]
  },
  {
   "cell_type": "markdown",
   "metadata": {},
   "source": [
    "**Модель древа решений**"
   ]
  },
  {
   "cell_type": "code",
   "execution_count": 34,
   "metadata": {},
   "outputs": [],
   "source": [
    "param_grid = {'max_depth': [md for md in range(1,30,3)]}\n",
    "grid_tree = GridSearchCV(DecisionTreeRegressor(random_state=RNG), param_grid=param_grid, scoring=custom_scorer)"
   ]
  },
  {
   "cell_type": "code",
   "execution_count": 35,
   "metadata": {},
   "outputs": [
    {
     "name": "stdout",
     "output_type": "stream",
     "text": [
      "CPU times: user 21 s, sys: 0 ns, total: 21 s\n",
      "Wall time: 21 s\n"
     ]
    },
    {
     "data": {
      "text/plain": [
       "GridSearchCV(cv='warn', error_score='raise-deprecating',\n",
       "             estimator=DecisionTreeRegressor(criterion='mse', max_depth=None,\n",
       "                                             max_features=None,\n",
       "                                             max_leaf_nodes=None,\n",
       "                                             min_impurity_decrease=0.0,\n",
       "                                             min_impurity_split=None,\n",
       "                                             min_samples_leaf=1,\n",
       "                                             min_samples_split=2,\n",
       "                                             min_weight_fraction_leaf=0.0,\n",
       "                                             presort=False, random_state=123,\n",
       "                                             splitter='best'),\n",
       "             iid='warn', n_jobs=None,\n",
       "             param_grid={'max_depth': [1, 4, 7, 10, 13, 16, 19, 22, 25, 28]},\n",
       "             pre_dispatch='2*n_jobs', refit=True, return_train_score=False,\n",
       "             scoring=make_scorer(smape, greater_is_better=False), verbose=0)"
      ]
     },
     "execution_count": 35,
     "metadata": {},
     "output_type": "execute_result"
    }
   ],
   "source": [
    "%%time\n",
    "grid_tree.fit(df_train_result, train_target_rougher)"
   ]
  },
  {
   "cell_type": "code",
   "execution_count": 36,
   "metadata": {},
   "outputs": [
    {
     "name": "stdout",
     "output_type": "stream",
     "text": [
      "Лучшие параметры для модели\n",
      "{'max_depth': 4}\n",
      "sMAPE = 13.060018814356102\n",
      "CPU times: user 1min 35s, sys: 32.1 ms, total: 1min 35s\n",
      "Wall time: 1min 36s\n"
     ]
    }
   ],
   "source": [
    "%%time\n",
    "print('Лучшие параметры для модели')\n",
    "print(grid_tree.best_params_)\n",
    "print('sMAPE =', np.abs(mean(cross_val_score(grid_tree, df_train_result, train_target_rougher, cv=5, scoring=custom_scorer))))"
   ]
  },
  {
   "cell_type": "markdown",
   "metadata": {},
   "source": [
    "Для повышения скорости вычислений и качества определим на лучшей модели древа решений наиболее влияющие на результат признаки"
   ]
  },
  {
   "cell_type": "code",
   "execution_count": 37,
   "metadata": {},
   "outputs": [
    {
     "data": {
      "text/plain": [
       "primary_cleaner.input.sulfate               0.289607\n",
       "primary_cleaner.input.feed_size             0.019920\n",
       "primary_cleaner.state.floatbank8_c_air      0.063731\n",
       "rougher.input.feed_ag                       0.045179\n",
       "rougher.input.feed_size                     0.028674\n",
       "rougher.input.floatbank11_sulfate           0.246549\n",
       "rougher.state.floatbank10_c_air             0.011207\n",
       "rougher.state.floatbank10_d_air             0.031978\n",
       "secondary_cleaner.state.floatbank4_a_air    0.149087\n",
       "secondary_cleaner.state.floatbank5_b_air    0.047652\n",
       "secondary_cleaner.state.floatbank6_a_air    0.066416\n",
       "dtype: float64"
      ]
     },
     "execution_count": 37,
     "metadata": {},
     "output_type": "execute_result"
    }
   ],
   "source": [
    "model = DecisionTreeRegressor(max_depth=4, random_state=RNG)\n",
    "model.fit(df_train_result, train_target_rougher)\n",
    "feat_importances = pd.Series(model.feature_importances_, index=df_train_result.columns)\n",
    "column_rougher = feat_importances[feat_importances > 0]\n",
    "column_rougher"
   ]
  },
  {
   "cell_type": "markdown",
   "metadata": {},
   "source": [
    "Сохраним новый набор признаков для флоатации"
   ]
  },
  {
   "cell_type": "code",
   "execution_count": 38,
   "metadata": {},
   "outputs": [],
   "source": [
    "df_train_result_imp = df_train_result[column_rougher.index]\n",
    "df_test_result_imp = df_test_result[column_rougher.index]"
   ]
  },
  {
   "cell_type": "markdown",
   "metadata": {},
   "source": [
    "Далее обучение производим с новыми параметрами"
   ]
  },
  {
   "cell_type": "markdown",
   "metadata": {},
   "source": [
    "**Модель случайного леса**"
   ]
  },
  {
   "cell_type": "code",
   "execution_count": 39,
   "metadata": {},
   "outputs": [],
   "source": [
    "param_grid_forest = {'n_estimators': [ne for ne in range(20,55,15)]}\n",
    "grid_forest = GridSearchCV(RandomForestRegressor(random_state=RNG), param_grid=param_grid_forest, scoring=custom_scorer)"
   ]
  },
  {
   "cell_type": "code",
   "execution_count": 40,
   "metadata": {},
   "outputs": [
    {
     "name": "stdout",
     "output_type": "stream",
     "text": [
      "CPU times: user 1min 10s, sys: 47.7 ms, total: 1min 10s\n",
      "Wall time: 1min 10s\n"
     ]
    },
    {
     "data": {
      "text/plain": [
       "GridSearchCV(cv='warn', error_score='raise-deprecating',\n",
       "             estimator=RandomForestRegressor(bootstrap=True, criterion='mse',\n",
       "                                             max_depth=None,\n",
       "                                             max_features='auto',\n",
       "                                             max_leaf_nodes=None,\n",
       "                                             min_impurity_decrease=0.0,\n",
       "                                             min_impurity_split=None,\n",
       "                                             min_samples_leaf=1,\n",
       "                                             min_samples_split=2,\n",
       "                                             min_weight_fraction_leaf=0.0,\n",
       "                                             n_estimators='warn', n_jobs=None,\n",
       "                                             oob_score=False, random_state=123,\n",
       "                                             verbose=0, warm_start=False),\n",
       "             iid='warn', n_jobs=None, param_grid={'n_estimators': [20, 35, 50]},\n",
       "             pre_dispatch='2*n_jobs', refit=True, return_train_score=False,\n",
       "             scoring=make_scorer(smape, greater_is_better=False), verbose=0)"
      ]
     },
     "execution_count": 40,
     "metadata": {},
     "output_type": "execute_result"
    }
   ],
   "source": [
    "%%time\n",
    "grid_forest.fit(df_train_result_imp, train_target_rougher)"
   ]
  },
  {
   "cell_type": "code",
   "execution_count": 41,
   "metadata": {},
   "outputs": [
    {
     "name": "stdout",
     "output_type": "stream",
     "text": [
      "Лучшие параметры для модели\n",
      "{'n_estimators': 35}\n",
      "sMAPE = 15.807444138354603\n",
      "CPU times: user 4min 23s, sys: 1.12 s, total: 4min 24s\n",
      "Wall time: 4min 24s\n"
     ]
    }
   ],
   "source": [
    "%%time\n",
    "print('Лучшие параметры для модели')\n",
    "print(grid_forest.best_params_)\n",
    "print('sMAPE =', np.abs(mean(cross_val_score(grid_forest, df_train_result_imp, train_target_rougher, cv=5, scoring=custom_scorer))))"
   ]
  },
  {
   "cell_type": "markdown",
   "metadata": {},
   "source": [
    "**Логистическая регрессия**"
   ]
  },
  {
   "cell_type": "code",
   "execution_count": 42,
   "metadata": {},
   "outputs": [
    {
     "name": "stdout",
     "output_type": "stream",
     "text": [
      "sMAPE = 11.815216556729435\n",
      "CPU times: user 434 ms, sys: 436 ms, total: 870 ms\n",
      "Wall time: 848 ms\n"
     ]
    }
   ],
   "source": [
    "%%time\n",
    "model_logistic = LinearRegression()\n",
    "model_logistic.fit(df_train_result_imp, train_target_rougher)\n",
    "print('sMAPE =', np.abs(mean(cross_val_score(model_logistic, df_train_result_imp, train_target_rougher, cv=5, scoring=custom_scorer))))"
   ]
  },
  {
   "cell_type": "markdown",
   "metadata": {},
   "source": [
    "**Градиентный бустинг**"
   ]
  },
  {
   "cell_type": "code",
   "execution_count": 43,
   "metadata": {},
   "outputs": [
    {
     "name": "stdout",
     "output_type": "stream",
     "text": [
      "CPU times: user 1.58 s, sys: 13 µs, total: 1.58 s\n",
      "Wall time: 1.59 s\n"
     ]
    },
    {
     "data": {
      "text/plain": [
       "GradientBoostingRegressor(alpha=0.9, criterion='friedman_mse', init=None,\n",
       "                          learning_rate=0.1, loss='ls', max_depth=3,\n",
       "                          max_features=None, max_leaf_nodes=None,\n",
       "                          min_impurity_decrease=0.0, min_impurity_split=None,\n",
       "                          min_samples_leaf=1, min_samples_split=2,\n",
       "                          min_weight_fraction_leaf=0.0, n_estimators=100,\n",
       "                          n_iter_no_change=None, presort='auto',\n",
       "                          random_state=123, subsample=1.0, tol=0.0001,\n",
       "                          validation_fraction=0.1, verbose=0, warm_start=False)"
      ]
     },
     "execution_count": 43,
     "metadata": {},
     "output_type": "execute_result"
    }
   ],
   "source": [
    "%%time\n",
    "reg = GradientBoostingRegressor(random_state=RNG)\n",
    "reg.fit(df_train_result_imp, train_target_rougher)"
   ]
  },
  {
   "cell_type": "code",
   "execution_count": 44,
   "metadata": {},
   "outputs": [
    {
     "name": "stdout",
     "output_type": "stream",
     "text": [
      "Градиентный бустинг\n",
      "sMAPE = 11.748965816561158\n",
      "CPU times: user 7.89 s, sys: 12 ms, total: 7.9 s\n",
      "Wall time: 8.01 s\n"
     ]
    }
   ],
   "source": [
    "%%time\n",
    "print('Градиентный бустинг')\n",
    "print('sMAPE =', np.abs(mean(cross_val_score(reg, df_train_result_imp, train_target_rougher, cv=5, scoring=custom_scorer))))"
   ]
  },
  {
   "cell_type": "markdown",
   "metadata": {},
   "source": [
    "[Содержание](#title)"
   ]
  },
  {
   "cell_type": "markdown",
   "metadata": {},
   "source": [
    "### 3.2.2 Обучение модели конечного этапа <a name=\"3.2.2\"></a>"
   ]
  },
  {
   "cell_type": "markdown",
   "metadata": {},
   "source": [
    "Воспользуемся **GridSearchCV** для нахождения лучших параметров модели и посчитаем методом кросс-валидации их симметричное среднее абсолютное процентное отклонение (**sMAPE**)"
   ]
  },
  {
   "cell_type": "markdown",
   "metadata": {},
   "source": [
    "**Модель древа решений**"
   ]
  },
  {
   "cell_type": "code",
   "execution_count": 45,
   "metadata": {},
   "outputs": [],
   "source": [
    "grid_tree_final = GridSearchCV(DecisionTreeRegressor(random_state=RNG), param_grid=param_grid, scoring=custom_scorer)"
   ]
  },
  {
   "cell_type": "code",
   "execution_count": 46,
   "metadata": {},
   "outputs": [
    {
     "name": "stdout",
     "output_type": "stream",
     "text": [
      "CPU times: user 23.2 s, sys: 24 ms, total: 23.2 s\n",
      "Wall time: 23.2 s\n"
     ]
    },
    {
     "data": {
      "text/plain": [
       "GridSearchCV(cv='warn', error_score='raise-deprecating',\n",
       "             estimator=DecisionTreeRegressor(criterion='mse', max_depth=None,\n",
       "                                             max_features=None,\n",
       "                                             max_leaf_nodes=None,\n",
       "                                             min_impurity_decrease=0.0,\n",
       "                                             min_impurity_split=None,\n",
       "                                             min_samples_leaf=1,\n",
       "                                             min_samples_split=2,\n",
       "                                             min_weight_fraction_leaf=0.0,\n",
       "                                             presort=False, random_state=123,\n",
       "                                             splitter='best'),\n",
       "             iid='warn', n_jobs=None,\n",
       "             param_grid={'max_depth': [1, 4, 7, 10, 13, 16, 19, 22, 25, 28]},\n",
       "             pre_dispatch='2*n_jobs', refit=True, return_train_score=False,\n",
       "             scoring=make_scorer(smape, greater_is_better=False), verbose=0)"
      ]
     },
     "execution_count": 46,
     "metadata": {},
     "output_type": "execute_result"
    }
   ],
   "source": [
    "%%time\n",
    "grid_tree_final.fit(df_train_result, train_target_rougher)"
   ]
  },
  {
   "cell_type": "code",
   "execution_count": 47,
   "metadata": {},
   "outputs": [
    {
     "name": "stdout",
     "output_type": "stream",
     "text": [
      "Лучшие параметры для модели\n",
      "{'max_depth': 4}\n",
      "sMAPE = 12.975094069938304\n",
      "CPU times: user 1min 17s, sys: 43.9 ms, total: 1min 17s\n",
      "Wall time: 1min 18s\n"
     ]
    }
   ],
   "source": [
    "%%time\n",
    "print('Лучшие параметры для модели')\n",
    "print(grid_tree_final.best_params_)\n",
    "print('sMAPE =', np.abs(mean(cross_val_score(grid_tree_final, df_train_result, train_target_final, cv=5, scoring=custom_scorer))))"
   ]
  },
  {
   "cell_type": "markdown",
   "metadata": {},
   "source": [
    "Для повышения скорости вычислений и качества определим на лучшей модели древа решений наиболее влияющие на результат признаки"
   ]
  },
  {
   "cell_type": "code",
   "execution_count": 48,
   "metadata": {},
   "outputs": [
    {
     "data": {
      "text/plain": [
       "primary_cleaner.input.sulfate                 0.437709\n",
       "primary_cleaner.input.depressant              0.080384\n",
       "primary_cleaner.state.floatbank8_c_air        0.033715\n",
       "rougher.input.feed_ag                         0.125843\n",
       "rougher.input.feed_size                       0.078040\n",
       "rougher.input.floatbank10_sulfate             0.020905\n",
       "rougher.input.floatbank10_xanthate            0.018012\n",
       "rougher.state.floatbank10_f_air               0.006948\n",
       "secondary_cleaner.state.floatbank2_a_air      0.024929\n",
       "secondary_cleaner.state.floatbank3_a_air      0.110290\n",
       "secondary_cleaner.state.floatbank3_a_level    0.033170\n",
       "secondary_cleaner.state.floatbank4_a_air      0.010231\n",
       "secondary_cleaner.state.floatbank5_b_level    0.019824\n",
       "dtype: float64"
      ]
     },
     "execution_count": 48,
     "metadata": {},
     "output_type": "execute_result"
    }
   ],
   "source": [
    "model = DecisionTreeRegressor(max_depth=4, random_state=RNG)\n",
    "model.fit(df_train_result, train_target_final)\n",
    "feat_importances = pd.Series(model.feature_importances_, index=df_train_result.columns)\n",
    "column_rougher = feat_importances[feat_importances > 0]\n",
    "column_rougher"
   ]
  },
  {
   "cell_type": "markdown",
   "metadata": {},
   "source": [
    "Сохраним новый набор признаков для флоатации"
   ]
  },
  {
   "cell_type": "code",
   "execution_count": 49,
   "metadata": {},
   "outputs": [],
   "source": [
    "df_train_result_imp_final = df_train_result[column_rougher.index]\n",
    "df_test_result_imp_final = df_test_result[column_rougher.index]"
   ]
  },
  {
   "cell_type": "markdown",
   "metadata": {},
   "source": [
    "Далее обучал с новыми параметрами"
   ]
  },
  {
   "cell_type": "markdown",
   "metadata": {},
   "source": [
    "**Модель случайного леса**"
   ]
  },
  {
   "cell_type": "code",
   "execution_count": 50,
   "metadata": {},
   "outputs": [],
   "source": [
    "grid_forest_final = GridSearchCV(RandomForestRegressor(random_state=RNG), param_grid=param_grid_forest, scoring=custom_scorer)"
   ]
  },
  {
   "cell_type": "code",
   "execution_count": 51,
   "metadata": {},
   "outputs": [
    {
     "name": "stdout",
     "output_type": "stream",
     "text": [
      "CPU times: user 57.8 s, sys: 248 ms, total: 58.1 s\n",
      "Wall time: 59.2 s\n"
     ]
    },
    {
     "data": {
      "text/plain": [
       "GridSearchCV(cv='warn', error_score='raise-deprecating',\n",
       "             estimator=RandomForestRegressor(bootstrap=True, criterion='mse',\n",
       "                                             max_depth=None,\n",
       "                                             max_features='auto',\n",
       "                                             max_leaf_nodes=None,\n",
       "                                             min_impurity_decrease=0.0,\n",
       "                                             min_impurity_split=None,\n",
       "                                             min_samples_leaf=1,\n",
       "                                             min_samples_split=2,\n",
       "                                             min_weight_fraction_leaf=0.0,\n",
       "                                             n_estimators='warn', n_jobs=None,\n",
       "                                             oob_score=False, random_state=123,\n",
       "                                             verbose=0, warm_start=False),\n",
       "             iid='warn', n_jobs=None, param_grid={'n_estimators': [20, 35, 50]},\n",
       "             pre_dispatch='2*n_jobs', refit=True, return_train_score=False,\n",
       "             scoring=make_scorer(smape, greater_is_better=False), verbose=0)"
      ]
     },
     "execution_count": 51,
     "metadata": {},
     "output_type": "execute_result"
    }
   ],
   "source": [
    "%%time\n",
    "grid_forest_final.fit(df_train_result_imp_final, train_target_rougher)"
   ]
  },
  {
   "cell_type": "code",
   "execution_count": 52,
   "metadata": {},
   "outputs": [
    {
     "name": "stdout",
     "output_type": "stream",
     "text": [
      "Лучшие параметры для модели\n",
      "{'n_estimators': 50}\n",
      "sMAPE = 13.499617872470138\n",
      "CPU times: user 2min 44s, sys: 524 ms, total: 2min 44s\n",
      "Wall time: 2min 46s\n"
     ]
    }
   ],
   "source": [
    "%%time\n",
    "print('Лучшие параметры для модели')\n",
    "print(grid_forest_final.best_params_)\n",
    "print('sMAPE =', np.abs(mean(cross_val_score(grid_forest_final, df_train_result_imp_final, train_target_final, cv=5, scoring=custom_scorer))))"
   ]
  },
  {
   "cell_type": "markdown",
   "metadata": {},
   "source": [
    "**Логистическая регрессия**"
   ]
  },
  {
   "cell_type": "code",
   "execution_count": 53,
   "metadata": {},
   "outputs": [
    {
     "name": "stdout",
     "output_type": "stream",
     "text": [
      "sMAPE = 11.949593075632013\n",
      "CPU times: user 345 ms, sys: 227 ms, total: 573 ms\n",
      "Wall time: 554 ms\n"
     ]
    }
   ],
   "source": [
    "%%time\n",
    "model_logistic_final = LinearRegression()\n",
    "model_logistic_final.fit(df_train_result_imp_final, train_target_final)\n",
    "print('sMAPE =', np.abs(mean(cross_val_score(model_logistic, df_train_result_imp_final, train_target_final, cv=5, scoring=custom_scorer))))"
   ]
  },
  {
   "cell_type": "markdown",
   "metadata": {},
   "source": [
    "**Градиентный бустинг**"
   ]
  },
  {
   "cell_type": "code",
   "execution_count": 54,
   "metadata": {},
   "outputs": [
    {
     "name": "stdout",
     "output_type": "stream",
     "text": [
      "CPU times: user 662 ms, sys: 28.1 ms, total: 690 ms\n",
      "Wall time: 784 ms\n"
     ]
    },
    {
     "data": {
      "text/plain": [
       "GradientBoostingRegressor(alpha=0.9, criterion='friedman_mse', init=None,\n",
       "                          learning_rate=0.1, loss='ls', max_depth=1,\n",
       "                          max_features=None, max_leaf_nodes=None,\n",
       "                          min_impurity_decrease=0.0, min_impurity_split=None,\n",
       "                          min_samples_leaf=1, min_samples_split=2,\n",
       "                          min_weight_fraction_leaf=0.0, n_estimators=100,\n",
       "                          n_iter_no_change=None, presort='auto',\n",
       "                          random_state=123, subsample=1.0, tol=0.0001,\n",
       "                          validation_fraction=0.1, verbose=0, warm_start=False)"
      ]
     },
     "execution_count": 54,
     "metadata": {},
     "output_type": "execute_result"
    }
   ],
   "source": [
    "%%time\n",
    "reg_final = GradientBoostingRegressor(max_depth = 1, random_state=RNG)\n",
    "reg_final.fit(df_train_result_imp_final, train_target_final)"
   ]
  },
  {
   "cell_type": "code",
   "execution_count": 55,
   "metadata": {},
   "outputs": [
    {
     "name": "stdout",
     "output_type": "stream",
     "text": [
      "Градиентный бустинг\n",
      "sMAPE = 11.57718681528167\n",
      "CPU times: user 2.51 s, sys: 0 ns, total: 2.51 s\n",
      "Wall time: 2.52 s\n"
     ]
    }
   ],
   "source": [
    "%%time\n",
    "print('Градиентный бустинг')\n",
    "print('sMAPE =', np.abs(mean(cross_val_score(reg_final, df_train_result_imp_final, train_target_final, cv=5, scoring=custom_scorer))))"
   ]
  },
  {
   "cell_type": "markdown",
   "metadata": {},
   "source": [
    "[Содержание](#title)"
   ]
  },
  {
   "cell_type": "markdown",
   "metadata": {},
   "source": [
    "### 3.2.3 Выявление лучших моделей и тестирование <a name=\"3.2.3\"></a>"
   ]
  },
  {
   "cell_type": "markdown",
   "metadata": {},
   "source": [
    "Наилучшие показатели обеспечили модели градиентного бустинга **reg** и **reg_final**. Произведём тестирование на тестовой выборке и расчёт итогового sMAPE."
   ]
  },
  {
   "cell_type": "code",
   "execution_count": 56,
   "metadata": {},
   "outputs": [
    {
     "name": "stdout",
     "output_type": "stream",
     "text": [
      "Тестирование модели флоатации\n",
      "sMAPE = 9.765139836049288\n",
      "\n",
      "================================================================================\n",
      "\n",
      "Тестирование модели финального этапа\n",
      "sMAPE = 10.052927173194563\n",
      "\n",
      "================================================================================\n",
      "\n",
      "Итоговое sMAPE = 9.980980338908244\n"
     ]
    }
   ],
   "source": [
    "print('Тестирование модели флоатации')\n",
    "predicted_valid = reg.predict(df_test_result_imp)\n",
    "rougher = smape(test_target_rougher, predicted_valid)\n",
    "print('sMAPE =', rougher)\n",
    "print('')\n",
    "print('='*80)\n",
    "print('')\n",
    "print('Тестирование модели финального этапа')\n",
    "predicted_valid = reg_final.predict(df_test_result_imp_final)\n",
    "final = smape(test_target_final, predicted_valid)\n",
    "print('sMAPE =', final)\n",
    "print('')\n",
    "print('='*80)\n",
    "print('')\n",
    "print('Итоговое sMAPE =', result_smape(rougher, final))"
   ]
  },
  {
   "cell_type": "markdown",
   "metadata": {},
   "source": [
    "Сравним текущую модель с константной. Так как метрика sMAPE схожа с нормированным MAE, то в качестве константы примем медиану"
   ]
  },
  {
   "cell_type": "code",
   "execution_count": 57,
   "metadata": {},
   "outputs": [
    {
     "name": "stdout",
     "output_type": "stream",
     "text": [
      "Константная модель флоатации\n",
      "sMAPE = 9.128030190009902\n",
      "\n",
      "================================================================================\n",
      "\n",
      "Константная модель финального этапа\n",
      "sMAPE = 10.766397678774767\n",
      "\n",
      "================================================================================\n",
      "\n",
      "Итоговое sMAPE = 10.356805806583552\n"
     ]
    }
   ],
   "source": [
    "print('Константная модель флоатации')\n",
    "constant_rougher = pd.Series(test_target_rougher.mean(), test_target_rougher.index)\n",
    "rougher = smape(test_target_rougher, constant_rougher)\n",
    "print('sMAPE =', rougher)\n",
    "print('')\n",
    "print('='*80)\n",
    "print('')\n",
    "print('Константная модель финального этапа')\n",
    "constant_final = pd.Series(test_target_final.mean(), test_target_final.index)\n",
    "final = smape(test_target_final, constant_final)\n",
    "print('sMAPE =', final)\n",
    "print('')\n",
    "print('='*80)\n",
    "print('')\n",
    "print('Итоговое sMAPE =', result_smape(rougher, final))"
   ]
  },
  {
   "cell_type": "markdown",
   "metadata": {},
   "source": [
    "Полученные в ходе вычислений модели показали незначительное увеличение качества, относительно константной модели. Так как в данном техническом процессе константная модель не всегда применима, потому что параметры входного материала могут разительно измениться (что может повлиять и на качество моделей), то полученные модели можно применять в производстве. Решение о дальнейшем использовании моделей или их улучшении должно приниматься руководством. Тем не менее, модели нуждаются в доработке. Для улучшения моделей требуется дополнительный разбор входных данных, генерация и поиск бизнес-факторов для моделирования, более тщательный побор гиперпараметров и, желательно, получить дополнительные параметры самого процесса (температура, частота ударов измеличьтеля, скорость конвейера и т.п.)."
   ]
  },
  {
   "cell_type": "markdown",
   "metadata": {},
   "source": [
    "[Содержание](#title)"
   ]
  },
  {
   "cell_type": "markdown",
   "metadata": {},
   "source": [
    "# 4. Вывод <a name=\"4\"></a>"
   ]
  },
  {
   "cell_type": "markdown",
   "metadata": {},
   "source": [
    "Полученные модели обеспечивают приемлимое симметричное среднее абсолютное процентное отклонение. Наилучшие показатели показали модели градиентного бустинга."
   ]
  }
 ],
 "metadata": {
  "kernelspec": {
   "display_name": "Python 3",
   "language": "python",
   "name": "python3"
  },
  "language_info": {
   "codemirror_mode": {
    "name": "ipython",
    "version": 3
   },
   "file_extension": ".py",
   "mimetype": "text/x-python",
   "name": "python",
   "nbconvert_exporter": "python",
   "pygments_lexer": "ipython3",
   "version": "3.7.6"
  }
 },
 "nbformat": 4,
 "nbformat_minor": 2
}
